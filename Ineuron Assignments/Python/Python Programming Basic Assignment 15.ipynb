{
 "cells": [
  {
   "cell_type": "code",
   "execution_count": 1,
   "id": "4274713c",
   "metadata": {},
   "outputs": [
    {
     "name": "stdout",
     "output_type": "stream",
     "text": [
      "The output is :  0 35 70 "
     ]
    }
   ],
   "source": [
    "# 1. Please write a program using generator to print the numbers which can be divisible by 5 and 7 between 0 and n in comma separated form while n is input by console.\n",
    "# Example: If the following n is given as input to the program: 100\n",
    "# Then, the output of the program should be: 0,35,70\n",
    "\n",
    "def common_multiple(n):\n",
    "    try:\n",
    "        for i in range(n):\n",
    "            if i % 5 == 0 and i % 7 == 0:\n",
    "                yield i\n",
    "    except Exceprion as e:\n",
    "        print(\"The error has occured\")\n",
    "        print(\"The error is : \", e)\n",
    "print(\"The output is : \", end = \" \")\n",
    "for i in common_multiple(100):\n",
    "    print(i,end = \" \")"
   ]
  },
  {
   "cell_type": "code",
   "execution_count": 2,
   "id": "482bc518",
   "metadata": {},
   "outputs": [
    {
     "name": "stdout",
     "output_type": "stream",
     "text": [
      "The output is :  0,2,4,6,8,10,12,14,16,18,20,22,24,26,28,30,32,34,36,38,40,42,44,46,48,"
     ]
    }
   ],
   "source": [
    "# 2. Please write a program using generator to print the even numbers between 0 and n in comma separated form while n is input by console.\n",
    "\n",
    "# Sol : \n",
    "\n",
    "def even(n):\n",
    "    try :\n",
    "        for i in range(n):\n",
    "            if i % 2 == 0:\n",
    "                yield i\n",
    "    except Exception as e:\n",
    "        print(\"The error has occured\")\n",
    "        print(\"The error is : \", e)\n",
    "print(\"The output is : \", end = \" \")\n",
    "\n",
    "for i in even(50):\n",
    "    print(i, end = \",\")"
   ]
  },
  {
   "cell_type": "code",
   "execution_count": 3,
   "id": "f6fe2b78",
   "metadata": {},
   "outputs": [],
   "source": [
    "# 3. The Fibonacci Sequence is computed based on the following formula:\n",
    "# f(n)=0 if n=0\n",
    "# f(n)=1 if n=1\n",
    "# f(n)=f(n-1)+f(n-2) if n&gt;1\n",
    "# Please write a program using list comprehension to print the Fibonacci Sequence in comma\n",
    "# separated form with a given n input by console.\n",
    "\n",
    "\n",
    "def fib(n):\n",
    "    try:\n",
    "        if n == 0:\n",
    "            return 0\n",
    "        elif n == 1:\n",
    "            return 1\n",
    "        else:\n",
    "            return fib(n-1)+fib(n-2)\n",
    "    except Exception as e:\n",
    "        print(\"The error has occured\")\n",
    "        print(\"The error is : \", e)"
   ]
  },
  {
   "cell_type": "code",
   "execution_count": 4,
   "id": "dfeb9a26",
   "metadata": {},
   "outputs": [],
   "source": [
    "k= [fib(i) for i in range(15)]"
   ]
  },
  {
   "cell_type": "code",
   "execution_count": 5,
   "id": "5f961eac",
   "metadata": {},
   "outputs": [
    {
     "data": {
      "text/plain": [
       "[0, 1, 1, 2, 3, 5, 8, 13, 21, 34, 55, 89, 144, 233, 377]"
      ]
     },
     "execution_count": 5,
     "metadata": {},
     "output_type": "execute_result"
    }
   ],
   "source": [
    "k"
   ]
  },
  {
   "cell_type": "code",
   "execution_count": 6,
   "id": "41abb7ae",
   "metadata": {},
   "outputs": [],
   "source": [
    "# 4. Assuming that we have some email addresses in the \"username@companyname.com\" format, please write program to print the user name of a given email address. \n",
    "# Both user names and company names are composed of letters only ? \n",
    "# Example:\n",
    "# If the following email address is given as input to the program: john@google.com\n",
    "# Then, the output of the program should be: john\n",
    "\n",
    "def username(gmail):\n",
    "    try:\n",
    "        k = gmail.split(\"@\")\n",
    "        return k[0]\n",
    "    except Exception as e:\n",
    "        print(\"The error has occured\")\n",
    "        print(\"The error is : \", e)"
   ]
  },
  {
   "cell_type": "code",
   "execution_count": 7,
   "id": "cde25672",
   "metadata": {},
   "outputs": [
    {
     "data": {
      "text/plain": [
       "'john'"
      ]
     },
     "execution_count": 7,
     "metadata": {},
     "output_type": "execute_result"
    }
   ],
   "source": [
    "username(\"john@google.com\")"
   ]
  },
  {
   "cell_type": "code",
   "execution_count": 8,
   "id": "50f88244",
   "metadata": {},
   "outputs": [],
   "source": [
    "# 5. Define a class named Shape and its subclass Square. The Square class has an init function which takes a length as argument. \\\n",
    "# Both classes have a area function which can print the area of the shape where Shape's area is 0 by default \n",
    "\n",
    "# Sol :\n",
    "\n",
    "class shape:\n",
    "    def __init__(self, length):\n",
    "        self.length = length\n",
    "    def area(self):\n",
    "        return 0\n",
    "\n",
    "class square(shape):\n",
    "    def area(self):\n",
    "        return f\"The area of the square is : {self.length*self.length}\""
   ]
  },
  {
   "cell_type": "code",
   "execution_count": 9,
   "id": "78e5e57f",
   "metadata": {},
   "outputs": [],
   "source": [
    "sai = square(9)"
   ]
  },
  {
   "cell_type": "code",
   "execution_count": 10,
   "id": "ef606c07",
   "metadata": {},
   "outputs": [
    {
     "data": {
      "text/plain": [
       "'The area of the square is : 81'"
      ]
     },
     "execution_count": 10,
     "metadata": {},
     "output_type": "execute_result"
    }
   ],
   "source": [
    "sai.area()"
   ]
  },
  {
   "cell_type": "code",
   "execution_count": 11,
   "id": "e0829f80",
   "metadata": {},
   "outputs": [],
   "source": [
    "kishore = shape(34)"
   ]
  },
  {
   "cell_type": "code",
   "execution_count": 12,
   "id": "51e68fae",
   "metadata": {},
   "outputs": [
    {
     "data": {
      "text/plain": [
       "0"
      ]
     },
     "execution_count": 12,
     "metadata": {},
     "output_type": "execute_result"
    }
   ],
   "source": [
    "kishore.area()"
   ]
  },
  {
   "cell_type": "code",
   "execution_count": null,
   "id": "63d83569",
   "metadata": {},
   "outputs": [],
   "source": []
  },
  {
   "cell_type": "code",
   "execution_count": null,
   "id": "e5e49d06",
   "metadata": {},
   "outputs": [],
   "source": []
  }
 ],
 "metadata": {
  "kernelspec": {
   "display_name": "Python 3 (ipykernel)",
   "language": "python",
   "name": "python3"
  },
  "language_info": {
   "codemirror_mode": {
    "name": "ipython",
    "version": 3
   },
   "file_extension": ".py",
   "mimetype": "text/x-python",
   "name": "python",
   "nbconvert_exporter": "python",
   "pygments_lexer": "ipython3",
   "version": "3.9.7"
  }
 },
 "nbformat": 4,
 "nbformat_minor": 5
}
