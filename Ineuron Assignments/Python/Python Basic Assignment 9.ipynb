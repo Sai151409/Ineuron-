{
 "cells": [
  {
   "cell_type": "code",
   "execution_count": 1,
   "id": "e7640abc",
   "metadata": {},
   "outputs": [
    {
     "data": {
      "text/plain": [
       "'C:\\\\Users\\\\ASUS\\\\All in one\\\\Ineuron\\\\Python Assignments'"
      ]
     },
     "execution_count": 1,
     "metadata": {},
     "output_type": "execute_result"
    }
   ],
   "source": [
    "# 1. To what does a relative path refer?\n",
    "\n",
    "# Sol : \n",
    "\n",
    "#     Relative path is a path to some file with respect to the current working directory(PWD)\n",
    "\n",
    "import os\n",
    "\n",
    "os.getcwd()\n",
    "\n",
    "#  For Example : \n",
    "\n",
    "#         Here current working is C:\\\\Users\\\\ASUS\\\\All in one\\\\Ineuron\\\\Python Assignments\n",
    "\n",
    "#        Absolute Path to a file is : C:\\\\Users\\\\ASUS\\\\All in one\\\\Ineuron\\\\Python Assignments\n",
    "\n",
    "#        PWD to file is  : C:\\\\Users\\\\ASUS\n",
    "\n",
    "#        Relative Path to a file is : All in one\\\\Ineuron\\\\Python Assignments"
   ]
  },
  {
   "cell_type": "code",
   "execution_count": 2,
   "id": "7ac45fca",
   "metadata": {},
   "outputs": [],
   "source": [
    "# 2.Where does an absolute path start with your Operating System ?\n",
    "\n",
    "# Sol :\n",
    "\n",
    "#     In windows based system absolute path starts with C drive i.e C:"
   ]
  },
  {
   "cell_type": "code",
   "execution_count": 3,
   "id": "8507508c",
   "metadata": {},
   "outputs": [
    {
     "name": "stdout",
     "output_type": "stream",
     "text": [
      "Current Working Directory :  C:\\Users\\ASUS\\All in one\\Ineuron\\Python Assignments\n",
      "After changind the directory to a specified path :  C:\\Users\\ASUS\n"
     ]
    }
   ],
   "source": [
    "# 3.What does the functions os.getcwd() and os.chdir() do ?\n",
    "\n",
    "# Sol :\n",
    "\n",
    "#    os.getcwd() gives the current working directory of present file.\n",
    "\n",
    "#    os.chdir() is used to change the current working directory to some specified path.\n",
    "\n",
    "# For Example : \n",
    "\n",
    "import os \n",
    "\n",
    "print('Current Working Directory : ', os.getcwd())\n",
    "\n",
    "path = 'C:\\\\Users\\\\ASUS'\n",
    "\n",
    "os.chdir(path)\n",
    "\n",
    "print('After changind the directory to a specified path : ', os.getcwd())"
   ]
  },
  {
   "cell_type": "code",
   "execution_count": 7,
   "id": "284f80aa",
   "metadata": {},
   "outputs": [
    {
     "name": "stdout",
     "output_type": "stream",
     "text": [
      "'.' -  C:\\Users\\ASUS\\All in one\\Ineuron\\Python Assignments\n",
      "'..' -  C:\\Users\\ASUS\\All in one\\Ineuron\n"
     ]
    }
   ],
   "source": [
    "# 4.What are . and .. folders ?\n",
    "\n",
    "# Sol :\n",
    "\n",
    "#    '.' Represents Current Working Directory\n",
    "\n",
    "#    '..' Represents Parent Directory of the Current Working Directory\n",
    "\n",
    "#  For Example\n",
    "\n",
    "print(\"'.' - \", os.getcwd())\n",
    "print(\"'..' - \", os.path.dirname(os.getcwd()))"
   ]
  },
  {
   "cell_type": "code",
   "execution_count": 8,
   "id": "1679419a",
   "metadata": {},
   "outputs": [],
   "source": [
    "# 5.In C:\\bacon\\eggs\\spam.txt which part is the dir name and which part is the base name ?\n",
    "\n",
    "# Sol : For C:\\bacon\\eggs\\spam.txt\n",
    "\n",
    "#       The dir name is C:\\\\bacon\\\\eggs\n",
    "\n",
    "#       The Base name is spam.txt"
   ]
  },
  {
   "cell_type": "code",
   "execution_count": 9,
   "id": "99637962",
   "metadata": {},
   "outputs": [
    {
     "name": "stdout",
     "output_type": "stream",
     "text": [
      "dir name :  C:\\bacon\\eggs\n",
      "base name :  spam.txt\n"
     ]
    }
   ],
   "source": [
    "import os\n",
    "\n",
    "path = r'C:\\bacon\\eggs\\spam.txt'\n",
    "\n",
    "print('dir name : ', os.path.dirname(path))\n",
    "print('base name : ', os.path.basename(path))"
   ]
  },
  {
   "cell_type": "code",
   "execution_count": 10,
   "id": "7be45a02",
   "metadata": {},
   "outputs": [],
   "source": [
    "# 6.What are the three mode arguments that can be passed to the open() function ?\n",
    "\n",
    "# Sol :\n",
    "\n",
    "#     We can only access the file by using open() function in python it contains two arguments only \n",
    "\n",
    "#     One is filename i.e file path and second one is mode \n",
    "\n",
    "#     The syntax of open function is : open(filename, mode)\n",
    "\n",
    "#     Here by default mode is r nothing but read mode\n",
    "\n",
    "#     Open contains different types of mode\n",
    "\n",
    "#     r - read mode, r+ - read and write mode, w - write mode, a - append mode\n",
    "\n",
    "#     a + append and read mode, x - exclusive creating mode"
   ]
  },
  {
   "cell_type": "code",
   "execution_count": 11,
   "id": "4e2d6234",
   "metadata": {},
   "outputs": [],
   "source": [
    "# 7.What happens if an existing file is opened in write mode ?\n",
    "\n",
    "# Sol :\n",
    "\n",
    "#    If an existing file is opened in write mode, the previous information or data will be overwritten\n",
    "\n",
    "#    or else it will create a new file "
   ]
  },
  {
   "cell_type": "code",
   "execution_count": 12,
   "id": "5532e721",
   "metadata": {},
   "outputs": [],
   "source": [
    "# 8.How do you tell the difference between read() and readlines() ?\n",
    "\n",
    "# Sol : \n",
    "\n",
    "#    The read() would treat each character in the file separately, meaning that the iteration would happen for every character.\n",
    "\n",
    "#    The readline() function, on the other hand, only reads a single line of the file. \n",
    "#    This means that if the first line of the file were three lines long, the readline() \n",
    "#    function would only parse (or iterate/operate) on the first line of the file."
   ]
  },
  {
   "cell_type": "code",
   "execution_count": 13,
   "id": "c27008f3",
   "metadata": {},
   "outputs": [],
   "source": [
    "# 9.What data structure does a shelf value resemble ?\n",
    "\n",
    "# Sol : \n",
    "\n",
    "#    Dictionary"
   ]
  },
  {
   "cell_type": "code",
   "execution_count": null,
   "id": "fed8c59a",
   "metadata": {},
   "outputs": [],
   "source": []
  },
  {
   "cell_type": "code",
   "execution_count": null,
   "id": "abd8e83c",
   "metadata": {},
   "outputs": [],
   "source": []
  }
 ],
 "metadata": {
  "kernelspec": {
   "display_name": "Python 3 (ipykernel)",
   "language": "python",
   "name": "python3"
  },
  "language_info": {
   "codemirror_mode": {
    "name": "ipython",
    "version": 3
   },
   "file_extension": ".py",
   "mimetype": "text/x-python",
   "name": "python",
   "nbconvert_exporter": "python",
   "pygments_lexer": "ipython3",
   "version": "3.9.7"
  }
 },
 "nbformat": 4,
 "nbformat_minor": 5
}
