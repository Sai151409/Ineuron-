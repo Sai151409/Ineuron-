{
 "cells": [
  {
   "cell_type": "code",
   "execution_count": 1,
   "id": "91be93d1",
   "metadata": {},
   "outputs": [
    {
     "name": "stdout",
     "output_type": "stream",
     "text": [
      "<class '__main__.Thing'>\n",
      "<__main__.Thing object at 0x0000023FB4E41DC0>\n"
     ]
    }
   ],
   "source": [
    "# 1. Make a class called Thing with no contents and print it. Then, create an object called example from this class and also \n",
    "#    print it. Are the printed values the same or different?\n",
    "\n",
    "# Sol :\n",
    "\n",
    "class Thing:\n",
    "    pass\n",
    "\n",
    "print(Thing)\n",
    "\n",
    "example = Thing()\n",
    "\n",
    "print(example)"
   ]
  },
  {
   "cell_type": "code",
   "execution_count": 2,
   "id": "5eab3791",
   "metadata": {},
   "outputs": [
    {
     "name": "stdout",
     "output_type": "stream",
     "text": [
      "abc\n"
     ]
    }
   ],
   "source": [
    "# 2. Create a new class called Thing2 and add the value 'abc' to the letters class attribute. Letters should be printed.\n",
    "\n",
    "# Sol :\n",
    "\n",
    "class Thing2:\n",
    "    letters = 'abc'\n",
    "    \n",
    "print(Thing2.letters)"
   ]
  },
  {
   "cell_type": "code",
   "execution_count": 3,
   "id": "bb6dd652",
   "metadata": {},
   "outputs": [
    {
     "name": "stdout",
     "output_type": "stream",
     "text": [
      "xyz\n"
     ]
    }
   ],
   "source": [
    "# 3. Make yet another class called, of course, Thing3. This time, assign the value 'xyz' to an instance (object) attribute \n",
    "#    called letters. Print letters. Do you need to make an object from the class to do this?\n",
    "\n",
    "# Sol :\n",
    "\n",
    "class Thing3:\n",
    "    def __init__(self):\n",
    "        self.letters = 'xyz'\n",
    "\n",
    "try:\n",
    "    print(Thing3.letters) # It will raise an syntax error you should need a object to access the instance attribute\n",
    "except Exception as e:\n",
    "    k = Thing3()\n",
    "    print(k.letters)"
   ]
  },
  {
   "cell_type": "code",
   "execution_count": 4,
   "id": "20243228",
   "metadata": {},
   "outputs": [],
   "source": [
    "# 4. Create an Element class with the instance attributes name, symbol, and number. Create a class object with the values \n",
    "#    'Hydrogen', 'H', and 1.\n",
    "\n",
    "# Sol :\n",
    "\n",
    "class Element:\n",
    "    def __init__(self, name, symbol, number):\n",
    "        self.name = name\n",
    "        self.symbol = symbol\n",
    "        self.number = number\n",
    "\n",
    "        \n",
    "K = Element('Hydrogen', 'H', 1)"
   ]
  },
  {
   "cell_type": "code",
   "execution_count": 5,
   "id": "49e4a72b",
   "metadata": {},
   "outputs": [
    {
     "name": "stdout",
     "output_type": "stream",
     "text": [
      "{'name': 'Hydrogen', 'symbol': 'H', 'number': 1}\n",
      "Using Method 1 :  Hydrogen H 1\n",
      "Using Method 2 :  Hydrogen H 1\n"
     ]
    }
   ],
   "source": [
    "# 5. Make a dictionary with these keys and values: 'name': 'Hydrogen', 'symbol': 'H', 'number': 1. Then, create an object called\n",
    "#    hydrogen from class Element using this dictionary.\n",
    "\n",
    "# Sol :\n",
    "\n",
    "dic = {'name' : 'Hydrogen', 'symbol' : 'H', 'number' : 1}\n",
    "\n",
    "print(dic)\n",
    "\n",
    "hydrogen = Element(*dic.values())\n",
    "\n",
    "print('Using Method 1 : ', hydrogen.name, hydrogen.symbol, hydrogen.number)\n",
    "\n",
    "hydrogen = Element(**dic)\n",
    "\n",
    "print('Using Method 2 : ', hydrogen.name, hydrogen.symbol, hydrogen.number)"
   ]
  },
  {
   "cell_type": "code",
   "execution_count": 6,
   "id": "324ce75a",
   "metadata": {},
   "outputs": [
    {
     "name": "stdout",
     "output_type": "stream",
     "text": [
      "Hydrogen H 1\n"
     ]
    }
   ],
   "source": [
    "# 6. For the Element class, define a method called dump() that prints the values of the object’s attributes (name, symbol, and \n",
    "#    number). Create the hydrogen object from this new definition and use dump() to print its attributes.\n",
    "\n",
    "# Sol :\n",
    "\n",
    "dic = {'name' : 'Hydrogen', 'symbol' : 'H', 'number' : 1}\n",
    "\n",
    "class Element:\n",
    "    def __init__(self, name, symbol, number):\n",
    "        self.name = name\n",
    "        self.symbol = symbol\n",
    "        self.number = number\n",
    "    def dump(self):\n",
    "        print(self.name, self.symbol, self.number)\n",
    "        \n",
    "hydrogen = Element(**dic)\n",
    "\n",
    "hydrogen.dump()"
   ]
  },
  {
   "cell_type": "code",
   "execution_count": 7,
   "id": "b986eeaa",
   "metadata": {},
   "outputs": [
    {
     "name": "stdout",
     "output_type": "stream",
     "text": [
      "Hydrogen, H, 1\n"
     ]
    }
   ],
   "source": [
    "# 7. Call print(hydrogen). In the definition of Element, change the name of method dump to __str__, create a new hydrogen object\n",
    "#    and call print(hydrogen) again.\n",
    "\n",
    "# Sol :\n",
    "\n",
    "dic = {'name' : 'Hydrogen', 'symbol' : 'H', 'number' : 1}\n",
    "\n",
    "class Element:\n",
    "    def __init__(self, name, symbol, number):\n",
    "        self.name = name\n",
    "        self.symbol = symbol\n",
    "        self.number = number\n",
    "    def __str__(self):\n",
    "        return f'{self.name}, {self.symbol}, {self.number}'\n",
    "        \n",
    "hydrogen = Element(**dic)\n",
    "\n",
    "print(hydrogen)"
   ]
  },
  {
   "cell_type": "code",
   "execution_count": 8,
   "id": "fd05c9fc",
   "metadata": {},
   "outputs": [
    {
     "name": "stdout",
     "output_type": "stream",
     "text": [
      "Hydrogen\n",
      "H\n",
      "1\n"
     ]
    }
   ],
   "source": [
    "# 8. Modify Element to make the attributes name, symbol, and number private. Define a getter property for each to return its \n",
    "#    value.\n",
    "\n",
    "# Sol :\n",
    "\n",
    "class Element:\n",
    "    def __init__(self, name, symbol, number):\n",
    "        self.__name = name\n",
    "        self.__symbol = symbol\n",
    "        self.__number = number\n",
    "        \n",
    "    def get_name(self):\n",
    "        print(self.__name)\n",
    "    def get_symbol(self):\n",
    "        print(self.__symbol)\n",
    "    def get__number(self):\n",
    "        print(self.__number)\n",
    "\n",
    "hydrogen = Element('Hydrogen', 'H', 1)\n",
    "\n",
    "hydrogen.get_name()\n",
    "\n",
    "hydrogen.get_symbol()\n",
    "\n",
    "hydrogen.get__number()"
   ]
  },
  {
   "cell_type": "code",
   "execution_count": 9,
   "id": "a1e6fa58",
   "metadata": {},
   "outputs": [
    {
     "name": "stdout",
     "output_type": "stream",
     "text": [
      "Bear eats berries\n",
      "Rabbit eats cloves\n",
      "Octothrope eats campers\n"
     ]
    }
   ],
   "source": [
    "# 9. Define three classes: Bear, Rabbit, and Octothorpe. For each, define only one method: eats(). This should return 'berries' \n",
    "#    (Bear), 'clover' (Rabbit), or 'campers' (Octothorpe). Create one object from each and print what it eats'\n",
    "\n",
    "class Bear:\n",
    "    def eats(self):\n",
    "        print('Bear eats berries')\n",
    "class Rabbit:\n",
    "    def eats(self):\n",
    "        print('Rabbit eats cloves')\n",
    "class Octothrope:\n",
    "    def eats(self):\n",
    "        print('Octothrope eats campers')\n",
    "    \n",
    "Bear = Bear()\n",
    "\n",
    "Rabbit = Rabbit()\n",
    "\n",
    "Octothrope = Octothrope()\n",
    "\n",
    "Bear.eats()\n",
    "\n",
    "Rabbit.eats()\n",
    "\n",
    "Octothrope.eats()"
   ]
  },
  {
   "cell_type": "code",
   "execution_count": 10,
   "id": "daa7207c",
   "metadata": {},
   "outputs": [],
   "source": [
    "# 10. Define these classes: Laser, Claw, and SmartPhone. Each has only one method: does(). This returns 'disintegrate' (Laser), \n",
    "#     'crush' (Claw), or 'ring' (SmartPhone). Then, define the class Robot that has one instance (object) of each of these. \n",
    "#     Define a does() method for the Robot that prints what its component objects do'\n",
    "\n",
    "# Sol :\n",
    "\n",
    "class Laser:\n",
    "    def does(self):\n",
    "        return 'disintegrate'\n",
    "class Claw:\n",
    "    def does(self):\n",
    "        return 'crush'\n",
    "class Smartphone:\n",
    "    def does(self):\n",
    "        return 'ring'\n",
    "        \n",
    "class Robot:\n",
    "    def __init__(self):\n",
    "        self.Laser = Laser()\n",
    "        self.Claw = Claw()\n",
    "        self.Smartphone = Smartphone()\n",
    "    def does(self):\n",
    "        return f'{self.Laser.does()}, {self.Claw.does()}, {self.Smartphone.does()}'"
   ]
  },
  {
   "cell_type": "code",
   "execution_count": 11,
   "id": "cf166935",
   "metadata": {},
   "outputs": [
    {
     "data": {
      "text/plain": [
       "'disintegrate, crush, ring'"
      ]
     },
     "execution_count": 11,
     "metadata": {},
     "output_type": "execute_result"
    }
   ],
   "source": [
    "main = Robot()\n",
    "\n",
    "main.does()"
   ]
  },
  {
   "cell_type": "code",
   "execution_count": null,
   "id": "08a1a2cf",
   "metadata": {},
   "outputs": [],
   "source": []
  }
 ],
 "metadata": {
  "kernelspec": {
   "display_name": "Python 3 (ipykernel)",
   "language": "python",
   "name": "python3"
  },
  "language_info": {
   "codemirror_mode": {
    "name": "ipython",
    "version": 3
   },
   "file_extension": ".py",
   "mimetype": "text/x-python",
   "name": "python",
   "nbconvert_exporter": "python",
   "pygments_lexer": "ipython3",
   "version": "3.9.12"
  }
 },
 "nbformat": 4,
 "nbformat_minor": 5
}
