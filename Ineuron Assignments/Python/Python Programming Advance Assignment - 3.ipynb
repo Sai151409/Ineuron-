{
 "cells": [
  {
   "cell_type": "code",
   "execution_count": 1,
   "id": "dead9024",
   "metadata": {},
   "outputs": [],
   "source": [
    "# 1.Create a function to perform basic arithmetic operations that includes addition, subtraction, multiplication and division \n",
    "#   on a string number (e.g. \"12 + 24\" or \"23 - 21\" or \"12 // 12\" or \"12 * 21\").\n",
    "#   Here, we have 1 followed by a space, operator followed by another space and 2. For the challenge, we are going to have only \n",
    "#   two numbers between 1 valid operator. The return value should be a number.\n",
    "#   eval() is not allowed. In case of division, whenever the second number equals \"0\" return -1.\n",
    "#   For example: \"15 // 0\" ➞ -1\n",
    "#   Examples:\n",
    "#   arithmetic_operation(\"12 + 12\") ➞ 24 // 12 + 12 = 24\n",
    "#   arithmetic_operation(\"12 - 12\") ➞ 24 // 12 - 12 = 0\n",
    "#   arithmetic_operation(\"12 * 12\") ➞ 144 // 12 * 12 = 144\n",
    "#   arithmetic_operation(\"12 // 0\") ➞ -1 // 12 / 0 = -1\n",
    "\n",
    "# Sol:\n",
    "\n",
    "import operator\n",
    " \n",
    "ops = {'+' : operator.add, '-':operator.sub, '*' : operator.mul, '//' : operator.floordiv}\n",
    "\n",
    "def arithmetic_operation(string:str):\n",
    "    try:\n",
    "        string = string.split(' ')\n",
    "        return ops[string[1]](int(string[0]), int(string[2])) if int(string[2]) != 0 else -1\n",
    "    except Exception as e:\n",
    "        return e"
   ]
  },
  {
   "cell_type": "code",
   "execution_count": 2,
   "id": "b2e4f72f",
   "metadata": {},
   "outputs": [
    {
     "data": {
      "text/plain": [
       "24"
      ]
     },
     "execution_count": 2,
     "metadata": {},
     "output_type": "execute_result"
    }
   ],
   "source": [
    "arithmetic_operation(\"12 + 12\")"
   ]
  },
  {
   "cell_type": "code",
   "execution_count": 3,
   "id": "6ff6f5cf",
   "metadata": {},
   "outputs": [
    {
     "data": {
      "text/plain": [
       "0"
      ]
     },
     "execution_count": 3,
     "metadata": {},
     "output_type": "execute_result"
    }
   ],
   "source": [
    "arithmetic_operation(\"12 - 12\")"
   ]
  },
  {
   "cell_type": "code",
   "execution_count": 4,
   "id": "bb4400ef",
   "metadata": {},
   "outputs": [
    {
     "data": {
      "text/plain": [
       "144"
      ]
     },
     "execution_count": 4,
     "metadata": {},
     "output_type": "execute_result"
    }
   ],
   "source": [
    "arithmetic_operation(\"12 * 12\")"
   ]
  },
  {
   "cell_type": "code",
   "execution_count": 5,
   "id": "ca61a8ea",
   "metadata": {},
   "outputs": [
    {
     "data": {
      "text/plain": [
       "-1"
      ]
     },
     "execution_count": 5,
     "metadata": {},
     "output_type": "execute_result"
    }
   ],
   "source": [
    "arithmetic_operation(\"12 // 0\")"
   ]
  },
  {
   "cell_type": "code",
   "execution_count": 6,
   "id": "427655ce",
   "metadata": {},
   "outputs": [],
   "source": [
    "# 2.Write a function that takes the coordinates of three points in the form of a 2d array and returns the perimeter of the \n",
    "#   triangle. The given points are the vertices of a triangle on a two-dimensional plane.\n",
    "#   Examples:\n",
    "#      perimeter( [ [15, 7], [5, 22], [11, 1] ] ) ➞ 47.08\n",
    "#      perimeter( [ [0, 0], [0, 1], [1, 0] ] ) ➞ 3.42\n",
    "#      perimeter( [ [-10, -10], [10, 10 ], [-10, 10] ] ) ➞ 68.28\n",
    "\n",
    "# Sol :\n",
    "\n",
    "import numpy as np\n",
    "\n",
    "def distance(a, b):\n",
    "    return np.sqrt(pow((b[1] - a[1]), 2) + pow((b[0] - a[0]), 2))\n",
    "\n",
    "def perimeter(lst:list):\n",
    "    try:\n",
    "        distances = []\n",
    "        if len(lst) == 3:\n",
    "            for i in range(len(lst)):\n",
    "                if i == len(lst) - 1:\n",
    "                    distances.append(distance(lst[i], lst[0]))\n",
    "                else:\n",
    "                    distances.append(distance(lst[i], lst[i+1]))\n",
    "        return round(sum(distances), 2)\n",
    "    except Exception as e:\n",
    "        return e"
   ]
  },
  {
   "cell_type": "code",
   "execution_count": 7,
   "id": "e8a9a2b8",
   "metadata": {},
   "outputs": [
    {
     "data": {
      "text/plain": [
       "47.08"
      ]
     },
     "execution_count": 7,
     "metadata": {},
     "output_type": "execute_result"
    }
   ],
   "source": [
    " perimeter( [ [15, 7], [5, 22], [11, 1] ] )"
   ]
  },
  {
   "cell_type": "code",
   "execution_count": 8,
   "id": "098a3467",
   "metadata": {},
   "outputs": [
    {
     "data": {
      "text/plain": [
       "3.41"
      ]
     },
     "execution_count": 8,
     "metadata": {},
     "output_type": "execute_result"
    }
   ],
   "source": [
    "perimeter( [ [0, 0], [0, 1], [1, 0] ] )"
   ]
  },
  {
   "cell_type": "code",
   "execution_count": 9,
   "id": "68a4be9d",
   "metadata": {},
   "outputs": [
    {
     "data": {
      "text/plain": [
       "68.28"
      ]
     },
     "execution_count": 9,
     "metadata": {},
     "output_type": "execute_result"
    }
   ],
   "source": [
    "perimeter( [ [-10, -10], [10, 10 ], [-10, 10] ] )"
   ]
  },
  {
   "cell_type": "code",
   "execution_count": 10,
   "id": "f0baaaad",
   "metadata": {},
   "outputs": [],
   "source": [
    "# 3.A city skyline can be represented as a 2-D list with 1s representing buildings. In the example below, the height of the \n",
    "#   tallest building is 4 (second-most right column).\n",
    "#   [[0, 0, 0, 0, 0, 0], [0, 0, 0, 0, 1, 0], [0, 0, 1, 0, 1, 0], [0, 1, 1, 1, 1, 0], [1, 1, 1, 1, 1, 1]]\n",
    "#   Create a function that takes a skyline (2-D list of 0's and 1's) and returns the height of the tallest skyscraper.\n",
    "#   Examples:\n",
    "#   tallest_skyscraper([[0, 0, 0, 0],[0, 1, 0, 0],[0, 1, 1, 0],[1, 1, 1, 1]]) ➞ 3\n",
    "#   tallest_skyscraper([[0, 1, 0, 0],[0, 1, 0, 0],[0, 1, 1, 0],[1, 1, 1, 1]]) ➞ 4\n",
    "#   tallest_skyscraper([[0, 0, 0, 0],[0, 0, 0, 0],[1, 1, 1, 0],[1, 1, 1, 1]]) ➞ 2\n",
    "\n",
    "# Sol :\n",
    "\n",
    "def tallest_skyscraper(lst):\n",
    "    try:\n",
    "        result = 0\n",
    "        for i in range(len(lst)):\n",
    "            result += lst[i][1]\n",
    "        return result\n",
    "    except Exception as e:\n",
    "        return e"
   ]
  },
  {
   "cell_type": "code",
   "execution_count": 11,
   "id": "b84000f9",
   "metadata": {},
   "outputs": [
    {
     "data": {
      "text/plain": [
       "3"
      ]
     },
     "execution_count": 11,
     "metadata": {},
     "output_type": "execute_result"
    }
   ],
   "source": [
    "tallest_skyscraper([[0, 0, 0, 0],[0, 1, 0, 0],[0, 1, 1, 0],[1, 1, 1, 1]])"
   ]
  },
  {
   "cell_type": "code",
   "execution_count": 12,
   "id": "c7d71ede",
   "metadata": {},
   "outputs": [
    {
     "data": {
      "text/plain": [
       "4"
      ]
     },
     "execution_count": 12,
     "metadata": {},
     "output_type": "execute_result"
    }
   ],
   "source": [
    "tallest_skyscraper([[0, 1, 0, 0],[0, 1, 0, 0],[0, 1, 1, 0],[1, 1, 1, 1]])"
   ]
  },
  {
   "cell_type": "code",
   "execution_count": 13,
   "id": "95480554",
   "metadata": {},
   "outputs": [
    {
     "data": {
      "text/plain": [
       "2"
      ]
     },
     "execution_count": 13,
     "metadata": {},
     "output_type": "execute_result"
    }
   ],
   "source": [
    "tallest_skyscraper([[0, 0, 0, 0],[0, 0, 0, 0],[1, 1, 1, 0],[1, 1, 1, 1]])"
   ]
  },
  {
   "cell_type": "code",
   "execution_count": 14,
   "id": "04928845",
   "metadata": {},
   "outputs": [],
   "source": [
    "# 4.A financial institution provides professional services to banks and claims charges from the customers based on the number \n",
    "#   of man-days provided. Internally, it has set a scheme to motivate and reward staff to meet and exceed targeted billable \n",
    "#   utilization and revenues by paying a bonus for each day claimed from customers in excess of a threshold target.\n",
    "#   This quarterly scheme is calculated with a threshold target of 32 days per quarter, and the incentive payment for each \n",
    "#   billable day in excess of such threshold target is shown as follows:\n",
    "\n",
    "#   Days Bonus 0 to 32 days Zero 33 to 40 days SGD$325 per billable day 41 to 48 days SGD$550 per billable day Greater than 48\n",
    "#   days SGD$600 per billable day\n",
    "\n",
    "#   Please note that incentive payment is calculated progressively. As an example, if an employee reached total billable days \n",
    "#   of 45 in a quarter, his/her incentive payment is computed as follows:\n",
    "#   32*0 + 8*325 + 5*550 = 5350\n",
    "#   Write a function to read the billable days of an employee and return the bonus he/she has obtained in that quarter.\n",
    "\n",
    "#   Examples:\n",
    "#   bonus(15) ➞ 0\n",
    "#   bonus(37) ➞ 1625\n",
    "#   bonus(50) ➞ 8200\n",
    "\n",
    "# Sol :\n",
    "\n",
    "def bonus(num):\n",
    "    try:\n",
    "        if num >= 48:\n",
    "            days = num - 48\n",
    "            if days >= 0:\n",
    "                result = 32 * 0 + 8 * 325 + 5 * 550 + days * 600\n",
    "        elif num > 40 :\n",
    "            days = num - 40\n",
    "            if days >= 0:\n",
    "                result = 32 * 0 + 8 * 325 + days * 550\n",
    "        elif num > 32:\n",
    "            days = num - 32\n",
    "            if days >= 0:\n",
    "                result = 32 * 0 + days * 325\n",
    "        else:\n",
    "            result = 32*0\n",
    "        return result\n",
    "    except Exception as e:\n",
    "        return e"
   ]
  },
  {
   "cell_type": "code",
   "execution_count": 15,
   "id": "0e7daeb5",
   "metadata": {},
   "outputs": [
    {
     "data": {
      "text/plain": [
       "0"
      ]
     },
     "execution_count": 15,
     "metadata": {},
     "output_type": "execute_result"
    }
   ],
   "source": [
    "bonus(15)"
   ]
  },
  {
   "cell_type": "code",
   "execution_count": 16,
   "id": "7894f615",
   "metadata": {},
   "outputs": [
    {
     "data": {
      "text/plain": [
       "1625"
      ]
     },
     "execution_count": 16,
     "metadata": {},
     "output_type": "execute_result"
    }
   ],
   "source": [
    "bonus(37) "
   ]
  },
  {
   "cell_type": "code",
   "execution_count": 17,
   "id": "e812e0be",
   "metadata": {},
   "outputs": [
    {
     "data": {
      "text/plain": [
       "6550"
      ]
     },
     "execution_count": 17,
     "metadata": {},
     "output_type": "execute_result"
    }
   ],
   "source": [
    "bonus(50)"
   ]
  },
  {
   "cell_type": "code",
   "execution_count": 18,
   "id": "f15d52c4",
   "metadata": {},
   "outputs": [],
   "source": [
    "# 5.A number is said to be Disarium if the sum of its digits raised to their respective positions is the number itself.\n",
    "#  Create a function that determines whether a number is a Disarium or not.\n",
    "#  Examples:\n",
    "#   is_disarium(75) ➞ False\n",
    "#   7^1 + 5^2 = 7 + 25 = 32\n",
    "#   is_disarium(135) ➞ True\n",
    "#   1^1 + 3^2 + 5^3 = 1 + 9 + 125 = 135\n",
    "#   is_disarium(544) ➞ False\n",
    "#   is_disarium(518) ➞ True\n",
    "#   is_disarium(466) ➞ False\n",
    "#   is_disarium(8) ➞ True\n",
    "\n",
    "# Sol :\n",
    "\n",
    "def is_disarium(num):\n",
    "    try:\n",
    "        j = 1\n",
    "        result = 0\n",
    "        for i in range(len(str(num))):\n",
    "            result += int(str(num)[i]) ** j\n",
    "            j += 1\n",
    "        if result == num:\n",
    "            return True\n",
    "        else:\n",
    "            return False\n",
    "    except Exception as e:\n",
    "        return e"
   ]
  },
  {
   "cell_type": "code",
   "execution_count": 19,
   "id": "989421ca",
   "metadata": {},
   "outputs": [
    {
     "data": {
      "text/plain": [
       "False"
      ]
     },
     "execution_count": 19,
     "metadata": {},
     "output_type": "execute_result"
    }
   ],
   "source": [
    "is_disarium(75)"
   ]
  },
  {
   "cell_type": "code",
   "execution_count": 20,
   "id": "770d3e7b",
   "metadata": {},
   "outputs": [
    {
     "data": {
      "text/plain": [
       "True"
      ]
     },
     "execution_count": 20,
     "metadata": {},
     "output_type": "execute_result"
    }
   ],
   "source": [
    "is_disarium(135)"
   ]
  },
  {
   "cell_type": "code",
   "execution_count": 21,
   "id": "6b672187",
   "metadata": {},
   "outputs": [
    {
     "data": {
      "text/plain": [
       "False"
      ]
     },
     "execution_count": 21,
     "metadata": {},
     "output_type": "execute_result"
    }
   ],
   "source": [
    "is_disarium(544)"
   ]
  },
  {
   "cell_type": "code",
   "execution_count": 22,
   "id": "a46c25fe",
   "metadata": {},
   "outputs": [
    {
     "data": {
      "text/plain": [
       "True"
      ]
     },
     "execution_count": 22,
     "metadata": {},
     "output_type": "execute_result"
    }
   ],
   "source": [
    "is_disarium(518)"
   ]
  },
  {
   "cell_type": "code",
   "execution_count": 23,
   "id": "d7a032e3",
   "metadata": {},
   "outputs": [
    {
     "data": {
      "text/plain": [
       "False"
      ]
     },
     "execution_count": 23,
     "metadata": {},
     "output_type": "execute_result"
    }
   ],
   "source": [
    "is_disarium(466)"
   ]
  },
  {
   "cell_type": "code",
   "execution_count": 24,
   "id": "1bb3c59f",
   "metadata": {},
   "outputs": [
    {
     "data": {
      "text/plain": [
       "True"
      ]
     },
     "execution_count": 24,
     "metadata": {},
     "output_type": "execute_result"
    }
   ],
   "source": [
    "is_disarium(8)"
   ]
  },
  {
   "cell_type": "code",
   "execution_count": null,
   "id": "33ca63d6",
   "metadata": {},
   "outputs": [],
   "source": []
  }
 ],
 "metadata": {
  "kernelspec": {
   "display_name": "Python 3 (ipykernel)",
   "language": "python",
   "name": "python3"
  },
  "language_info": {
   "codemirror_mode": {
    "name": "ipython",
    "version": 3
   },
   "file_extension": ".py",
   "mimetype": "text/x-python",
   "name": "python",
   "nbconvert_exporter": "python",
   "pygments_lexer": "ipython3",
   "version": "3.9.12"
  }
 },
 "nbformat": 4,
 "nbformat_minor": 5
}
