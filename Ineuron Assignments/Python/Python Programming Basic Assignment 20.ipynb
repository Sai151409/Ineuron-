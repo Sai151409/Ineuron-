{
 "cells": [
  {
   "cell_type": "code",
   "execution_count": 1,
   "id": "8757b68f",
   "metadata": {},
   "outputs": [],
   "source": [
    "# Q1. Create a function that takes a list of strings and integers, and filters out the list  \n",
    "#     so that it returns a list of integers only.\n",
    "#     Examples :\n",
    "#       filter_list([1, 2, 3, 'a', 'b', 4]) ➞ [1, 2, 3, 4]\n",
    "#       filter_list(['A', 0, 'Edabit', 1729, 'Python', '1729']) ➞ [0, 1729]\n",
    "#       filter_list(['Nothing', 'here']) ➞ []\n",
    "\n",
    "# Sol :\n",
    "\n",
    "def filter_list(list1):\n",
    "    try:\n",
    "        k = []\n",
    "        if type(list1) == list:\n",
    "            for i in list1:\n",
    "                if type(i) == int:\n",
    "                    k.append(i)\n",
    "        return k\n",
    "    except Exception as e:\n",
    "        print('The error has occured')\n",
    "        print('The error is  : ', e)"
   ]
  },
  {
   "cell_type": "code",
   "execution_count": 2,
   "id": "9cf901c5",
   "metadata": {},
   "outputs": [
    {
     "data": {
      "text/plain": [
       "[1, 2, 3, 4]"
      ]
     },
     "execution_count": 2,
     "metadata": {},
     "output_type": "execute_result"
    }
   ],
   "source": [
    " filter_list([1, 2, 3, 'a', 'b', 4])"
   ]
  },
  {
   "cell_type": "code",
   "execution_count": 3,
   "id": "9a9fbe2e",
   "metadata": {},
   "outputs": [
    {
     "data": {
      "text/plain": [
       "[0, 1729]"
      ]
     },
     "execution_count": 3,
     "metadata": {},
     "output_type": "execute_result"
    }
   ],
   "source": [
    "filter_list(['A', 0, 'Edabit', 1729, 'Python', '1729'])"
   ]
  },
  {
   "cell_type": "code",
   "execution_count": 4,
   "id": "034727ab",
   "metadata": {},
   "outputs": [
    {
     "data": {
      "text/plain": [
       "[]"
      ]
     },
     "execution_count": 4,
     "metadata": {},
     "output_type": "execute_result"
    }
   ],
   "source": [
    "filter_list(['Nothing', 'here'])"
   ]
  },
  {
   "cell_type": "code",
   "execution_count": 5,
   "id": "8052a250",
   "metadata": {},
   "outputs": [],
   "source": [
    "# Q2. Given a list of numbers, create a function which returns the list but with each element's\n",
    "#     index in the list added to itself. This means you add 0 to the number at index 0, add 1 to the\n",
    "#     number at index 1, etc...\n",
    "#     Examples : \n",
    "#         add_indexes([0, 0, 0, 0, 0]) ➞ [0, 1, 2, 3, 4]\n",
    "#         add_indexes([1, 2, 3, 4, 5]) ➞ [1, 3, 5, 7, 9]\n",
    "#         add_indexes([5, 4, 3, 2, 1]) ➞ [5, 5, 5, 5, 5]\n",
    "\n",
    "# Sol : \n",
    "\n",
    "def add_indexes(ls):\n",
    "    try:\n",
    "        k = []\n",
    "        for i in range(len(ls)):\n",
    "            r = ls[i] + i\n",
    "            k.append(r)\n",
    "        return k\n",
    "    except Exception as e:\n",
    "        print('The error has occured')\n",
    "        print('The error is : ', e)"
   ]
  },
  {
   "cell_type": "code",
   "execution_count": 6,
   "id": "ea8cb984",
   "metadata": {},
   "outputs": [
    {
     "data": {
      "text/plain": [
       "[0, 1, 2, 3, 4]"
      ]
     },
     "execution_count": 6,
     "metadata": {},
     "output_type": "execute_result"
    }
   ],
   "source": [
    "add_indexes([0, 0, 0, 0, 0])"
   ]
  },
  {
   "cell_type": "code",
   "execution_count": 7,
   "id": "cc918c3c",
   "metadata": {},
   "outputs": [
    {
     "data": {
      "text/plain": [
       "[1, 3, 5, 7, 9]"
      ]
     },
     "execution_count": 7,
     "metadata": {},
     "output_type": "execute_result"
    }
   ],
   "source": [
    "add_indexes([1, 2, 3, 4, 5])"
   ]
  },
  {
   "cell_type": "code",
   "execution_count": 8,
   "id": "376f9238",
   "metadata": {},
   "outputs": [
    {
     "data": {
      "text/plain": [
       "[5, 5, 5, 5, 5]"
      ]
     },
     "execution_count": 8,
     "metadata": {},
     "output_type": "execute_result"
    }
   ],
   "source": [
    "add_indexes([5, 4, 3, 2, 1])"
   ]
  },
  {
   "cell_type": "code",
   "execution_count": 9,
   "id": "a5ca1b66",
   "metadata": {},
   "outputs": [],
   "source": [
    "# Q3. Create a function that takes the height and radius of a cone as arguments and returns the\n",
    "#     volume of the cone rounded to the nearest hundredth. See the resources tab for the formula.\n",
    "#     Examples : \n",
    "#          cone_volume(3, 2) ➞ 12.57\n",
    "#          cone_volume(15, 6) ➞ 565.49\n",
    "#          cone_volume(18, 0) ➞ 0\n",
    "\n",
    "# Sol :\n",
    "import math\n",
    "def cone_volume(height, radius):\n",
    "    try:\n",
    "        volume = math.pi * (radius ** 2) * (height /3)\n",
    "        return round(volume, 2)\n",
    "    except Exception as e:\n",
    "        print('Th error has occured')\n",
    "        print('The error is : ', e)"
   ]
  },
  {
   "cell_type": "code",
   "execution_count": 10,
   "id": "b3339115",
   "metadata": {},
   "outputs": [
    {
     "data": {
      "text/plain": [
       "12.57"
      ]
     },
     "execution_count": 10,
     "metadata": {},
     "output_type": "execute_result"
    }
   ],
   "source": [
    "cone_volume(3, 2)"
   ]
  },
  {
   "cell_type": "code",
   "execution_count": 11,
   "id": "064260e9",
   "metadata": {},
   "outputs": [
    {
     "data": {
      "text/plain": [
       "565.49"
      ]
     },
     "execution_count": 11,
     "metadata": {},
     "output_type": "execute_result"
    }
   ],
   "source": [
    "cone_volume(15, 6)"
   ]
  },
  {
   "cell_type": "code",
   "execution_count": 12,
   "id": "d27dd998",
   "metadata": {},
   "outputs": [
    {
     "data": {
      "text/plain": [
       "0.0"
      ]
     },
     "execution_count": 12,
     "metadata": {},
     "output_type": "execute_result"
    }
   ],
   "source": [
    "cone_volume(18, 0)"
   ]
  },
  {
   "cell_type": "code",
   "execution_count": 13,
   "id": "8131a66a",
   "metadata": {},
   "outputs": [],
   "source": [
    "# Q4. This Triangular Number Sequence is generated from a pattern of dots that form a triangle.\n",
    "#     The first 5 numbers of the sequence, or dots, are: 1, 3, 6, 10, 15\n",
    "#     This means that the first triangle has just one dot, the second one has three dots, \n",
    "#     the third one has 6 dots and so on.\n",
    "#     Write a function that gives the number of dots with its corresponding triangle number of the\n",
    "#     sequence.\n",
    "#     Examples :\n",
    "#         triangle(1) ➞ 1\n",
    "#         triangle(6) ➞ 21\n",
    "#         triangle(215) ➞ 23220\n",
    "\n",
    "# Sol :\n",
    "\n",
    "def triangle(n):\n",
    "    try:\n",
    "        m = n\n",
    "        k = 0\n",
    "        if n == 1:\n",
    "            return 1\n",
    "        else:\n",
    "            for i in range(n):\n",
    "                m += k\n",
    "                k += 1\n",
    "            return m\n",
    "    except Exception as e:\n",
    "        print('The error has occured')\n",
    "        print('The error is : ', e)"
   ]
  },
  {
   "cell_type": "code",
   "execution_count": 14,
   "id": "4c4fcc08",
   "metadata": {},
   "outputs": [
    {
     "data": {
      "text/plain": [
       "1"
      ]
     },
     "execution_count": 14,
     "metadata": {},
     "output_type": "execute_result"
    }
   ],
   "source": [
    "triangle(1)"
   ]
  },
  {
   "cell_type": "code",
   "execution_count": 15,
   "id": "7cb9c006",
   "metadata": {},
   "outputs": [
    {
     "data": {
      "text/plain": [
       "21"
      ]
     },
     "execution_count": 15,
     "metadata": {},
     "output_type": "execute_result"
    }
   ],
   "source": [
    "triangle(6)"
   ]
  },
  {
   "cell_type": "code",
   "execution_count": 16,
   "id": "9052f361",
   "metadata": {},
   "outputs": [
    {
     "data": {
      "text/plain": [
       "23220"
      ]
     },
     "execution_count": 16,
     "metadata": {},
     "output_type": "execute_result"
    }
   ],
   "source": [
    "triangle(215)"
   ]
  },
  {
   "cell_type": "code",
   "execution_count": 17,
   "id": "71356bd1",
   "metadata": {},
   "outputs": [],
   "source": [
    "# Q5. Create a function that takes a list of numbers between 1 and 10 (excluding one number) and\n",
    "#     returns the missing number.\n",
    "#     Examples : \n",
    "#         missing_num([1, 2, 3, 4, 6, 7, 8, 9, 10]) ➞ 5\n",
    "#         missing_num([7, 2, 3, 6, 5, 9, 1, 4, 8]) ➞ 10\n",
    "#         missing_num([10, 5, 1, 2, 4, 6, 8, 3, 9]) ➞ 7\n",
    "\n",
    "# Sol :\n",
    "\n",
    "def missing_num(lis):\n",
    "    try:\n",
    "        for i in range(1, 11):\n",
    "            if i not in lis:\n",
    "                return i\n",
    "    except Exception as e:\n",
    "        print('The error has occured')\n",
    "        print('The error is : ', e)"
   ]
  },
  {
   "cell_type": "code",
   "execution_count": 18,
   "id": "bcceacaf",
   "metadata": {},
   "outputs": [
    {
     "data": {
      "text/plain": [
       "5"
      ]
     },
     "execution_count": 18,
     "metadata": {},
     "output_type": "execute_result"
    }
   ],
   "source": [
    "missing_num([1, 2, 3, 4, 6, 7, 8, 9, 10])"
   ]
  },
  {
   "cell_type": "code",
   "execution_count": 19,
   "id": "a30ce829",
   "metadata": {},
   "outputs": [
    {
     "data": {
      "text/plain": [
       "10"
      ]
     },
     "execution_count": 19,
     "metadata": {},
     "output_type": "execute_result"
    }
   ],
   "source": [
    "missing_num([7, 2, 3, 6, 5, 9, 1, 4, 8])"
   ]
  },
  {
   "cell_type": "code",
   "execution_count": 20,
   "id": "b14105ab",
   "metadata": {},
   "outputs": [
    {
     "data": {
      "text/plain": [
       "7"
      ]
     },
     "execution_count": 20,
     "metadata": {},
     "output_type": "execute_result"
    }
   ],
   "source": [
    "missing_num([10, 5, 1, 2, 4, 6, 8, 3, 9])"
   ]
  },
  {
   "cell_type": "code",
   "execution_count": null,
   "id": "239b2460",
   "metadata": {},
   "outputs": [],
   "source": []
  },
  {
   "cell_type": "code",
   "execution_count": null,
   "id": "a3db19b9",
   "metadata": {},
   "outputs": [],
   "source": []
  },
  {
   "cell_type": "code",
   "execution_count": null,
   "id": "e76c47b4",
   "metadata": {},
   "outputs": [],
   "source": []
  },
  {
   "cell_type": "code",
   "execution_count": null,
   "id": "574d9a32",
   "metadata": {},
   "outputs": [],
   "source": []
  },
  {
   "cell_type": "code",
   "execution_count": null,
   "id": "4d9ef913",
   "metadata": {},
   "outputs": [],
   "source": []
  },
  {
   "cell_type": "code",
   "execution_count": null,
   "id": "aacc86d7",
   "metadata": {},
   "outputs": [],
   "source": []
  },
  {
   "cell_type": "code",
   "execution_count": null,
   "id": "9ea6ee4e",
   "metadata": {},
   "outputs": [],
   "source": []
  },
  {
   "cell_type": "code",
   "execution_count": null,
   "id": "0c545a1b",
   "metadata": {},
   "outputs": [],
   "source": []
  }
 ],
 "metadata": {
  "kernelspec": {
   "display_name": "Python 3 (ipykernel)",
   "language": "python",
   "name": "python3"
  },
  "language_info": {
   "codemirror_mode": {
    "name": "ipython",
    "version": 3
   },
   "file_extension": ".py",
   "mimetype": "text/x-python",
   "name": "python",
   "nbconvert_exporter": "python",
   "pygments_lexer": "ipython3",
   "version": "3.9.7"
  }
 },
 "nbformat": 4,
 "nbformat_minor": 5
}
