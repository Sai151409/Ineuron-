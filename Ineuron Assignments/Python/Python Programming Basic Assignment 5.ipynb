{
 "cells": [
  {
   "cell_type": "code",
   "execution_count": 1,
   "id": "dab1371c",
   "metadata": {},
   "outputs": [],
   "source": [
    "# 1. Write a Python Program to Find LCM?\n",
    "\n",
    "# Sol:\n",
    "\n",
    "def lcm(x, y):\n",
    "    \"\"\"Its find out the least common factor of two numbers\"\"\"\n",
    "    try : \n",
    "        if x > y:\n",
    "            greater = x\n",
    "        else:\n",
    "            greater = y\n",
    "        \n",
    "        while True:\n",
    "            if greater % x == 0 and greater % y == 0 :\n",
    "                print(f\"The L.C.M of two numbers {x} and {y} is {greater}\")\n",
    "                break\n",
    "            greater += 1\n",
    "    except Exception as e:\n",
    "        print('The Error has occured')\n",
    "        print(f\"The Error is : {e}\")"
   ]
  },
  {
   "cell_type": "code",
   "execution_count": 2,
   "id": "7a3903f2",
   "metadata": {},
   "outputs": [
    {
     "name": "stdout",
     "output_type": "stream",
     "text": [
      "The L.C.M of two numbers 23 and 31 is 713\n"
     ]
    }
   ],
   "source": [
    "lcm(23, 31)"
   ]
  },
  {
   "cell_type": "code",
   "execution_count": 16,
   "id": "f96d4530",
   "metadata": {},
   "outputs": [],
   "source": [
    "# 2. Write a Python Program to Find HCF?\n",
    "\n",
    "# Sol : \n",
    "\n",
    "def gcd(x, y):\n",
    "    \"\"\"Its find out the greatest common factor of two numbers\"\"\"\n",
    "    \n",
    "    try :\n",
    "        if x > y:\n",
    "            lesser = y\n",
    "        else:\n",
    "            lesser = x\n",
    "            \n",
    "        while True:\n",
    "            if x %  lesser == 0 and y % lesser == 0:\n",
    "                print(f\"The gcd of two numbers {x} and {y} is {lesser}\")\n",
    "                break\n",
    "            lesser -= 1\n",
    "    except Exception as e:\n",
    "        print(\"The error has occured\")\n",
    "        print(f\"The error is {e}\")"
   ]
  },
  {
   "cell_type": "code",
   "execution_count": 19,
   "id": "4e334d47",
   "metadata": {},
   "outputs": [
    {
     "name": "stdout",
     "output_type": "stream",
     "text": [
      "The gcd of two numbers 45 and 75 is 15\n"
     ]
    }
   ],
   "source": [
    "gcd(45, 75)"
   ]
  },
  {
   "cell_type": "code",
   "execution_count": 41,
   "id": "877c880c",
   "metadata": {},
   "outputs": [],
   "source": [
    "# 3. Write a Python Program to Convert Decimal to Binary, Octal and Hexadecimal?\n",
    "\n",
    "# Sol : \n",
    "\n",
    "class converter : \n",
    "    \n",
    "    def __init__(self, num):\n",
    "        self.num = num\n",
    "        \n",
    "    def decimal(self):\n",
    "        try:\n",
    "            return int(self.num, 2)\n",
    "        except Exception as e:\n",
    "            print(\"The Error has occured\")\n",
    "            print(f\"The error is {e}\")\n",
    "    \n",
    "    def binary(self):\n",
    "        try:\n",
    "            return bin(self.num)\n",
    "        except Exception as e:\n",
    "            print(\"The Error has occured\")\n",
    "            print(f\"The error is {e}\")\n",
    "            \n",
    "    def octal(self):\n",
    "        try:\n",
    "            return oct(self.num)\n",
    "        except Exception as e:\n",
    "            print(\"The Error has occured\")\n",
    "            print(f\"The error is {e}\")\n",
    "    \n",
    "    def hexadecimal(self):\n",
    "        try:\n",
    "            return hex(self.num)\n",
    "        except Exception as e:\n",
    "            print(\"The Error has occured\")\n",
    "            print(f\"The error is {e}\")\n"
   ]
  },
  {
   "cell_type": "code",
   "execution_count": 42,
   "id": "8b177dd8",
   "metadata": {},
   "outputs": [],
   "source": [
    "n = converter(456)"
   ]
  },
  {
   "cell_type": "code",
   "execution_count": 43,
   "id": "e9a57b1e",
   "metadata": {},
   "outputs": [
    {
     "data": {
      "text/plain": [
       "'0b111001000'"
      ]
     },
     "execution_count": 43,
     "metadata": {},
     "output_type": "execute_result"
    }
   ],
   "source": [
    "n.binary()"
   ]
  },
  {
   "cell_type": "code",
   "execution_count": 44,
   "id": "a55b0aa6",
   "metadata": {},
   "outputs": [
    {
     "data": {
      "text/plain": [
       "'0x1c8'"
      ]
     },
     "execution_count": 44,
     "metadata": {},
     "output_type": "execute_result"
    }
   ],
   "source": [
    "n.hexadecimal()"
   ]
  },
  {
   "cell_type": "code",
   "execution_count": 45,
   "id": "380fee44",
   "metadata": {},
   "outputs": [
    {
     "name": "stdout",
     "output_type": "stream",
     "text": [
      "The Error has occured\n",
      "The error is int() can't convert non-string with explicit base\n"
     ]
    }
   ],
   "source": [
    "n.decimal()"
   ]
  },
  {
   "cell_type": "code",
   "execution_count": 46,
   "id": "76cb618b",
   "metadata": {},
   "outputs": [
    {
     "data": {
      "text/plain": [
       "'0o710'"
      ]
     },
     "execution_count": 46,
     "metadata": {},
     "output_type": "execute_result"
    }
   ],
   "source": [
    "n.octal()"
   ]
  },
  {
   "cell_type": "code",
   "execution_count": 73,
   "id": "4841b5af",
   "metadata": {},
   "outputs": [],
   "source": [
    "# 4. Write a Python Program To Find ASCII value of a character?\n",
    "\n",
    "# Sol : \n",
    "\n",
    "def ascii_value():\n",
    "    try : \n",
    "        c = input(\"Enter your character : \")\n",
    "        return (f\"The ascii value of {c} is {ord(c)}\")\n",
    "    except Exception as e:\n",
    "        print(\"The error has occured\")\n",
    "        print(f\"The error is {e}\")"
   ]
  },
  {
   "cell_type": "code",
   "execution_count": 74,
   "id": "823d8a2d",
   "metadata": {},
   "outputs": [
    {
     "name": "stdout",
     "output_type": "stream",
     "text": [
      "Enter your character : 4\n"
     ]
    },
    {
     "data": {
      "text/plain": [
       "'The ascii value of 4 is 52'"
      ]
     },
     "execution_count": 74,
     "metadata": {},
     "output_type": "execute_result"
    }
   ],
   "source": [
    "ascii_value()"
   ]
  },
  {
   "cell_type": "code",
   "execution_count": 76,
   "id": "927acdff",
   "metadata": {},
   "outputs": [
    {
     "name": "stdout",
     "output_type": "stream",
     "text": [
      "Enter your character : f\n"
     ]
    },
    {
     "data": {
      "text/plain": [
       "'The ascii value of f is 102'"
      ]
     },
     "execution_count": 76,
     "metadata": {},
     "output_type": "execute_result"
    }
   ],
   "source": [
    "ascii_value()"
   ]
  },
  {
   "cell_type": "code",
   "execution_count": 77,
   "id": "4ceedaf8",
   "metadata": {},
   "outputs": [
    {
     "name": "stdout",
     "output_type": "stream",
     "text": [
      "Enter your first number : 90\n",
      "Enter your second number : 78\n",
      "Select an arithmetic operator :        \n",
      "1.Addition : +         \n",
      "2.Subtarction : -         \n",
      "3.Multiplication : *         \n",
      "4.Division : \n",
      "Enter the operator +,-,*,/ : -\n",
      "90 - 78 = 12\n",
      "Do you want to continue (yes/no) : yes\n",
      "Enter your first number : 85\n",
      "Enter your second number : 2\n",
      "Select an arithmetic operator :        \n",
      "1.Addition : +         \n",
      "2.Subtarction : -         \n",
      "3.Multiplication : *         \n",
      "4.Division : \n",
      "Enter the operator +,-,*,/ : *\n",
      "85 * 2 = 170\n",
      "Do you want to continue (yes/no) : no\n"
     ]
    }
   ],
   "source": [
    "# 5. Write a Python Program to Make a Simple Calculator with 4 basic mathematical operations?\n",
    "\n",
    "# Sol : \n",
    "\n",
    "try:\n",
    "    while True:\n",
    "        a = int(input(\"Enter your first number : \"))\n",
    "        b = int(input(\"Enter your second number : \"))\n",
    "        print('Select an arithmetic operator :\\\n",
    "        \\n1.Addition : + \\\n",
    "        \\n2.Subtarction : - \\\n",
    "        \\n3.Multiplication : * \\\n",
    "        \\n4.Division : ')\n",
    "        operator = input(\"Enter the operator +,-,*,/ : \")\n",
    "        if operator  == \"+\":\n",
    "            print(\"{} {} {} = {}\".format(a, operator, b, a+b))\n",
    "        elif operator == \"-\":\n",
    "            print(\"{} {} {} = {}\".format(a, operator, b, a-b))\n",
    "        elif operator == \"*\":\n",
    "            print(\"{} {} {} = {}\".format(a, operator, b, a*b))\n",
    "        elif operator == \"/\":\n",
    "            print(\"{} {} {} = {}\".format(a, operator, b, a/b))\n",
    "        else:\n",
    "            print(\"Enter a valid operator\")\n",
    "        \n",
    "        p = input(\"Do you want to continue (yes/no) : \")\n",
    "        if p.capitalize() != \"Yes\":\n",
    "            break\n",
    "except Exception as e:\n",
    "    print(f\"The error is : {e}\")\n",
    "    "
   ]
  },
  {
   "cell_type": "code",
   "execution_count": null,
   "id": "9c8080ab",
   "metadata": {},
   "outputs": [],
   "source": []
  }
 ],
 "metadata": {
  "kernelspec": {
   "display_name": "Python 3 (ipykernel)",
   "language": "python",
   "name": "python3"
  },
  "language_info": {
   "codemirror_mode": {
    "name": "ipython",
    "version": 3
   },
   "file_extension": ".py",
   "mimetype": "text/x-python",
   "name": "python",
   "nbconvert_exporter": "python",
   "pygments_lexer": "ipython3",
   "version": "3.9.7"
  }
 },
 "nbformat": 4,
 "nbformat_minor": 5
}
