{
 "cells": [
  {
   "cell_type": "code",
   "execution_count": 1,
   "id": "c1ce13b8",
   "metadata": {},
   "outputs": [
    {
     "ename": "SyntaxError",
     "evalue": "invalid syntax (Temp/ipykernel_5976/3678115297.py, line 14)",
     "output_type": "error",
     "traceback": [
      "\u001b[1;36m  File \u001b[1;32m\"C:\\Users\\SAIRAM~1\\AppData\\Local\\Temp/ipykernel_5976/3678115297.py\"\u001b[1;36m, line \u001b[1;32m14\u001b[0m\n\u001b[1;33m    print(\"Python is very popular language, it was created by \"Guido van Rossum\"\") # It will give an error\u001b[0m\n\u001b[1;37m                                                               ^\u001b[0m\n\u001b[1;31mSyntaxError\u001b[0m\u001b[1;31m:\u001b[0m invalid syntax\n"
     ]
    }
   ],
   "source": [
    "# 1. What are escape characters, and how do you use them?\n",
    "\n",
    "# Sol :\n",
    "\n",
    "#     Python will not allow us to insert a special character between to overcome this problem , escape character is used\n",
    "\n",
    "#    Escape character is back slash  \\  followed by charcater that you want to insert into the string\n",
    "\n",
    "#   For Example if you want to insert double quotes inside a string which is enclosed with double quotes,\n",
    "\n",
    "#    It is not possible for this we can use the black slash\n",
    "\n",
    "\n",
    "print(\"Python is very popular language, it was created by \"Guido van Rossum\"\") # It will give an error "
   ]
  },
  {
   "cell_type": "code",
   "execution_count": 2,
   "id": "7f643c2f",
   "metadata": {},
   "outputs": [
    {
     "name": "stdout",
     "output_type": "stream",
     "text": [
      "Python is very popular language, it was created by \"Guido van Rossum\"\n"
     ]
    }
   ],
   "source": [
    "print(\"Python is very popular language, it was created by \\\"Guido van Rossum\\\"\") "
   ]
  },
  {
   "cell_type": "code",
   "execution_count": 3,
   "id": "e323843a",
   "metadata": {},
   "outputs": [
    {
     "name": "stdout",
     "output_type": "stream",
     "text": [
      "Joseph's son kishore\n"
     ]
    }
   ],
   "source": [
    "# For Example\n",
    "\n",
    "print('Joseph\\'s son kishore')"
   ]
  },
  {
   "cell_type": "code",
   "execution_count": 4,
   "id": "b4cc9570",
   "metadata": {},
   "outputs": [
    {
     "name": "stdout",
     "output_type": "stream",
     "text": [
      "Python is very language\n",
      "It was invented by Guido van Rossum\n",
      "\n",
      "\n",
      "The equal no of sides in square is :\t4\n"
     ]
    }
   ],
   "source": [
    "# 2. What do the escape characters n and t stand for?\n",
    "\n",
    "# Sol : \n",
    "\n",
    "#    \\n is used for new line\n",
    "#    \\t is used for tab\n",
    "\n",
    "# For Example\n",
    "\n",
    "print(\"Python is very language\\nIt was invented by Guido van Rossum\")# New line\n",
    "\n",
    "print(\"\\n\")\n",
    "\n",
    "print(\"The equal no of sides in square is :\\t4\") # Tab"
   ]
  },
  {
   "cell_type": "code",
   "execution_count": 5,
   "id": "d6095c5f",
   "metadata": {},
   "outputs": [
    {
     "name": "stdout",
     "output_type": "stream",
     "text": [
      "C:\\users\\sairamnaidu\\Ineuron\n"
     ]
    }
   ],
   "source": [
    "# 3. What is the way to include backslash characters in a string?\n",
    "\n",
    "# Sol:\n",
    "\n",
    "#    To insert a black slash in the string at that place we use double slash\n",
    "\n",
    "#  For suppose if you print the current working directory path\n",
    "\n",
    "print(\"C:\\\\users\\\\sairamnaidu\\\\Ineuron\")# Here i'm using double slash in the string"
   ]
  },
  {
   "cell_type": "code",
   "execution_count": 6,
   "id": "63f96609",
   "metadata": {},
   "outputs": [
    {
     "name": "stdout",
     "output_type": "stream",
     "text": [
      "Howl's Moving Castle\n"
     ]
    }
   ],
   "source": [
    "# 4. The string \"Howl's Moving Castle\" is a correct value.\n",
    "# Why isn't the single quote character in the word Howl's not escaped a problem?\n",
    "\n",
    "# Sol:\n",
    "\n",
    "#    python allows us to insert a single quotes inside a double quotes string without using escape character\n",
    "#    Because the string which is enclosed with double quotes\n",
    "#    That's Why it's correct. We can also do the vice-versa that means double quotes inside a single quote\n",
    "\n",
    "\n",
    "#    For Example:\n",
    "\n",
    "print(\"Howl's Moving Castle\")"
   ]
  },
  {
   "cell_type": "code",
   "execution_count": 7,
   "id": "bb56f6cd",
   "metadata": {},
   "outputs": [],
   "source": [
    "# 5. How do you write a string of newlines if you don't want to use the n character?\n",
    "\n",
    "# Sol : \n",
    "\n",
    "# Multiline string allow you to use newlines in string without the \\n escape character\n",
    "\n",
    "a = \"\"\"Hi Kishore\n",
    "Hi Surya How are you ?\"\"\""
   ]
  },
  {
   "cell_type": "code",
   "execution_count": 8,
   "id": "115cf7b5",
   "metadata": {},
   "outputs": [
    {
     "name": "stdout",
     "output_type": "stream",
     "text": [
      "Hi Kishore\n",
      "Hi Surya How are you ?\n"
     ]
    }
   ],
   "source": [
    "print(a)"
   ]
  },
  {
   "cell_type": "code",
   "execution_count": 9,
   "id": "be2b99af",
   "metadata": {},
   "outputs": [
    {
     "name": "stdout",
     "output_type": "stream",
     "text": [
      "'Hello, world!'[1] : e\n",
      "\n",
      "\n",
      "'Hello, world!'[0:5] : Hello\n",
      "\n",
      "\n",
      "'Hello, world'[:5] : Hello\n",
      "\n",
      "\n",
      "'Hello, world!'[3:] : lo, world!\n"
     ]
    }
   ],
   "source": [
    "# 6. What are the values of the given expressions?\n",
    "# 'Hello, world!'[1]\n",
    "# 'Hello, world!'[0:5]\n",
    "# 'Hello, world'[:5]\n",
    "# 'Hello, world!'[3:]\n",
    "\n",
    "# Sol : \n",
    "\n",
    "\n",
    "print(\"'Hello, world!'[1] :\", 'Hello, world!'[1])\n",
    "print(\"\\n\")\n",
    "print(\"'Hello, world!'[0:5] :\", 'Hello, world!'[0:5])\n",
    "print(\"\\n\")\n",
    "print(\"'Hello, world'[:5] :\", 'Hello, world'[:5])\n",
    "print(\"\\n\")\n",
    "print(\"'Hello, world!'[3:] :\", 'Hello, world!'[3:])"
   ]
  },
  {
   "cell_type": "code",
   "execution_count": 10,
   "id": "72bd9f63",
   "metadata": {},
   "outputs": [
    {
     "name": "stdout",
     "output_type": "stream",
     "text": [
      "'Hello'.upper() :  HELLO\n",
      "\n",
      "\n",
      "'Hello'.upper().isupper() :  True\n",
      "\n",
      "\n",
      "'Hello'.upper().lower() :  hello\n"
     ]
    }
   ],
   "source": [
    "# 7. What are the values of the following expressions?\n",
    "\n",
    "#'Hello'.upper()\n",
    "#'Hello'.upper().isupper()\n",
    "#'Hello'.upper().lower()\n",
    "\n",
    "# Sol : \n",
    "\n",
    "print(\"'Hello'.upper() : \", 'Hello'.upper())\n",
    "print(\"\\n\")\n",
    "print(\"'Hello'.upper().isupper() : \", 'Hello'.upper().isupper())\n",
    "print(\"\\n\")\n",
    "print(\"'Hello'.upper().lower() : \", 'Hello'.upper().lower())"
   ]
  },
  {
   "cell_type": "code",
   "execution_count": 11,
   "id": "f82a22e2",
   "metadata": {},
   "outputs": [
    {
     "name": "stdout",
     "output_type": "stream",
     "text": [
      "'Remember, remember, the fifth of July.'.split() :  ['Remember,', 'remember,', 'the', 'fifth', 'of', 'July.']\n",
      "\n",
      "\n",
      "'-'.join('There can only one.'.split()) :  There-can-only-one.\n"
     ]
    }
   ],
   "source": [
    "# 8. What are the values of the following expressions?\n",
    "# 'Remember, remember, the fifth of July.'.split()\n",
    "# '-'.join('There can only one.'.split())\n",
    "\n",
    "# Sol :\n",
    "\n",
    "print(\"'Remember, remember, the fifth of July.'.split() : \", 'Remember, remember, the fifth of July.'.split())\n",
    "print(\"\\n\")\n",
    "print(\"'-'.join('There can only one.'.split()) : \",'-'.join('There can only one.'.split()))"
   ]
  },
  {
   "cell_type": "code",
   "execution_count": 12,
   "id": "bd96f8b6",
   "metadata": {},
   "outputs": [],
   "source": [
    "# 9. What are the methods for right-justifying, left-justifying, and centering a string? \n",
    "\n",
    "# Sol : \n",
    "\n",
    "#     rjust, ljust, center are methods for the left - justfying, right - justfying, and centering a string\n",
    "\n",
    "# For Example : \n",
    "\n",
    "a = \"kishore\""
   ]
  },
  {
   "cell_type": "code",
   "execution_count": 13,
   "id": "d6f8a352",
   "metadata": {},
   "outputs": [
    {
     "data": {
      "text/plain": [
       "'kishore.............'"
      ]
     },
     "execution_count": 13,
     "metadata": {},
     "output_type": "execute_result"
    }
   ],
   "source": [
    "a.ljust(20,\".\")"
   ]
  },
  {
   "cell_type": "code",
   "execution_count": 14,
   "id": "40d223a7",
   "metadata": {},
   "outputs": [
    {
     "data": {
      "text/plain": [
       "'.............kishore'"
      ]
     },
     "execution_count": 14,
     "metadata": {},
     "output_type": "execute_result"
    }
   ],
   "source": [
    "a.rjust(20,\".\")"
   ]
  },
  {
   "cell_type": "code",
   "execution_count": 15,
   "id": "01ca490b",
   "metadata": {},
   "outputs": [
    {
     "data": {
      "text/plain": [
       "'......kishore.......'"
      ]
     },
     "execution_count": 15,
     "metadata": {},
     "output_type": "execute_result"
    }
   ],
   "source": [
    "a.center(20,\".\")"
   ]
  },
  {
   "cell_type": "code",
   "execution_count": 16,
   "id": "ade13ab5",
   "metadata": {},
   "outputs": [],
   "source": [
    "# 10. What is the best way to remove whitespace characters from the start or end?\n",
    "\n",
    "# Sol : \n",
    "\n",
    "#    Strip is the only function which is used for to remove the whitespaces characters from the start or end\n",
    "\n",
    "a = \"sudh\""
   ]
  },
  {
   "cell_type": "code",
   "execution_count": 17,
   "id": "e42b1f4e",
   "metadata": {},
   "outputs": [
    {
     "data": {
      "text/plain": [
       "'        sudh        '"
      ]
     },
     "execution_count": 17,
     "metadata": {},
     "output_type": "execute_result"
    }
   ],
   "source": [
    "a.center(20) # sudh is at the center of the str and remaning is whitespace characters"
   ]
  },
  {
   "cell_type": "code",
   "execution_count": 18,
   "id": "081132c7",
   "metadata": {},
   "outputs": [
    {
     "data": {
      "text/plain": [
       "'sudh'"
      ]
     },
     "execution_count": 18,
     "metadata": {},
     "output_type": "execute_result"
    }
   ],
   "source": [
    "a.strip() # To remove the whitespace characters Here i'm using strip function"
   ]
  },
  {
   "cell_type": "code",
   "execution_count": null,
   "id": "fb0cdee2",
   "metadata": {},
   "outputs": [],
   "source": []
  }
 ],
 "metadata": {
  "kernelspec": {
   "display_name": "Python 3 (ipykernel)",
   "language": "python",
   "name": "python3"
  },
  "language_info": {
   "codemirror_mode": {
    "name": "ipython",
    "version": 3
   },
   "file_extension": ".py",
   "mimetype": "text/x-python",
   "name": "python",
   "nbconvert_exporter": "python",
   "pygments_lexer": "ipython3",
   "version": "3.9.7"
  }
 },
 "nbformat": 4,
 "nbformat_minor": 5
}
