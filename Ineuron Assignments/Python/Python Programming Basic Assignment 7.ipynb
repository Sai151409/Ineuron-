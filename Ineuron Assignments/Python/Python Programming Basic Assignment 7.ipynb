{
 "cells": [
  {
   "cell_type": "code",
   "execution_count": 41,
   "id": "25b3c123",
   "metadata": {},
   "outputs": [
    {
     "name": "stdout",
     "output_type": "stream",
     "text": [
      "The sum of array [ 7  5  9 10] is :  31\n"
     ]
    }
   ],
   "source": [
    "# 1. Write a Python Program to find sum of array?\n",
    "\n",
    "# Sol :\n",
    "\n",
    "#     For creating an array here i'm import the numpy module\n",
    " \n",
    "import numpy as np\n",
    "\n",
    "a = np.array([7, 5, 9, 10])\n",
    "\n",
    "print(\"The sum of array\", a, \"is : \", sum(a))"
   ]
  },
  {
   "cell_type": "code",
   "execution_count": 42,
   "id": "0141de61",
   "metadata": {},
   "outputs": [
    {
     "name": "stdout",
     "output_type": "stream",
     "text": [
      "The largest element of array [ 7  5  9 10] is :  10\n"
     ]
    }
   ],
   "source": [
    "# 2. Write a Python Program to find largest element in an array?\n",
    "\n",
    "# Sol :\n",
    "\n",
    "#     For creating an array here i'm import the numpy module\n",
    "\n",
    "import numpy as np\n",
    "\n",
    "a = np.array([7, 5, 9, 10])\n",
    "\n",
    "print(\"The largest element of array\", a, \"is : \", max(a))"
   ]
  },
  {
   "cell_type": "code",
   "execution_count": 43,
   "id": "ac13231e",
   "metadata": {},
   "outputs": [
    {
     "name": "stdout",
     "output_type": "stream",
     "text": [
      "The rotation of array [ 7  5  9 10] is :  [10  9  5  7]\n"
     ]
    }
   ],
   "source": [
    "# 3. Write a Python Program for array rotation?\n",
    "\n",
    "# Sol :\n",
    "\n",
    "#     For creating an array here i'm import the numpy module\n",
    "\n",
    "import numpy as np\n",
    "\n",
    "a = np.array([7, 5, 9, 10])\n",
    "\n",
    "print(\"The rotation of array\", a, \"is : \", a[::-1])"
   ]
  },
  {
   "cell_type": "code",
   "execution_count": 155,
   "id": "ad47b51f",
   "metadata": {},
   "outputs": [],
   "source": [
    "# 4. Write a Python Program to Split the array and add the first part to the end?\n",
    "\n",
    "# Sol :\n",
    "\n",
    "def split(arr, len, n):\n",
    "    \"\"\"This function split the array and add at the end of the array\n",
    "       arr = give list this convert into array\n",
    "       len = length of list\n",
    "       n = no of elements do you want to split from the list\"\"\"\n",
    "    try:\n",
    "        import numpy\n",
    "        arr = np.array(arr)\n",
    "        b = np.append(np.array([], dtype = arr.dtype), arr[0:n])\n",
    "        arr = np.delete(arr, np.arange(n))\n",
    "        arr = np.append(arr, b)\n",
    "        return arr\n",
    "    except Exception as e:\n",
    "        print(\"The error has occured\")\n",
    "        print(f\"The error is {e}\")"
   ]
  },
  {
   "cell_type": "code",
   "execution_count": 156,
   "id": "b5c93f41",
   "metadata": {},
   "outputs": [
    {
     "data": {
      "text/plain": [
       "array([ 4,  5,  6,  7,  8,  9, 10,  1,  2,  3])"
      ]
     },
     "execution_count": 156,
     "metadata": {},
     "output_type": "execute_result"
    }
   ],
   "source": [
    "split([1,2,3,4,5,6,7,8,9,10], 10, 3)"
   ]
  },
  {
   "cell_type": "code",
   "execution_count": 157,
   "id": "0d242398",
   "metadata": {},
   "outputs": [
    {
     "data": {
      "text/plain": [
       "array([ 8,  9, 10,  1,  2,  3,  4,  5,  6,  7])"
      ]
     },
     "execution_count": 157,
     "metadata": {},
     "output_type": "execute_result"
    }
   ],
   "source": [
    "split([1,2,3,4,5,6,7,8,9,10], 10, 7)"
   ]
  },
  {
   "cell_type": "code",
   "execution_count": 209,
   "id": "3aae8327",
   "metadata": {},
   "outputs": [],
   "source": [
    "# 5. Write a Python Program to check if given array is Monotonic?\n",
    "\n",
    "# Sol : \n",
    "\n",
    "def monotonic(a):\n",
    "    \"It gives the given array is montonic or not\"\n",
    "    try:\n",
    "        if len(a) >= 1:\n",
    "            if a[0] > a[1]:\n",
    "                k = 0\n",
    "                for i in range(len(a)-1):\n",
    "                    if a[i] >= a[i+1]:\n",
    "                        k += 1\n",
    "                    else:\n",
    "                        print(\"It is not a monotonic one\")\n",
    "                        break\n",
    "                if k == len(a) - 1:\n",
    "                    print(\"It is a decreasing monotonic\")\n",
    "            \n",
    "            else:\n",
    "                k = 0\n",
    "                for i in range(len(a)-1):\n",
    "                    if a[i] <= a[i+1]:\n",
    "                        k += 1\n",
    "                    else:\n",
    "                        print(\"It is not a monotonic one\")\n",
    "                        break\n",
    "                if k == len(a) - 1:\n",
    "                    print(\"It is a increasing monotonic\")\n",
    "        else:\n",
    "            print(\"It is a empty one\")\n",
    "    except Exception as e:\n",
    "        print(\"The error has occured\")\n",
    "        print(f\"The error is {e}\")\n",
    "    "
   ]
  },
  {
   "cell_type": "code",
   "execution_count": 210,
   "id": "f35466b6",
   "metadata": {},
   "outputs": [],
   "source": [
    "import numpy as np"
   ]
  },
  {
   "cell_type": "code",
   "execution_count": 211,
   "id": "7df73513",
   "metadata": {},
   "outputs": [],
   "source": [
    "a = np.array([1,2,3,4,5])"
   ]
  },
  {
   "cell_type": "code",
   "execution_count": 212,
   "id": "7df9e8f7",
   "metadata": {},
   "outputs": [
    {
     "name": "stdout",
     "output_type": "stream",
     "text": [
      "It is a increasing monotonic\n"
     ]
    }
   ],
   "source": [
    "monotonic(a)"
   ]
  },
  {
   "cell_type": "code",
   "execution_count": 213,
   "id": "bf9c03fa",
   "metadata": {},
   "outputs": [],
   "source": [
    "b = np.array([5,4,3,2,1])"
   ]
  },
  {
   "cell_type": "code",
   "execution_count": 214,
   "id": "55eb61b7",
   "metadata": {},
   "outputs": [
    {
     "name": "stdout",
     "output_type": "stream",
     "text": [
      "It is a decreasing monotonic\n"
     ]
    }
   ],
   "source": [
    "monotonic(b)"
   ]
  },
  {
   "cell_type": "code",
   "execution_count": 215,
   "id": "ac065038",
   "metadata": {},
   "outputs": [],
   "source": [
    "c = np.array([90, 56, 99, 64, 76])"
   ]
  },
  {
   "cell_type": "code",
   "execution_count": 216,
   "id": "3abd969b",
   "metadata": {},
   "outputs": [
    {
     "name": "stdout",
     "output_type": "stream",
     "text": [
      "It is not a monotonic one\n"
     ]
    }
   ],
   "source": [
    "monotonic(c)"
   ]
  },
  {
   "cell_type": "code",
   "execution_count": null,
   "id": "8e9bbba4",
   "metadata": {},
   "outputs": [],
   "source": []
  }
 ],
 "metadata": {
  "kernelspec": {
   "display_name": "Python 3 (ipykernel)",
   "language": "python",
   "name": "python3"
  },
  "language_info": {
   "codemirror_mode": {
    "name": "ipython",
    "version": 3
   },
   "file_extension": ".py",
   "mimetype": "text/x-python",
   "name": "python",
   "nbconvert_exporter": "python",
   "pygments_lexer": "ipython3",
   "version": "3.9.7"
  }
 },
 "nbformat": 4,
 "nbformat_minor": 5
}
