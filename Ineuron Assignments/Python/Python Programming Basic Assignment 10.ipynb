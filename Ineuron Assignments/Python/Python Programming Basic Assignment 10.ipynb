{
 "cells": [
  {
   "cell_type": "code",
   "execution_count": 1,
   "id": "52558d18",
   "metadata": {},
   "outputs": [],
   "source": [
    "# 1. Write a Python program to find sum of elements in list?\n",
    "\n",
    "# Sol : \n",
    "\n",
    "def list_sum(l):\n",
    "    \"Its find out the sum of the list\"\n",
    "    try:\n",
    "        print(\"The sum of the list is : \", sum(l))\n",
    "    except Exception as e:\n",
    "        print(\"The error has occured\")\n",
    "        print(f\"The error is : {e}\")\n",
    "        "
   ]
  },
  {
   "cell_type": "code",
   "execution_count": 2,
   "id": "26bf9788",
   "metadata": {},
   "outputs": [
    {
     "name": "stdout",
     "output_type": "stream",
     "text": [
      "The sum of the list is :  378\n"
     ]
    }
   ],
   "source": [
    "list_sum([90, 89, 87, 67, 45])"
   ]
  },
  {
   "cell_type": "code",
   "execution_count": 3,
   "id": "e9bb2b32",
   "metadata": {},
   "outputs": [
    {
     "name": "stdout",
     "output_type": "stream",
     "text": [
      "The error has occured\n",
      "The error is : unsupported operand type(s) for +: 'int' and 'str'\n"
     ]
    }
   ],
   "source": [
    "list_sum(\"dvisbuvb\")"
   ]
  },
  {
   "cell_type": "code",
   "execution_count": 4,
   "id": "444e524a",
   "metadata": {},
   "outputs": [
    {
     "name": "stdout",
     "output_type": "stream",
     "text": [
      "The error has occured\n",
      "The error is : unsupported operand type(s) for +: 'int' and 'str'\n"
     ]
    }
   ],
   "source": [
    "list_sum([90, \"bcbd\", \"sdsbcisdb\", 67])"
   ]
  },
  {
   "cell_type": "code",
   "execution_count": 5,
   "id": "9786319b",
   "metadata": {},
   "outputs": [],
   "source": [
    "# 2. Write a Python program to Multiply all numbers in the list?\n",
    "\n",
    "# Sol : \n",
    "\n",
    "def list_mult(l):\n",
    "    \"Its find out the multiply the all numbers in the list\"\n",
    "    try:\n",
    "        mult = 1\n",
    "        if type(l) == list:\n",
    "            for i in l:\n",
    "                if type(i) == int or type(i) == float:\n",
    "                    mult *= i\n",
    "                else:\n",
    "                    raise Exception(\"one of the element is not numeric type, you can't find its multiplication\")\n",
    "            print(\"The sum of the elements of the list : \", mult)\n",
    "        else:\n",
    "            raise Exception(f\"given argument is not list type\")\n",
    "    except Exception as e:\n",
    "        print(\"The error has occured\")\n",
    "        print(f\"The error is : {e}\")"
   ]
  },
  {
   "cell_type": "code",
   "execution_count": 6,
   "id": "ffa89cc1",
   "metadata": {},
   "outputs": [
    {
     "name": "stdout",
     "output_type": "stream",
     "text": [
      "The sum of the elements of the list :  4836049920\n"
     ]
    }
   ],
   "source": [
    "list_mult([78, 52, 23, 96, 12, 45])"
   ]
  },
  {
   "cell_type": "code",
   "execution_count": 7,
   "id": "55f27273",
   "metadata": {},
   "outputs": [
    {
     "name": "stdout",
     "output_type": "stream",
     "text": [
      "The error has occured\n",
      "The error is : one of the element is not numeric type, you can't find its multiplication\n"
     ]
    }
   ],
   "source": [
    "list_mult([78, 52, 23, \"irbuibg\", 12, 45])"
   ]
  },
  {
   "cell_type": "code",
   "execution_count": 8,
   "id": "b2fe3595",
   "metadata": {},
   "outputs": [
    {
     "name": "stdout",
     "output_type": "stream",
     "text": [
      "The error has occured\n",
      "The error is : given argument is not list type\n"
     ]
    }
   ],
   "source": [
    "list_mult(\"zxcj\")"
   ]
  },
  {
   "cell_type": "code",
   "execution_count": 9,
   "id": "c1b55af4",
   "metadata": {},
   "outputs": [],
   "source": [
    "# 3. Write a Python program to find smallest number in a list?\n",
    "\n",
    "# Sol:\n",
    "\n",
    "def list_min(l):\n",
    "    \"Its find out the minimum no of the list\"\n",
    "    try:\n",
    "        print(\"The min of list is : \", min(l))\n",
    "    except Exception as e:\n",
    "        print(\"The error has occured\")\n",
    "        print(f\"The error is : {e}\")"
   ]
  },
  {
   "cell_type": "code",
   "execution_count": 10,
   "id": "8172f587",
   "metadata": {},
   "outputs": [
    {
     "name": "stdout",
     "output_type": "stream",
     "text": [
      "The min of list is :  23\n"
     ]
    }
   ],
   "source": [
    "list_min([90, 89, 78, 67, 56, 45, 34, 23, 145])"
   ]
  },
  {
   "cell_type": "code",
   "execution_count": 11,
   "id": "701ea6eb",
   "metadata": {},
   "outputs": [],
   "source": [
    "# 4. Write a Python program to find largest number in a list?\n",
    "\n",
    "# Sol:\n",
    "\n",
    "def list_max(l):\n",
    "    \"Its find out the maximum no of the list\"\n",
    "    try:\n",
    "        print(\"The max of list is : \", max(l))\n",
    "    except Exception as e:\n",
    "        print(\"The error has occured\")\n",
    "        print(f\"The error is : {e}\")"
   ]
  },
  {
   "cell_type": "code",
   "execution_count": 12,
   "id": "ddf9c983",
   "metadata": {},
   "outputs": [
    {
     "name": "stdout",
     "output_type": "stream",
     "text": [
      "The max of list is :  90\n"
     ]
    }
   ],
   "source": [
    "list_max([90, 89, 90, 78, 67, 56, 45])"
   ]
  },
  {
   "cell_type": "code",
   "execution_count": 13,
   "id": "2d33af39",
   "metadata": {},
   "outputs": [],
   "source": [
    "# 5. Write a Python program to find second largest number in a list?\n",
    "\n",
    "# Sol:\n",
    "\n",
    "def list_second_largest(l):\n",
    "    \"Its find out the second largest number in the list\"\n",
    "    try:\n",
    "        l.sort()\n",
    "        print(\"The ascending order of list is : \", l)\n",
    "        print(\"The second largest number of the list is : \", l[-2])\n",
    "    except Exception as e:\n",
    "        print(\"The error has occured\")\n",
    "        print(f\"The error is {e}\")"
   ]
  },
  {
   "cell_type": "code",
   "execution_count": 14,
   "id": "5fb3f830",
   "metadata": {},
   "outputs": [
    {
     "name": "stdout",
     "output_type": "stream",
     "text": [
      "The ascending order of list is :  [34, 45, 56, 67, 78, 89, 90]\n",
      "The second largest number of the list is :  89\n"
     ]
    }
   ],
   "source": [
    "list_second_largest([89, 90, 78, 67, 56, 45, 34])"
   ]
  },
  {
   "cell_type": "code",
   "execution_count": 15,
   "id": "48d34b14",
   "metadata": {},
   "outputs": [],
   "source": [
    "# 6. Write a Python program to find N largest elements from a list?\n",
    "\n",
    "# Sol : \n",
    "\n",
    "def list_n_largest_elements(l, n):\n",
    "    \"Its find out the n largest elements in the list\"\n",
    "    try:\n",
    "        print(\"The given list is  : \", l)\n",
    "        l.sort(reverse = True)\n",
    "        print(f\"The {n} largest elements in the list : \", l[:n])\n",
    "    except:\n",
    "        print(\"The error has occured\")\n",
    "        print(f\"The error is {e}\")"
   ]
  },
  {
   "cell_type": "code",
   "execution_count": 16,
   "id": "22a43fed",
   "metadata": {},
   "outputs": [
    {
     "name": "stdout",
     "output_type": "stream",
     "text": [
      "The given list is  :  [1, 2, 3, 4, 5, 6, 7]\n",
      "The 3 largest elements in the list :  [7, 6, 5]\n"
     ]
    }
   ],
   "source": [
    "list_n_largest_elements([1,2,3,4,5,6,7], 3)"
   ]
  },
  {
   "cell_type": "code",
   "execution_count": 17,
   "id": "0d948c16",
   "metadata": {},
   "outputs": [
    {
     "name": "stdout",
     "output_type": "stream",
     "text": [
      "The given list is  :  [12, 90, 34, 78, 56]\n",
      "The 3 largest elements in the list :  [90, 78, 56]\n"
     ]
    }
   ],
   "source": [
    "list_n_largest_elements([12, 90, 34, 78, 56], 3)"
   ]
  },
  {
   "cell_type": "code",
   "execution_count": 18,
   "id": "d44ce289",
   "metadata": {},
   "outputs": [
    {
     "name": "stdout",
     "output_type": "stream",
     "text": [
      "The given list is  :  [90, 89, 78, 67, 90, 56, 78, 45, 34, 23, 12, 25, 89, 56, 52, 51, 69, 85, 63, 41, 52]\n",
      "The 5 largest elements in the list :  [90, 90, 89, 89, 85]\n"
     ]
    }
   ],
   "source": [
    "list_n_largest_elements([90, 89, 78, 67, 90, 56, 78 ,45, 34, 23, 12, 25, 89, 56, 52, 51, 69, 85, 63, 41, 52], 5)"
   ]
  },
  {
   "cell_type": "code",
   "execution_count": 19,
   "id": "28ded6c0",
   "metadata": {},
   "outputs": [],
   "source": [
    "# 7. Write a Python program to print even numbers in a list?\n",
    "\n",
    "# Sol:\n",
    "\n",
    "def list_even(l):\n",
    "    \"It returns the even numbers from the list\"\n",
    "    try:\n",
    "        even = []\n",
    "        for i in l:\n",
    "            if i % 2 == 0:\n",
    "                even.append(i)\n",
    "        print(\"The even numbers of the list is : \", even)\n",
    "    except Exception as e:\n",
    "        print(\"The error has occured\")\n",
    "        print(f\"The error is : {e}\")"
   ]
  },
  {
   "cell_type": "code",
   "execution_count": 20,
   "id": "7e2a6873",
   "metadata": {},
   "outputs": [
    {
     "name": "stdout",
     "output_type": "stream",
     "text": [
      "The even numbers of the list is :  [90, 78, 56, 86]\n"
     ]
    }
   ],
   "source": [
    "list_even([89, 90, 78, 56, 87, 45, 33, 21, 86])"
   ]
  },
  {
   "cell_type": "code",
   "execution_count": 21,
   "id": "5693711c",
   "metadata": {},
   "outputs": [],
   "source": [
    "# 8. Write a Python program to print odd numbers in a list?\n",
    "\n",
    "# Sol:\n",
    "\n",
    "def list_odd(l):\n",
    "    \"It returns the even numbers from the list\"\n",
    "    try:\n",
    "        odd = []\n",
    "        for i in l:\n",
    "            if i % 2 != 0:\n",
    "                odd.append(i)\n",
    "        print(\"The odd numbers of the list is : \", odd)\n",
    "    except Exception as e:\n",
    "        print(\"The error has occured\")\n",
    "        print(f\"The error is : {e}\")"
   ]
  },
  {
   "cell_type": "code",
   "execution_count": 22,
   "id": "03c7a993",
   "metadata": {},
   "outputs": [
    {
     "name": "stdout",
     "output_type": "stream",
     "text": [
      "The odd numbers of the list is :  [89, 77, 67, 89, 55]\n"
     ]
    }
   ],
   "source": [
    "list_odd([90, 89, 77, 67, 89, 56, 55, 54, 46])"
   ]
  },
  {
   "cell_type": "code",
   "execution_count": 23,
   "id": "095a69c3",
   "metadata": {},
   "outputs": [],
   "source": [
    "# 9. Write a Python program to Remove empty List from List?\n",
    "\n",
    "# Sol : \n",
    "\n",
    "def list_remove_empty_list(l) : \n",
    "    \"It removes the empty list from the list\"\n",
    "    try : \n",
    "        for i in l:\n",
    "            if type(i) == list:\n",
    "                if len(i) == 0:\n",
    "                    l.remove(i)\n",
    "        print(\"After removing the empty lists from the list : \", l)\n",
    "    except Exception as e:\n",
    "        print(\"The error has occured\")\n",
    "        print(f\"The error is : {e}\")"
   ]
  },
  {
   "cell_type": "code",
   "execution_count": 24,
   "id": "b6296913",
   "metadata": {},
   "outputs": [
    {
     "name": "stdout",
     "output_type": "stream",
     "text": [
      "After removing the empty lists from the list :  [67, 89, [90, 89, 78], [90, 78, 56, 45], 78, 'abav', 'siubuivb', [90, 89, 78, 67]]\n"
     ]
    }
   ],
   "source": [
    "list_remove_empty_list([67, 89, [90, 89, 78], [], [90, 78, 56, 45], 78, \"abav\", [], \"siubuivb\", [90, 89, 78, 67],[]])"
   ]
  },
  {
   "cell_type": "code",
   "execution_count": 25,
   "id": "9af169dc",
   "metadata": {},
   "outputs": [
    {
     "name": "stdout",
     "output_type": "stream",
     "text": [
      "Original List: [4, 8, 2, 10, 15, 18]\n",
      "After Cloning: [4, 8, 2, 10, 15, 18]\n"
     ]
    }
   ],
   "source": [
    "# 10. Write a Python program to Cloning or Copying a list?\n",
    "\n",
    "# Sol : \n",
    "\n",
    "def Cloning(l):\n",
    "    try : \n",
    "        lst = l[:]\n",
    "        return lst\n",
    "    except Exception as e:\n",
    "        print(\"The error has occured\")\n",
    "        print(f\"The error is : {e}\")\n",
    "\n",
    "l = [4, 8, 2, 10, 15, 18]\n",
    "lst2 = Cloning(l)\n",
    "print(\"Original List:\", l)\n",
    "print(\"After Cloning:\", lst2)\n"
   ]
  },
  {
   "cell_type": "code",
   "execution_count": 26,
   "id": "9f21e854",
   "metadata": {},
   "outputs": [],
   "source": [
    "# 11. Write a Python program to Count occurrences of an element in a list?\n",
    "\n",
    "# Sol : \n",
    "\n",
    "def count(l, e):\n",
    "    \"It counts the elemnt occurence in the list\"\n",
    "    try : \n",
    "        print(f\"The count occurences of an element {e} in the list is :  {l.count(e)}\")\n",
    "    except Exception as e:\n",
    "        print(\"The Error has occured\")\n",
    "        print(f\"The error is : {e}\")"
   ]
  },
  {
   "cell_type": "code",
   "execution_count": 27,
   "id": "cf1e2dc9",
   "metadata": {},
   "outputs": [
    {
     "name": "stdout",
     "output_type": "stream",
     "text": [
      "The count occurences of an element sudh in the list is :  2\n"
     ]
    }
   ],
   "source": [
    "count([90, \"sai\", \"sudh\", \"sai\", 78, 67, 90, \"sudh\", \"krish\"], \"sudh\")"
   ]
  },
  {
   "cell_type": "code",
   "execution_count": null,
   "id": "a219377f",
   "metadata": {},
   "outputs": [],
   "source": []
  },
  {
   "cell_type": "code",
   "execution_count": null,
   "id": "a01365a4",
   "metadata": {},
   "outputs": [],
   "source": []
  },
  {
   "cell_type": "code",
   "execution_count": null,
   "id": "0f5aa0e6",
   "metadata": {},
   "outputs": [],
   "source": []
  },
  {
   "cell_type": "code",
   "execution_count": null,
   "id": "95f7c4ed",
   "metadata": {},
   "outputs": [],
   "source": []
  }
 ],
 "metadata": {
  "kernelspec": {
   "display_name": "Python 3 (ipykernel)",
   "language": "python",
   "name": "python3"
  },
  "language_info": {
   "codemirror_mode": {
    "name": "ipython",
    "version": 3
   },
   "file_extension": ".py",
   "mimetype": "text/x-python",
   "name": "python",
   "nbconvert_exporter": "python",
   "pygments_lexer": "ipython3",
   "version": "3.9.7"
  }
 },
 "nbformat": 4,
 "nbformat_minor": 5
}
