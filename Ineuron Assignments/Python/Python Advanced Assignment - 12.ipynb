{
 "cells": [
  {
   "cell_type": "markdown",
   "id": "1ab1b94b",
   "metadata": {},
   "source": [
    "###### Q1. Does assigning a value to a string's indexed character violate Python's string immutability ?\n",
    "Ans: String’s indexed character cannot to be assigned a New value , as Strings are immutable."
   ]
  },
  {
   "cell_type": "code",
   "execution_count": 1,
   "id": "791a2926",
   "metadata": {},
   "outputs": [
    {
     "name": "stdout",
     "output_type": "stream",
     "text": [
      "1868895588848\n"
     ]
    },
    {
     "ename": "TypeError",
     "evalue": "'str' object does not support item assignment",
     "output_type": "error",
     "traceback": [
      "\u001b[1;31m---------------------------------------------------------------------------\u001b[0m",
      "\u001b[1;31mTypeError\u001b[0m                                 Traceback (most recent call last)",
      "Cell \u001b[1;32mIn [1], line 3\u001b[0m\n\u001b[0;32m      1\u001b[0m name \u001b[38;5;241m=\u001b[39m \u001b[38;5;124m\"\u001b[39m\u001b[38;5;124mReinforcement\u001b[39m\u001b[38;5;124m\"\u001b[39m\n\u001b[0;32m      2\u001b[0m \u001b[38;5;28mprint\u001b[39m(\u001b[38;5;28mid\u001b[39m(name)) \u001b[38;5;66;03m#73472\u001b[39;00m\n\u001b[1;32m----> 3\u001b[0m name[\u001b[38;5;241m0\u001b[39m] \u001b[38;5;241m=\u001b[39m \u001b[38;5;124m\"\u001b[39m\u001b[38;5;124mV\u001b[39m\u001b[38;5;124m\"\u001b[39m\n",
      "\u001b[1;31mTypeError\u001b[0m: 'str' object does not support item assignment"
     ]
    }
   ],
   "source": [
    "name = \"Reinforcement\"\n",
    "print(id(name)) #73472\n",
    "name[0] = \"V\" # Raises TypeError"
   ]
  },
  {
   "cell_type": "markdown",
   "id": "72703740",
   "metadata": {},
   "source": [
    "###### Q2. Does using the += operator to concatenate strings violate Python's string immutability? Why or why not ?\n",
    "Sol : += operator is used to concatenate strings, it does not violate Python’s string immutability Property. Because doing so new creates a new association with data and variable. E.g. str_1=\"a\" and str_1+=\"b. effect of this statements to create string ab and reassign it to variable str_1, any string data is not actually modified."
   ]
  },
  {
   "cell_type": "code",
   "execution_count": 2,
   "id": "b3a7781c",
   "metadata": {},
   "outputs": [
    {
     "name": "stdout",
     "output_type": "stream",
     "text": [
      "1868813026736\n",
      "1868895693040\n"
     ]
    },
    {
     "data": {
      "text/plain": [
       "2664345250032"
      ]
     },
     "execution_count": 2,
     "metadata": {},
     "output_type": "execute_result"
    }
   ],
   "source": [
    "str_1 = 'a'\n",
    "print(id(str_1))\n",
    "str_1 += 'b'\n",
    "print(id(str_1)) # Does not Modify existing string, Creates a New String Object\n",
    "2664305477256\n",
    "2664345250032"
   ]
  },
  {
   "cell_type": "markdown",
   "id": "dc59776a",
   "metadata": {},
   "source": [
    "###### Q3. In Python, how many different ways are there to index a character?\n",
    "Sol : A Character in string can be indexed using string name followed by index number of character in square bracket. Positive Indexing i.e. first index is 0 an so on, or Negative Indexing i.e. last letter is -1 and so on can be used to index a character"
   ]
  },
  {
   "cell_type": "code",
   "execution_count": 3,
   "id": "49d7b8d3",
   "metadata": {},
   "outputs": [
    {
     "name": "stdout",
     "output_type": "stream",
     "text": [
      "r n o\n",
      "m i a\n"
     ]
    }
   ],
   "source": [
    "in_string = \"Thota Poorna Hema Sri Sai Ram\"\n",
    "print(in_string[9],in_string[10],in_string[2]) # Positive Indexing\n",
    "print(in_string[-1],in_string[-5],in_string[-2]) # Negative Indexing"
   ]
  },
  {
   "cell_type": "markdown",
   "id": "0d897686",
   "metadata": {},
   "source": [
    "###### Q4. What is the relationship between indexing and slicing?\n",
    "Sol : We can access elements of sequence datatypes by using slicing and indexing. Indexing is used to obtaining individual element while slicing for sequence of elements."
   ]
  },
  {
   "cell_type": "code",
   "execution_count": 4,
   "id": "262684e0",
   "metadata": {},
   "outputs": [
    {
     "name": "stdout",
     "output_type": "stream",
     "text": [
      "N u o\n",
      "Neuron Full St\n"
     ]
    }
   ],
   "source": [
    "in_string = \"iNeuron Full Stack Data Science\"\n",
    "print(in_string[1],in_string[3],in_string[5]) # Indexing\n",
    "print(in_string[1:15]) # Slicing"
   ]
  },
  {
   "cell_type": "markdown",
   "id": "35d76016",
   "metadata": {},
   "source": [
    "###### Q5. What is an indexed character's exact data type? What is the data form of a slicing-generated substring?\n",
    "Sol : Indexed characters and sliced substrings have datatype String."
   ]
  },
  {
   "cell_type": "code",
   "execution_count": 5,
   "id": "5d5cd086",
   "metadata": {},
   "outputs": [
    {
     "name": "stdout",
     "output_type": "stream",
     "text": [
      "<class 'str'>\n",
      "<class 'str'>\n"
     ]
    }
   ],
   "source": [
    "in_string = \"Adul kalam\"\n",
    "print(type(in_string[3])) # Indexing -> str\n",
    "print(type(in_string[1:10])) # Indexing -> str"
   ]
  },
  {
   "cell_type": "markdown",
   "id": "4a998414",
   "metadata": {},
   "source": [
    "###### Q6. What is the relationship between string and character \"types\" in Python?\n",
    "Sol : Object that contains sequence of character datatypes are called String."
   ]
  },
  {
   "cell_type": "markdown",
   "id": "399b76ed",
   "metadata": {},
   "source": [
    "###### Q7. Identify at least two operators & one method that allow you to combine one or more smaller strings to create a larger string ?\n",
    "Sol : +, += and * allow to combine one or more smaller strings to create a larger string. <string>.join(<sep>) method joins element of iterable type like list and tuple to get a combined string."
   ]
  },
  {
   "cell_type": "code",
   "execution_count": 6,
   "id": "12f31bbf",
   "metadata": {},
   "outputs": [
    {
     "name": "stdout",
     "output_type": "stream",
     "text": [
      "iNeuron Full Stack Data Science FSDS\n",
      "FSDS FSDS FSDS \n",
      "I N E U R O N\n",
      "i n e u r o n\n"
     ]
    }
   ],
   "source": [
    "in_string = 'iNeuron '\n",
    "in_string += 'Full Stack Data Science'\n",
    "print(in_string + ' FSDS')\n",
    "print('FSDS '*3)\n",
    "print(\" \".join(['I','N','E','U','R','O','N'])) # List Iterable\n",
    "print(\" \".join(('I','N','E','U','R','O','N')).lower()) # Tuple Iterable"
   ]
  },
  {
   "cell_type": "markdown",
   "id": "5304dc98",
   "metadata": {},
   "source": [
    "###### Q8. What is the benefit of first checking the target string with in or not in before using the index method to find a substring ?\n",
    "Sol : Checking the target string with in or not Operators before using the index method to find a substring just helps confirming availability of substring and thus avoid raising of ValueError."
   ]
  },
  {
   "cell_type": "code",
   "execution_count": 7,
   "id": "c28dea36",
   "metadata": {},
   "outputs": [
    {
     "ename": "ValueError",
     "evalue": "substring not found",
     "output_type": "error",
     "traceback": [
      "\u001b[1;31m---------------------------------------------------------------------------\u001b[0m",
      "\u001b[1;31mValueError\u001b[0m                                Traceback (most recent call last)",
      "Cell \u001b[1;32mIn [7], line 2\u001b[0m\n\u001b[0;32m      1\u001b[0m in_string \u001b[38;5;241m=\u001b[39m \u001b[38;5;124m\"\u001b[39m\u001b[38;5;124mineuron\u001b[39m\u001b[38;5;124m\"\u001b[39m\n\u001b[1;32m----> 2\u001b[0m \u001b[43min_string\u001b[49m\u001b[38;5;241;43m.\u001b[39;49m\u001b[43mindex\u001b[49m\u001b[43m(\u001b[49m\u001b[38;5;124;43m'\u001b[39;49m\u001b[38;5;124;43mx\u001b[39;49m\u001b[38;5;124;43m'\u001b[39;49m\u001b[43m)\u001b[49m \u001b[38;5;66;03m# Raises ValueError\u001b[39;00m\n\u001b[0;32m      3\u001b[0m in_string\u001b[38;5;241m.\u001b[39mindex(\u001b[38;5;124m'\u001b[39m\u001b[38;5;124mu\u001b[39m\u001b[38;5;124m'\u001b[39m)\n",
      "\u001b[1;31mValueError\u001b[0m: substring not found"
     ]
    }
   ],
   "source": [
    "in_string = \"ineuron\"\n",
    "in_string.index('x') # Raises ValueError\n",
    "in_string.index('u') # 3"
   ]
  },
  {
   "cell_type": "markdown",
   "id": "d6ba4d7c",
   "metadata": {},
   "source": [
    "###### Q9. Which operators and built-in string methods produce simple Boolean (true/false) results?\n",
    "Sol : The String Operators and built-in methods to Produce Simple Boolean (True/False) Results are:\n",
    "\n",
    "in\n",
    "not\n",
    "\n",
    "* <string>.isalpha()\n",
    "* <string>.isalnum()\n",
    "* <string>.isdecimal()\n",
    "* <string>.isdigit()\n",
    "* <string>.islower()\n",
    "* <string>.isnumeric()\n",
    "* <string>.isprintable()\n",
    "* <string>.isspace()\n",
    "* <string>.istitle()"
   ]
  },
  {
   "cell_type": "code",
   "execution_count": null,
   "id": "9764d178",
   "metadata": {},
   "outputs": [],
   "source": []
  }
 ],
 "metadata": {
  "kernelspec": {
   "display_name": "Python 3 (ipykernel)",
   "language": "python",
   "name": "python3"
  },
  "language_info": {
   "codemirror_mode": {
    "name": "ipython",
    "version": 3
   },
   "file_extension": ".py",
   "mimetype": "text/x-python",
   "name": "python",
   "nbconvert_exporter": "python",
   "pygments_lexer": "ipython3",
   "version": "3.9.12"
  }
 },
 "nbformat": 4,
 "nbformat_minor": 5
}
