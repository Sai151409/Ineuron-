{
 "cells": [
  {
   "cell_type": "code",
   "execution_count": 1,
   "id": "83f956bb",
   "metadata": {},
   "outputs": [],
   "source": [
    "# Q1. Create a function that takes three arguments a, b, c and returns the sum of the\n",
    "#     numbers that are evenly divided by c from the range a, b inclusive.\n",
    "#     Examples : \n",
    "#           evenly_divisible(1, 10, 20) ➞ 0\n",
    "#               No number between 1 and 10 can be evenly divided by 20.\n",
    "#           evenly_divisible(1, 10, 2) ➞ 30\n",
    "#               2 + 4 + 6 + 8 + 10 = 30\n",
    "#           evenly_divisible(1, 10, 3) ➞ 18\n",
    "#               3 + 6 + 9 = 18\n",
    "\n",
    "# Sol : \n",
    "\n",
    "def evenly_divisible(a, b, c):\n",
    "    try :\n",
    "        s = 0 \n",
    "        for i in range(a, b+1):\n",
    "            if i % c == 0 :\n",
    "                s += i\n",
    "        return s\n",
    "    except Exception as e:\n",
    "        print(\"The error has occured\")\n",
    "        print(\"The error is : \", e)"
   ]
  },
  {
   "cell_type": "code",
   "execution_count": 2,
   "id": "0b9f104d",
   "metadata": {},
   "outputs": [
    {
     "data": {
      "text/plain": [
       "0"
      ]
     },
     "execution_count": 2,
     "metadata": {},
     "output_type": "execute_result"
    }
   ],
   "source": [
    "evenly_divisible(1, 10, 20)"
   ]
  },
  {
   "cell_type": "code",
   "execution_count": 3,
   "id": "66f1e61f",
   "metadata": {},
   "outputs": [
    {
     "data": {
      "text/plain": [
       "30"
      ]
     },
     "execution_count": 3,
     "metadata": {},
     "output_type": "execute_result"
    }
   ],
   "source": [
    "evenly_divisible(1, 10, 2)"
   ]
  },
  {
   "cell_type": "code",
   "execution_count": 4,
   "id": "de0ec592",
   "metadata": {},
   "outputs": [
    {
     "data": {
      "text/plain": [
       "18"
      ]
     },
     "execution_count": 4,
     "metadata": {},
     "output_type": "execute_result"
    }
   ],
   "source": [
    "evenly_divisible(1, 10, 3)"
   ]
  },
  {
   "cell_type": "code",
   "execution_count": 5,
   "id": "d52cb5da",
   "metadata": {},
   "outputs": [],
   "source": [
    "# Q2. Create a function that returns True if a given inequality expression is correct and False otherwise.\n",
    "# Examples : \n",
    "#      correct_signs('3 < 7 < 11') ➞ True\n",
    "#      correct_signs('13 > 44 > 33 > 1') ➞ False\n",
    "#      correct_signs('1 < 2 < 6 < 9 < 3') ➞ True\n",
    "\n",
    "# Sol :\n",
    "\n",
    "def correct_signs(string) : \n",
    "    try : \n",
    "        k = eval(string)\n",
    "        return k\n",
    "    except Exception as e:\n",
    "        print(\"The error has occured\")\n",
    "        print('The error is : ', e)"
   ]
  },
  {
   "cell_type": "code",
   "execution_count": 6,
   "id": "0a04cb4a",
   "metadata": {},
   "outputs": [
    {
     "data": {
      "text/plain": [
       "True"
      ]
     },
     "execution_count": 6,
     "metadata": {},
     "output_type": "execute_result"
    }
   ],
   "source": [
    "correct_signs('3 < 7 < 11')"
   ]
  },
  {
   "cell_type": "code",
   "execution_count": 7,
   "id": "38e08e0b",
   "metadata": {},
   "outputs": [
    {
     "data": {
      "text/plain": [
       "False"
      ]
     },
     "execution_count": 7,
     "metadata": {},
     "output_type": "execute_result"
    }
   ],
   "source": [
    "correct_signs('13 > 44 > 33 > 1')"
   ]
  },
  {
   "cell_type": "code",
   "execution_count": 8,
   "id": "b80a20f5",
   "metadata": {},
   "outputs": [
    {
     "data": {
      "text/plain": [
       "False"
      ]
     },
     "execution_count": 8,
     "metadata": {},
     "output_type": "execute_result"
    }
   ],
   "source": [
    "correct_signs('1 < 2 < 6 < 9 < 3')"
   ]
  },
  {
   "cell_type": "code",
   "execution_count": 14,
   "id": "04a9d2d6",
   "metadata": {},
   "outputs": [],
   "source": [
    "# Question3. Create a function that replaces all the vowels in a string with a specified character.\n",
    "# Examples\n",
    "# replace_vowels(\"the aardvark\", \"#\") ➞ \"th# ##rdv#rk\"\n",
    "# replace_vowels(\"minnie mouse\", \"?\") ➞ \"m?nn?? m??s?\"\n",
    "# replace_vowels(\"shakespeare\", \"*\") ➞ \"sh*k*sp**r*\"\n",
    "\n",
    "# Sol :\n",
    "\n",
    "def replace_vowels(string, sign):\n",
    "    try :\n",
    "        k = ''\n",
    "        for i in string:\n",
    "            if i in [\"a\", \"e\", \"i\", \"o\", \"u\"]:\n",
    "                k += sign\n",
    "            else:\n",
    "                k += i\n",
    "        return k\n",
    "    except Exception as e:\n",
    "        print(\"The error has occured\")\n",
    "        print(\"The error is : \", e)"
   ]
  },
  {
   "cell_type": "code",
   "execution_count": 15,
   "id": "1fec2ae6",
   "metadata": {},
   "outputs": [
    {
     "data": {
      "text/plain": [
       "'th# ##rdv#rk'"
      ]
     },
     "execution_count": 15,
     "metadata": {},
     "output_type": "execute_result"
    }
   ],
   "source": [
    "replace_vowels(\"the aardvark\", \"#\")"
   ]
  },
  {
   "cell_type": "code",
   "execution_count": 16,
   "id": "358d4e35",
   "metadata": {},
   "outputs": [
    {
     "data": {
      "text/plain": [
       "'m?nn?? m??s?'"
      ]
     },
     "execution_count": 16,
     "metadata": {},
     "output_type": "execute_result"
    }
   ],
   "source": [
    "replace_vowels(\"minnie mouse\", \"?\")"
   ]
  },
  {
   "cell_type": "code",
   "execution_count": 17,
   "id": "6905defa",
   "metadata": {},
   "outputs": [
    {
     "data": {
      "text/plain": [
       "'sh*k*sp**r*'"
      ]
     },
     "execution_count": 17,
     "metadata": {},
     "output_type": "execute_result"
    }
   ],
   "source": [
    "replace_vowels(\"shakespeare\", \"*\")"
   ]
  },
  {
   "cell_type": "code",
   "execution_count": 18,
   "id": "989308a4",
   "metadata": {},
   "outputs": [],
   "source": [
    "# Q4. Write a function that calculates the factorial of a number recursively.\n",
    "# Examples : \n",
    "#        factorial(5) ➞ 120\n",
    "#        factorial(3) ➞ 6\n",
    "#        factorial(1) ➞ 1\n",
    "#        factorial(0) ➞ 1\n",
    "\n",
    "# Sol : \n",
    "\n",
    "def factorial(n):\n",
    "    try:\n",
    "        if n == 0:\n",
    "            return 1\n",
    "        else:\n",
    "            return n * factorial(n-1)\n",
    "    except Exception as e:\n",
    "        print(\"The error has occured\")\n",
    "        print(\"The error is : \", e)"
   ]
  },
  {
   "cell_type": "code",
   "execution_count": 19,
   "id": "2cf5f6d3",
   "metadata": {},
   "outputs": [
    {
     "data": {
      "text/plain": [
       "120"
      ]
     },
     "execution_count": 19,
     "metadata": {},
     "output_type": "execute_result"
    }
   ],
   "source": [
    "factorial(5)"
   ]
  },
  {
   "cell_type": "code",
   "execution_count": 20,
   "id": "7a6ae566",
   "metadata": {},
   "outputs": [
    {
     "data": {
      "text/plain": [
       "6"
      ]
     },
     "execution_count": 20,
     "metadata": {},
     "output_type": "execute_result"
    }
   ],
   "source": [
    "factorial(3)"
   ]
  },
  {
   "cell_type": "code",
   "execution_count": 21,
   "id": "53fe5066",
   "metadata": {},
   "outputs": [
    {
     "data": {
      "text/plain": [
       "1"
      ]
     },
     "execution_count": 21,
     "metadata": {},
     "output_type": "execute_result"
    }
   ],
   "source": [
    "factorial(1)"
   ]
  },
  {
   "cell_type": "code",
   "execution_count": 22,
   "id": "fae68479",
   "metadata": {},
   "outputs": [
    {
     "data": {
      "text/plain": [
       "1"
      ]
     },
     "execution_count": 22,
     "metadata": {},
     "output_type": "execute_result"
    }
   ],
   "source": [
    "factorial(0)"
   ]
  },
  {
   "cell_type": "code",
   "execution_count": 25,
   "id": "d87fcf81",
   "metadata": {},
   "outputs": [],
   "source": [
    "# Q5. Hamming distance is the number of characters that differ between two strings.\n",
    "#     To illustrate:\n",
    "#     String1: &quot;abcbba&quot;\n",
    "#     String2: &quot;abcbda&quot;\n",
    "#     Hamming Distance: 1 - 'b' vs. 'd' is the only difference.\n",
    "#     Create a function that computes the hamming distance between two strings.\n",
    "#     Examples : \n",
    "#           hamming_distance('abcde', 'bcdef') ➞ 5\n",
    "#           hamming_distance('abcde', 'abcde') ➞ 0\n",
    "#           hamming_distance('strong', 'strung') ➞ 1\n",
    "\n",
    "# Sol :\n",
    "\n",
    "def hamming_distance(s1, s2):\n",
    "    try:\n",
    "        k = 0\n",
    "        for i in range(len(s1)):\n",
    "            if s1[i] != s2[i]:\n",
    "                k += 1\n",
    "        return k\n",
    "    except Exception as e:\n",
    "        print(\"The error has occured\")\n",
    "        print(\"The error is  : \", e)"
   ]
  },
  {
   "cell_type": "code",
   "execution_count": 26,
   "id": "92e9fe5a",
   "metadata": {},
   "outputs": [
    {
     "data": {
      "text/plain": [
       "5"
      ]
     },
     "execution_count": 26,
     "metadata": {},
     "output_type": "execute_result"
    }
   ],
   "source": [
    "hamming_distance('abcde', 'bcdef')"
   ]
  },
  {
   "cell_type": "code",
   "execution_count": 27,
   "id": "fc461a96",
   "metadata": {},
   "outputs": [
    {
     "data": {
      "text/plain": [
       "0"
      ]
     },
     "execution_count": 27,
     "metadata": {},
     "output_type": "execute_result"
    }
   ],
   "source": [
    "hamming_distance('abcde', 'abcde')"
   ]
  },
  {
   "cell_type": "code",
   "execution_count": 28,
   "id": "b750229a",
   "metadata": {},
   "outputs": [
    {
     "data": {
      "text/plain": [
       "1"
      ]
     },
     "execution_count": 28,
     "metadata": {},
     "output_type": "execute_result"
    }
   ],
   "source": [
    "hamming_distance('strong', 'strung')"
   ]
  },
  {
   "cell_type": "code",
   "execution_count": null,
   "id": "29746a8d",
   "metadata": {},
   "outputs": [],
   "source": []
  },
  {
   "cell_type": "code",
   "execution_count": null,
   "id": "7d811484",
   "metadata": {},
   "outputs": [],
   "source": []
  },
  {
   "cell_type": "code",
   "execution_count": null,
   "id": "24783acb",
   "metadata": {},
   "outputs": [],
   "source": []
  },
  {
   "cell_type": "code",
   "execution_count": null,
   "id": "a78c37e4",
   "metadata": {},
   "outputs": [],
   "source": []
  }
 ],
 "metadata": {
  "kernelspec": {
   "display_name": "Python 3 (ipykernel)",
   "language": "python",
   "name": "python3"
  },
  "language_info": {
   "codemirror_mode": {
    "name": "ipython",
    "version": 3
   },
   "file_extension": ".py",
   "mimetype": "text/x-python",
   "name": "python",
   "nbconvert_exporter": "python",
   "pygments_lexer": "ipython3",
   "version": "3.9.7"
  }
 },
 "nbformat": 4,
 "nbformat_minor": 5
}
