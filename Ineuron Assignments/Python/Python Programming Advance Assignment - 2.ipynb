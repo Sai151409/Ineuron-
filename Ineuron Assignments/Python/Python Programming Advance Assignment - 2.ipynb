{
 "cells": [
  {
   "cell_type": "code",
   "execution_count": 1,
   "id": "5dd5e72d",
   "metadata": {},
   "outputs": [],
   "source": [
    "# 1.Write a function that takes a positive integer num and calculates how many dots exist in a pentagonal shape around the \n",
    "#   center dot on the Nth iteration. In the image below you can see the first iteration is only a single dot. On the second, \n",
    "#   there are 6 dots. On the third, there are 16 dots, and on the fourth there are 31 dots.\n",
    "#   Examples:\n",
    "#   pentagonal(1) ➞ 1\n",
    "#   pentagonal(2) ➞ 6\n",
    "#   pentagonal(3) ➞ 16\n",
    "#   pentagonal(8) ➞ 141\n",
    "\n",
    "# Sol:\n",
    "\n",
    "def pentagonal(num):\n",
    "    try:\n",
    "        if num == 1:\n",
    "            return 1\n",
    "        elif num > 1:\n",
    "            return pentagonal(num - 1) + 5 * (num-1)\n",
    "    except Exception as e:\n",
    "        return e"
   ]
  },
  {
   "cell_type": "code",
   "execution_count": 2,
   "id": "d84f1972",
   "metadata": {},
   "outputs": [
    {
     "data": {
      "text/plain": [
       "1"
      ]
     },
     "execution_count": 2,
     "metadata": {},
     "output_type": "execute_result"
    }
   ],
   "source": [
    "pentagonal(1)"
   ]
  },
  {
   "cell_type": "code",
   "execution_count": 3,
   "id": "1a2a8134",
   "metadata": {},
   "outputs": [
    {
     "data": {
      "text/plain": [
       "6"
      ]
     },
     "execution_count": 3,
     "metadata": {},
     "output_type": "execute_result"
    }
   ],
   "source": [
    "pentagonal(2)"
   ]
  },
  {
   "cell_type": "code",
   "execution_count": 4,
   "id": "e65ce89c",
   "metadata": {},
   "outputs": [
    {
     "data": {
      "text/plain": [
       "16"
      ]
     },
     "execution_count": 4,
     "metadata": {},
     "output_type": "execute_result"
    }
   ],
   "source": [
    "pentagonal(3)"
   ]
  },
  {
   "cell_type": "code",
   "execution_count": 5,
   "id": "cf2cd653",
   "metadata": {},
   "outputs": [
    {
     "data": {
      "text/plain": [
       "141"
      ]
     },
     "execution_count": 5,
     "metadata": {},
     "output_type": "execute_result"
    }
   ],
   "source": [
    "pentagonal(8)"
   ]
  },
  {
   "cell_type": "code",
   "execution_count": 6,
   "id": "ce417404",
   "metadata": {},
   "outputs": [],
   "source": [
    "# 2. Make a function that encrypts a given input with these steps:\n",
    "#    Input: \"apple\"\n",
    "#    Step 1: Reverse the input: \"elppa\"\n",
    "#    Step 2: Replace all vowels using the following chart:\n",
    "#    a => 0\n",
    "#    e => 1\n",
    "#    i => 2\n",
    "#    o => 2\n",
    "#    u => 3\n",
    "#    # \"1lpp0\"\n",
    "#    Step 3: Add \"aca\" to the end of the word: \"1lpp0aca\"\n",
    "#    Output: \"1lpp0aca\"\n",
    "#    Examples:\n",
    "#    encrypt(\"banana\") ➞ \"0n0n0baca\"\n",
    "#    encrypt(\"karaca\") ➞ \"0c0r0kaca\"\n",
    "#    encrypt(\"burak\") ➞ \"k0r3baca\"\n",
    "#    encrypt(\"alpaca\") ➞ \"0c0pl0aca\"\n",
    "\n",
    "# Sol :\n",
    "\n",
    "def encrypt(string):\n",
    "    try:\n",
    "        vowels = {'a' : '0', 'e' : '1', 'i' : '2', 'o' : '2', 'u' : '3'}\n",
    "        string = string[::-1]\n",
    "        result = ''\n",
    "        for i in string:\n",
    "            if i in vowels:\n",
    "                result += vowels[i]\n",
    "            else:\n",
    "                result += i\n",
    "        result += 'aca'\n",
    "        return result\n",
    "    except Exception as e:\n",
    "        return e"
   ]
  },
  {
   "cell_type": "code",
   "execution_count": 7,
   "id": "ce53439e",
   "metadata": {},
   "outputs": [
    {
     "data": {
      "text/plain": [
       "'0n0n0baca'"
      ]
     },
     "execution_count": 7,
     "metadata": {},
     "output_type": "execute_result"
    }
   ],
   "source": [
    "encrypt(\"banana\")"
   ]
  },
  {
   "cell_type": "code",
   "execution_count": 8,
   "id": "56ba13ea",
   "metadata": {},
   "outputs": [
    {
     "data": {
      "text/plain": [
       "'0c0r0kaca'"
      ]
     },
     "execution_count": 8,
     "metadata": {},
     "output_type": "execute_result"
    }
   ],
   "source": [
    "encrypt(\"karaca\")"
   ]
  },
  {
   "cell_type": "code",
   "execution_count": 9,
   "id": "9f59545e",
   "metadata": {},
   "outputs": [
    {
     "data": {
      "text/plain": [
       "'k0r3baca'"
      ]
     },
     "execution_count": 9,
     "metadata": {},
     "output_type": "execute_result"
    }
   ],
   "source": [
    "encrypt(\"burak\")"
   ]
  },
  {
   "cell_type": "code",
   "execution_count": 10,
   "id": "99f82bea",
   "metadata": {},
   "outputs": [
    {
     "data": {
      "text/plain": [
       "'0c0pl0aca'"
      ]
     },
     "execution_count": 10,
     "metadata": {},
     "output_type": "execute_result"
    }
   ],
   "source": [
    "encrypt(\"alpaca\")"
   ]
  },
  {
   "cell_type": "code",
   "execution_count": 11,
   "id": "aaa57733",
   "metadata": {},
   "outputs": [],
   "source": [
    "# 3.Given the month and year as numbers, return whether that month contains a Friday 13th.(i.e You can check Python's datetime \n",
    "#   module)\n",
    "#   Examples:\n",
    "#   has_friday_13(3, 2020) ➞ True\n",
    "#   has_friday_13(10, 2017) ➞ True\n",
    "#   has_friday_13(1, 1985) ➞ False\n",
    "\n",
    "# Sol :\n",
    "\n",
    "import datetime\n",
    "def has_friday_13(month, year):\n",
    "    try:\n",
    "        result = datetime.date(year, month, 13).strftime('%A')\n",
    "        if result == 'Friday':\n",
    "            return True\n",
    "        else:\n",
    "            return False\n",
    "    except Exception as e:\n",
    "        return e"
   ]
  },
  {
   "cell_type": "code",
   "execution_count": 12,
   "id": "2137297b",
   "metadata": {},
   "outputs": [
    {
     "data": {
      "text/plain": [
       "True"
      ]
     },
     "execution_count": 12,
     "metadata": {},
     "output_type": "execute_result"
    }
   ],
   "source": [
    "has_friday_13(3, 2020)"
   ]
  },
  {
   "cell_type": "code",
   "execution_count": 13,
   "id": "7ea2fc8b",
   "metadata": {},
   "outputs": [
    {
     "data": {
      "text/plain": [
       "True"
      ]
     },
     "execution_count": 13,
     "metadata": {},
     "output_type": "execute_result"
    }
   ],
   "source": [
    "has_friday_13(10, 2017)"
   ]
  },
  {
   "cell_type": "code",
   "execution_count": 14,
   "id": "de492a12",
   "metadata": {},
   "outputs": [
    {
     "data": {
      "text/plain": [
       "False"
      ]
     },
     "execution_count": 14,
     "metadata": {},
     "output_type": "execute_result"
    }
   ],
   "source": [
    "has_friday_13(1, 1985)"
   ]
  },
  {
   "cell_type": "code",
   "execution_count": 15,
   "id": "0ab16772",
   "metadata": {},
   "outputs": [
    {
     "data": {
      "text/plain": [
       "2"
      ]
     },
     "execution_count": 15,
     "metadata": {},
     "output_type": "execute_result"
    }
   ],
   "source": [
    "# 4.Write a regular expression that will help us count how many bad cookies are produced every day. \n",
    "#   You must use RegEx negative lookbehind.\n",
    "#   Examples:\n",
    "#      lst = [\"bad cookie\", \"good cookie\", \"bad cookie\", \"good cookie\", \"good cookie\"]\n",
    "#      pattern = \"yourregularexpressionhere\"\n",
    "#      len(re.findall(pattern, \", \".join(lst))) ➞ 2\n",
    "\n",
    "# Sol :\n",
    "\n",
    "import re\n",
    "\n",
    "lst = [\"bad cookie\", \"good cookie\", \"bad cookie\", \"good cookie\", \"good cookie\"]\n",
    "\n",
    "pattern = r'(?<!good)\\scookie'\n",
    "\n",
    "len(re.findall(pattern,' '.join(lst)))"
   ]
  },
  {
   "cell_type": "code",
   "execution_count": 16,
   "id": "ca56f2b4",
   "metadata": {},
   "outputs": [],
   "source": [
    "# 5. Given a list of words in the singular form, return a set of those words in the plural form if they appear more than once \n",
    "#    in the list.\n",
    "#    Examples:\n",
    "#    pluralize([\"cow\", \"pig\", \"cow\", \"cow\"]) ➞ { \"cows\", \"pig\" }\n",
    "#    pluralize([\"table\", \"table\", \"table\"]) ➞ { \"tables\" }\n",
    "#    pluralize([\"chair\", \"pencil\", \"arm\"]) ➞ { \"chair\", \"pencil\", \"arm\" }\n",
    "\n",
    "# Sol :\n",
    "\n",
    "def pluralize(lst : list):\n",
    "    try:\n",
    "        result = set()\n",
    "        if type(lst) == list:\n",
    "            k = set(lst)\n",
    "            for i in k:\n",
    "                if lst.count(i) > 1 :\n",
    "                    i += 's'\n",
    "                    result.add(i)\n",
    "                else :\n",
    "                    result.add(i)\n",
    "        return result\n",
    "    except Exception as e:\n",
    "        return e"
   ]
  },
  {
   "cell_type": "code",
   "execution_count": 17,
   "id": "bb0fb17c",
   "metadata": {},
   "outputs": [
    {
     "data": {
      "text/plain": [
       "{'cows', 'pig'}"
      ]
     },
     "execution_count": 17,
     "metadata": {},
     "output_type": "execute_result"
    }
   ],
   "source": [
    "pluralize([\"cow\", \"pig\", \"cow\", \"cow\"])"
   ]
  },
  {
   "cell_type": "code",
   "execution_count": 18,
   "id": "b0e50aba",
   "metadata": {},
   "outputs": [
    {
     "data": {
      "text/plain": [
       "{'tables'}"
      ]
     },
     "execution_count": 18,
     "metadata": {},
     "output_type": "execute_result"
    }
   ],
   "source": [
    "pluralize([\"table\", \"table\", \"table\"])"
   ]
  },
  {
   "cell_type": "code",
   "execution_count": 19,
   "id": "3c22d945",
   "metadata": {},
   "outputs": [
    {
     "data": {
      "text/plain": [
       "{'arm', 'chair', 'pencil'}"
      ]
     },
     "execution_count": 19,
     "metadata": {},
     "output_type": "execute_result"
    }
   ],
   "source": [
    "pluralize([\"chair\", \"pencil\", \"arm\"])"
   ]
  },
  {
   "cell_type": "code",
   "execution_count": null,
   "id": "9291c10e",
   "metadata": {},
   "outputs": [],
   "source": []
  },
  {
   "cell_type": "code",
   "execution_count": null,
   "id": "7e9cfd19",
   "metadata": {},
   "outputs": [],
   "source": []
  }
 ],
 "metadata": {
  "kernelspec": {
   "display_name": "Python 3 (ipykernel)",
   "language": "python",
   "name": "python3"
  },
  "language_info": {
   "codemirror_mode": {
    "name": "ipython",
    "version": 3
   },
   "file_extension": ".py",
   "mimetype": "text/x-python",
   "name": "python",
   "nbconvert_exporter": "python",
   "pygments_lexer": "ipython3",
   "version": "3.9.12"
  }
 },
 "nbformat": 4,
 "nbformat_minor": 5
}
