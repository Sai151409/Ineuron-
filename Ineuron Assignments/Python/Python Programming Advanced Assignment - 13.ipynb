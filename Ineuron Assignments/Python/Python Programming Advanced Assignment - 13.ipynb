{
 "cells": [
  {
   "cell_type": "code",
   "execution_count": 1,
   "id": "29daac38",
   "metadata": {},
   "outputs": [],
   "source": [
    "# 1. Create a function that takes a list and string. The function should remove the letters in the string from the list, \n",
    "#    and return the list.\n",
    "#     Examples:\n",
    "#       remove_letters([\"s\", \"t\", \"r\", \"i\", \"n\", \"g\", \"w\"], \"string\") ➞ [\"w\"]\n",
    "#       remove_letters([\"b\", \"b\", \"l\", \"l\", \"g\", \"n\", \"o\", \"a\", \"w\"], \"balloon\") ➞ [\"b\", \"g\", \"w\"]\n",
    "#       remove_letters([\"d\", \"b\", \"t\", \"e\", \"a\", \"i\"], \"edabit\") ➞ []\n",
    "\n",
    "# Sol :\n",
    "\n",
    "def remove_letters(lst, string):\n",
    "    try:\n",
    "        for i in string:\n",
    "            if i in lst:\n",
    "                lst.pop(lst.index(i))\n",
    "        return lst\n",
    "    except Exception as e:\n",
    "        return e"
   ]
  },
  {
   "cell_type": "code",
   "execution_count": 2,
   "id": "0aa0a1ec",
   "metadata": {},
   "outputs": [
    {
     "data": {
      "text/plain": [
       "['w']"
      ]
     },
     "execution_count": 2,
     "metadata": {},
     "output_type": "execute_result"
    }
   ],
   "source": [
    "remove_letters([\"s\", \"t\", \"r\", \"i\", \"n\", \"g\", \"w\"], \"string\")"
   ]
  },
  {
   "cell_type": "code",
   "execution_count": 3,
   "id": "32755aad",
   "metadata": {},
   "outputs": [
    {
     "data": {
      "text/plain": [
       "['b', 'g', 'w']"
      ]
     },
     "execution_count": 3,
     "metadata": {},
     "output_type": "execute_result"
    }
   ],
   "source": [
    "remove_letters([\"b\", \"b\", \"l\", \"l\", \"g\", \"n\", \"o\", \"a\", \"w\"], \"balloon\")"
   ]
  },
  {
   "cell_type": "code",
   "execution_count": 4,
   "id": "10e2ef2c",
   "metadata": {},
   "outputs": [
    {
     "data": {
      "text/plain": [
       "[]"
      ]
     },
     "execution_count": 4,
     "metadata": {},
     "output_type": "execute_result"
    }
   ],
   "source": [
    "remove_letters([\"d\", \"b\", \"t\", \"e\", \"a\", \"i\"], \"edabit\")"
   ]
  },
  {
   "cell_type": "code",
   "execution_count": 5,
   "id": "3c47179a",
   "metadata": {},
   "outputs": [],
   "source": [
    "# 2. A block sequence in three dimensions. We can write a formula for this one:\n",
    "#    Create a function that takes a number (step) as an argument and returns the amount of blocks in that step.\n",
    "#    Examples:\n",
    "#       blocks(1) ➞ 5\n",
    "#       blocks(5) ➞ 39\n",
    "#       blocks(2) ➞ 12\n",
    "\n",
    "# Sol :\n",
    "\n",
    "def blocks(num):\n",
    "    try:\n",
    "        depth = num * 3 + (num-1)\n",
    "        height = [i for i in range(2, num+2)]\n",
    "        return depth+sum(height)\n",
    "    except Exception as e:\n",
    "        return e"
   ]
  },
  {
   "cell_type": "code",
   "execution_count": 6,
   "id": "63c7bcff",
   "metadata": {},
   "outputs": [
    {
     "data": {
      "text/plain": [
       "5"
      ]
     },
     "execution_count": 6,
     "metadata": {},
     "output_type": "execute_result"
    }
   ],
   "source": [
    "blocks(1)"
   ]
  },
  {
   "cell_type": "code",
   "execution_count": 7,
   "id": "9a65b801",
   "metadata": {},
   "outputs": [
    {
     "data": {
      "text/plain": [
       "39"
      ]
     },
     "execution_count": 7,
     "metadata": {},
     "output_type": "execute_result"
    }
   ],
   "source": [
    "blocks(5)"
   ]
  },
  {
   "cell_type": "code",
   "execution_count": 8,
   "id": "eb0cc85a",
   "metadata": {},
   "outputs": [
    {
     "data": {
      "text/plain": [
       "12"
      ]
     },
     "execution_count": 8,
     "metadata": {},
     "output_type": "execute_result"
    }
   ],
   "source": [
    "blocks(2)"
   ]
  },
  {
   "cell_type": "code",
   "execution_count": 9,
   "id": "9cdb172b",
   "metadata": {},
   "outputs": [],
   "source": [
    "# 3. Create a function that subtracts one positive integer from another, without using any arithmetic operators such as \n",
    "#    -, %, /, +, etc.\n",
    "#    Examples:\n",
    "#       my_sub(5, 9) ➞ 4\n",
    "#       my_sub(10, 30) ➞ 20\n",
    "#       my_sub(0, 0) ➞ 0\n",
    "\n",
    "# Sol :\n",
    "\n",
    "import numpy as np\n",
    "def my_sub(n1, n2):\n",
    "    try:\n",
    "        output = np.subtract(n1, n2) if n1 >= n2 else np.subtract(n2, n1)\n",
    "        return output\n",
    "    except Exception as e:\n",
    "        return e"
   ]
  },
  {
   "cell_type": "code",
   "execution_count": 10,
   "id": "d0a641fc",
   "metadata": {},
   "outputs": [
    {
     "data": {
      "text/plain": [
       "4"
      ]
     },
     "execution_count": 10,
     "metadata": {},
     "output_type": "execute_result"
    }
   ],
   "source": [
    "my_sub(5, 9)"
   ]
  },
  {
   "cell_type": "code",
   "execution_count": 11,
   "id": "ea69afcc",
   "metadata": {},
   "outputs": [
    {
     "data": {
      "text/plain": [
       "20"
      ]
     },
     "execution_count": 11,
     "metadata": {},
     "output_type": "execute_result"
    }
   ],
   "source": [
    "my_sub(10, 30)"
   ]
  },
  {
   "cell_type": "code",
   "execution_count": 12,
   "id": "a9bf779b",
   "metadata": {},
   "outputs": [
    {
     "data": {
      "text/plain": [
       "0"
      ]
     },
     "execution_count": 12,
     "metadata": {},
     "output_type": "execute_result"
    }
   ],
   "source": [
    "my_sub(0, 0)"
   ]
  },
  {
   "cell_type": "code",
   "execution_count": 13,
   "id": "861f88c0",
   "metadata": {},
   "outputs": [],
   "source": [
    "#  4. Create a function that takes a string containing money in dollars and pounds sterling (seperated by comma) and returns the\n",
    "#  sum of dollar bills only, as an integer.\n",
    "#  For the input string:\n",
    "\n",
    "#  Each amount is prefixed by the currency symbol: $ for dollars and £ for pounds.\n",
    "#  Thousands are represented by the suffix k. i.e. $4k = $4,000 and £40k = £40,000\n",
    "#  Examples:\n",
    "#  add_bill(\"d20,p40,p60,d50\") ➞ 20 + 50 = 70\n",
    "#  add_bill(\"p30,d20,p60,d150,p360\") ➞ 20 + 150 = 170\n",
    "#  add_bill(\"p30,d2k,p60,d200,p360\") ➞ 2 * 1000 + 200 = 2200\n",
    "\n",
    "# Sol :\n",
    "\n",
    "def add_bill(string):\n",
    "    try:\n",
    "        output = 0\n",
    "        string = string.split(\",\")\n",
    "        for i in string:\n",
    "            if i[0]=='d':\n",
    "                money = i.split('d')[1]\n",
    "                if 'k' in money:\n",
    "                    output += int(money.split('k')[0])*1000\n",
    "                else:\n",
    "                    output += int(money)\n",
    "        return output\n",
    "    except Exception as e:\n",
    "        return e"
   ]
  },
  {
   "cell_type": "code",
   "execution_count": 14,
   "id": "0f353a61",
   "metadata": {},
   "outputs": [
    {
     "data": {
      "text/plain": [
       "70"
      ]
     },
     "execution_count": 14,
     "metadata": {},
     "output_type": "execute_result"
    }
   ],
   "source": [
    "add_bill(\"d20,p40,p60,d50\")"
   ]
  },
  {
   "cell_type": "code",
   "execution_count": 15,
   "id": "bed2e9a0",
   "metadata": {},
   "outputs": [
    {
     "data": {
      "text/plain": [
       "170"
      ]
     },
     "execution_count": 15,
     "metadata": {},
     "output_type": "execute_result"
    }
   ],
   "source": [
    "add_bill(\"p30,d20,p60,d150,p360\")"
   ]
  },
  {
   "cell_type": "code",
   "execution_count": 16,
   "id": "d373c9a0",
   "metadata": {},
   "outputs": [
    {
     "data": {
      "text/plain": [
       "2200"
      ]
     },
     "execution_count": 16,
     "metadata": {},
     "output_type": "execute_result"
    }
   ],
   "source": [
    "add_bill(\"p30,d2k,p60,d200,p360\")"
   ]
  },
  {
   "cell_type": "code",
   "execution_count": 17,
   "id": "721d9be2",
   "metadata": {},
   "outputs": [],
   "source": [
    "# 5. Create a function that flips a horizontal list into a vertical list, and a vertical list into a horizontal list.\n",
    "#    In other words, take an 1 x n list (1 row + n columns) and flip it into a n x 1 list (n rows and 1 column), and vice versa.\n",
    "\n",
    "#    Examples:\n",
    "#    flip_list([1, 2, 3, 4]) ➞ [[1], [2], [3], [4]] # Take a horizontal list and flip it vertical.\n",
    "#    flip_list([[5], [6], [9]]) ➞ [5, 6, 9] # Take a vertical list and flip it horizontal.\n",
    "#    flip_list([]) ➞ []\n",
    "\n",
    "# Sol :\n",
    "\n"
   ]
  },
  {
   "cell_type": "code",
   "execution_count": 18,
   "id": "cbd1cc74",
   "metadata": {},
   "outputs": [],
   "source": [
    "import numpy as np\n",
    "def flip_list(lst):\n",
    "    try:\n",
    "        if len(lst) > 0:\n",
    "            if len(np.shape(lst)) > 1:\n",
    "                return np.hstack(lst).tolist()\n",
    "            else:\n",
    "                return np.vstack(lst).tolist()\n",
    "        else:\n",
    "            return lst\n",
    "    except Exception as e:\n",
    "        return e"
   ]
  },
  {
   "cell_type": "code",
   "execution_count": 19,
   "id": "0cfdd5b9",
   "metadata": {},
   "outputs": [
    {
     "data": {
      "text/plain": [
       "[[1], [2], [3], [4]]"
      ]
     },
     "execution_count": 19,
     "metadata": {},
     "output_type": "execute_result"
    }
   ],
   "source": [
    "flip_list([1, 2, 3, 4])"
   ]
  },
  {
   "cell_type": "code",
   "execution_count": 20,
   "id": "ba7ebafc",
   "metadata": {},
   "outputs": [
    {
     "data": {
      "text/plain": [
       "[5, 6, 9]"
      ]
     },
     "execution_count": 20,
     "metadata": {},
     "output_type": "execute_result"
    }
   ],
   "source": [
    "flip_list([[5], [6], [9]])"
   ]
  },
  {
   "cell_type": "code",
   "execution_count": 21,
   "id": "cea3afd7",
   "metadata": {},
   "outputs": [
    {
     "data": {
      "text/plain": [
       "[]"
      ]
     },
     "execution_count": 21,
     "metadata": {},
     "output_type": "execute_result"
    }
   ],
   "source": [
    "flip_list([])"
   ]
  },
  {
   "cell_type": "code",
   "execution_count": null,
   "id": "b9cdda3b",
   "metadata": {},
   "outputs": [],
   "source": []
  },
  {
   "cell_type": "code",
   "execution_count": null,
   "id": "edee6611",
   "metadata": {},
   "outputs": [],
   "source": []
  }
 ],
 "metadata": {
  "kernelspec": {
   "display_name": "Python 3 (ipykernel)",
   "language": "python",
   "name": "python3"
  },
  "language_info": {
   "codemirror_mode": {
    "name": "ipython",
    "version": 3
   },
   "file_extension": ".py",
   "mimetype": "text/x-python",
   "name": "python",
   "nbconvert_exporter": "python",
   "pygments_lexer": "ipython3",
   "version": "3.9.12"
  }
 },
 "nbformat": 4,
 "nbformat_minor": 5
}
