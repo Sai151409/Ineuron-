{
 "cells": [
  {
   "cell_type": "code",
   "execution_count": 1,
   "id": "a513c507",
   "metadata": {},
   "outputs": [],
   "source": [
    "# 1. What is the name of the feature responsible for generating Regex objects?\n",
    "\n",
    "# Sol : \n",
    "\n",
    "#      The re.complie is the feature that responsible for generating Regex objects"
   ]
  },
  {
   "cell_type": "code",
   "execution_count": 2,
   "id": "0625b395",
   "metadata": {},
   "outputs": [],
   "source": [
    "# 2. Why do raw strings often appear in Regex objects?\n",
    "\n",
    "# Sol :\n",
    "\n",
    "#              In regular expresions backslash \\ and meta characters have special meaning so it's not possible to treat them as a \n",
    "#     normal characters in the pattern. If you are string has a metacharacters like +, *, and  / then pattern will not able to find it\n",
    "\n",
    "\n",
    "#   To overcome this problem we write raw string r as prefix to the patteren then it will treated them as normal charcaters"
   ]
  },
  {
   "cell_type": "code",
   "execution_count": 3,
   "id": "0ae07811",
   "metadata": {},
   "outputs": [
    {
     "name": "stdout",
     "output_type": "stream",
     "text": [
      "The error has occured\n",
      "The error is : incomplete escape \\U at position 2\n"
     ]
    }
   ],
   "source": [
    "# For Example\n",
    "\n",
    "import os\n",
    "import re\n",
    "a = os.getcwd()\n",
    "# Without raw string \n",
    "try:\n",
    "    print(re.search(\"C:\\\\Users\\\\sairamnaaidu\\\\Ineuron\\\\Python Assignments\", a))\n",
    "except Exception as e:\n",
    "    print(\"The error has occured\")\n",
    "    print(f\"The error is : {e}\")"
   ]
  },
  {
   "cell_type": "code",
   "execution_count": 4,
   "id": "d08eaf4f",
   "metadata": {},
   "outputs": [
    {
     "name": "stdout",
     "output_type": "stream",
     "text": [
      "<re.Match object; span=(0, 48), match='C:\\\\Users\\\\sairamnaaidu\\\\Ineuron\\\\Python Assignme>\n"
     ]
    }
   ],
   "source": [
    "# With raw string\n",
    "\n",
    "try:\n",
    "    print(re.search(r\"C:\\\\Users\\\\sairamnaaidu\\\\Ineuron\\\\Python Assignments\", a))\n",
    "except Exception as e:\n",
    "    print(\"The error has occured\")\n",
    "    print(f\"The error is : {e}\")"
   ]
  },
  {
   "cell_type": "code",
   "execution_count": 5,
   "id": "f7138929",
   "metadata": {},
   "outputs": [],
   "source": [
    "# 3. What is the return value of the search() method?\n",
    "\n",
    "# Sol :\n",
    "\n",
    "#      search() method returns the first match object of string or else it returns none"
   ]
  },
  {
   "cell_type": "code",
   "execution_count": 6,
   "id": "53720ed0",
   "metadata": {},
   "outputs": [
    {
     "name": "stdout",
     "output_type": "stream",
     "text": [
      "output for search method :  <re.Match object; span=(0, 2), match='45'>\n",
      "output for findall method :  ['45', '45']\n",
      "output for findall method :  None\n"
     ]
    }
   ],
   "source": [
    "# For Example\n",
    "\n",
    "# In search method returns the first matching object\n",
    "try:\n",
    "    print(\"output for search method : \", re.search(\"45\", \"456bchsdb456\"))\n",
    "except Exception as e:\n",
    "    print(\"The error has occured\")\n",
    "    print(f\"The error is : {e}\")  \n",
    "\n",
    "#  In findall method returns the all matching objects as list\n",
    "try:\n",
    "    print(\"output for findall method : \", re.findall(\"45\", \"456bchsdb456\"))\n",
    "except Exception as e:\n",
    "    print(\"The error has occured\")\n",
    "    print(f\"The error is : {e}\")\n",
    "    \n",
    "# If search method couldn't find any matching object it returns none\n",
    "\n",
    "try:\n",
    "    print(\"output for findall method : \", re.search(\"12\", \"456bchsdb456\"))\n",
    "except Exception as e:\n",
    "    print(\"The error has occured\")\n",
    "    print(f\"The error is : {e}\")"
   ]
  },
  {
   "cell_type": "code",
   "execution_count": 7,
   "id": "98f1d5ed",
   "metadata": {},
   "outputs": [
    {
     "name": "stdout",
     "output_type": "stream",
     "text": [
      "Actual String :  Potential\n"
     ]
    }
   ],
   "source": [
    "# 4. From a Match item, how do you get the actual strings that match the pattern?\n",
    "\n",
    "# Sol :\n",
    "\n",
    "#      To get the actual string from the match item we use match.string() method\n",
    "\n",
    "# For Example :\n",
    "\n",
    "match = re.search(\"ia\", \"Potential\")\n",
    "print(\"Actual String : \", match.string)"
   ]
  },
  {
   "cell_type": "code",
   "execution_count": 8,
   "id": "62c8b0c5",
   "metadata": {},
   "outputs": [],
   "source": [
    "# 5. In the regex which created from the r'(\\d\\d\\d)-(\\d\\d\\d-\\d\\d\\d\\d)' what does group zero cover? Group 2? Group 1?\n",
    "\n",
    "# Sol : Here group zero covers entire string, group1 covers first paranthesis - (\\d\\d\\d) and  group2 covers second paranthesis- (\\d\\d\\d-\\d\\d\\d\\d)\n",
    "\n",
    "match = re.search(r'(\\d\\d\\d)-(\\d\\d\\d-\\d\\d\\d\\d)', '456-456-8956')"
   ]
  },
  {
   "cell_type": "code",
   "execution_count": 9,
   "id": "f85fc95e",
   "metadata": {},
   "outputs": [
    {
     "data": {
      "text/plain": [
       "'456-456-8956'"
      ]
     },
     "execution_count": 9,
     "metadata": {},
     "output_type": "execute_result"
    }
   ],
   "source": [
    "match.group(0) # For Zero group entire match "
   ]
  },
  {
   "cell_type": "code",
   "execution_count": 10,
   "id": "8108b4aa",
   "metadata": {},
   "outputs": [
    {
     "data": {
      "text/plain": [
       "'456'"
      ]
     },
     "execution_count": 10,
     "metadata": {},
     "output_type": "execute_result"
    }
   ],
   "source": [
    "match.group(1) # For Group 1 First Paranthesis"
   ]
  },
  {
   "cell_type": "code",
   "execution_count": 11,
   "id": "f9a5e00c",
   "metadata": {},
   "outputs": [
    {
     "data": {
      "text/plain": [
       "'456-8956'"
      ]
     },
     "execution_count": 11,
     "metadata": {},
     "output_type": "execute_result"
    }
   ],
   "source": [
    "match.group(2) # For Group 2 Second Paranthesis"
   ]
  },
  {
   "cell_type": "code",
   "execution_count": 12,
   "id": "345bd841",
   "metadata": {},
   "outputs": [
    {
     "name": "stdout",
     "output_type": "stream",
     "text": [
      "re.compile('\\\\(\\\\d\\\\d\\\\d\\\\)')\n",
      "match object :  <re.Match object; span=(0, 5), match='(478)'>\n",
      "The span of match is :  (0, 5)\n",
      "\n",
      "\n",
      "\n",
      "re.compile('(\\\\d\\\\d\\\\d)')\n",
      "match object :  <re.Match object; span=(0, 3), match='478'>\n",
      "The span of match is :  (0, 3)\n"
     ]
    }
   ],
   "source": [
    "# 6. In standard expression syntax, parentheses and intervals have distinct meanings.\n",
    "#    How can you tell a regex that you want it to fit real parentheses and periods?\n",
    "\n",
    "# Sol :\n",
    "\n",
    "#       We just add backslash before paranthesis and intervals. \n",
    "\n",
    "# In the below example i have included the paranthesis along with string that's what it gives the span of match object is (0,5)\n",
    "\n",
    "# With Paranthesis\n",
    "match = re.compile(r\"\\(\\d\\d\\d\\)\")\n",
    "print(match)\n",
    "k = match.search(\"(478)\")\n",
    "print(\"match object : \", k)\n",
    "print(\"The span of match is : \", k.span())\n",
    "\n",
    "\n",
    "print(\"\\n\\n\")\n",
    "\n",
    "# Without Paranthesis\n",
    "match = re.compile(\"(\\d\\d\\d)\")\n",
    "print(match)\n",
    "k = match.search(\"478\")\n",
    "print(\"match object : \", k)\n",
    "print(\"The span of match is : \", k.span())\n"
   ]
  },
  {
   "cell_type": "code",
   "execution_count": 13,
   "id": "230fe0fe",
   "metadata": {},
   "outputs": [],
   "source": [
    "# 7.The findall() method returns a string list or a list of string tuples. What causes it to return one of the two options?\n",
    "\n",
    "# Sol: \n",
    "\n",
    "#     The findall method returns a string list if regex pattern has no groups and it returns list of string tuples \n",
    "#  when regex pattern has groups"
   ]
  },
  {
   "cell_type": "code",
   "execution_count": 14,
   "id": "73d33cc2",
   "metadata": {},
   "outputs": [
    {
     "name": "stdout",
     "output_type": "stream",
     "text": [
      "output :  ['a', 'i', 'a']\n"
     ]
    }
   ],
   "source": [
    "# 8. In standard expressions, what does the | character mean?\n",
    "\n",
    "# Sol :\n",
    "\n",
    "#   In standard expressions | means \"either\" or \"or\"\n",
    "\n",
    "# for example\n",
    "\n",
    "k = re.findall(\"a|i\", \"sai ram\")\n",
    "print(\"output : \", k)"
   ]
  },
  {
   "cell_type": "code",
   "execution_count": 15,
   "id": "a162ca64",
   "metadata": {},
   "outputs": [
    {
     "name": "stdout",
     "output_type": "stream",
     "text": [
      "Zero occurence :  ['e']\n",
      "\n",
      "\n",
      "One occurence :  ['eu']\n"
     ]
    }
   ],
   "source": [
    "# 9. In regular expressions, what does the  ? character stand for?\n",
    "\n",
    "# Sol : \n",
    "\n",
    "#     In regular expression ? character stands for zero or one occurences of the pattern in the string\n",
    "\n",
    "print(\"Zero occurence : \", re.findall(\"eu?\", \"Ineron\"))\n",
    "print(\"\\n\")\n",
    "print(\"One occurence : \", re.findall(\"eu?\", \"Ineuron\"))"
   ]
  },
  {
   "cell_type": "code",
   "execution_count": 16,
   "id": "0dcf7bab",
   "metadata": {},
   "outputs": [
    {
     "name": "stdout",
     "output_type": "stream",
     "text": [
      "['euron']\n",
      "[]\n",
      "['euron']\n",
      "['ain']\n"
     ]
    }
   ],
   "source": [
    "# 10.In regular expressions, what is the difference between the + and * characters?\n",
    "\n",
    "# Sol :\n",
    "\n",
    "#      In regular expressions + character stands for one or more occurences of the pattern in the string.\n",
    "#      In regular expressions * character stands for zero or more occreneces of the pattern in the string.\n",
    "\n",
    "# For example \n",
    "\n",
    "# one or more occurences for + or else empty list\n",
    "print(re.findall(\"e.+\", \"Ineuron\"))\n",
    "print(re.findall(\"e.+\", \"main\"))\n",
    "\n",
    "# zero or more occurences for *\n",
    "\n",
    "print(re.findall(\"e.*\", \"Ineuron\"))\n",
    "print(re.findall(\"a.*\", \"main\"))"
   ]
  },
  {
   "cell_type": "code",
   "execution_count": 17,
   "id": "81398687",
   "metadata": {},
   "outputs": [
    {
     "name": "stdout",
     "output_type": "stream",
     "text": [
      "['1234', '5645', '1234']\n",
      "\n",
      "\n",
      "['12345', '7891']\n"
     ]
    }
   ],
   "source": [
    "# 11. What is the difference between {4} and {4,5} in regular expression?\n",
    "\n",
    "# Sol :\n",
    "\n",
    "#     The pattern of the particular group should repeat atleast four times in the string {4}\n",
    "#     The pattern of the particular group should repeat atleast four times and atmost 5 times in the string {5}\n",
    "\n",
    "# For Example\n",
    "\n",
    "print(re.findall(\"\\d{4}\", \"123456451234\"))\n",
    "print(\"\\n\")\n",
    "print(re.findall(\"\\d{4,5}\",\"123457891\"))"
   ]
  },
  {
   "cell_type": "code",
   "execution_count": 18,
   "id": "2ee7b9bb",
   "metadata": {},
   "outputs": [
    {
     "name": "stdout",
     "output_type": "stream",
     "text": [
      "['12345', '1548']\n",
      "['12345hvcuv1548']\n",
      "[' ', ' ']\n"
     ]
    }
   ],
   "source": [
    "# 12. What do you mean by the \\d, \\w, and \\s shorthand character classes signify in regular expressions?\n",
    "\n",
    "# Sol : \n",
    "\n",
    "#    \\d, \\w, \\s special characters of regular expressions\n",
    "\n",
    "#    \\d - Matches only decimal digit in the string that means which equivalent to [0-9]\n",
    "#    \\w - Matches only alphanumeric charcters in the string that means which equivalent to [a-zA-Z0-9]\n",
    "#    \\s - Matches only whitespace in the string that means that means which equivalent to [\" \"]\n",
    "\n",
    "# For Example\n",
    "\n",
    "print(re.findall(\"\\d+\", \"12345hvcuv1548\"))\n",
    "print(re.findall(\"\\w+\", \"12345hvcuv1548\"))\n",
    "print(re.findall(\"\\s+\", \"1234 5hvcu v1548\"))"
   ]
  },
  {
   "cell_type": "code",
   "execution_count": 19,
   "id": "2b012905",
   "metadata": {},
   "outputs": [
    {
     "name": "stdout",
     "output_type": "stream",
     "text": [
      "['hvcuv']\n",
      "[]\n",
      "['1234', '5hvcu', 'v1548']\n"
     ]
    }
   ],
   "source": [
    "# 13. What do means by \\D, \\W, and \\S shorthand character classes signify in regular expressions?\n",
    "\n",
    "# Sol :\n",
    "\n",
    "#    \\D, \\W, \\S special characters of regular expressions \n",
    "\n",
    "#    \\D - It matches everything except only decimal digit in the string that means which doesn't equivalent to [0-9]\n",
    "#    \\W - It matches everything except only alphanumeric charcters in the string that means which doesn't equivalent to [a-zA-Z0-9]\n",
    "#    \\S - It matches everything except only whitespace in the string that means that means which doesn't equivalent to [\" \"]\n",
    "\n",
    "# For Example\n",
    "\n",
    "print(re.findall(\"\\D+\", \"12345hvcuv1548\"))\n",
    "print(re.findall(\"\\W+\", \"12345hvcuv1548\"))\n",
    "print(re.findall(\"\\S+\", \"1234 5hvcu v1548\"))"
   ]
  },
  {
   "cell_type": "code",
   "execution_count": 20,
   "id": "248742d3",
   "metadata": {},
   "outputs": [
    {
     "name": "stdout",
     "output_type": "stream",
     "text": [
      "['sairam', '']\n",
      "\n",
      "\n",
      "['', 's', '', 'a', '', 'i', '', 'r', '', 'a', '', 'm', '']\n"
     ]
    }
   ],
   "source": [
    "# 14. What is the difference between .*? and .*?\n",
    "\n",
    "# Sol :\n",
    "\n",
    "#  .* is greedy one which gives the long string when match found. .*? is non greedy one which gives the short string when match found\n",
    "\n",
    "print(re.findall(\".*\", \"sairam\")) # Greedy one\n",
    "print(\"\\n\")\n",
    "print(re.findall(\".*?\", \"sairam\")) # Non - Greedy one"
   ]
  },
  {
   "cell_type": "code",
   "execution_count": 22,
   "id": "b8b66a8e",
   "metadata": {},
   "outputs": [
    {
     "name": "stdout",
     "output_type": "stream",
     "text": [
      "['a', 'i', '1', '5', '1', '4', '0', '9']\n"
     ]
    }
   ],
   "source": [
    "# 15. What is the syntax for matching both numbers and lowercase letters with a character class?\n",
    "\n",
    "# Sol :\n",
    "\n",
    "#    The syntax for matching both numbers and lowercase letters with a character class is ([a-z]|[0-9])\n",
    "\n",
    "# For Example\n",
    "\n",
    "print(re.findall(\"[a-z]|[0-9]\", \"Sai151409\"))"
   ]
  },
  {
   "cell_type": "code",
   "execution_count": 32,
   "id": "c3807108",
   "metadata": {},
   "outputs": [
    {
     "name": "stdout",
     "output_type": "stream",
     "text": [
      "With Ignore case :  ['S', 'A', 'I', 'r', 'a', 'm']\n",
      "\n",
      "\n",
      "Without Ignore case :  ['r', 'a', 'm']\n"
     ]
    }
   ],
   "source": [
    "# 16. What is the procedure for making a normal expression in regax case insensitive?\n",
    "\n",
    "# Sol :\n",
    "\n",
    "#      To making a normal expression in regax case insensitive, we use re.IGNORECASE function \n",
    "\n",
    "print(\"With Ignore case : \", re.findall(\"[a-z]\", \"SAIram\", re.IGNORECASE))\n",
    "print(\"\\n\")\n",
    "print(\"Without Ignore case : \", re.findall(\"[a-z]\", \"SAIram\"))"
   ]
  },
  {
   "cell_type": "code",
   "execution_count": 39,
   "id": "30febf85",
   "metadata": {},
   "outputs": [
    {
     "name": "stdout",
     "output_type": "stream",
     "text": [
      "['sai', '', 'ram', '']\n",
      "['sai\\nram', '']\n"
     ]
    }
   ],
   "source": [
    "# 17. What does the . character normally match? What does it match if re.DOTALL is passed as 2nd argument in re.compile()?\n",
    "\n",
    "# Sol :\n",
    "\n",
    "#     . character matches the any character except newline \\n but if you are passed re.DOTALL as 2nd argument it matches newlines too.\n",
    "\n",
    "# Without re.DOTALL\n",
    "\n",
    "print(re.findall(\".*\", \"sai\\nram\"))\n",
    "\n",
    "# With re.DOTALL\n",
    "\n",
    "print(re.findall(\".*\", \"sai\\nram\", re.DOTALL))# Here it includes the newline also"
   ]
  },
  {
   "cell_type": "code",
   "execution_count": 41,
   "id": "788f5ed3",
   "metadata": {},
   "outputs": [
    {
     "data": {
      "text/plain": [
       "'X drummers, X pipers, five rings, X hen'"
      ]
     },
     "execution_count": 41,
     "metadata": {},
     "output_type": "execute_result"
    }
   ],
   "source": [
    "# 18. If numReg = re.compile(r'\\d+'), what will numRegex.sub('X', '11 drummers, 10 pipers, five rings, 4 hen') return?\n",
    "\n",
    "# Sol :\n",
    "\n",
    "#     The output is 'X drummers, X pipers, five rings, X hen'\n",
    "numReg = re.compile(r'\\d+')\n",
    "numReg.sub('X', '11 drummers, 10 pipers, five rings, 4 hen')"
   ]
  },
  {
   "cell_type": "code",
   "execution_count": null,
   "id": "ba1934e8",
   "metadata": {},
   "outputs": [],
   "source": [
    "#  19. What does passing re.VERBOSE as the 2nd argument to re.compile() allow to do?\n",
    "\n",
    "# Sol :\n",
    "\n",
    "#   By using re.VERBOSE as 2nd argument to re.compile() we can add commnets inside the pattern for more readability"
   ]
  },
  {
   "cell_type": "code",
   "execution_count": 43,
   "id": "92c8b6e6",
   "metadata": {},
   "outputs": [
    {
     "data": {
      "text/plain": [
       "<re.Match object; span=(0, 24), match='sairamnaidu694@gmail.com'>"
      ]
     },
     "execution_count": 43,
     "metadata": {},
     "output_type": "execute_result"
    }
   ],
   "source": [
    "# Without Using VERBOSE\n",
    "regex_email = re.compile(r'^([a-z0-9_\\.-]+)@([0-9a-z\\.-]+)\\.([a-z\\.]{2, 6})$',\n",
    "              re.IGNORECASE)\n",
    "   \n",
    "# Using VERBOSE\n",
    "regex_email = re.compile(r\"\"\"\n",
    "            ^([a-z0-9_\\.-]+)              # local Part\n",
    "            @                             # single @ sign\n",
    "            ([0-9a-z\\.-]+)                # Domain name\n",
    "            \\.                            # single Dot .\n",
    "            ([a-z]{2,6})$                 # Top level Domain  \n",
    "             \"\"\",re.VERBOSE | re.IGNORECASE)   \n",
    "\n",
    "regex_email.search(\"sairamnaidu694@gmail.com\")"
   ]
  },
  {
   "cell_type": "code",
   "execution_count": 69,
   "id": "45755514",
   "metadata": {},
   "outputs": [
    {
     "name": "stdout",
     "output_type": "stream",
     "text": [
      "42 : <re.Match object; span=(0, 2), match='42'>\n",
      "1,234 : <re.Match object; span=(0, 5), match='1,234'>\n",
      "6,368,745 : <re.Match object; span=(0, 9), match='6,368,745'>\n",
      "12,34,567 : None\n",
      "1234 : None\n"
     ]
    }
   ],
   "source": [
    "# 20. How would you write a regex that match a number with comma for every three digits? \n",
    "# It must match the given following:\n",
    "# '42'\n",
    "# '1,234'\n",
    "# '6,368,745'\n",
    "# but not the following:\n",
    "#'12,34,567' (which has only two digits between the commas)\n",
    "# '1234' (which lacks commas)\n",
    "\n",
    "# Sol :\n",
    "\n",
    "a = re.compile(\"^\\d{1,3}(,\\d{3})*$\")\n",
    "for i in ['42', '1,234', '6,368,745', '12,34,567', '1234']:\n",
    "    print(i, \":\", a.search(i))"
   ]
  },
  {
   "cell_type": "code",
   "execution_count": 75,
   "id": "8a30af1b",
   "metadata": {},
   "outputs": [
    {
     "name": "stdout",
     "output_type": "stream",
     "text": [
      "Haruto Watanabe : <re.Match object; span=(0, 15), match='Haruto Watanabe'>\n",
      "Alice Watanabe : <re.Match object; span=(0, 14), match='Alice Watanabe'>\n",
      "RoboCop Watanabe : <re.Match object; span=(4, 16), match='Cop Watanabe'>\n",
      "haruto Watanabe : None\n",
      "Mr. Watanabe : None\n",
      "Watanabe : None\n",
      "Haruto watanabe : None\n"
     ]
    }
   ],
   "source": [
    "# 21. How would you write a regex that matches the full name of someone whose last name is Watanabe?\n",
    "# You can assume that the first name that comes before it will always be one word that begins with a capital letter.\n",
    "# The regex must match the following:\n",
    "# 'Haruto Watanabe'\n",
    "# 'Alice Watanabe'\n",
    "# 'RoboCop Watanabe'\n",
    "# but not the following:\n",
    "# 'haruto Watanabe' (where the first name is not capitalized)\n",
    "# 'Mr. Watanabe' (where the preceding word has a nonletter character)\n",
    "# 'Watanabe' (which has no first name)\n",
    "# 'Haruto watanabe' (where Watanabe is not capitalized)\n",
    "\n",
    "# Sol :\n",
    "\n",
    "a = re.compile(r\"[A-Z]{1}[a-z]*\\sWatanabe\")\n",
    "for i in ['Haruto Watanabe','Alice Watanabe','RoboCop Watanabe','haruto Watanabe','Mr. Watanabe','Watanabe','Haruto watanabe']:\n",
    "    print(i, \":\", a.search(i))"
   ]
  },
  {
   "cell_type": "code",
   "execution_count": 83,
   "id": "d56cad19",
   "metadata": {},
   "outputs": [
    {
     "name": "stdout",
     "output_type": "stream",
     "text": [
      "Alice eats apples. : <re.Match object; span=(0, 18), match='Alice eats apples.'>\n",
      "Bob pets cats. : <re.Match object; span=(0, 14), match='Bob pets cats.'>\n",
      "Carol throws baseballs. : <re.Match object; span=(0, 23), match='Carol throws baseballs.'>\n",
      "Alice throws Apples. : <re.Match object; span=(0, 20), match='Alice throws Apples.'>\n",
      "BOB EATS CATS. : <re.Match object; span=(0, 14), match='BOB EATS CATS.'>\n",
      "RoboCop eats apples. : None\n",
      "ALICE THROWS FOOTBALLS. : None\n",
      "Carol eats 7 cats. : None\n"
     ]
    }
   ],
   "source": [
    "# 22. How would you write a regex that matches a sentence where the first word is either Alice, Bob, or Carol; \n",
    "#     the second word is either eats, pets, or throws; the third word is apples, cats, or baseballs;\n",
    "#     and the sentence ends with a period? This regex should be case-insensitive. It must match the following:\n",
    "#    'Alice eats apples.', 'Bob pets cats.', 'Carol throws baseballs.', 'Alice throws Apples.', 'BOB EATS CATS.'\n",
    "# but not the following: 'RoboCop eats apples.', 'ALICE THROWS FOOTBALLS.', 'Carol eats 7 cats.'\n",
    "\n",
    "a = re.compile(r\"(Alice|Bob|Carol)\\s(eats|pets|throws)\\s(apples|cats|baseballs)\\.\", re.IGNORECASE)\n",
    "\n",
    "for i in ['Alice eats apples.', 'Bob pets cats.', 'Carol throws baseballs.', 'Alice throws Apples.', 'BOB EATS CATS.',\n",
    "         'RoboCop eats apples.', 'ALICE THROWS FOOTBALLS.', 'Carol eats 7 cats.']:\n",
    "    print( i, \":\", a.search(i))"
   ]
  },
  {
   "cell_type": "code",
   "execution_count": null,
   "id": "d9946fc2",
   "metadata": {},
   "outputs": [],
   "source": []
  }
 ],
 "metadata": {
  "kernelspec": {
   "display_name": "Python 3 (ipykernel)",
   "language": "python",
   "name": "python3"
  },
  "language_info": {
   "codemirror_mode": {
    "name": "ipython",
    "version": 3
   },
   "file_extension": ".py",
   "mimetype": "text/x-python",
   "name": "python",
   "nbconvert_exporter": "python",
   "pygments_lexer": "ipython3",
   "version": "3.9.7"
  }
 },
 "nbformat": 4,
 "nbformat_minor": 5
}
