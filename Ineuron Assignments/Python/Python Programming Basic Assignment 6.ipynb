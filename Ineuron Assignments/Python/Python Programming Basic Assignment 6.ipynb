{
 "cells": [
  {
   "cell_type": "code",
   "execution_count": 1,
   "id": "05ddefd9",
   "metadata": {},
   "outputs": [],
   "source": [
    "# 1. Write a Python Program to Display Fibonacci Sequence Using Recursion?\n",
    "\n",
    "# Sol : \n",
    "\n",
    "def fact(n):\n",
    "    \"Its find out the factorial of number in recursive way\"\n",
    "    try : \n",
    "        if n == 1:\n",
    "            return 1\n",
    "        else:\n",
    "            return n * fact(n-1)\n",
    "    except Exception as e:\n",
    "        print(\"The error has occured\")\n",
    "        print(f\"The error is {e}\")\n"
   ]
  },
  {
   "cell_type": "code",
   "execution_count": 2,
   "id": "eb58abf7",
   "metadata": {},
   "outputs": [
    {
     "data": {
      "text/plain": [
       "40320"
      ]
     },
     "execution_count": 2,
     "metadata": {},
     "output_type": "execute_result"
    }
   ],
   "source": [
    "fact(8)"
   ]
  },
  {
   "cell_type": "code",
   "execution_count": 3,
   "id": "b5b2ef75",
   "metadata": {},
   "outputs": [
    {
     "name": "stdout",
     "output_type": "stream",
     "text": [
      "Enter your number : 10\n",
      "0\n",
      "1\n",
      "1\n",
      "2\n",
      "3\n",
      "5\n",
      "8\n",
      "13\n",
      "21\n",
      "34\n"
     ]
    }
   ],
   "source": [
    "# 2. Write a Python Program to Find Factorial of Number Using Recursion?\n",
    "\n",
    "# Sol : \n",
    "\n",
    "def fib(n):\n",
    "    try:\n",
    "        if n <= 1:\n",
    "            return n\n",
    "        else:\n",
    "            return fib(n-1) + fib(n-2)\n",
    "    except Exception as e:\n",
    "        print(\"The error has occured\")\n",
    "        print(f\"The error is {e}\")\n",
    "    \n",
    "k = int(input(\"Enter your number : \"))\n",
    "i = 1\n",
    "\n",
    "try:\n",
    "    if k <= 0:\n",
    "        print(\"Enter a valid number\")\n",
    "    else:\n",
    "        for i in range(k):\n",
    "            print(fib(i))\n",
    "except Exception as e:\n",
    "    print(\"The error has occured\")\n",
    "    print(f\"The error is {e}\")"
   ]
  },
  {
   "cell_type": "code",
   "execution_count": 4,
   "id": "10edec01",
   "metadata": {},
   "outputs": [],
   "source": [
    "# 3. Write a Python Program to calculate your Body Mass Index?\n",
    "\n",
    "# Sol: \n",
    "\n",
    "def bmi() : \n",
    "    \n",
    "    \"\"\"Its find out the body mass of index\"\"\"\n",
    "    try :\n",
    "        weight = float(input(\"Enter your weight(in kgs) : \"))\n",
    "        height = float(input(\"Enter your height(in meters) : \"))\n",
    "    \n",
    "        bmi = (weight/height ** 2)\n",
    "    \n",
    "        return f'Your body mass index is {bmi}'\n",
    "    except Exception as e:\n",
    "        print(\"The error has occured\")\n",
    "        print(f\"The error is {e}\")"
   ]
  },
  {
   "cell_type": "code",
   "execution_count": 13,
   "id": "9e9b597a",
   "metadata": {},
   "outputs": [
    {
     "name": "stdout",
     "output_type": "stream",
     "text": [
      "Enter your weight(in kgs) : 78\n",
      "Enter your height(in meters) : 1.8\n"
     ]
    },
    {
     "data": {
      "text/plain": [
       "'Your body mass index is 24.074074074074073'"
      ]
     },
     "execution_count": 13,
     "metadata": {},
     "output_type": "execute_result"
    }
   ],
   "source": [
    "bmi()"
   ]
  },
  {
   "cell_type": "code",
   "execution_count": 6,
   "id": "036ca225",
   "metadata": {},
   "outputs": [],
   "source": [
    "# 4. Write a Python Program to calculate the natural logarithm of any number?\n",
    "\n",
    "# Sol : \n",
    "\n",
    "def log():\n",
    "    try:\n",
    "        n = float(input(\"Enter the number : \"))\n",
    "    \n",
    "        import math\n",
    "    \n",
    "        h = math.log(n)\n",
    "    \n",
    "        return f'The log of {n} is {h}'\n",
    "    except Exception as e:\n",
    "        print(\"The error has occured\")\n",
    "        print(f\"The error is {e}\")"
   ]
  },
  {
   "cell_type": "code",
   "execution_count": 7,
   "id": "7be10949",
   "metadata": {},
   "outputs": [
    {
     "name": "stdout",
     "output_type": "stream",
     "text": [
      "Enter the number : 1\n"
     ]
    },
    {
     "data": {
      "text/plain": [
       "'The log of 1.0 is 0.0'"
      ]
     },
     "execution_count": 7,
     "metadata": {},
     "output_type": "execute_result"
    }
   ],
   "source": [
    "log()"
   ]
  },
  {
   "cell_type": "code",
   "execution_count": 8,
   "id": "d4f45b23",
   "metadata": {},
   "outputs": [],
   "source": [
    "# 5. Write a Python Program for cube sum of first n natural numbers?\n",
    "\n",
    "# Sol : \n",
    "\n",
    "def cube_sum_of_first_n_natural_numbers():\n",
    "    \"\"\"Its find out the cube sum of first n natural numbers\"\"\"\n",
    "    try:\n",
    "        n = int(input(\"Enter the number : \"))\n",
    "    \n",
    "        k = 0 \n",
    "    \n",
    "        for i in range(1, n+1):\n",
    "            k = k + i ** 3\n",
    "        \n",
    "        return f\"The cube sum of first {n} is {k}\"\n",
    "    except Exception as e:\n",
    "        print(\"The error has occured\")\n",
    "        print(f\"The error is {e}\")"
   ]
  },
  {
   "cell_type": "code",
   "execution_count": 9,
   "id": "f59b313c",
   "metadata": {},
   "outputs": [
    {
     "name": "stdout",
     "output_type": "stream",
     "text": [
      "Enter the number : 5\n"
     ]
    },
    {
     "data": {
      "text/plain": [
       "'The cube sum of first 5 is 225'"
      ]
     },
     "execution_count": 9,
     "metadata": {},
     "output_type": "execute_result"
    }
   ],
   "source": [
    "cube_sum_of_first_n_natural_numbers()"
   ]
  },
  {
   "cell_type": "code",
   "execution_count": null,
   "id": "2d1e2f43",
   "metadata": {},
   "outputs": [],
   "source": []
  }
 ],
 "metadata": {
  "kernelspec": {
   "display_name": "Python 3 (ipykernel)",
   "language": "python",
   "name": "python3"
  },
  "language_info": {
   "codemirror_mode": {
    "name": "ipython",
    "version": 3
   },
   "file_extension": ".py",
   "mimetype": "text/x-python",
   "name": "python",
   "nbconvert_exporter": "python",
   "pygments_lexer": "ipython3",
   "version": "3.9.7"
  }
 },
 "nbformat": 4,
 "nbformat_minor": 5
}
