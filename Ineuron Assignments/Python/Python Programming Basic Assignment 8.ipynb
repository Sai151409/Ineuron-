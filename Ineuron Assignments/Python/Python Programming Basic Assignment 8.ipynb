{
 "cells": [
  {
   "cell_type": "code",
   "execution_count": 1,
   "id": "f1f3bf07",
   "metadata": {},
   "outputs": [
    {
     "name": "stdout",
     "output_type": "stream",
     "text": [
      "The addition of two matrices a and b is : \n",
      "[[ 4  6  8]\n",
      " [10 12 14]\n",
      " [16 18 20]]\n"
     ]
    }
   ],
   "source": [
    "# 1. Write a Python Program to Add Two Matrices?\n",
    "\n",
    "# Sol :\n",
    "\n",
    "import numpy as np\n",
    "\n",
    "a = np.matrix([[1,2,3], [4,5,6], [7,8,9]])\n",
    "\n",
    "b = np.matrix([[3,4,5], [6,7,8],[9, 10, 11]])\n",
    "\n",
    "print(f\"The addition of two matrices a and b is : \\n{a+b}\")"
   ]
  },
  {
   "cell_type": "code",
   "execution_count": 2,
   "id": "bf1add54",
   "metadata": {},
   "outputs": [
    {
     "name": "stdout",
     "output_type": "stream",
     "text": [
      "The multiplication of a and b is : \n",
      "[[ 42  48  54]\n",
      " [ 96 111 126]\n",
      " [150 174 198]]\n"
     ]
    }
   ],
   "source": [
    "# 2. Write a Python Program to Multiply Two Matrices?\n",
    "\n",
    "# Sol :\n",
    "\n",
    "import numpy as np\n",
    "\n",
    "a = np.matrix([[1,2,3], [4,5,6], [7,8,9]])\n",
    "\n",
    "b = np.matrix([[3,4,5], [6,7,8],[9,10,11]])\n",
    "\n",
    "print(f\"The multiplication of a and b is : \\n{a*b}\")"
   ]
  },
  {
   "cell_type": "code",
   "execution_count": 3,
   "id": "e7a3eedc",
   "metadata": {},
   "outputs": [
    {
     "name": "stdout",
     "output_type": "stream",
     "text": [
      "The transpose of \n",
      "[[1 2 3]\n",
      " [4 5 6]\n",
      " [7 8 9]] is : \n",
      "\n",
      "[[1 4 7]\n",
      " [2 5 8]\n",
      " [3 6 9]]\n"
     ]
    }
   ],
   "source": [
    "# 3. Write a Python Program to Transpose a Matrix?\n",
    "\n",
    "# Sol : \n",
    "\n",
    "import numpy as np\n",
    "\n",
    "a = np.matrix([[1,2,3], [4,5,6], [7,8,9]])\n",
    "\n",
    "print(f\"The transpose of \\n{a} is : \\n\\n{a.T}\")"
   ]
  },
  {
   "cell_type": "code",
   "execution_count": 4,
   "id": "4d1fe0ae",
   "metadata": {},
   "outputs": [],
   "source": [
    "# 4. Write a Python Program to Sort Words in Alphabetic Order\n",
    "\n",
    "# Sol :\n",
    "\n",
    "def char():\n",
    "    try:\n",
    "        char = input(\"Enter the string : \")\n",
    "        char1 = \"\"\n",
    "        k = char.lower().split()\n",
    "        k.sort()\n",
    "        print(\"After sorting the words : \")\n",
    "        for i in k:\n",
    "            print(\"\\t\\t\", i)\n",
    "    except Exception as e:\n",
    "        print(\"The Error has occured\")\n",
    "        print(f\"The error is {e}\")"
   ]
  },
  {
   "cell_type": "code",
   "execution_count": 5,
   "id": "b8934bf2",
   "metadata": {},
   "outputs": [
    {
     "name": "stdout",
     "output_type": "stream",
     "text": [
      "Enter the string : My dad is my hero\n",
      "After sorting the words : \n",
      "\t\t dad\n",
      "\t\t hero\n",
      "\t\t is\n",
      "\t\t my\n",
      "\t\t my\n"
     ]
    }
   ],
   "source": [
    "char()"
   ]
  },
  {
   "cell_type": "code",
   "execution_count": 6,
   "id": "72a4ae8c",
   "metadata": {},
   "outputs": [
    {
     "name": "stdout",
     "output_type": "stream",
     "text": [
      "Enter the string : Hello!!!, he said ---and went\n",
      "Hello he said and went\n"
     ]
    }
   ],
   "source": [
    "# 5. Write a Python Program to Remove Punctuation From a String?\n",
    "\n",
    "# Sol : \n",
    "\n",
    "#     First we have to define the punctuations\n",
    "\n",
    "punctuations = '''!()-[]{};:'\"\\,<>./?@#$%^&*_~'''\n",
    "\n",
    "char = input(\"Enter the string : \")\n",
    "\n",
    "char1 = \"\"\n",
    "\n",
    "for i in char:\n",
    "    if i not in punctuations:\n",
    "        char1 += i\n",
    "print(char1)"
   ]
  },
  {
   "cell_type": "code",
   "execution_count": null,
   "id": "88961b6a",
   "metadata": {},
   "outputs": [],
   "source": []
  }
 ],
 "metadata": {
  "kernelspec": {
   "display_name": "Python 3 (ipykernel)",
   "language": "python",
   "name": "python3"
  },
  "language_info": {
   "codemirror_mode": {
    "name": "ipython",
    "version": 3
   },
   "file_extension": ".py",
   "mimetype": "text/x-python",
   "name": "python",
   "nbconvert_exporter": "python",
   "pygments_lexer": "ipython3",
   "version": "3.9.7"
  }
 },
 "nbformat": 4,
 "nbformat_minor": 5
}
