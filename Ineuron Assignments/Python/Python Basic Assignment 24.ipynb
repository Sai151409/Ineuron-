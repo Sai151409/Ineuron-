{
 "cells": [
  {
   "cell_type": "code",
   "execution_count": 1,
   "id": "dbb55a9e",
   "metadata": {},
   "outputs": [],
   "source": [
    "# 1. What is the relationship between def statements and lambda expressions ?\n",
    "\n",
    "# Sol : def statement is used to create a normal function. where as lambda expressions are used to create Anonymous functions.\n",
    "#       which can be assigned to a variable can be called using the variable later in the funation\n",
    "\n",
    "#       Lambda is single expression and not a block statements like def statement.The lambda expressions body similar to the \n",
    "#       def function return statement. we simply type the expression as a result instead of explictly returning it.Beacuse it\n",
    "#       is a limited expression, a lambda is less general than def statement"
   ]
  },
  {
   "cell_type": "code",
   "execution_count": 2,
   "id": "7cea64b7",
   "metadata": {},
   "outputs": [],
   "source": [
    "# 2. What is the benefit of lambda?\n",
    "\n",
    "# Sol :\n",
    "\n",
    "#    lambda can simply create the namless functions inside some complex functions if we are planning to use it once.\n",
    "#    Moderate to the some small functions\n",
    "#    create a function with lambda and assigned to a variable and can be used by calling the variable name"
   ]
  },
  {
   "cell_type": "code",
   "execution_count": 9,
   "id": "51628a6f",
   "metadata": {},
   "outputs": [
    {
     "name": "stdout",
     "output_type": "stream",
     "text": [
      "map :  [2, 4, 6] \n",
      "\n",
      "fliter :  [2, 4, 6, 8, 10, 12, 14, 16, 18] \n",
      "\n",
      "reduce :  10\n"
     ]
    }
   ],
   "source": [
    "# 3. Compare and contrast map, filter, and reduce.\n",
    "\n",
    "# Sol :\n",
    "\n",
    "#    map : map is high order function. It takes the another function as a parameter along with iterators and return the ouput\n",
    "#          after applying the function to eachh iterables\n",
    "\n",
    "#    filter : filter function return output as a list and after applying some condition which return true\n",
    "\n",
    "#    reduce : reduce function takes the iterators as a input and compress them into a single value\n",
    "\n",
    "from functools import reduce\n",
    "\n",
    "mapper = list(map(lambda x : x*2, [1,2,3]))\n",
    "fliter = list(filter(lambda x : x%2 == 0,range(1, 20)))\n",
    "reduce = reduce(lambda x,y: x+y, [1,2,3,4])\\\n",
    "\n",
    "print(\"map : \", mapper, \"\\n\")\n",
    "print(\"fliter : \", fliter, \"\\n\")\n",
    "print(\"reduce : \", reduce,)"
   ]
  },
  {
   "cell_type": "code",
   "execution_count": 10,
   "id": "6ce49ea8",
   "metadata": {},
   "outputs": [],
   "source": [
    "# 4. What are function annotations, and how are they used?\n",
    "\n",
    "# Sol :\n",
    "\n",
    "#       Function annotations provide a way of associating various parts of function with arbitrary python expressions at \n",
    "#       compile time.\n",
    "\n",
    "#       Annotattions of simple parameters def fun(x : expression, y : expression = 20)\n",
    "#       Whereas the annotations of excess parameters are as - def func(args : expression, **kwargs : expression):"
   ]
  },
  {
   "cell_type": "code",
   "execution_count": 11,
   "id": "ac7e85ff",
   "metadata": {},
   "outputs": [],
   "source": [
    "# 5. What are recursive functions, and how are they used?\n",
    "\n",
    "# Sol :\n",
    "\n",
    "#     Recursive functions are fucntion calls itself during its execution.\n",
    "#     The process may repeat several times until at the end of the iteration"
   ]
  },
  {
   "cell_type": "code",
   "execution_count": 12,
   "id": "9b01a058",
   "metadata": {},
   "outputs": [],
   "source": [
    "# 6. What are some general design guidelines for coding functions?\n",
    "\n",
    "# Sol:\n",
    "\n",
    "#    Some of the general guidelines for the coding functions:\n",
    "\n",
    "#   1. Proper indentation in the function to increase the code readability\n",
    "#   2. Always use docstring to the main purpose of the function\n",
    "#   3. Avoid using or limited use of global variables\n",
    "#   4. Try to follow name convention\n",
    "#   5. Do not use digits in the function name\n",
    "#   6. Try to create a fucntion name which conveys the purpose of function\n",
    "#   7. local variable should be in camelcase format\n",
    "#   8. Constants should be represented in uppercase."
   ]
  },
  {
   "cell_type": "code",
   "execution_count": 13,
   "id": "c43f2d32",
   "metadata": {},
   "outputs": [],
   "source": [
    "# 7. Name three or more ways that functions can communicate results to a caller.\n",
    "\n",
    "# Sol: print, return, yield"
   ]
  },
  {
   "cell_type": "code",
   "execution_count": null,
   "id": "20f6c59a",
   "metadata": {},
   "outputs": [],
   "source": []
  }
 ],
 "metadata": {
  "kernelspec": {
   "display_name": "Python 3 (ipykernel)",
   "language": "python",
   "name": "python3"
  },
  "language_info": {
   "codemirror_mode": {
    "name": "ipython",
    "version": 3
   },
   "file_extension": ".py",
   "mimetype": "text/x-python",
   "name": "python",
   "nbconvert_exporter": "python",
   "pygments_lexer": "ipython3",
   "version": "3.9.12"
  }
 },
 "nbformat": 4,
 "nbformat_minor": 5
}
