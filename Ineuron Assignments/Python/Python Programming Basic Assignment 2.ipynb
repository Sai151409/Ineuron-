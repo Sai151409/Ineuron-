{
 "cells": [
  {
   "cell_type": "code",
   "execution_count": 1,
   "id": "79fbf2f9",
   "metadata": {},
   "outputs": [],
   "source": [
    "# 1. Write a Python program to convert kilometers to miles?\n",
    "\n",
    "# Sol:\n",
    "\n",
    "def converter(kilometers) : \n",
    "    \"\"\"It converts the kilometers to miles\"\"\"\n",
    "    Miles = 0.621371 * kilometers\n",
    "    return f'The {kilometers} kilometers is {Miles}'"
   ]
  },
  {
   "cell_type": "code",
   "execution_count": 2,
   "id": "eab358be",
   "metadata": {},
   "outputs": [
    {
     "data": {
      "text/plain": [
       "'The 78 kilometers is 48.466938'"
      ]
     },
     "execution_count": 2,
     "metadata": {},
     "output_type": "execute_result"
    }
   ],
   "source": [
    "converter(78)"
   ]
  },
  {
   "cell_type": "code",
   "execution_count": 3,
   "id": "a24c2b0b",
   "metadata": {},
   "outputs": [],
   "source": [
    "# 2. Write a Python program to convert Celsius to Fahrenheit?\n",
    "\n",
    "# Sol : \n",
    "\n",
    "def Fahrenheit_convert(Celsius):\n",
    "    \"It converts the celsius to fahrenheit\"\n",
    "    Fahrenheit = (Celsius * 1.8) + 32\n",
    "    return f\"The {Celsius} degrees celsius is {Fahrenheit} farenheit\""
   ]
  },
  {
   "cell_type": "code",
   "execution_count": 4,
   "id": "9c113adc",
   "metadata": {},
   "outputs": [
    {
     "data": {
      "text/plain": [
       "'The 32 degrees celsius is 89.6 farenheit'"
      ]
     },
     "execution_count": 4,
     "metadata": {},
     "output_type": "execute_result"
    }
   ],
   "source": [
    "Fahrenheit_convert(32)"
   ]
  },
  {
   "cell_type": "code",
   "execution_count": 5,
   "id": "0585f0f4",
   "metadata": {},
   "outputs": [],
   "source": [
    "# 3. Write a Python program to display calendar?\n",
    "\n",
    "# Sol : \n",
    "\n",
    "#     To display the calender of different here i'm using the calendar module\n",
    "\n",
    "#    Importing the module\n",
    "\n",
    "def calendar_display(year):\n",
    "    import calendar\n",
    "    print(calendar.calendar(year)) # In this module there is a another function calender just give the required year as argument"
   ]
  },
  {
   "cell_type": "code",
   "execution_count": 6,
   "id": "09f36546",
   "metadata": {},
   "outputs": [
    {
     "name": "stdout",
     "output_type": "stream",
     "text": [
      "                                  2552\n",
      "\n",
      "      January                   February                   March\n",
      "Mo Tu We Th Fr Sa Su      Mo Tu We Th Fr Sa Su      Mo Tu We Th Fr Sa Su\n",
      "                1  2          1  2  3  4  5  6             1  2  3  4  5\n",
      " 3  4  5  6  7  8  9       7  8  9 10 11 12 13       6  7  8  9 10 11 12\n",
      "10 11 12 13 14 15 16      14 15 16 17 18 19 20      13 14 15 16 17 18 19\n",
      "17 18 19 20 21 22 23      21 22 23 24 25 26 27      20 21 22 23 24 25 26\n",
      "24 25 26 27 28 29 30      28 29                     27 28 29 30 31\n",
      "31\n",
      "\n",
      "       April                      May                       June\n",
      "Mo Tu We Th Fr Sa Su      Mo Tu We Th Fr Sa Su      Mo Tu We Th Fr Sa Su\n",
      "                1  2       1  2  3  4  5  6  7                1  2  3  4\n",
      " 3  4  5  6  7  8  9       8  9 10 11 12 13 14       5  6  7  8  9 10 11\n",
      "10 11 12 13 14 15 16      15 16 17 18 19 20 21      12 13 14 15 16 17 18\n",
      "17 18 19 20 21 22 23      22 23 24 25 26 27 28      19 20 21 22 23 24 25\n",
      "24 25 26 27 28 29 30      29 30 31                  26 27 28 29 30\n",
      "\n",
      "        July                     August                  September\n",
      "Mo Tu We Th Fr Sa Su      Mo Tu We Th Fr Sa Su      Mo Tu We Th Fr Sa Su\n",
      "                1  2          1  2  3  4  5  6                   1  2  3\n",
      " 3  4  5  6  7  8  9       7  8  9 10 11 12 13       4  5  6  7  8  9 10\n",
      "10 11 12 13 14 15 16      14 15 16 17 18 19 20      11 12 13 14 15 16 17\n",
      "17 18 19 20 21 22 23      21 22 23 24 25 26 27      18 19 20 21 22 23 24\n",
      "24 25 26 27 28 29 30      28 29 30 31               25 26 27 28 29 30\n",
      "31\n",
      "\n",
      "      October                   November                  December\n",
      "Mo Tu We Th Fr Sa Su      Mo Tu We Th Fr Sa Su      Mo Tu We Th Fr Sa Su\n",
      "                   1             1  2  3  4  5                   1  2  3\n",
      " 2  3  4  5  6  7  8       6  7  8  9 10 11 12       4  5  6  7  8  9 10\n",
      " 9 10 11 12 13 14 15      13 14 15 16 17 18 19      11 12 13 14 15 16 17\n",
      "16 17 18 19 20 21 22      20 21 22 23 24 25 26      18 19 20 21 22 23 24\n",
      "23 24 25 26 27 28 29      27 28 29 30               25 26 27 28 29 30 31\n",
      "30 31\n",
      "\n"
     ]
    }
   ],
   "source": [
    "calendar_display(2552)"
   ]
  },
  {
   "cell_type": "code",
   "execution_count": 7,
   "id": "3ebf2744",
   "metadata": {},
   "outputs": [
    {
     "name": "stdout",
     "output_type": "stream",
     "text": [
      "                                  2030\n",
      "\n",
      "      January                   February                   March\n",
      "Mo Tu We Th Fr Sa Su      Mo Tu We Th Fr Sa Su      Mo Tu We Th Fr Sa Su\n",
      "    1  2  3  4  5  6                   1  2  3                   1  2  3\n",
      " 7  8  9 10 11 12 13       4  5  6  7  8  9 10       4  5  6  7  8  9 10\n",
      "14 15 16 17 18 19 20      11 12 13 14 15 16 17      11 12 13 14 15 16 17\n",
      "21 22 23 24 25 26 27      18 19 20 21 22 23 24      18 19 20 21 22 23 24\n",
      "28 29 30 31               25 26 27 28               25 26 27 28 29 30 31\n",
      "\n",
      "       April                      May                       June\n",
      "Mo Tu We Th Fr Sa Su      Mo Tu We Th Fr Sa Su      Mo Tu We Th Fr Sa Su\n",
      " 1  2  3  4  5  6  7             1  2  3  4  5                      1  2\n",
      " 8  9 10 11 12 13 14       6  7  8  9 10 11 12       3  4  5  6  7  8  9\n",
      "15 16 17 18 19 20 21      13 14 15 16 17 18 19      10 11 12 13 14 15 16\n",
      "22 23 24 25 26 27 28      20 21 22 23 24 25 26      17 18 19 20 21 22 23\n",
      "29 30                     27 28 29 30 31            24 25 26 27 28 29 30\n",
      "\n",
      "        July                     August                  September\n",
      "Mo Tu We Th Fr Sa Su      Mo Tu We Th Fr Sa Su      Mo Tu We Th Fr Sa Su\n",
      " 1  2  3  4  5  6  7                1  2  3  4                         1\n",
      " 8  9 10 11 12 13 14       5  6  7  8  9 10 11       2  3  4  5  6  7  8\n",
      "15 16 17 18 19 20 21      12 13 14 15 16 17 18       9 10 11 12 13 14 15\n",
      "22 23 24 25 26 27 28      19 20 21 22 23 24 25      16 17 18 19 20 21 22\n",
      "29 30 31                  26 27 28 29 30 31         23 24 25 26 27 28 29\n",
      "                                                    30\n",
      "\n",
      "      October                   November                  December\n",
      "Mo Tu We Th Fr Sa Su      Mo Tu We Th Fr Sa Su      Mo Tu We Th Fr Sa Su\n",
      "    1  2  3  4  5  6                   1  2  3                         1\n",
      " 7  8  9 10 11 12 13       4  5  6  7  8  9 10       2  3  4  5  6  7  8\n",
      "14 15 16 17 18 19 20      11 12 13 14 15 16 17       9 10 11 12 13 14 15\n",
      "21 22 23 24 25 26 27      18 19 20 21 22 23 24      16 17 18 19 20 21 22\n",
      "28 29 30 31               25 26 27 28 29 30         23 24 25 26 27 28 29\n",
      "                                                    30 31\n",
      "\n"
     ]
    }
   ],
   "source": [
    "calendar_display(2030)"
   ]
  },
  {
   "cell_type": "code",
   "execution_count": 8,
   "id": "9a1f93b8",
   "metadata": {},
   "outputs": [],
   "source": [
    "# 4. Write a Python program to solve quadratic equation?\n",
    "\n",
    "# Sol:\n",
    "\n",
    "#     We know the quadratic equation which is in the form ax**2+bx+c\n",
    "\n",
    "def quadratic():\n",
    "    \n",
    "    import cmath\n",
    "    \n",
    "    a = int(input(\"Enter the value of a : \"))\n",
    "    b = int(input(\"Enter the value of b : \"))\n",
    "    c = int(input(\"Enter the value of c : \"))\n",
    "    \n",
    "    # Here i'm finding the b**2-4ac value for further caluclation\n",
    "\n",
    "    d = (b ** 2) - 4 * a * c\n",
    "    \n",
    "\n",
    "    sol1 = (-b-cmath.sqrt(d))/(2*a)\n",
    "    sol2 = (-b+cmath.sqrt(d))/(2*a)\n",
    "    \n",
    "    equation = \"{}x**2+{}x+{}\".format(a, b, c)\n",
    "    \n",
    "    return f'The solution of the quadratic equation {equation} is {sol1, sol2}'"
   ]
  },
  {
   "cell_type": "code",
   "execution_count": 9,
   "id": "80ad5fe1",
   "metadata": {},
   "outputs": [
    {
     "name": "stdout",
     "output_type": "stream",
     "text": [
      "Enter the value of a : 1\n",
      "Enter the value of b : -6\n",
      "Enter the value of c : 9\n"
     ]
    },
    {
     "data": {
      "text/plain": [
       "'The solution of the quadratic equation 1x**2+-6x+9 is ((3+0j), (3+0j))'"
      ]
     },
     "execution_count": 9,
     "metadata": {},
     "output_type": "execute_result"
    }
   ],
   "source": [
    "quadratic()"
   ]
  },
  {
   "cell_type": "code",
   "execution_count": 10,
   "id": "b196259e",
   "metadata": {},
   "outputs": [
    {
     "name": "stdout",
     "output_type": "stream",
     "text": [
      "Enter your first number : 2005\n",
      "Enter your second number : 5002\n",
      "Before swapping the two numbers :         \n",
      "\ta : 2005        \n",
      "\tb : 5002\n",
      "After swapping the two numbers :         \n",
      "\ta : 5002        \n",
      "\tb : 2005\n"
     ]
    }
   ],
   "source": [
    "# 5. Write a Python program to swap two variables without temp variable?\n",
    "\n",
    "\n",
    "a = int(input(\"Enter your first number : \"))\n",
    "b = int(input(\"Enter your second number : \"))\n",
    "\n",
    "def swap(a, b): \n",
    "    try:\n",
    "        print(\"Before swapping the two numbers : \\\n",
    "        \\n\\ta : {}\\\n",
    "        \\n\\tb : {}\".format(a, b))\n",
    "        a, b = b, a\n",
    "        print(\"After swapping the two numbers : \\\n",
    "        \\n\\ta : {}\\\n",
    "        \\n\\tb : {}\".format(a, b))\n",
    "    except Exception as e:\n",
    "        print(f\"The occured error is {e}\")\n",
    "    \n",
    "swap(a, b)"
   ]
  },
  {
   "cell_type": "code",
   "execution_count": null,
   "id": "abe18309",
   "metadata": {},
   "outputs": [],
   "source": []
  }
 ],
 "metadata": {
  "kernelspec": {
   "display_name": "Python 3 (ipykernel)",
   "language": "python",
   "name": "python3"
  },
  "language_info": {
   "codemirror_mode": {
    "name": "ipython",
    "version": 3
   },
   "file_extension": ".py",
   "mimetype": "text/x-python",
   "name": "python",
   "nbconvert_exporter": "python",
   "pygments_lexer": "ipython3",
   "version": "3.9.7"
  }
 },
 "nbformat": 4,
 "nbformat_minor": 5
}
