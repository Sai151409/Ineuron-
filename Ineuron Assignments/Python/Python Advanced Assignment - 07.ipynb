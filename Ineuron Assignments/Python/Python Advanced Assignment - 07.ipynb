{
 "cells": [
  {
   "cell_type": "markdown",
   "id": "937b8303",
   "metadata": {},
   "source": [
    "###### Q1. What is the purpose of the try statement?\n",
    "Sol : try statement is used for exception handling in python. it consists of a block of risky statements which might cause an exception during runtime. if code within try block raises exception, then the exception will be reverted to the corresponding except block if multiple except blocks are present, else it willbe reverted to the default except block. In short try and except in union avoid programs from crashing during runtime due to exceptions."
   ]
  },
  {
   "cell_type": "code",
   "execution_count": 2,
   "id": "04f34a4a",
   "metadata": {},
   "outputs": [
    {
     "name": "stdout",
     "output_type": "stream",
     "text": [
      "division by zero\n"
     ]
    }
   ],
   "source": [
    "try:\n",
    "    x = 45\n",
    "    print(x / 0)\n",
    "except Exception as e:\n",
    "    print(e)"
   ]
  },
  {
   "cell_type": "markdown",
   "id": "df5f70aa",
   "metadata": {},
   "source": [
    "###### Q2. What are the two most popular try statement variations?\n",
    "Sol : The Popular try statement variations are:\n",
    "\n",
    "* try,except\n",
    "* try,except,finally\n",
    "* try,except,finally,else\n",
    "The try block is used to check code for exceptions during runtime. ie code inside try block will execute completely when there is no error in the program. Whereas the code inside except block will execute whenever the program encounters some error in the preceeding try block.\n",
    "\n",
    "Whereas the code enters the else block if and only if the try clause does not raise and exception. The code in the finally block will execute irrespective of exception."
   ]
  },
  {
   "cell_type": "markdown",
   "id": "0a31d0ca",
   "metadata": {},
   "source": [
    "###### Q3. What is the purpose of the raise statement?\n",
    "Sol : raise statement is used to trigger an exception explicitly, if a certain condition is not as per requirement of programmer. raise statement helps in triggering exception as per programming logic."
   ]
  },
  {
   "cell_type": "markdown",
   "id": "2d7c2c26",
   "metadata": {},
   "source": [
    "###### Q4. What does the assert statement do, and what other statement is it like?\n",
    "Sol: There are few assertions that programmer always want to be true to avoid code failure. This type of requirement is fulfilled by assert statement. This statement takes a boolean condition output of which is True, Further Program Executes. if output of assert statement is False, it raises an Assertion Error."
   ]
  },
  {
   "cell_type": "markdown",
   "id": "37235f3b",
   "metadata": {},
   "source": [
    "###### Q5. What is the purpose of the with/as argument, and what other statement is it like?\n",
    "Sol : with/as statement simplifies use of file handling in python. When we use a with statement for file reading, there is no need for programmer to explicitly takecare of activities like resource deallocation and file closing by using file.close() method. with statement itself ensures proper acquisition and release of resources. this avoids triggering of exceptions if file closing is unknowingly forgotten in the code execution."
   ]
  },
  {
   "cell_type": "code",
   "execution_count": null,
   "id": "23d5541e",
   "metadata": {},
   "outputs": [],
   "source": []
  },
  {
   "cell_type": "code",
   "execution_count": null,
   "id": "022c4925",
   "metadata": {},
   "outputs": [],
   "source": []
  }
 ],
 "metadata": {
  "kernelspec": {
   "display_name": "Python 3 (ipykernel)",
   "language": "python",
   "name": "python3"
  },
  "language_info": {
   "codemirror_mode": {
    "name": "ipython",
    "version": 3
   },
   "file_extension": ".py",
   "mimetype": "text/x-python",
   "name": "python",
   "nbconvert_exporter": "python",
   "pygments_lexer": "ipython3",
   "version": "3.9.12"
  }
 },
 "nbformat": 4,
 "nbformat_minor": 5
}
