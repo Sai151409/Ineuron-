{
 "cells": [
  {
   "cell_type": "code",
   "execution_count": 1,
   "id": "7f352aea",
   "metadata": {},
   "outputs": [],
   "source": [
    "# Q1. Create a function that takes an integer and returns a list from 1 to the given number, where:\n",
    "#    1. If the number can be divided evenly by 4, amplify it by 10 (i.e. return 10 times the number).\n",
    "#    2. If the number cannot be divided evenly by 4, simply return the number.\n",
    "#    Examples : \n",
    "#        amplify(4) ➞ [1, 2, 3, 40]\n",
    "#        amplify(3) ➞ [1, 2, 3]\n",
    "#        amplify(25) ➞ [1, 2, 3, 40, 5, 6, 7, 80, 9, 10, 11, 120, 13, 14, 15, 160,\n",
    "#        17, 18, 19, 200, 21, 22, 23, 240, 25]\n",
    "#    Notes :\n",
    "#        The given integer will always be equal to or greater than 1.\n",
    "#        Include the number (see example above).\n",
    "#        To perform this problem with its intended purpose, try doing it with list\n",
    "#        comprehensions. If that&#39;s too difficult, just solve the challenge any way you can.\n",
    "\n",
    "# Sol :\n",
    "\n",
    "def amplify(num):\n",
    "    try:\n",
    "        k = []\n",
    "        if num > 1:\n",
    "            for i in range(1, num+1):\n",
    "                if i % 4 == 0:\n",
    "                    h = int(i/4)\n",
    "                    r = 4 * 10 * h\n",
    "                    k.append(r)\n",
    "                else:\n",
    "                    k.append(i)\n",
    "        return k\n",
    "    except Exception as e:\n",
    "        print('The error has occured')\n",
    "        print('The error is : ', e)"
   ]
  },
  {
   "cell_type": "code",
   "execution_count": 2,
   "id": "3d88a640",
   "metadata": {},
   "outputs": [
    {
     "data": {
      "text/plain": [
       "[1, 2, 3, 40]"
      ]
     },
     "execution_count": 2,
     "metadata": {},
     "output_type": "execute_result"
    }
   ],
   "source": [
    "amplify(4)"
   ]
  },
  {
   "cell_type": "code",
   "execution_count": 3,
   "id": "ec6db56d",
   "metadata": {},
   "outputs": [
    {
     "data": {
      "text/plain": [
       "[1, 2, 3]"
      ]
     },
     "execution_count": 3,
     "metadata": {},
     "output_type": "execute_result"
    }
   ],
   "source": [
    "amplify(3)"
   ]
  },
  {
   "cell_type": "code",
   "execution_count": 4,
   "id": "be2fb037",
   "metadata": {},
   "outputs": [
    {
     "data": {
      "text/plain": [
       "[1,\n",
       " 2,\n",
       " 3,\n",
       " 40,\n",
       " 5,\n",
       " 6,\n",
       " 7,\n",
       " 80,\n",
       " 9,\n",
       " 10,\n",
       " 11,\n",
       " 120,\n",
       " 13,\n",
       " 14,\n",
       " 15,\n",
       " 160,\n",
       " 17,\n",
       " 18,\n",
       " 19,\n",
       " 200,\n",
       " 21,\n",
       " 22,\n",
       " 23,\n",
       " 240,\n",
       " 25]"
      ]
     },
     "execution_count": 4,
     "metadata": {},
     "output_type": "execute_result"
    }
   ],
   "source": [
    "amplify(25)"
   ]
  },
  {
   "cell_type": "code",
   "execution_count": 5,
   "id": "794f5ec6",
   "metadata": {},
   "outputs": [],
   "source": [
    "# Q2. Create a function that takes a list of numbers and return the number that's unique. \n",
    "#     Examples :\n",
    "#         unique([3, 3, 3, 7, 3, 3]) ➞ 7\n",
    "#         unique([0, 0, 0.77, 0, 0]) ➞ 0.77\n",
    "#         unique([0, 1, 1, 1, 1, 1, 1, 1]) ➞ 0\n",
    "#     Notes :\n",
    "#         Test cases will always have exactly one unique number while all others are the same.\n",
    "\n",
    "# Sol :\n",
    "\n",
    "def unique(lst):\n",
    "    try:\n",
    "        k = []\n",
    "        for i in lst:\n",
    "            if lst.count(i) == 1:\n",
    "                k.append(i)\n",
    "        return k\n",
    "    except Exception as e:\n",
    "        print('The error has occured')\n",
    "        print('The error is : ', e)"
   ]
  },
  {
   "cell_type": "code",
   "execution_count": 6,
   "id": "a7f09346",
   "metadata": {},
   "outputs": [
    {
     "data": {
      "text/plain": [
       "[7]"
      ]
     },
     "execution_count": 6,
     "metadata": {},
     "output_type": "execute_result"
    }
   ],
   "source": [
    "unique([3, 3, 3, 7, 3, 3])"
   ]
  },
  {
   "cell_type": "code",
   "execution_count": 7,
   "id": "a8249af8",
   "metadata": {},
   "outputs": [
    {
     "data": {
      "text/plain": [
       "[0.77]"
      ]
     },
     "execution_count": 7,
     "metadata": {},
     "output_type": "execute_result"
    }
   ],
   "source": [
    "unique([0, 0, 0.77, 0, 0])"
   ]
  },
  {
   "cell_type": "code",
   "execution_count": 8,
   "id": "bb9c0dd0",
   "metadata": {},
   "outputs": [
    {
     "data": {
      "text/plain": [
       "[0]"
      ]
     },
     "execution_count": 8,
     "metadata": {},
     "output_type": "execute_result"
    }
   ],
   "source": [
    "unique([0, 1, 1, 1, 1, 1, 1, 1])"
   ]
  },
  {
   "cell_type": "code",
   "execution_count": 9,
   "id": "8a3ff04a",
   "metadata": {},
   "outputs": [],
   "source": [
    "# Q3. Your task is to create a Circle constructor that creates a circle with a radius provided by an argument. \n",
    "#     The circles constructed must have two getters getArea() (PIr^2) and\n",
    "#     getPerimeter() (2PI*r) which give both respective areas and perimeter (circumference).\n",
    "# \n",
    "#     For help with this class, I have provided you with a Rectangle constructor which you can use as a base example.\n",
    "#     Examples :\n",
    "#        circy = Circle(11)\n",
    "#        circy.getArea()\n",
    "#           Should return 380.132711084365\n",
    "#        circy = Circle(4.44)\n",
    "#        circy.getPerimeter()\n",
    "#         Should return 27.897342763877365\n",
    "#     Notes :\n",
    "#        Round results up to the nearest integer.\n",
    "\n",
    "# Sol :\n",
    "\n",
    "import math\n",
    "class Circle:\n",
    "    def __init__(self, radius):\n",
    "        self.radius = radius\n",
    "    def getArea(self):\n",
    "        return (math.pi * (self.radius ** 2))\n",
    "    def getPerimeter(self):\n",
    "        return (2 * math.pi * self.radius)"
   ]
  },
  {
   "cell_type": "code",
   "execution_count": 10,
   "id": "a51ecfc0",
   "metadata": {},
   "outputs": [],
   "source": [
    "circy = Circle(11)"
   ]
  },
  {
   "cell_type": "code",
   "execution_count": 11,
   "id": "b79f9d8f",
   "metadata": {},
   "outputs": [
    {
     "data": {
      "text/plain": [
       "380.132711084365"
      ]
     },
     "execution_count": 11,
     "metadata": {},
     "output_type": "execute_result"
    }
   ],
   "source": [
    "circy.getArea()"
   ]
  },
  {
   "cell_type": "code",
   "execution_count": 12,
   "id": "46e460f5",
   "metadata": {},
   "outputs": [],
   "source": [
    "circy = Circle(4.44)"
   ]
  },
  {
   "cell_type": "code",
   "execution_count": 13,
   "id": "d0bc744d",
   "metadata": {},
   "outputs": [
    {
     "data": {
      "text/plain": [
       "27.897342763877365"
      ]
     },
     "execution_count": 13,
     "metadata": {},
     "output_type": "execute_result"
    }
   ],
   "source": [
    "circy.getPerimeter()"
   ]
  },
  {
   "cell_type": "code",
   "execution_count": 14,
   "id": "afabbf62",
   "metadata": {},
   "outputs": [],
   "source": [
    "# Q4. Create a function that takes a list of strings and return a list, sorted from shortest to longest.\n",
    "#     Examples :\n",
    "#   sort_by_length(['Google', 'Apple', 'Microsoft']) ➞ ['Apple', 'Google', 'Microsoft']\n",
    "#   sort_by_length(['Leonardo', 'Michelangelo', 'Raphael', 'Donatello']) ➞ ['Raphael', 'Leonardo', 'Donatello', 'Michelangelo']\n",
    "#   sort_by_length(['Turing', 'Einstein', 'Jung']) ➞ ['Jung', 'Turing', 'Einstein']\n",
    "#   Notes :\n",
    "#      All test cases contain lists with strings of different lengths, \n",
    "#      so you won't have to deal with multiple strings of the same length.\n",
    "\n",
    "# Sol :\n",
    "def sort_by_length(lst):\n",
    "    try :\n",
    "        r = []\n",
    "        k = {}\n",
    "        for i in lst:\n",
    "            k[len(i)] = i\n",
    "        h = list(k.keys())\n",
    "        h.sort()\n",
    "        for i in h:\n",
    "            r.append(k[i])\n",
    "        return r\n",
    "    except Exception as e:\n",
    "        print('The error has occured')\n",
    "        print('The error is : ', e )"
   ]
  },
  {
   "cell_type": "code",
   "execution_count": 15,
   "id": "76ecab16",
   "metadata": {},
   "outputs": [
    {
     "data": {
      "text/plain": [
       "['Apple', 'Google', 'Microsoft']"
      ]
     },
     "execution_count": 15,
     "metadata": {},
     "output_type": "execute_result"
    }
   ],
   "source": [
    "sort_by_length(['Google', 'Apple', 'Microsoft'])"
   ]
  },
  {
   "cell_type": "code",
   "execution_count": 16,
   "id": "e87b3635",
   "metadata": {},
   "outputs": [
    {
     "data": {
      "text/plain": [
       "['Raphael', 'Leonardo', 'Donatello', 'Michelangelo']"
      ]
     },
     "execution_count": 16,
     "metadata": {},
     "output_type": "execute_result"
    }
   ],
   "source": [
    "sort_by_length(['Leonardo', 'Michelangelo', 'Raphael', 'Donatello'])"
   ]
  },
  {
   "cell_type": "code",
   "execution_count": 17,
   "id": "042ea680",
   "metadata": {},
   "outputs": [
    {
     "data": {
      "text/plain": [
       "['Jung', 'Turing', 'Einstein']"
      ]
     },
     "execution_count": 17,
     "metadata": {},
     "output_type": "execute_result"
    }
   ],
   "source": [
    "sort_by_length(['Turing', 'Einstein', 'Jung'])"
   ]
  },
  {
   "cell_type": "code",
   "execution_count": 18,
   "id": "0b65f910",
   "metadata": {},
   "outputs": [],
   "source": [
    "# Q5. Create a function that validates whether three given integers form a Pythagorean triplet. The\n",
    "#     sum of the squares of the two smallest integers must equal the square of the largest number to\n",
    "#     be validated.\n",
    "\n",
    "#     Examples : \n",
    "#       is_triplet(3, 4, 5) ➞ True\n",
    "#           3² + 4² = 25\n",
    "#           5² = 25\n",
    "#       is_triplet(13, 5, 12) ➞ True\n",
    "#           5² + 12² = 169\n",
    "#           13² = 169\n",
    "#       is_triplet(1, 2, 3) ➞ False\n",
    "#           1² + 2² = 5\n",
    "#           3² = 9\n",
    "#     Notes:\n",
    "#       Numbers may not be given in a sorted order.\n",
    "\n",
    "def is_triplet(p,q,r):\n",
    "    try:\n",
    "        if p ** 2 == q ** 2 + r ** 2:\n",
    "            return True\n",
    "        elif q ** 2 == p ** 2 + r ** 2:\n",
    "            return True\n",
    "        elif r ** 2 == p ** 2 + q ** 2:\n",
    "            return True\n",
    "        else:\n",
    "            return False\n",
    "    except Exception as e:\n",
    "        print('The error has occured')\n",
    "        print('The error is : ', e)"
   ]
  },
  {
   "cell_type": "code",
   "execution_count": 19,
   "id": "f936d6e6",
   "metadata": {},
   "outputs": [
    {
     "data": {
      "text/plain": [
       "True"
      ]
     },
     "execution_count": 19,
     "metadata": {},
     "output_type": "execute_result"
    }
   ],
   "source": [
    "is_triplet(3, 4, 5)"
   ]
  },
  {
   "cell_type": "code",
   "execution_count": 20,
   "id": "5d6384b7",
   "metadata": {},
   "outputs": [
    {
     "data": {
      "text/plain": [
       "True"
      ]
     },
     "execution_count": 20,
     "metadata": {},
     "output_type": "execute_result"
    }
   ],
   "source": [
    "is_triplet(13, 5, 12)"
   ]
  },
  {
   "cell_type": "code",
   "execution_count": 21,
   "id": "e0030de7",
   "metadata": {},
   "outputs": [
    {
     "data": {
      "text/plain": [
       "False"
      ]
     },
     "execution_count": 21,
     "metadata": {},
     "output_type": "execute_result"
    }
   ],
   "source": [
    "is_triplet(1, 2, 3)"
   ]
  },
  {
   "cell_type": "code",
   "execution_count": null,
   "id": "cada280f",
   "metadata": {},
   "outputs": [],
   "source": []
  },
  {
   "cell_type": "code",
   "execution_count": null,
   "id": "cfa31450",
   "metadata": {},
   "outputs": [],
   "source": []
  },
  {
   "cell_type": "code",
   "execution_count": null,
   "id": "2a69f993",
   "metadata": {},
   "outputs": [],
   "source": []
  },
  {
   "cell_type": "code",
   "execution_count": null,
   "id": "d899fc71",
   "metadata": {},
   "outputs": [],
   "source": []
  },
  {
   "cell_type": "code",
   "execution_count": null,
   "id": "90936af2",
   "metadata": {},
   "outputs": [],
   "source": []
  }
 ],
 "metadata": {
  "kernelspec": {
   "display_name": "Python 3 (ipykernel)",
   "language": "python",
   "name": "python3"
  },
  "language_info": {
   "codemirror_mode": {
    "name": "ipython",
    "version": 3
   },
   "file_extension": ".py",
   "mimetype": "text/x-python",
   "name": "python",
   "nbconvert_exporter": "python",
   "pygments_lexer": "ipython3",
   "version": "3.9.7"
  }
 },
 "nbformat": 4,
 "nbformat_minor": 5
}
