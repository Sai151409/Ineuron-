{
 "cells": [
  {
   "cell_type": "code",
   "execution_count": 1,
   "id": "26c37665",
   "metadata": {},
   "outputs": [],
   "source": [
    "# 1. For this challenge, forget how to add two numbers together. The best explanation on what to do for this function is this \n",
    "#    meme:\n",
    "\n",
    "#    Examples:\n",
    "#      meme_sum(26, 39) ➞ 515\n",
    "#      2+3 = 5, 6+9 = 15\n",
    "#      26 + 39 = 515\n",
    "#      meme_sum(122, 81) ➞ 1103\n",
    "#      1+0 = 1, 2+8 = 10, 2+1 = 3\n",
    "#      122 + 81 = 1103\n",
    "#      meme_sum(1222, 30277) ➞ 31499\n",
    "\n",
    "# Sol :\n",
    "\n",
    "def meme_sum(a, b):\n",
    "    try: \n",
    "        result = ''\n",
    "        a, b = str(a), str(b)\n",
    "        if len(a) > len(b):\n",
    "            result += a[:(len(a) - len(b))]\n",
    "            for i in range(len(b)):\n",
    "                s = int(a[i+(len(a) - len(b))]) + int(b[i])\n",
    "                result+=str(s)\n",
    "        elif len(a) < len(b):\n",
    "            result += b[:(len(b) - len(a))]\n",
    "            for i in range(len(a)):\n",
    "                s = int(a[i]) + int(b[i + (len(b) - len(a))])\n",
    "                result += str(s)\n",
    "        else:\n",
    "            for i in range(len(a)):\n",
    "                s = int(a[i]) + int(b[i])\n",
    "                result += str(s)\n",
    "        return int(result)\n",
    "    except Exception as e:\n",
    "        return e"
   ]
  },
  {
   "cell_type": "code",
   "execution_count": 2,
   "id": "e87fd1d2",
   "metadata": {},
   "outputs": [
    {
     "data": {
      "text/plain": [
       "515"
      ]
     },
     "execution_count": 2,
     "metadata": {},
     "output_type": "execute_result"
    }
   ],
   "source": [
    "meme_sum(26, 39)"
   ]
  },
  {
   "cell_type": "code",
   "execution_count": 3,
   "id": "649ecc1d",
   "metadata": {},
   "outputs": [
    {
     "data": {
      "text/plain": [
       "1103"
      ]
     },
     "execution_count": 3,
     "metadata": {},
     "output_type": "execute_result"
    }
   ],
   "source": [
    "meme_sum(122, 81)"
   ]
  },
  {
   "cell_type": "code",
   "execution_count": 4,
   "id": "5ec61816",
   "metadata": {},
   "outputs": [
    {
     "data": {
      "text/plain": [
       "31499"
      ]
     },
     "execution_count": 4,
     "metadata": {},
     "output_type": "execute_result"
    }
   ],
   "source": [
    "meme_sum(1222, 30277)"
   ]
  },
  {
   "cell_type": "code",
   "execution_count": 5,
   "id": "7f46d483",
   "metadata": {},
   "outputs": [],
   "source": [
    "# 2. Given an integer, create a function that returns the next prime. If the number is prime, return the number itself.\n",
    "#    Examples:\n",
    "#       next_prime(12) ➞ 13\n",
    "#       next_prime(24) ➞ 29\n",
    "#       next_prime(11) ➞ 11\n",
    "#       11 is a prime, so we return the number itself.\n",
    "\n",
    "# Sol :\n",
    "\n",
    "def next_primes(num):\n",
    "    try:\n",
    "        while True:\n",
    "            for i in range(2, num):\n",
    "                if num%i == 0:\n",
    "                    break\n",
    "            else:\n",
    "                print(num)\n",
    "                break\n",
    "            num += 1\n",
    "    except Exception as e:\n",
    "        return e"
   ]
  },
  {
   "cell_type": "code",
   "execution_count": 6,
   "id": "d15df857",
   "metadata": {},
   "outputs": [
    {
     "name": "stdout",
     "output_type": "stream",
     "text": [
      "13\n"
     ]
    }
   ],
   "source": [
    "next_primes(12)"
   ]
  },
  {
   "cell_type": "code",
   "execution_count": 7,
   "id": "05c89bb6",
   "metadata": {},
   "outputs": [
    {
     "name": "stdout",
     "output_type": "stream",
     "text": [
      "29\n"
     ]
    }
   ],
   "source": [
    "next_primes(24)"
   ]
  },
  {
   "cell_type": "code",
   "execution_count": 8,
   "id": "c81f237d",
   "metadata": {},
   "outputs": [
    {
     "name": "stdout",
     "output_type": "stream",
     "text": [
      "11\n"
     ]
    }
   ],
   "source": [
    "next_primes(11)"
   ]
  },
  {
   "cell_type": "code",
   "execution_count": 9,
   "id": "2f5ce824",
   "metadata": {},
   "outputs": [],
   "source": [
    "# 3. If a person traveled up a hill for 18mins at 20mph and then traveled back down the same path at 60mph then their average\n",
    "#    speed traveled was 30mph.\n",
    "#    Write a function that returns the average speed traveled given an uphill time, uphill rate and a downhill rate. \n",
    "#    Uphill time is given in minutes. Return the rate as an integer (mph). No rounding is necessary.\n",
    "\n",
    "#    Examples:\n",
    "#      ave_spd(18, 20, 60) ➞ 30\n",
    "#      ave_spd(30, 10, 30) ➞ 15\n",
    "#      ave_spd(30, 8, 24) ➞ 12\n",
    "\n",
    "# Sol :\n",
    "\n",
    "def ave_spd(up_time, up_speed, down_speed):\n",
    "    try:\n",
    "        distance = up_speed*(up_time/60)\n",
    "        down_time = distance / (down_speed)\n",
    "        ave_speed = (2 * distance) / ((up_time/60)+down_time)\n",
    "        return ave_speed\n",
    "    except Exception as e:\n",
    "        return e"
   ]
  },
  {
   "cell_type": "code",
   "execution_count": 10,
   "id": "d11b98b0",
   "metadata": {},
   "outputs": [
    {
     "data": {
      "text/plain": [
       "30.0"
      ]
     },
     "execution_count": 10,
     "metadata": {},
     "output_type": "execute_result"
    }
   ],
   "source": [
    "ave_spd(18, 20, 60)"
   ]
  },
  {
   "cell_type": "code",
   "execution_count": 11,
   "id": "8571ba37",
   "metadata": {},
   "outputs": [
    {
     "data": {
      "text/plain": [
       "15.0"
      ]
     },
     "execution_count": 11,
     "metadata": {},
     "output_type": "execute_result"
    }
   ],
   "source": [
    "ave_spd(30, 10, 30)"
   ]
  },
  {
   "cell_type": "code",
   "execution_count": 12,
   "id": "05a56fe0",
   "metadata": {},
   "outputs": [
    {
     "data": {
      "text/plain": [
       "12.0"
      ]
     },
     "execution_count": 12,
     "metadata": {},
     "output_type": "execute_result"
    }
   ],
   "source": [
    "ave_spd(30, 8, 24)"
   ]
  },
  {
   "cell_type": "code",
   "execution_count": 13,
   "id": "825fb9e2",
   "metadata": {},
   "outputs": [],
   "source": [
    "# 4. The Kempner Function, applied to a composite number, permits to find the smallest integer greater than zero whose\n",
    "#    factorial is exactly divided by the number.\n",
    "#    kempner(6) ➞ 3 1! = 1 % 6 > 0 2! = 2 % 6 > 0 3! = 6 % 6 === 0\n",
    "\n",
    "#    kempner(10) ➞ 5 1! = 1 % 10 > 0 2! = 2 % 10 > 0 3! = 6 % 10 > 0 4! = 24 % 10 > 0 5! = 120 % 10 === 0\n",
    "\n",
    "#    A Kempner Function applied to a prime will always return the prime itself.\n",
    "#    kempner(2) ➞ 2\n",
    "#    kempner(5) ➞ 5\n",
    "\n",
    "#    Given an integer n, implement a Kempner Function.\n",
    "\n",
    "#    Examples:\n",
    "#    kempner(6) ➞ 3\n",
    "#    kempner(10) ➞ 5\n",
    "#    kempner(2) ➞ 2\n",
    "\n",
    "def kempner(n):\n",
    "    try:\n",
    "        def fact(n):\n",
    "            if n == 0:\n",
    "                return 1\n",
    "            return n * fact(n-1)\n",
    "        for i in range(n+1):\n",
    "            result = fact(i)\n",
    "            if result % n == 0:\n",
    "                return i\n",
    "    except Exception as e:\n",
    "        return e"
   ]
  },
  {
   "cell_type": "code",
   "execution_count": 14,
   "id": "3cd127e0",
   "metadata": {},
   "outputs": [
    {
     "data": {
      "text/plain": [
       "3"
      ]
     },
     "execution_count": 14,
     "metadata": {},
     "output_type": "execute_result"
    }
   ],
   "source": [
    "kempner(6)"
   ]
  },
  {
   "cell_type": "code",
   "execution_count": 15,
   "id": "c4515d34",
   "metadata": {},
   "outputs": [
    {
     "data": {
      "text/plain": [
       "5"
      ]
     },
     "execution_count": 15,
     "metadata": {},
     "output_type": "execute_result"
    }
   ],
   "source": [
    "kempner(10)"
   ]
  },
  {
   "cell_type": "code",
   "execution_count": 16,
   "id": "d093206c",
   "metadata": {},
   "outputs": [
    {
     "data": {
      "text/plain": [
       "2"
      ]
     },
     "execution_count": 16,
     "metadata": {},
     "output_type": "execute_result"
    }
   ],
   "source": [
    "kempner(2)"
   ]
  },
  {
   "cell_type": "code",
   "execution_count": 17,
   "id": "bbc1fee3",
   "metadata": {},
   "outputs": [],
   "source": [
    "# 5. You work in a factory, and your job is to take items from a conveyor belt and pack them into boxes. Each box can hold \n",
    "#    a maximum of 10 kgs. Given a list containing the weight (in kg) of each item, how many boxes would you need to pack all \n",
    "#    of the items?\n",
    "#    Examples:\n",
    "#       boxes([2, 1, 2, 5, 4, 3, 6, 1, 1, 9, 3, 2]) ➞ 5\n",
    "#       Box 1 = [2, 1, 2, 5] (10kg)\n",
    "#       Box 2 = [4, 3] (7kg)\n",
    "#       Box 3 = [6, 1, 1] (8kg)\n",
    "#       Box 4 = [9] (9kg)\n",
    "#       Box 5 = [3, 2] (5kg)\n",
    "\n",
    "# Sol :\n",
    "\n",
    "def boxes(in_list):\n",
    "    try:\n",
    "        in_list_clone = in_list.copy()\n",
    "        output = []\n",
    "        temp_box = []\n",
    "        while True:\n",
    "            if len(in_list) != 0:\n",
    "                if sum(temp_box) <= 10:\n",
    "                    temp_box.append(in_list.pop(0))\n",
    "                else:\n",
    "                    in_list.insert(0,temp_box.pop())\n",
    "                    output.append(temp_box)\n",
    "                    temp_box = []\n",
    "            else:\n",
    "                output.append(temp_box)\n",
    "                temp_box = []\n",
    "                break\n",
    "        return f'boxes = {len(output)}'\n",
    "    except Exception as e:\n",
    "        return e"
   ]
  },
  {
   "cell_type": "code",
   "execution_count": 18,
   "id": "12b34236",
   "metadata": {},
   "outputs": [
    {
     "data": {
      "text/plain": [
       "'boxes = 5'"
      ]
     },
     "execution_count": 18,
     "metadata": {},
     "output_type": "execute_result"
    }
   ],
   "source": [
    "boxes([2, 1, 2, 5, 4, 3, 6, 1, 1, 9, 3, 2])"
   ]
  },
  {
   "cell_type": "code",
   "execution_count": null,
   "id": "06c6ee35",
   "metadata": {},
   "outputs": [],
   "source": []
  },
  {
   "cell_type": "code",
   "execution_count": null,
   "id": "7411451f",
   "metadata": {},
   "outputs": [],
   "source": []
  }
 ],
 "metadata": {
  "kernelspec": {
   "display_name": "Python 3 (ipykernel)",
   "language": "python",
   "name": "python3"
  },
  "language_info": {
   "codemirror_mode": {
    "name": "ipython",
    "version": 3
   },
   "file_extension": ".py",
   "mimetype": "text/x-python",
   "name": "python",
   "nbconvert_exporter": "python",
   "pygments_lexer": "ipython3",
   "version": "3.9.12"
  }
 },
 "nbformat": 4,
 "nbformat_minor": 5
}
