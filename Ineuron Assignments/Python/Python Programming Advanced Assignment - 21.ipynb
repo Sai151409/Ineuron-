{
 "cells": [
  {
   "cell_type": "code",
   "execution_count": 1,
   "id": "9a1b1145",
   "metadata": {},
   "outputs": [],
   "source": [
    "# 1. Given a sentence, return the number of words which have the same first and last letter.\n",
    "#    Examples:\n",
    "#    count_same_ends(\"Pop! goes the balloon\") ➞ 1\n",
    "#    count_same_ends(\"And the crowd goes wild!\") ➞ 0\n",
    "#    count_same_ends(\"No I am not in a gang.\") ➞ 1\n",
    "\n",
    "# Sol :\n",
    "\n",
    "def count_same_ends(in_string):\n",
    "    try :\n",
    "        special_chars = '!@#$%^&*.'\n",
    "        cleaned_string = ''\n",
    "        out_num = 0\n",
    "        for ele in in_string:\n",
    "            if ele not in special_chars:\n",
    "                cleaned_string += ele\n",
    "        for ele in cleaned_string.split(\" \"):\n",
    "            if ele[0].lower() == ele[-1].lower():\n",
    "                if len(ele) != 1:\n",
    "                    out_num +=1\n",
    "        return out_num\n",
    "    except Exception as e:\n",
    "        return e"
   ]
  },
  {
   "cell_type": "code",
   "execution_count": 2,
   "id": "36a9e149",
   "metadata": {},
   "outputs": [
    {
     "data": {
      "text/plain": [
       "1"
      ]
     },
     "execution_count": 2,
     "metadata": {},
     "output_type": "execute_result"
    }
   ],
   "source": [
    "count_same_ends(\"Pop! goes the balloon\")"
   ]
  },
  {
   "cell_type": "code",
   "execution_count": 3,
   "id": "5c3628d5",
   "metadata": {},
   "outputs": [
    {
     "data": {
      "text/plain": [
       "0"
      ]
     },
     "execution_count": 3,
     "metadata": {},
     "output_type": "execute_result"
    }
   ],
   "source": [
    "count_same_ends(\"And the crowd goes wild!\")"
   ]
  },
  {
   "cell_type": "code",
   "execution_count": 4,
   "id": "ebf35031",
   "metadata": {},
   "outputs": [
    {
     "data": {
      "text/plain": [
       "1"
      ]
     },
     "execution_count": 4,
     "metadata": {},
     "output_type": "execute_result"
    }
   ],
   "source": [
    "count_same_ends(\"No I am not in a gang.\")"
   ]
  },
  {
   "cell_type": "code",
   "execution_count": 5,
   "id": "54a4de90",
   "metadata": {},
   "outputs": [],
   "source": [
    "# 2. The Atbash cipher is an encryption method in which each letter of a word is replaced with its \"mirror\" letter in the\n",
    "#    alphabet: A <=> Z; B <=> Y; C <=> X; etc. Create a function that takes a string and applies the Atbash cipher to it.\n",
    "\n",
    "#    Examples:\n",
    "#      atbash(\"apple\") ➞ \"zkkov\"\n",
    "#      atbash(\"Hello world!\") ➞ \"Svool dliow!\"\n",
    "#      atbash(\"Christmas is the 25th of December\") ➞ \"Xsirhgnzh rh gsv 25gs lu Wvxvnyvi\"\n",
    "\n",
    "# Sol :\n",
    "\n",
    "def atbash(in_string):\n",
    "    try :\n",
    "        alpha = 'abcdefghijklmnopqrstuvwxyz'\n",
    "        r_alpha = 'zyxwvutsrqponmlkjihgfedcba'\n",
    "        out_string = ''\n",
    "        for ele in in_string:\n",
    "            if ele not in \" !1234567890\":\n",
    "                out_string += r_alpha[alpha.index(ele.lower())].upper() if ele.isupper() else r_alpha[alpha.index(ele.lower())]\n",
    "            else:\n",
    "                out_string += ele\n",
    "        return out_string\n",
    "    except Exception as e:\n",
    "        return e"
   ]
  },
  {
   "cell_type": "code",
   "execution_count": 6,
   "id": "3ec98694",
   "metadata": {},
   "outputs": [
    {
     "data": {
      "text/plain": [
       "'zkkov'"
      ]
     },
     "execution_count": 6,
     "metadata": {},
     "output_type": "execute_result"
    }
   ],
   "source": [
    "atbash(\"apple\")"
   ]
  },
  {
   "cell_type": "code",
   "execution_count": 7,
   "id": "002eaa9d",
   "metadata": {},
   "outputs": [
    {
     "data": {
      "text/plain": [
       "'Svool dliow!'"
      ]
     },
     "execution_count": 7,
     "metadata": {},
     "output_type": "execute_result"
    }
   ],
   "source": [
    "atbash(\"Hello world!\")"
   ]
  },
  {
   "cell_type": "code",
   "execution_count": 8,
   "id": "37d72fd2",
   "metadata": {},
   "outputs": [
    {
     "data": {
      "text/plain": [
       "'Xsirhgnzh rh gsv 25gs lu Wvxvnyvi'"
      ]
     },
     "execution_count": 8,
     "metadata": {},
     "output_type": "execute_result"
    }
   ],
   "source": [
    "atbash(\"Christmas is the 25th of December\")"
   ]
  },
  {
   "cell_type": "code",
   "execution_count": 9,
   "id": "6e7c1efb",
   "metadata": {},
   "outputs": [],
   "source": [
    "# 3. Create a class Employee that will take a full name as argument, as well as a set of none, one or more keywords.\n",
    "#    Each instance should have a name and a lastname attributes plus one more attribute for each of the keywords, if any.\n",
    "#    Examples:\n",
    "#       john = Employee(\"John Doe\")\n",
    "#       mary = Employee(\"Mary Major\", salary=120000)\n",
    "#       richard = Employee(\"Richard Roe\", salary=110000, height=178)\n",
    "#       giancarlo = Employee(\"Giancarlo Rossi\", salary=115000, height=182, nationality=\"Italian\")\n",
    "\n",
    "#       john.name ➞ \"John\"\n",
    "#       mary.lastname ➞ \"Major\"\n",
    "#       richard.height ➞ 178\n",
    "#       giancarlo.nationality ➞ \"Italian\"\n",
    "\n",
    "# Sol :\n",
    "\n",
    "class Employee:\n",
    "    def __init__(self,name=None,salary=None,height=None,nationality=None):\n",
    "        try:\n",
    "            self.name = name\n",
    "            self.firstname = name.split(\" \")[0]\n",
    "            self.lastname = name.split(\" \")[1]\n",
    "            self.salary = salary\n",
    "            self.height = height\n",
    "            self.nationality = nationality\n",
    "        except Exception as e:\n",
    "            return e"
   ]
  },
  {
   "cell_type": "code",
   "execution_count": 10,
   "id": "693c87cc",
   "metadata": {},
   "outputs": [],
   "source": [
    "john = Employee(\"John Doe\")    \n",
    "mary = Employee(\"Mary Major\",salary=120000)\n",
    "richard = Employee(\"Richard Roe\", salary=110000, height=178)\n",
    "giancarlo = Employee(\"Giancarlo Rossi\", salary=115000, height=182, nationality=\"Italian\")"
   ]
  },
  {
   "cell_type": "code",
   "execution_count": 11,
   "id": "e5d5383d",
   "metadata": {},
   "outputs": [
    {
     "name": "stdout",
     "output_type": "stream",
     "text": [
      "John Doe\n",
      "Major\n",
      "178\n",
      "Italian\n"
     ]
    }
   ],
   "source": [
    "print(john.name)\n",
    "print(mary.lastname)\n",
    "print(richard.height)\n",
    "print(giancarlo.nationality)"
   ]
  },
  {
   "cell_type": "code",
   "execution_count": 13,
   "id": "f1d2ea63",
   "metadata": {},
   "outputs": [],
   "source": [
    "# 4. Create a function that determines whether each seat can \"see\" the front-stage. A number can \"see\" the front-stage if it \n",
    "#    is strictly greater than the number before it. Everyone can see the front-stage in the example below:\n",
    "\n",
    "#    FRONT STAGE [[1, 2, 3, 2, 1, 1], [2, 4, 4, 3, 2, 2], [5, 5, 5, 5, 4, 4], [6, 6, 7, 6, 5, 5]]\n",
    "\n",
    "#    Starting from the left, the 6 > 5 > 2 > 1, so all numbers can see.\n",
    "#    6 > 5 > 4 > 2 - so all numbers can see, etc.\n",
    "\n",
    "#    Not everyone can see the front-stage in the example below:\n",
    "\n",
    "#    FRONT STAGE [[1, 2, 3, 2, 1, 1], [2, 4, 4, 3, 2, 2], [5, 5, 5, 10, 4, 4], [6, 6, 7, 6, 5, 5]]\n",
    "\n",
    "#    The 10 is directly in front of the 6 and blocking its view.\n",
    "\n",
    "#    The function should return True if every number can see the front-stage, and False if even a single number cannot.\n",
    "\n",
    "#    Examples:\n",
    "#      can_see_stage([[1, 2, 3],[4, 5, 6],[7, 8, 9]]) ➞ True\n",
    "#      can_see_stage([[0, 0, 0],[1, 1, 1],[2, 2, 2]]) ➞ True\n",
    "#      can_see_stage([[2, 0, 0],[1, 1, 1],[2, 2, 2]]) ➞ False\n",
    "#      can_see_stage([[1, 0, 0],[1, 1, 1],[2, 2, 2]]) ➞ False\n",
    "\n",
    "#      Number must be strictly smaller than\n",
    "#      the number directly behind it.\n",
    "\n",
    "# Sol :\n",
    "\n",
    "def can_see_stage(in_list):\n",
    "    try :\n",
    "        transposed_list = []\n",
    "        for ele in range(len(in_list)):\n",
    "            temp_list = []\n",
    "            for item in range(len(in_list[ele])):\n",
    "                temp_list.append(in_list[item][ele])\n",
    "            transposed_list.append(temp_list)\n",
    "        output = True\n",
    "        for ele in transposed_list:\n",
    "            if ele != sorted(ele) or len(ele) != len(set(ele)):\n",
    "                output = False\n",
    "                break\n",
    "        return output\n",
    "    except Exception as e:\n",
    "        return e"
   ]
  },
  {
   "cell_type": "code",
   "execution_count": 14,
   "id": "1b7bdd3a",
   "metadata": {},
   "outputs": [
    {
     "data": {
      "text/plain": [
       "True"
      ]
     },
     "execution_count": 14,
     "metadata": {},
     "output_type": "execute_result"
    }
   ],
   "source": [
    "can_see_stage([[1, 2, 3],[4, 5, 6],[7, 8, 9]])"
   ]
  },
  {
   "cell_type": "code",
   "execution_count": 15,
   "id": "233f922e",
   "metadata": {},
   "outputs": [
    {
     "data": {
      "text/plain": [
       "True"
      ]
     },
     "execution_count": 15,
     "metadata": {},
     "output_type": "execute_result"
    }
   ],
   "source": [
    "can_see_stage([[0, 0, 0],[1, 1, 1],[2, 2, 2]])"
   ]
  },
  {
   "cell_type": "code",
   "execution_count": 16,
   "id": "9575325c",
   "metadata": {},
   "outputs": [
    {
     "data": {
      "text/plain": [
       "False"
      ]
     },
     "execution_count": 16,
     "metadata": {},
     "output_type": "execute_result"
    }
   ],
   "source": [
    "can_see_stage([[2, 0, 0],[1, 1, 1],[2, 2, 2]])"
   ]
  },
  {
   "cell_type": "code",
   "execution_count": 17,
   "id": "4f3d6610",
   "metadata": {},
   "outputs": [
    {
     "data": {
      "text/plain": [
       "False"
      ]
     },
     "execution_count": 17,
     "metadata": {},
     "output_type": "execute_result"
    }
   ],
   "source": [
    "can_see_stage([[1, 0, 0],[1, 1, 1],[2, 2, 2]])"
   ]
  },
  {
   "cell_type": "code",
   "execution_count": 18,
   "id": "5277f0f6",
   "metadata": {},
   "outputs": [],
   "source": [
    "# 5. Create a Pizza class with the attributes order_number and ingredients (which is given as a list). \n",
    "#    Only the ingredients will be given as input. You should also make it so that its possible to choose a ready made pizza \n",
    "#    flavour rather than typing out the ingredients manually! As well as creating this Pizza class, hard-code the following\n",
    "#    pizza flavours.\n",
    "\n",
    "          \n",
    "#    Name\tIngredients\n",
    "#    hawaiian\tham, pineapple\n",
    "#    meat_festival\tbeef, meatball, bacon\n",
    "#    garden_feast\tspinach, olives, mushroom\n",
    "#    Examples:\n",
    "\n",
    "#       p1 = Pizza([\"bacon\", \"parmesan\", \"ham\"]) # order 1\n",
    "#       p2 = Pizza.garden_feast() # order 2\n",
    "#       p1.ingredients ➞ [\"bacon\", \"parmesan\", \"ham\"]\n",
    "#       p2.ingredients ➞ [\"spinach\", \"olives\", \"mushroom\"]\n",
    "#       p1.order_number ➞ 1\n",
    "#       p2.order_number ➞ 2\n",
    "\n",
    "# Sol :\n",
    "\n",
    "\n",
    "class Pizza:\n",
    "    order_count = 0\n",
    "    def __init__(self,ingredients=None):\n",
    "        try:\n",
    "            self.ingredients = ingredients\n",
    "            self.order_number = Pizza.order_count+1\n",
    "            Pizza.order_count = self.order_number\n",
    "        except Exception as e:\n",
    "            return e\n",
    "    def hawaiian(self):\n",
    "        try:\n",
    "            self.ingredients = ['ham', 'pineapple']\n",
    "        except Exception as e:\n",
    "            return e\n",
    "    def meat_festival(self):\n",
    "        try:\n",
    "            self.ingredients = ['beef', 'meatball', 'bacon']\n",
    "        except Exception as e:\n",
    "            return e\n",
    "    def garden_feast(self):\n",
    "        try:\n",
    "            self.ingredients = ['spinach', 'olives', 'mushroom']\n",
    "        except Exception as e:\n",
    "            return e\n",
    "        \n",
    "p1 = Pizza([\"bacon\", \"parmesan\", \"ham\"])\n",
    "p2 = Pizza()\n",
    "p2.garden_feast()"
   ]
  },
  {
   "cell_type": "code",
   "execution_count": 19,
   "id": "bd9a008d",
   "metadata": {},
   "outputs": [
    {
     "name": "stdout",
     "output_type": "stream",
     "text": [
      "['bacon', 'parmesan', 'ham']\n",
      "['spinach', 'olives', 'mushroom']\n",
      "1\n",
      "2\n"
     ]
    }
   ],
   "source": [
    "print(p1.ingredients)\n",
    "print(p2.ingredients)\n",
    "print(p1.order_number)\n",
    "print(p2.order_number)"
   ]
  },
  {
   "cell_type": "code",
   "execution_count": null,
   "id": "1098c7a2",
   "metadata": {},
   "outputs": [],
   "source": []
  }
 ],
 "metadata": {
  "kernelspec": {
   "display_name": "Python 3 (ipykernel)",
   "language": "python",
   "name": "python3"
  },
  "language_info": {
   "codemirror_mode": {
    "name": "ipython",
    "version": 3
   },
   "file_extension": ".py",
   "mimetype": "text/x-python",
   "name": "python",
   "nbconvert_exporter": "python",
   "pygments_lexer": "ipython3",
   "version": "3.9.12"
  }
 },
 "nbformat": 4,
 "nbformat_minor": 5
}
