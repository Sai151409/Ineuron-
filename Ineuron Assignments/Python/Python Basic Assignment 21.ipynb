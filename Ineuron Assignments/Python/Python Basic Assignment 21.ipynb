{
 "cells": [
  {
   "cell_type": "code",
   "execution_count": 1,
   "id": "9dead552",
   "metadata": {},
   "outputs": [],
   "source": [
    "# 1. Add the current date to the text file today.txt as a string.\n",
    "\n",
    "# Sol :\n",
    "\n",
    "from datetime import datetime\n",
    "with open(\"today.txt\", \"w\") as file:\n",
    "    file.write(f\"{datetime.now().strftime('%d - %m - %Y')}\")\n",
    "    file.close()"
   ]
  },
  {
   "cell_type": "code",
   "execution_count": 2,
   "id": "8604aa82",
   "metadata": {},
   "outputs": [
    {
     "name": "stdout",
     "output_type": "stream",
     "text": [
      "06 - 11 - 2022\n"
     ]
    }
   ],
   "source": [
    "# 2. Read the text file today.txt into the string today_string\n",
    "\n",
    "# Sol :\n",
    "\n",
    "with open(\"today.txt\", \"r\") as file:\n",
    "    today_string = file.read()\n",
    "    file.close()\n",
    "print(today_string)"
   ]
  },
  {
   "cell_type": "code",
   "execution_count": 3,
   "id": "9b670e30",
   "metadata": {},
   "outputs": [
    {
     "name": "stdout",
     "output_type": "stream",
     "text": [
      "2022-11-06 00:00:00\n"
     ]
    }
   ],
   "source": [
    "# 3. Parse the date from today_string.\n",
    "\n",
    "# Sol : \n",
    "\n",
    "from datetime import datetime\n",
    "\n",
    "parsed_date = datetime.strptime(today_string, \"%d - %m - %Y\")\n",
    "\n",
    "print(parsed_date)"
   ]
  },
  {
   "cell_type": "code",
   "execution_count": 4,
   "id": "57f176a2",
   "metadata": {},
   "outputs": [
    {
     "name": "stdout",
     "output_type": "stream",
     "text": [
      ".ipynb_checkpoints\n",
      "application.txt\n",
      "Assignment Folder\n",
      "books.csv\n",
      "books.db\n",
      "f1.txt\n",
      "first.csv\n",
      "First_Document.docx\n",
      "Hello.docx\n",
      "Ineuron Assignment.ipynb\n",
      "Ineuron Basic Assignment 12.ipynb\n",
      "Ineuron Basic Assignment 13.ipynb\n",
      "Ineuron Basic Assignment 14.ipynb\n",
      "Ineuron Basic Assignment 15.ipynb\n",
      "Ineuron Basic Assignment 16.ipynb\n",
      "Ineuron Basic Assignment 17.ipynb\n",
      "Ineuron Basic Assignment 18.ipynb\n",
      "Ineuron Basic Assignment 19.ipynb\n",
      "Ineuron Basic Assignment 20.ipynb\n",
      "Python Basic Assignment  1.ipynb\n",
      "Python Basic Assignment 11.ipynb\n",
      "Python Basic Assignment 2.ipynb\n",
      "Python Basic Assignment 21.ipynb\n",
      "Python Basic Assignment 3.ipynb\n",
      "Python Basic Assignment 4.ipynb\n",
      "Python Basic Assignment 5.ipynb\n",
      "Python Basic Assignment 6.ipynb\n",
      "Python Basic Assignment 7.ipynb\n",
      "Python Basic Assignment 8.ipynb\n",
      "Python Basic Assignment 9.ipynb\n",
      "Python Basic Programming 10.ipynb\n",
      "Python Programming  Basic Assignment 3.ipynb\n",
      "Python Programming Basic Assignment 1.ipynb\n",
      "Python Programming Basic Assignment 10.ipynb\n",
      "Python Programming Basic Assignment 11.ipynb\n",
      "Python Programming Basic Assignment 12.ipynb\n",
      "Python Programming Basic Assignment 13.ipynb\n",
      "Python Programming Basic Assignment 14.ipynb\n",
      "Python Programming Basic Assignment 15.ipynb\n",
      "Python Programming Basic Assignment 16.ipynb\n",
      "Python Programming Basic Assignment 17.ipynb\n",
      "Python Programming Basic Assignment 18.ipynb\n",
      "Python Programming Basic Assignment 19.ipynb\n",
      "Python Programming Basic Assignment 2.ipynb\n",
      "Python Programming Basic Assignment 20.ipynb\n",
      "Python Programming Basic Assignment 21.ipynb\n",
      "Python Programming Basic Assignment 22.ipynb\n",
      "Python Programming Basic Assignment 23.ipynb\n",
      "Python Programming Basic Assignment 24.ipynb\n",
      "Python Programming Basic Assignment 25.ipynb\n",
      "Python Programming Basic Assignment 4.ipynb\n",
      "Python Programming Basic Assignment 5.ipynb\n",
      "Python Programming Basic Assignment 7.ipynb\n",
      "Python Programming Basic Assignment 8.ipynb\n",
      "Python Programming Basic Assignment 9.ipynb\n",
      "test.txt\n",
      "today.txt\n",
      "zoo.py\n",
      "__pycache__\n"
     ]
    }
   ],
   "source": [
    "# 4. List the files in your current directory\n",
    "\n",
    "# Sol :\n",
    "\n",
    "import os\n",
    "\n",
    "for i in os.listdir():\n",
    "    print(i)"
   ]
  },
  {
   "cell_type": "code",
   "execution_count": 6,
   "id": "f8827554",
   "metadata": {},
   "outputs": [
    {
     "name": "stdout",
     "output_type": "stream",
     "text": [
      "['.ipynb_checkpoints', 'application.txt', 'Assignment Folder', 'books.csv', 'books.db', 'f1.txt', 'first.csv', 'First_Document.docx', 'Hello.docx', 'Ineuron Assignment.ipynb', 'Ineuron Basic Assignment 12.ipynb', 'Ineuron Basic Assignment 13.ipynb', 'Ineuron Basic Assignment 14.ipynb', 'Ineuron Basic Assignment 15.ipynb', 'Ineuron Basic Assignment 16.ipynb', 'Ineuron Basic Assignment 17.ipynb', 'Ineuron Basic Assignment 18.ipynb', 'Ineuron Basic Assignment 19.ipynb', 'Ineuron Basic Assignment 20.ipynb', 'Python Basic Assignment  1.ipynb', 'Python Basic Assignment 11.ipynb', 'Python Basic Assignment 2.ipynb', 'Python Basic Assignment 21.ipynb', 'Python Basic Assignment 3.ipynb', 'Python Basic Assignment 4.ipynb', 'Python Basic Assignment 5.ipynb', 'Python Basic Assignment 6.ipynb', 'Python Basic Assignment 7.ipynb', 'Python Basic Assignment 8.ipynb', 'Python Basic Assignment 9.ipynb', 'Python Basic Programming 10.ipynb', 'Python Programming  Basic Assignment 3.ipynb', 'Python Programming Basic Assignment 1.ipynb', 'Python Programming Basic Assignment 10.ipynb', 'Python Programming Basic Assignment 11.ipynb', 'Python Programming Basic Assignment 12.ipynb', 'Python Programming Basic Assignment 13.ipynb', 'Python Programming Basic Assignment 14.ipynb', 'Python Programming Basic Assignment 15.ipynb', 'Python Programming Basic Assignment 16.ipynb', 'Python Programming Basic Assignment 17.ipynb', 'Python Programming Basic Assignment 18.ipynb', 'Python Programming Basic Assignment 19.ipynb', 'Python Programming Basic Assignment 2.ipynb', 'Python Programming Basic Assignment 20.ipynb', 'Python Programming Basic Assignment 21.ipynb', 'Python Programming Basic Assignment 22.ipynb', 'Python Programming Basic Assignment 23.ipynb', 'Python Programming Basic Assignment 24.ipynb', 'Python Programming Basic Assignment 25.ipynb', 'Python Programming Basic Assignment 4.ipynb', 'Python Programming Basic Assignment 5.ipynb', 'Python Programming Basic Assignment 7.ipynb', 'Python Programming Basic Assignment 8.ipynb', 'Python Programming Basic Assignment 9.ipynb', 'test.txt', 'today.txt', 'zoo.py', '__pycache__']\n"
     ]
    }
   ],
   "source": [
    "# 5. Create a listof all of the files in your parent directory (minimum five files should be available).\n",
    "\n",
    "# Sol :\n",
    "\n",
    "import os\n",
    "\n",
    "print(os.listdir())"
   ]
  },
  {
   "cell_type": "code",
   "execution_count": null,
   "id": "5694f283",
   "metadata": {},
   "outputs": [],
   "source": [
    "# 6. Use multiprocessing to create three separate processes. Make each one wait a random number of seconds between one and\n",
    "#    five, print the current time, and then exit.\n",
    "\n",
    "# Sol :\n",
    "\n",
    "import multiprocessing\n",
    "\n",
    "\n",
    "from random import randint\n",
    "\n",
    "from datetime import datetime\n",
    "\n",
    "import time\n",
    "\n",
    "def test1():\n",
    "    print(f\"test1 time starts : {datetime.now()}\")\n",
    "    time.sleep(randint(1, 5))\n",
    "    print(f\"test1 time ends : {datetime.now()}\")\n",
    "    \n",
    "def test2():\n",
    "    print(f\"test2 time starts : {datetime.now()}\")\n",
    "    time.sleep(randint(1, 5))\n",
    "    print(f\"test2 time ends : {datetime.now()}\")\n",
    "    \n",
    "def test3():\n",
    "    print(f\"test3 time starts : {datetime.now()}\")\n",
    "    time.sleep(randint(1, 5))\n",
    "    print(f\"test3 time ends : {datetime.now()}\")\n",
    "\n",
    "if __name__ == \"__main__\": \n",
    "    p1 = multiprocessing.Process(target = test1)\n",
    "    p2 = multiprocessing.Process(target = test2)\n",
    "    p3 = multiprocessing.Process(target = test3)\n",
    "\n",
    "    p1.start()\n",
    "    p2.start()\n",
    "    p3.start()\n",
    "\n",
    "    p1.join()\n",
    "    p2.join()\n",
    "    p3.join()"
   ]
  },
  {
   "cell_type": "markdown",
   "id": "6f5764be",
   "metadata": {},
   "source": [
    "Due to some unknown reason. the above did not print any results in the jupyter cell. so i copied the code to a python file. executed it and pasted the ouput here\n",
    "(base) C:\\Users\\vishnu.adepu\\Desktop>python es_poc.py\n",
    "Proc_one_Starttime -> 2021-09-22 18:41:59.354061\n",
    "Proc_two_Starttime -> 2021-09-22 18:41:59.363712\n",
    "Proc_two_Starttime -> 2021-09-22 18:41:59.367238\n",
    "Proc_two_Endtime -> 2021-09-22 18:42:04.369860\n",
    "Proc_two_Endtime -> 2021-09-22 18:42:04.369860\n",
    "Proc_one_Endtime -> 2021-09-22 18:42:04.369860"
   ]
  },
  {
   "cell_type": "code",
   "execution_count": 35,
   "id": "44db4cbe",
   "metadata": {},
   "outputs": [
    {
     "name": "stdout",
     "output_type": "stream",
     "text": [
      "1997-09-05 00:00:00\n"
     ]
    }
   ],
   "source": [
    "# 7. Create a date object of your day of birth.\n",
    "\n",
    "# Sol : \n",
    "\n",
    "from datetime import datetime\n",
    "\n",
    "dob = datetime.strptime(\"5-09-1997\", \"%d-%m-%Y\")\n",
    "\n",
    "print(dob)"
   ]
  },
  {
   "cell_type": "code",
   "execution_count": 38,
   "id": "404c4eba",
   "metadata": {},
   "outputs": [
    {
     "name": "stdout",
     "output_type": "stream",
     "text": [
      "Friday\n"
     ]
    }
   ],
   "source": [
    "# 8. What day of the week was your day of birth?\n",
    "\n",
    "# Sol:\n",
    "\n",
    "from datetime import datetime\n",
    "\n",
    "day_of_the_week = dob\n",
    "\n",
    "print(day_of_the_week.strftime(\"%A\"))"
   ]
  },
  {
   "cell_type": "code",
   "execution_count": 39,
   "id": "30fe5b2f",
   "metadata": {},
   "outputs": [
    {
     "ename": "TypeError",
     "evalue": "unsupported operand type(s) for -: 'datetime.datetime' and 'int'",
     "output_type": "error",
     "traceback": [
      "\u001b[1;31m---------------------------------------------------------------------------\u001b[0m",
      "\u001b[1;31mTypeError\u001b[0m                                 Traceback (most recent call last)",
      "Input \u001b[1;32mIn [39]\u001b[0m, in \u001b[0;36m<cell line: 5>\u001b[1;34m()\u001b[0m\n\u001b[0;32m      1\u001b[0m \u001b[38;5;66;03m# 9. When will you be (or when were you) 10,000 days old?\u001b[39;00m\n\u001b[0;32m      2\u001b[0m \n\u001b[0;32m      3\u001b[0m \u001b[38;5;66;03m# Sol :\u001b[39;00m\n\u001b[1;32m----> 5\u001b[0m date \u001b[38;5;241m=\u001b[39m \u001b[43mdob\u001b[49m\u001b[43m \u001b[49m\u001b[38;5;241;43m-\u001b[39;49m\u001b[43m \u001b[49m\u001b[38;5;241;43m10000\u001b[39;49m\n\u001b[0;32m      7\u001b[0m \u001b[38;5;28mprint\u001b[39m(date)\n",
      "\u001b[1;31mTypeError\u001b[0m: unsupported operand type(s) for -: 'datetime.datetime' and 'int'"
     ]
    }
   ],
   "source": [
    "# 9. When will you be (or when were you) 10,000 days old?\n",
    "\n",
    "# Sol :\n",
    "import datetime\n",
    "date = dob - date\n",
    "\n",
    "print(date)"
   ]
  },
  {
   "cell_type": "code",
   "execution_count": null,
   "id": "65e52144",
   "metadata": {},
   "outputs": [],
   "source": []
  }
 ],
 "metadata": {
  "kernelspec": {
   "display_name": "Python 3 (ipykernel)",
   "language": "python",
   "name": "python3"
  },
  "language_info": {
   "codemirror_mode": {
    "name": "ipython",
    "version": 3
   },
   "file_extension": ".py",
   "mimetype": "text/x-python",
   "name": "python",
   "nbconvert_exporter": "python",
   "pygments_lexer": "ipython3",
   "version": "3.9.12"
  }
 },
 "nbformat": 4,
 "nbformat_minor": 5
}
