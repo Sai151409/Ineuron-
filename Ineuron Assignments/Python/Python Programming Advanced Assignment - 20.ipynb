{
 "cells": [
  {
   "cell_type": "code",
   "execution_count": 1,
   "id": "2849de9d",
   "metadata": {},
   "outputs": [],
   "source": [
    "# 1. Create a function based on the input and output. Look at the examples, there is a pattern.\n",
    "#    Examples:\n",
    "#    secret(\"p.one.two.three\") ➞ \"<p class='one two three'></p>\"\n",
    "#    secret(\"p.one\") ➞ \"<p class='one'></p>\"\n",
    "#    secret(\"p.four.five\") ➞ \"<p class='four five'></p>\"\n",
    "\n",
    "# Sol :\n",
    "\n",
    "def secret(in_string):\n",
    "    try:\n",
    "        in_string_clone = in_string\n",
    "        in_string = in_string.split(\".\")\n",
    "        output = f'<{in_string[0]} class=\"{\" \".join(in_string[1:])}\"></{in_string[0]}>'\n",
    "        return output\n",
    "    except Exception as e:\n",
    "        return e"
   ]
  },
  {
   "cell_type": "code",
   "execution_count": 2,
   "id": "a593121c",
   "metadata": {},
   "outputs": [
    {
     "data": {
      "text/plain": [
       "'<p class=\"one two three\"></p>'"
      ]
     },
     "execution_count": 2,
     "metadata": {},
     "output_type": "execute_result"
    }
   ],
   "source": [
    "secret(\"p.one.two.three\")"
   ]
  },
  {
   "cell_type": "code",
   "execution_count": 3,
   "id": "52a78917",
   "metadata": {},
   "outputs": [
    {
     "data": {
      "text/plain": [
       "'<p class=\"one\"></p>'"
      ]
     },
     "execution_count": 3,
     "metadata": {},
     "output_type": "execute_result"
    }
   ],
   "source": [
    "secret(\"p.one\")"
   ]
  },
  {
   "cell_type": "code",
   "execution_count": 4,
   "id": "30272ce0",
   "metadata": {},
   "outputs": [
    {
     "data": {
      "text/plain": [
       "'<p class=\"four five\"></p>'"
      ]
     },
     "execution_count": 4,
     "metadata": {},
     "output_type": "execute_result"
    }
   ],
   "source": [
    "secret(\"p.four.five\")"
   ]
  },
  {
   "cell_type": "code",
   "execution_count": 5,
   "id": "0a672b2e",
   "metadata": {},
   "outputs": [],
   "source": [
    "# 2. Create a function which counts how many lone 1s appear in a given number. Lone means the number doesn't appear \n",
    "#    twice or more in a row.\n",
    "#    Examples:\n",
    "#    count_lone_ones(101) ➞ 2\n",
    "#    count_lone_ones(1191) ➞ 1\n",
    "#    count_lone_ones(1111) ➞ 0\n",
    "#    count_lone_ones(462) ➞ 0\n",
    "\n",
    "# Sol :\n",
    "\n",
    "import re\n",
    "def count_lone_ones(in_num):\n",
    "    try:\n",
    "        pattern = r\"(?<!1)1(?!1)\" \n",
    "        output = re.findall(pattern,str(in_num))\n",
    "        return len(output)\n",
    "    except Exception as e:\n",
    "        return e"
   ]
  },
  {
   "cell_type": "code",
   "execution_count": 6,
   "id": "729b7d6c",
   "metadata": {},
   "outputs": [
    {
     "data": {
      "text/plain": [
       "2"
      ]
     },
     "execution_count": 6,
     "metadata": {},
     "output_type": "execute_result"
    }
   ],
   "source": [
    "count_lone_ones(101)"
   ]
  },
  {
   "cell_type": "code",
   "execution_count": 7,
   "id": "143219e9",
   "metadata": {},
   "outputs": [
    {
     "data": {
      "text/plain": [
       "1"
      ]
     },
     "execution_count": 7,
     "metadata": {},
     "output_type": "execute_result"
    }
   ],
   "source": [
    "count_lone_ones(1191)"
   ]
  },
  {
   "cell_type": "code",
   "execution_count": 8,
   "id": "ff527312",
   "metadata": {},
   "outputs": [
    {
     "data": {
      "text/plain": [
       "0"
      ]
     },
     "execution_count": 8,
     "metadata": {},
     "output_type": "execute_result"
    }
   ],
   "source": [
    "count_lone_ones(1111)"
   ]
  },
  {
   "cell_type": "code",
   "execution_count": 9,
   "id": "db2ab589",
   "metadata": {},
   "outputs": [
    {
     "data": {
      "text/plain": [
       "0"
      ]
     },
     "execution_count": 9,
     "metadata": {},
     "output_type": "execute_result"
    }
   ],
   "source": [
    "count_lone_ones(462)"
   ]
  },
  {
   "cell_type": "code",
   "execution_count": 10,
   "id": "5bc2df17",
   "metadata": {},
   "outputs": [],
   "source": [
    "# 3. Write a method that accepts two integer parameters rows and cols. The output is a 2d array of numbers displayed in \n",
    "#    column-major order, meaning the numbers shown increase sequentially down each column and wrap to the top of the \n",
    "#    next column to the right once the bottom of the current column is reached.\n",
    "#    Examples:\n",
    "#       printGrid(3, 6) ➞ [ [1, 4, 7, 10, 13, 16], [2, 5, 8, 11, 14, 17], [3, 6, 9, 12, 15, 18] ]\n",
    "\n",
    "#       printGrid(5, 3) ➞ [ [1, 6, 11], [2, 7, 12], [3, 8, 13], [4, 9, 14], [5, 10, 15] ]\n",
    "\n",
    "#       printGrid(4, 1) ➞ [ [1], [2], [3], [4] ]\n",
    "\n",
    "# Sol :\n",
    "\n",
    "def printGrid(in_one,in_two):\n",
    "    try:\n",
    "        output = []\n",
    "        for ele_1 in range(in_one):\n",
    "            temp = []\n",
    "            for ele_2 in range(in_two):\n",
    "                temp.append(ele_1+(in_one*ele_2)+1)\n",
    "            output.append(temp)\n",
    "        return output\n",
    "    except Exception as e:\n",
    "        return e"
   ]
  },
  {
   "cell_type": "code",
   "execution_count": 11,
   "id": "7c1941a0",
   "metadata": {},
   "outputs": [
    {
     "data": {
      "text/plain": [
       "[[1, 4, 7, 10, 13, 16], [2, 5, 8, 11, 14, 17], [3, 6, 9, 12, 15, 18]]"
      ]
     },
     "execution_count": 11,
     "metadata": {},
     "output_type": "execute_result"
    }
   ],
   "source": [
    "printGrid(3, 6)"
   ]
  },
  {
   "cell_type": "code",
   "execution_count": 12,
   "id": "3cae2738",
   "metadata": {},
   "outputs": [
    {
     "data": {
      "text/plain": [
       "[[1, 6, 11], [2, 7, 12], [3, 8, 13], [4, 9, 14], [5, 10, 15]]"
      ]
     },
     "execution_count": 12,
     "metadata": {},
     "output_type": "execute_result"
    }
   ],
   "source": [
    "printGrid(5, 3)  "
   ]
  },
  {
   "cell_type": "code",
   "execution_count": 13,
   "id": "5ec070fa",
   "metadata": {},
   "outputs": [
    {
     "data": {
      "text/plain": [
       "[[1], [2], [3], [4]]"
      ]
     },
     "execution_count": 13,
     "metadata": {},
     "output_type": "execute_result"
    }
   ],
   "source": [
    "printGrid(4, 1)"
   ]
  },
  {
   "cell_type": "code",
   "execution_count": 14,
   "id": "e6b5ec02",
   "metadata": {},
   "outputs": [],
   "source": [
    "# 4. Given a list of integers, return the smallest positive integer not present in the list.\n",
    "#    Here is a representative example.\n",
    "#    Consider the list: [-2, 6, 4, 5, 7, -1, 7, 1, 3, 6, 6, -2, 9, 10, 2, 2]\n",
    "#    After reordering, the list becomes: [-2, -2, -1, 1, 2, 2, 3, 4, 5, 6, 6, 6, 7, 7, 9, 10]\n",
    "#    from which we see that the smallest missing positive integer is 8.\n",
    "\n",
    "#    Examples:\n",
    "#       min_miss_pos([-2, 6, 4, 5, 7, -1, 1, 3, 6, -2, 9, 10, 2, 2]) ➞ 8\n",
    "#       After sorting, list becomes [-2, -2, -1, 1, 2, 2, 3, 4, 5, 6, 6, 7, 9, 10]\n",
    "#       So the smallest missing positive integer is 8\n",
    "\n",
    "#       min_miss_pos([5, 9, -2, 0, 1, 3, 9, 3, 8, 9]) ➞ 2\n",
    "#       After sorting, list becomes [-2, 0, 1, 3, 3, 5, 8, 9, 9, 9]\n",
    "#       So the smallest missing positive integer is 2\n",
    "\n",
    "#       min_miss_pos([0, 4, 4, -1, 9, 4, 5, 2, 10, 7, 6, 3, 10, 9]) ➞ 1\n",
    "#       After sorting, list becomes [-1, 0, 2, 3, 4, 4, 4, 5, 6, 7, 9, 9, 10, 10]\n",
    "#       So the smallest missing positive integer is 1\n",
    "\n",
    "# Sol:\n",
    "\n",
    "def min_miss_pos(in_list):\n",
    "    try:\n",
    "        in_list_clone = in_list.copy()\n",
    "        in_list = sorted(in_list)\n",
    "        output = -1\n",
    "        for ele in range(1,max(in_list)+1):\n",
    "            if ele not in in_list:\n",
    "                output = ele\n",
    "                break\n",
    "        return output\n",
    "    except Exception as e:\n",
    "        return e   "
   ]
  },
  {
   "cell_type": "code",
   "execution_count": 15,
   "id": "db05354c",
   "metadata": {},
   "outputs": [
    {
     "data": {
      "text/plain": [
       "8"
      ]
     },
     "execution_count": 15,
     "metadata": {},
     "output_type": "execute_result"
    }
   ],
   "source": [
    "min_miss_pos([-2, 6, 4, 5, 7, -1, 1, 3, 6, -2, 9, 10, 2, 2])"
   ]
  },
  {
   "cell_type": "code",
   "execution_count": 16,
   "id": "f4882c5b",
   "metadata": {},
   "outputs": [
    {
     "data": {
      "text/plain": [
       "2"
      ]
     },
     "execution_count": 16,
     "metadata": {},
     "output_type": "execute_result"
    }
   ],
   "source": [
    "min_miss_pos([5, 9, -2, 0, 1, 3, 9, 3, 8, 9])"
   ]
  },
  {
   "cell_type": "code",
   "execution_count": 17,
   "id": "9ce71637",
   "metadata": {},
   "outputs": [
    {
     "data": {
      "text/plain": [
       "1"
      ]
     },
     "execution_count": 17,
     "metadata": {},
     "output_type": "execute_result"
    }
   ],
   "source": [
    "min_miss_pos([0, 4, 4, -1, 9, 4, 5, 2, 10, 7, 6, 3, 10, 9])"
   ]
  },
  {
   "cell_type": "code",
   "execution_count": 18,
   "id": "8df34a75",
   "metadata": {},
   "outputs": [],
   "source": [
    "# 5. Google is launching a network of autonomous pizza delivery drones and wants you to create a flexible rewards system \n",
    "#    (Pizza Points™) that can be tweaked in the future. The rules are simple: if a customer has made at least N orders \n",
    "#     of at least Y price, they get a FREE pizza!\n",
    "#     Create a function that takes a dictionary of customers, a minimum number of orders and a minimum order price. \n",
    "#     Return a list of customers that are eligible for a free pizza.\n",
    "\n",
    "#     Examples:\n",
    "\n",
    "#       customers = { \"Batman\": [22, 30, 11, 17, 15, 52, 27, 12], \"Spider-Man\": [5, 17, 30, 33, 40, 22, 26, 10, 11, 45] }\n",
    "\n",
    "#       pizza_points(customers, 5, 20) ➞ [\"Spider-Man\"]\n",
    "#       pizza_points(customers, 3, 10) ➞ [\"Batman\", \"Spider-Man\"]\n",
    "#       pizza_points(customers, 5, 100) ➞ []\n",
    "\n",
    "# Sol :\n",
    "\n",
    "def pizza_points(in_dict,min_order,min_price):\n",
    "    try:\n",
    "        output = []\n",
    "        for customer in in_dict.keys():\n",
    "            if len([order_price for order_price in in_dict[customer] if order_price > min_price]) > min_order:\n",
    "                output.append(customer)\n",
    "        return output\n",
    "    except Exception as e:\n",
    "        return e\n",
    "    \n",
    "customers = {\n",
    "  \"Batman\": [22, 30, 11, 17, 15, 52, 27, 12],\n",
    "  \"Spider-Man\": [5, 17, 30, 33, 40, 22, 26, 10, 11, 45]\n",
    "}"
   ]
  },
  {
   "cell_type": "code",
   "execution_count": 19,
   "id": "4ab4b100",
   "metadata": {},
   "outputs": [
    {
     "data": {
      "text/plain": [
       "['Spider-Man']"
      ]
     },
     "execution_count": 19,
     "metadata": {},
     "output_type": "execute_result"
    }
   ],
   "source": [
    "pizza_points(customers, 5, 20)"
   ]
  },
  {
   "cell_type": "code",
   "execution_count": 20,
   "id": "60271ddc",
   "metadata": {},
   "outputs": [
    {
     "data": {
      "text/plain": [
       "['Batman', 'Spider-Man']"
      ]
     },
     "execution_count": 20,
     "metadata": {},
     "output_type": "execute_result"
    }
   ],
   "source": [
    "pizza_points(customers, 3, 10)"
   ]
  },
  {
   "cell_type": "code",
   "execution_count": 21,
   "id": "ac7dc868",
   "metadata": {},
   "outputs": [
    {
     "data": {
      "text/plain": [
       "[]"
      ]
     },
     "execution_count": 21,
     "metadata": {},
     "output_type": "execute_result"
    }
   ],
   "source": [
    "pizza_points(customers, 5, 100)"
   ]
  },
  {
   "cell_type": "code",
   "execution_count": null,
   "id": "c94034a2",
   "metadata": {},
   "outputs": [],
   "source": []
  }
 ],
 "metadata": {
  "kernelspec": {
   "display_name": "Python 3 (ipykernel)",
   "language": "python",
   "name": "python3"
  },
  "language_info": {
   "codemirror_mode": {
    "name": "ipython",
    "version": 3
   },
   "file_extension": ".py",
   "mimetype": "text/x-python",
   "name": "python",
   "nbconvert_exporter": "python",
   "pygments_lexer": "ipython3",
   "version": "3.9.12"
  }
 },
 "nbformat": 4,
 "nbformat_minor": 5
}
