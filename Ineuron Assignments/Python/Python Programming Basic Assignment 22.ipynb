{
 "cells": [
  {
   "cell_type": "code",
   "execution_count": 1,
   "id": "4de1b1a2",
   "metadata": {},
   "outputs": [],
   "source": [
    "# Q1. Create a function that takes three parameters where:\n",
    "#     x is the start of the range (inclusive).\n",
    "#     y is the end of the range (inclusive).\n",
    "#     n is the divisor to be checked against.\n",
    "#     Return an ordered list with numbers in the range that are divisible by the third parameter n.\n",
    "#     Return an empty list if there are no numbers that are divisible by n.\n",
    "#     Examples\n",
    "#     list_operation(1, 10, 3) ➞ [3, 6, 9]\n",
    "#     list_operation(7, 9, 2) ➞ [8]\n",
    "#     list_operation(15, 20, 7) ➞ []\n",
    "\n",
    "# Sol :\n",
    "\n",
    "def list_operation(start, end, divisor):\n",
    "    try:\n",
    "        result = []\n",
    "        for i in range(start, end):\n",
    "            if i % divisor == 0:\n",
    "                result.append(i)\n",
    "        return result\n",
    "    except Exception as e:\n",
    "        print('The error has occured')\n",
    "        print('The error is : ', e)"
   ]
  },
  {
   "cell_type": "code",
   "execution_count": 2,
   "id": "be0fe820",
   "metadata": {},
   "outputs": [
    {
     "data": {
      "text/plain": [
       "[3, 6, 9]"
      ]
     },
     "execution_count": 2,
     "metadata": {},
     "output_type": "execute_result"
    }
   ],
   "source": [
    "list_operation(1, 10, 3)"
   ]
  },
  {
   "cell_type": "code",
   "execution_count": 3,
   "id": "97b29683",
   "metadata": {},
   "outputs": [
    {
     "data": {
      "text/plain": [
       "[8]"
      ]
     },
     "execution_count": 3,
     "metadata": {},
     "output_type": "execute_result"
    }
   ],
   "source": [
    "list_operation(7, 9, 2)"
   ]
  },
  {
   "cell_type": "code",
   "execution_count": 4,
   "id": "ad642efa",
   "metadata": {},
   "outputs": [
    {
     "data": {
      "text/plain": [
       "[]"
      ]
     },
     "execution_count": 4,
     "metadata": {},
     "output_type": "execute_result"
    }
   ],
   "source": [
    "list_operation(15, 20, 7)"
   ]
  },
  {
   "cell_type": "code",
   "execution_count": 5,
   "id": "4c7e4070",
   "metadata": {},
   "outputs": [],
   "source": [
    "# Q2. Create a function that takes in two lists and returns True if the second list follows the first list by one element, \n",
    "#     and False otherwise. In other words, determine if the second list is the first list shifted to the right by 1.\n",
    "#     Examples :\n",
    "#         simon_says([1, 2], [5, 1]) ➞ True\n",
    "#         simon_says([1, 2], [5, 5]) ➞ False\n",
    "#         simon_says([1, 2, 3, 4, 5], [0, 1, 2, 3, 4]) ➞ True\n",
    "#         simon_says([1, 2, 3, 4, 5], [5, 5, 1, 2, 3]) ➞ False\n",
    "#    Notes :\n",
    "#         Both input lists will be of the same length, and will have a minimum length of 2.\n",
    "#         The values of the 0-indexed element in the second list and the n-1th indexed element in the first list do not matter.\n",
    "\n",
    "# Sol :\n",
    "\n",
    "def simon_says(list1, list2):\n",
    "    try:\n",
    "        if len(list1) == len(list2) and len(list1) >= 2 and len(list2) >= 2:\n",
    "            if list1[:-1] == list2[1:]:\n",
    "                return True\n",
    "            else:\n",
    "                return False\n",
    "    except Exception as e:\n",
    "        print('The error has occured')\n",
    "        print('The error is : ', e)"
   ]
  },
  {
   "cell_type": "code",
   "execution_count": 6,
   "id": "d408daa6",
   "metadata": {},
   "outputs": [
    {
     "data": {
      "text/plain": [
       "True"
      ]
     },
     "execution_count": 6,
     "metadata": {},
     "output_type": "execute_result"
    }
   ],
   "source": [
    "simon_says([1, 2], [5, 1])"
   ]
  },
  {
   "cell_type": "code",
   "execution_count": 7,
   "id": "6c506303",
   "metadata": {},
   "outputs": [
    {
     "data": {
      "text/plain": [
       "False"
      ]
     },
     "execution_count": 7,
     "metadata": {},
     "output_type": "execute_result"
    }
   ],
   "source": [
    "simon_says([1, 2], [5, 5])"
   ]
  },
  {
   "cell_type": "code",
   "execution_count": 8,
   "id": "69815184",
   "metadata": {},
   "outputs": [
    {
     "data": {
      "text/plain": [
       "True"
      ]
     },
     "execution_count": 8,
     "metadata": {},
     "output_type": "execute_result"
    }
   ],
   "source": [
    "simon_says([1, 2, 3, 4, 5], [0, 1, 2, 3, 4])"
   ]
  },
  {
   "cell_type": "code",
   "execution_count": 9,
   "id": "2a0a32b0",
   "metadata": {},
   "outputs": [
    {
     "data": {
      "text/plain": [
       "False"
      ]
     },
     "execution_count": 9,
     "metadata": {},
     "output_type": "execute_result"
    }
   ],
   "source": [
    "simon_says([1, 2, 3, 4, 5], [5, 5, 1, 2, 3])"
   ]
  },
  {
   "cell_type": "code",
   "execution_count": 10,
   "id": "09c0f6a7",
   "metadata": {},
   "outputs": [],
   "source": [
    "# Q3. A group of friends have decided to start a secret society. The name will be the first letter of\n",
    "#     each of their names, sorted in alphabetical order.\n",
    "#     Create a function that takes in a list of names and returns the name of the secret society.\n",
    "#     Examples : \n",
    "#     society_name(['Adam', 'Sarah', 'Malcolm']) ➞ 'AMS'\n",
    "#     society_name(['Harry', 'Newt', 'Luna', 'Cho']) ➞ 'CHLN'\n",
    "#     society_name(['Phoebe', 'Chandler', 'Rachel', 'Ross', 'Monica', 'Joey'])\n",
    "\n",
    "# Sol :\n",
    "\n",
    "def society_name(lst):\n",
    "    try:\n",
    "        name = \"\"\n",
    "        for i in lst:\n",
    "            name += i[0]\n",
    "        return name\n",
    "    except Exception as e:\n",
    "        print('The error has occured')\n",
    "        print('The error is ', e)"
   ]
  },
  {
   "cell_type": "code",
   "execution_count": 11,
   "id": "4f425d04",
   "metadata": {},
   "outputs": [
    {
     "data": {
      "text/plain": [
       "'ASM'"
      ]
     },
     "execution_count": 11,
     "metadata": {},
     "output_type": "execute_result"
    }
   ],
   "source": [
    "society_name(['Adam', 'Sarah', 'Malcolm'])"
   ]
  },
  {
   "cell_type": "code",
   "execution_count": 12,
   "id": "73e2cc06",
   "metadata": {},
   "outputs": [
    {
     "data": {
      "text/plain": [
       "'HNLC'"
      ]
     },
     "execution_count": 12,
     "metadata": {},
     "output_type": "execute_result"
    }
   ],
   "source": [
    "society_name(['Harry', 'Newt', 'Luna', 'Cho'])"
   ]
  },
  {
   "cell_type": "code",
   "execution_count": 13,
   "id": "9721bf79",
   "metadata": {},
   "outputs": [
    {
     "data": {
      "text/plain": [
       "'PCRRMJ'"
      ]
     },
     "execution_count": 13,
     "metadata": {},
     "output_type": "execute_result"
    }
   ],
   "source": [
    "society_name(['Phoebe', 'Chandler', 'Rachel', 'Ross', 'Monica', 'Joey'])"
   ]
  },
  {
   "cell_type": "code",
   "execution_count": 14,
   "id": "0792ab2a",
   "metadata": {},
   "outputs": [],
   "source": [
    "# Q4. An isogram is a word that has no duplicate letters. Create a function that takes a string and\n",
    "#     returns either True or False depending on whether or not it&#39;s an &quot;isogram&quot;.\n",
    "#     Examples :\n",
    "#         is_isogram('Algorism') ➞ True\n",
    "#         is_isogram('PasSword') ➞ False\n",
    "#              Not case sensitive.\n",
    "#         is_isogram('Consecutive') ➞ False\n",
    "#     Notes\n",
    "#         Ignore letter case (should not be case sensitive).\n",
    "#         All test cases contain valid one word strings.\n",
    "\n",
    "\n",
    "# Sol :\n",
    "\n",
    "def is_isogram(string):\n",
    "    try:\n",
    "        k = string.lower()\n",
    "        for i in k:\n",
    "            if k.count(i) > 1:\n",
    "                return False\n",
    "        else:\n",
    "            return True\n",
    "    except Exception as e:\n",
    "        print('The error has occured')\n",
    "        print('The error is : ', e)"
   ]
  },
  {
   "cell_type": "code",
   "execution_count": 15,
   "id": "6f7b75c0",
   "metadata": {},
   "outputs": [
    {
     "data": {
      "text/plain": [
       "True"
      ]
     },
     "execution_count": 15,
     "metadata": {},
     "output_type": "execute_result"
    }
   ],
   "source": [
    "is_isogram('Algorism')"
   ]
  },
  {
   "cell_type": "code",
   "execution_count": 16,
   "id": "7b7db1e3",
   "metadata": {},
   "outputs": [
    {
     "data": {
      "text/plain": [
       "False"
      ]
     },
     "execution_count": 16,
     "metadata": {},
     "output_type": "execute_result"
    }
   ],
   "source": [
    "is_isogram('PasSword')"
   ]
  },
  {
   "cell_type": "code",
   "execution_count": 17,
   "id": "8e01b236",
   "metadata": {},
   "outputs": [
    {
     "data": {
      "text/plain": [
       "False"
      ]
     },
     "execution_count": 17,
     "metadata": {},
     "output_type": "execute_result"
    }
   ],
   "source": [
    "is_isogram('Consecutive')"
   ]
  },
  {
   "cell_type": "code",
   "execution_count": 18,
   "id": "81908045",
   "metadata": {},
   "outputs": [],
   "source": [
    "# Q5. Create a function that takes a string and returns True or False, depending on whether the characters are in order or not.\n",
    "#     Examples :\n",
    "#           is_in_order('abc') ➞ True\n",
    "#           is_in_order('edabit') ➞ False\n",
    "#           is_in_order('123') ➞ True\n",
    "#           is_in_order('xyzz') ➞ True\n",
    "#     Notes :\n",
    "#           You don't have to handle empty strings.\n",
    "\n",
    "# Sol :\n",
    "\n",
    "def is_in_order(str1):\n",
    "    try:\n",
    "        str2 = ''\n",
    "        k = list(str1)\n",
    "        k.sort()\n",
    "        for i in k:\n",
    "            str2 += i\n",
    "        if str1 == str2:\n",
    "            return True\n",
    "        else:\n",
    "            return False\n",
    "    except Exception as e:\n",
    "        print('The error has occured')\n",
    "        print('The error is : ', e)"
   ]
  },
  {
   "cell_type": "code",
   "execution_count": 19,
   "id": "b47adebb",
   "metadata": {},
   "outputs": [
    {
     "data": {
      "text/plain": [
       "True"
      ]
     },
     "execution_count": 19,
     "metadata": {},
     "output_type": "execute_result"
    }
   ],
   "source": [
    " is_in_order('abc')"
   ]
  },
  {
   "cell_type": "code",
   "execution_count": 20,
   "id": "ac7a1f23",
   "metadata": {},
   "outputs": [
    {
     "data": {
      "text/plain": [
       "False"
      ]
     },
     "execution_count": 20,
     "metadata": {},
     "output_type": "execute_result"
    }
   ],
   "source": [
    "is_in_order('edabit')"
   ]
  },
  {
   "cell_type": "code",
   "execution_count": 21,
   "id": "583f5afb",
   "metadata": {},
   "outputs": [
    {
     "data": {
      "text/plain": [
       "True"
      ]
     },
     "execution_count": 21,
     "metadata": {},
     "output_type": "execute_result"
    }
   ],
   "source": [
    "is_in_order('123')"
   ]
  },
  {
   "cell_type": "code",
   "execution_count": 22,
   "id": "fc62b7bd",
   "metadata": {},
   "outputs": [
    {
     "data": {
      "text/plain": [
       "True"
      ]
     },
     "execution_count": 22,
     "metadata": {},
     "output_type": "execute_result"
    }
   ],
   "source": [
    "is_in_order('xyzz')"
   ]
  },
  {
   "cell_type": "code",
   "execution_count": null,
   "id": "c76f617e",
   "metadata": {},
   "outputs": [],
   "source": []
  },
  {
   "cell_type": "code",
   "execution_count": null,
   "id": "c7d3c753",
   "metadata": {},
   "outputs": [],
   "source": []
  },
  {
   "cell_type": "code",
   "execution_count": null,
   "id": "4f40c6ea",
   "metadata": {},
   "outputs": [],
   "source": []
  },
  {
   "cell_type": "code",
   "execution_count": null,
   "id": "00ccc37b",
   "metadata": {},
   "outputs": [],
   "source": []
  },
  {
   "cell_type": "code",
   "execution_count": null,
   "id": "f9dee2bd",
   "metadata": {},
   "outputs": [],
   "source": []
  },
  {
   "cell_type": "code",
   "execution_count": null,
   "id": "6b55f46c",
   "metadata": {},
   "outputs": [],
   "source": []
  },
  {
   "cell_type": "code",
   "execution_count": null,
   "id": "b0525f14",
   "metadata": {},
   "outputs": [],
   "source": []
  },
  {
   "cell_type": "code",
   "execution_count": null,
   "id": "32f80535",
   "metadata": {},
   "outputs": [],
   "source": []
  }
 ],
 "metadata": {
  "kernelspec": {
   "display_name": "Python 3 (ipykernel)",
   "language": "python",
   "name": "python3"
  },
  "language_info": {
   "codemirror_mode": {
    "name": "ipython",
    "version": 3
   },
   "file_extension": ".py",
   "mimetype": "text/x-python",
   "name": "python",
   "nbconvert_exporter": "python",
   "pygments_lexer": "ipython3",
   "version": "3.9.7"
  }
 },
 "nbformat": 4,
 "nbformat_minor": 5
}
