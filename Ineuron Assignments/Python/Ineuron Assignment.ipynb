{
 "cells": [
  {
   "cell_type": "code",
   "execution_count": 1,
   "id": "ed0cdfb5",
   "metadata": {},
   "outputs": [],
   "source": [
    "# 1. You have to write a function which will take string and return its length without using the inbult function len"
   ]
  },
  {
   "cell_type": "code",
   "execution_count": 2,
   "id": "ecdf0c47",
   "metadata": {},
   "outputs": [],
   "source": [
    "def length(string):\n",
    "    ''' Length function returns the no of characters in the string'''\n",
    "    if type(string) == str:\n",
    "        i = 0\n",
    "        for j in string :\n",
    "            i += 1\n",
    "        return i\n",
    "    else:\n",
    "        return \"it's not a string object\""
   ]
  },
  {
   "cell_type": "code",
   "execution_count": 3,
   "id": "a9037cd0",
   "metadata": {},
   "outputs": [
    {
     "data": {
      "text/plain": [
       "3"
      ]
     },
     "execution_count": 3,
     "metadata": {},
     "output_type": "execute_result"
    }
   ],
   "source": [
    "length(\"sai\")"
   ]
  },
  {
   "cell_type": "code",
   "execution_count": 4,
   "id": "a64aa3e3",
   "metadata": {},
   "outputs": [
    {
     "data": {
      "text/plain": [
       "\"it's not a string object\""
      ]
     },
     "execution_count": 4,
     "metadata": {},
     "output_type": "execute_result"
    }
   ],
   "source": [
    "length(34)"
   ]
  },
  {
   "cell_type": "code",
   "execution_count": 5,
   "id": "e20acb95",
   "metadata": {},
   "outputs": [
    {
     "data": {
      "text/plain": [
       "\"it's not a string object\""
      ]
     },
     "execution_count": 5,
     "metadata": {},
     "output_type": "execute_result"
    }
   ],
   "source": [
    "length(78.0)"
   ]
  },
  {
   "cell_type": "code",
   "execution_count": 6,
   "id": "5a37f5f0",
   "metadata": {},
   "outputs": [
    {
     "data": {
      "text/plain": [
       "\"it's not a string object\""
      ]
     },
     "execution_count": 6,
     "metadata": {},
     "output_type": "execute_result"
    }
   ],
   "source": [
    "length([78, 90]) # other than str it doesn't show the length"
   ]
  },
  {
   "cell_type": "code",
   "execution_count": 7,
   "id": "0ac2d1d5",
   "metadata": {},
   "outputs": [],
   "source": [
    "# 2. write a function which will able to print an index of all premitive element which you will pass "
   ]
  },
  {
   "cell_type": "code",
   "execution_count": 8,
   "id": "c8d35310",
   "metadata": {},
   "outputs": [],
   "source": [
    "def index(n):\n",
    "    \n",
    "    '''index function prints the index of each and every element in the iterable object'''\n",
    "    \n",
    "    try:\n",
    "        i = 0\n",
    "        for j in n:\n",
    "            print(f'index of {j} is {i}')\n",
    "            i += 1\n",
    "    except:\n",
    "        return \"it's not a iterable object\""
   ]
  },
  {
   "cell_type": "code",
   "execution_count": 9,
   "id": "a8fb9a62",
   "metadata": {},
   "outputs": [
    {
     "name": "stdout",
     "output_type": "stream",
     "text": [
      "index of 89 is 0\n",
      "index of 90 is 1\n"
     ]
    }
   ],
   "source": [
    "index([89, 90])"
   ]
  },
  {
   "cell_type": "code",
   "execution_count": 10,
   "id": "3a4ec6b3",
   "metadata": {},
   "outputs": [
    {
     "name": "stdout",
     "output_type": "stream",
     "text": [
      "index of 56 is 0\n",
      "index of 89 is 1\n",
      "index of 90 is 2\n",
      "index of sai is 3\n",
      "index of kishore is 4\n"
     ]
    }
   ],
   "source": [
    "index((56,89,90,\"sai\",\"kishore\"))"
   ]
  },
  {
   "cell_type": "code",
   "execution_count": 11,
   "id": "951e848c",
   "metadata": {},
   "outputs": [
    {
     "name": "stdout",
     "output_type": "stream",
     "text": [
      "index of s is 0\n",
      "index of a is 1\n",
      "index of i is 2\n",
      "index of   is 3\n",
      "index of r is 4\n",
      "index of a is 5\n",
      "index of m is 6\n",
      "index of a is 7\n",
      "index of   is 8\n",
      "index of k is 9\n",
      "index of r is 10\n",
      "index of i is 11\n",
      "index of s is 12\n",
      "index of h is 13\n",
      "index of n is 14\n",
      "index of a is 15\n"
     ]
    }
   ],
   "source": [
    "index(\"sai rama krishna\")"
   ]
  },
  {
   "cell_type": "code",
   "execution_count": 12,
   "id": "c0267977",
   "metadata": {},
   "outputs": [
    {
     "data": {
      "text/plain": [
       "\"it's not a iterable object\""
      ]
     },
     "execution_count": 12,
     "metadata": {},
     "output_type": "execute_result"
    }
   ],
   "source": [
    "index(9)"
   ]
  },
  {
   "cell_type": "code",
   "execution_count": 13,
   "id": "04b3344a",
   "metadata": {},
   "outputs": [],
   "source": [
    "# 3. write a function which will take inpput as a dictionary and give me out as a list of all the values even in case of 2 level \n",
    "# nesting it should work"
   ]
  },
  {
   "cell_type": "code",
   "execution_count": 14,
   "id": "315409e6",
   "metadata": {},
   "outputs": [],
   "source": [
    "def dict_values(s):\n",
    "    '''This function returns the list of values of dictionary even it is nested one'''\n",
    "    \n",
    "    l = []\n",
    "    if type(s) == dict:\n",
    "        for i in s.values():\n",
    "            if type(i) == dict:\n",
    "                for j in i.values():\n",
    "                    if type(j) == dict:\n",
    "                        for k in j.values():\n",
    "                            l.append(k)\n",
    "                    else:\n",
    "                        l.append(j)\n",
    "            else:\n",
    "                l.append(i)\n",
    "        return l\n",
    "    else:\n",
    "        return 'Enter dict object only'"
   ]
  },
  {
   "cell_type": "code",
   "execution_count": 15,
   "id": "c38308ff",
   "metadata": {},
   "outputs": [],
   "source": [
    "d = {1 : {\"name\" : \"Sai\", \"age\" : 24, \"mail\" : \"sairamanidu694@gmail.com\"},\n",
    "     \n",
    "    2 : {\"name\" : \"kishore\", \"age\" : 23, \"mail\" : \"kishorekumar@gmail.com\"}}"
   ]
  },
  {
   "cell_type": "code",
   "execution_count": 16,
   "id": "79793fc8",
   "metadata": {},
   "outputs": [
    {
     "data": {
      "text/plain": [
       "['Sai',\n",
       " 24,\n",
       " 'sairamanidu694@gmail.com',\n",
       " 'kishore',\n",
       " 23,\n",
       " 'kishorekumar@gmail.com']"
      ]
     },
     "execution_count": 16,
     "metadata": {},
     "output_type": "execute_result"
    }
   ],
   "source": [
    "dict_values(d)"
   ]
  },
  {
   "cell_type": "code",
   "execution_count": 17,
   "id": "472b337f",
   "metadata": {},
   "outputs": [],
   "source": [
    "d = {\"class 1\" : {\"Student 1\" : {\"name\" : \"Sai\", \"age\" : 24, \"mail\" : \"sairamanidu694@gmail.com\"},\n",
    "                  \"Student 2\" : {\"name\" : \"kishore\", \"age\" : 23, \"mail\" : \"kishorekumar@gmail.com\"}},\n",
    "     \"class 2\" : {\"Student 1\" : {\"name\" : \"Srimani\", \"age\" : 24, \"mail\" : \"srimani@gmail.com\"},\n",
    "                  \"Student 2\" : {\"name\" : \"Yadav\", \"age\" : 23, \"mail\" : \"yadav8646@gmail.com\"}}}"
   ]
  },
  {
   "cell_type": "code",
   "execution_count": 18,
   "id": "4ca94fd6",
   "metadata": {},
   "outputs": [
    {
     "data": {
      "text/plain": [
       "['Sai',\n",
       " 24,\n",
       " 'sairamanidu694@gmail.com',\n",
       " 'kishore',\n",
       " 23,\n",
       " 'kishorekumar@gmail.com',\n",
       " 'Srimani',\n",
       " 24,\n",
       " 'srimani@gmail.com',\n",
       " 'Yadav',\n",
       " 23,\n",
       " 'yadav8646@gmail.com']"
      ]
     },
     "execution_count": 18,
     "metadata": {},
     "output_type": "execute_result"
    }
   ],
   "source": [
    "dict_values(d)"
   ]
  },
  {
   "cell_type": "code",
   "execution_count": 19,
   "id": "4db3cf1d",
   "metadata": {},
   "outputs": [],
   "source": [
    "# 4. write a function will take another function as an input return me as output"
   ]
  },
  {
   "cell_type": "code",
   "execution_count": 20,
   "id": "cec4d29d",
   "metadata": {},
   "outputs": [],
   "source": [
    "def test1():\n",
    "    \"This function returns good morning message\"\n",
    "    return 'Good morning'"
   ]
  },
  {
   "cell_type": "code",
   "execution_count": 21,
   "id": "65a5dd48",
   "metadata": {},
   "outputs": [],
   "source": [
    "def test2():\n",
    "    \"This function simlilarly like test1 beacause it returns that function\"\n",
    "    return f'{test1()}'"
   ]
  },
  {
   "cell_type": "code",
   "execution_count": 22,
   "id": "8899f222",
   "metadata": {},
   "outputs": [
    {
     "data": {
      "text/plain": [
       "'Good morning'"
      ]
     },
     "execution_count": 22,
     "metadata": {},
     "output_type": "execute_result"
    }
   ],
   "source": [
    "test2()"
   ]
  },
  {
   "cell_type": "code",
   "execution_count": 23,
   "id": "aa194eb4",
   "metadata": {},
   "outputs": [],
   "source": [
    "# 5. write a function which take multiple list as a input and give me concatenation of all the elements"
   ]
  },
  {
   "cell_type": "code",
   "execution_count": 24,
   "id": "4b4867e7",
   "metadata": {},
   "outputs": [],
   "source": [
    "def list_concat(*args):\n",
    "    '''This function returns the concatenation of different lists as a single list '''\n",
    "    l = []\n",
    "    for i in args:\n",
    "        if type(i) == list:\n",
    "            for j in i:\n",
    "                l.append(j)\n",
    "    return l"
   ]
  },
  {
   "cell_type": "code",
   "execution_count": 25,
   "id": "ed202fa2",
   "metadata": {},
   "outputs": [
    {
     "data": {
      "text/plain": [
       "[90, 78, 78, 'sai', 'kishore', (45+6j), True, False, (89+9j)]"
      ]
     },
     "execution_count": 25,
     "metadata": {},
     "output_type": "execute_result"
    }
   ],
   "source": [
    "# If you observe this one it takes list object only as a input, and leave the remaining data types\n",
    "\n",
    "list_concat([90, 78, 78], [\"sai\", \"kishore\"], (90.23, 56.23, 20.3), [45+6j, True, False, 89+9j])"
   ]
  },
  {
   "cell_type": "code",
   "execution_count": 26,
   "id": "567c6496",
   "metadata": {},
   "outputs": [],
   "source": [
    "# 6. write a function which will able to take list as an input return the index of each element like inbulit function \n",
    "# but even if we have repetative it should return the index"
   ]
  },
  {
   "cell_type": "code",
   "execution_count": 27,
   "id": "eab54fb3",
   "metadata": {},
   "outputs": [],
   "source": [
    "def index(string, sub):\n",
    "    \"\"\"\n",
    "    String : Enter your string value\n",
    "    sub : Enter substring of string to get its index\"\"\"\n",
    "    \n",
    "    \"\"\"Index function returns the index of each element even the element is repetative\"\"\"\n",
    "    i = 0\n",
    "    print(f\"The index of {sub} is : \", end = \" \")\n",
    "    for j in string:\n",
    "        if j == sub:\n",
    "            print(i, end = \"  \")\n",
    "        i += 1"
   ]
  },
  {
   "cell_type": "code",
   "execution_count": 28,
   "id": "966bd96b",
   "metadata": {},
   "outputs": [
    {
     "name": "stdout",
     "output_type": "stream",
     "text": [
      "The index of i is :  2  11  "
     ]
    }
   ],
   "source": [
    "index(\"sai rama krishna\", \"i\")"
   ]
  },
  {
   "cell_type": "code",
   "execution_count": 29,
   "id": "47d32f05",
   "metadata": {},
   "outputs": [],
   "source": [
    "# 7. write a function which will return list of all the file name from directory"
   ]
  },
  {
   "cell_type": "code",
   "execution_count": 30,
   "id": "334c3f9a",
   "metadata": {},
   "outputs": [],
   "source": [
    "def dir_path(p):\n",
    "    '''It returns the list of files from specified directory'''\n",
    "    ''' Here p is the path of the directory '''\n",
    "    import os\n",
    "    return os.listdir(p)"
   ]
  },
  {
   "cell_type": "code",
   "execution_count": 31,
   "id": "cad2ba88",
   "metadata": {},
   "outputs": [
    {
     "data": {
      "text/plain": [
       "['1637587641_testinstructionsda1.pdf',\n",
       " '1641629573382-certificate.png',\n",
       " 'Anaconda3-2021.11-Windows-x86_64.exe',\n",
       " 'Apps',\n",
       " 'Assignment_1.docx',\n",
       " 'ConsumerComplaints.csv',\n",
       " 'Coursera Cerificate 1.pdf',\n",
       " 'desktop.ini',\n",
       " 'financial aid.txt',\n",
       " 'Ineuron Assignment.ipynb',\n",
       " 'mysqlsampledatabase.sql',\n",
       " 'Poorna Hema Sri Sai Ram.pdf',\n",
       " 'Sai Veda Sree.pdf',\n",
       " 'sampledatafoodsales.xlsx',\n",
       " 'Screenshot_20211221-214332.png',\n",
       " 'Srinivasa Rao.pdf',\n",
       " 'supermarket_sales.xlsx',\n",
       " 'Swami.jpg',\n",
       " 'Thota Poorna Hema Sri Sai Ram Mock Test.zip',\n",
       " 'Vijaya Lakshmi.pdf',\n",
       " 'www.7MovieRulz.pe - Chandigarh Kare Aashiqui (2021) 720p Hindi TRUE WEB-DL - HQ - AVC - (DD+5.1 - 192Kbps & AAC 2.0) - 950MB - ESub.mkv',\n",
       " 'www.7MovieRulz.pe - Pushpa The Rise (2021) 720p Telugu (Org Vers)  TRUE HDRip - HEVC - (DD+5.1 - 192Kbps & AAC 2.0) - 1.3GB - ESub.mkv',\n",
       " 'www.7MovieRulz.pe - Pushpa The Rise (2021) 720p Telugu (Org Vers) TRUE HDRip - x264 - (DD+5.1 - 192Kbps & AAC 2.0) - 1.4GB - ESub.mkv',\n",
       " 'www.7MovieRulz.pe - Pushpa The Rise - Part 1 (2021) v2 720p Telugu DVDScr x264 MP3 - 950MB']"
      ]
     },
     "execution_count": 31,
     "metadata": {},
     "output_type": "execute_result"
    }
   ],
   "source": [
    "dir_path(\"C:/Users/sairamnaaidu/Downloads\")"
   ]
  },
  {
   "cell_type": "code",
   "execution_count": 32,
   "id": "92300cf8",
   "metadata": {},
   "outputs": [],
   "source": [
    "# 8. Write a function which will be able to show your system configuration"
   ]
  },
  {
   "cell_type": "code",
   "execution_count": 33,
   "id": "894e7b89",
   "metadata": {},
   "outputs": [],
   "source": [
    "def sys_config():\n",
    "    \"\"\"This function returns the system configuaration i.e System, node, version, machine\"\"\"\n",
    "    import platform\n",
    "    print(\"System : \", platform.system())\n",
    "    print(\"Node : \", platform.node())\n",
    "    print(\"version : \", platform.version())\n",
    "    print(\"machine : \", platform.machine())"
   ]
  },
  {
   "cell_type": "code",
   "execution_count": 34,
   "id": "f11e7314",
   "metadata": {},
   "outputs": [
    {
     "name": "stdout",
     "output_type": "stream",
     "text": [
      "System :  Windows\n",
      "Node :  DESKTOP-5IKFDOQ\n",
      "version :  10.0.19043\n",
      "machine :  AMD64\n"
     ]
    }
   ],
   "source": [
    "sys_config()"
   ]
  },
  {
   "cell_type": "code",
   "execution_count": 35,
   "id": "efc8f5ff",
   "metadata": {},
   "outputs": [],
   "source": [
    "# 9. Write a function which will be able to show date and time"
   ]
  },
  {
   "cell_type": "code",
   "execution_count": 36,
   "id": "5e984930",
   "metadata": {},
   "outputs": [],
   "source": [
    "def date_time():\n",
    "    \"date_time function returns the current date and time\"\n",
    "    from datetime import datetime\n",
    "    return datetime.now()"
   ]
  },
  {
   "cell_type": "code",
   "execution_count": 37,
   "id": "a3ad05fe",
   "metadata": {},
   "outputs": [
    {
     "data": {
      "text/plain": [
       "datetime.datetime(2022, 1, 11, 14, 24, 23, 492417)"
      ]
     },
     "execution_count": 37,
     "metadata": {},
     "output_type": "execute_result"
    }
   ],
   "source": [
    "date_time()"
   ]
  },
  {
   "cell_type": "code",
   "execution_count": 38,
   "id": "811160c5",
   "metadata": {},
   "outputs": [],
   "source": [
    "# 10. Write a function which will be able to read a image file and show it to you."
   ]
  },
  {
   "cell_type": "code",
   "execution_count": 39,
   "id": "a092a9cb",
   "metadata": {},
   "outputs": [],
   "source": [
    "def rimage(p):\n",
    "    \"\"\"rimage function read the image file and show it\n",
    "        p : Here p is the path of the image file\"\"\"\n",
    "    from PIL import Image\n",
    "    a = Image.open(p)\n",
    "    a.show()"
   ]
  },
  {
   "cell_type": "code",
   "execution_count": 40,
   "id": "2dd7c05d",
   "metadata": {},
   "outputs": [],
   "source": [
    "rimage(\"C:/Users/sairamnaaidu/Downloads/Swami.jpg\") # It's not open in jupyter notebook"
   ]
  },
  {
   "cell_type": "code",
   "execution_count": null,
   "id": "f9bb40a7",
   "metadata": {},
   "outputs": [],
   "source": []
  },
  {
   "cell_type": "code",
   "execution_count": null,
   "id": "ae2172e9",
   "metadata": {},
   "outputs": [],
   "source": []
  }
 ],
 "metadata": {
  "kernelspec": {
   "display_name": "Python 3 (ipykernel)",
   "language": "python",
   "name": "python3"
  },
  "language_info": {
   "codemirror_mode": {
    "name": "ipython",
    "version": 3
   },
   "file_extension": ".py",
   "mimetype": "text/x-python",
   "name": "python",
   "nbconvert_exporter": "python",
   "pygments_lexer": "ipython3",
   "version": "3.9.7"
  }
 },
 "nbformat": 4,
 "nbformat_minor": 5
}
