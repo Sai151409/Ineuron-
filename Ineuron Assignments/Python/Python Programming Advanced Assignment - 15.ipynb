{
 "cells": [
  {
   "cell_type": "code",
   "execution_count": 1,
   "id": "1d6b5b13",
   "metadata": {},
   "outputs": [],
   "source": [
    "# 1. Write a function that returns True if a given name can generate an array of words.\n",
    "#    Examples:\n",
    "#      anagram(\"Justin Bieber\", [\"injures\", \"ebb\", \"it\"]) ➞ True\n",
    "#      anagram(\"Natalie Portman\", [\"ornamental\", \"pita\"]) ➞ True\n",
    "#      anagram(\"Chris Pratt\", [\"chirps\", \"rat\"]) ➞ False\n",
    "#      Not all letters are used\n",
    "#      anagram(\"Jeff Goldblum\", [\"jog\", \"meld\", \"bluffs\"]) ➞ False\n",
    "#      \"s\" does not exist in the original name\n",
    "\n",
    "# Sol :\n",
    "\n",
    "def anagram(s1, s2):\n",
    "    try:\n",
    "        set1 = set()\n",
    "        set2 = set()\n",
    "        for i in s1.lower():\n",
    "            set1 = set1.union(set(i))\n",
    "            if \" \" in set1:\n",
    "                set1.remove(\" \")\n",
    "        \n",
    "        for i in s2:\n",
    "            set2 = set2.union(set(i))\n",
    "            \n",
    "        if set1 == set2:\n",
    "            return True\n",
    "        else:\n",
    "            return False\n",
    "    except Exception as e:\n",
    "        return e"
   ]
  },
  {
   "cell_type": "code",
   "execution_count": 2,
   "id": "317263eb",
   "metadata": {},
   "outputs": [
    {
     "data": {
      "text/plain": [
       "True"
      ]
     },
     "execution_count": 2,
     "metadata": {},
     "output_type": "execute_result"
    }
   ],
   "source": [
    "anagram(\"Justin Bieber\", [\"injures\", \"ebb\", \"it\"])"
   ]
  },
  {
   "cell_type": "code",
   "execution_count": 3,
   "id": "ed125e17",
   "metadata": {},
   "outputs": [
    {
     "data": {
      "text/plain": [
       "True"
      ]
     },
     "execution_count": 3,
     "metadata": {},
     "output_type": "execute_result"
    }
   ],
   "source": [
    "anagram(\"Natalie Portman\", [\"ornamental\", \"pita\"])"
   ]
  },
  {
   "cell_type": "code",
   "execution_count": 4,
   "id": "462d39c7",
   "metadata": {},
   "outputs": [
    {
     "data": {
      "text/plain": [
       "True"
      ]
     },
     "execution_count": 4,
     "metadata": {},
     "output_type": "execute_result"
    }
   ],
   "source": [
    " anagram(\"Chris Pratt\", [\"chirps\", \"rat\"])"
   ]
  },
  {
   "cell_type": "code",
   "execution_count": 5,
   "id": "3f715351",
   "metadata": {},
   "outputs": [
    {
     "data": {
      "text/plain": [
       "False"
      ]
     },
     "execution_count": 5,
     "metadata": {},
     "output_type": "execute_result"
    }
   ],
   "source": [
    "anagram(\"Jeff Goldblum\", [\"jog\", \"meld\", \"bluffs\"])"
   ]
  },
  {
   "cell_type": "code",
   "execution_count": 6,
   "id": "937c45f9",
   "metadata": {},
   "outputs": [],
   "source": [
    "#  2. Given an array of users, each defined by an object with the following properties: name, score, reputation create a \n",
    "#     function that sorts the array to form the correct leaderboard.\n",
    "#     The leaderboard takes into consideration the score of each user of course, but an emphasis is put on their reputation\n",
    "#     in the community, so to get the trueScore, you should add the reputation multiplied by 2 to the score.\n",
    "\n",
    "#     Once you know the trueScore of each user, sort the array according to it in descending order.\n",
    "\n",
    "#     Examples:\n",
    "#        leaderboards([ { \"name\": \"a\", \"score\": 100, \"reputation\": 20 }, { \"name\": \"b\", \"score\": 90, \"reputation\": 40 }, \n",
    "#                      { \"name\": \"c\", \"score\": 115, \"reputation\": 30 }, ]) ➞ \n",
    "#                        [ { \"name\": \"c\", \"score\": 115, \"reputation\": 30 }, trueScore = 175\n",
    "#                          { \"name\": \"b\", \"score\": 90, \"reputation\": 40 }, trueScore = 170\n",
    "#                          { \"name\": \"a\", \"score\": 100, \"reputation\": 20 }  trueScore = 140 ]\n",
    "\n",
    "# Sol :\n",
    "\n",
    "def leaderboards(a):\n",
    "    try:\n",
    "        output_list = []\n",
    "        result = {}\n",
    "        for i in range(len(a)):\n",
    "            output = a[i]['score'] + 2 * a[i]['reputation']\n",
    "            result[output] = i\n",
    "        for i in sorted(result, reverse=True):\n",
    "            output_list.append(a[result[i]])\n",
    "        return output_list\n",
    "    except Exception as e:\n",
    "        return e"
   ]
  },
  {
   "cell_type": "code",
   "execution_count": 7,
   "id": "0f19f24f",
   "metadata": {},
   "outputs": [
    {
     "data": {
      "text/plain": [
       "[{'name': 'c', 'score': 115, 'reputation': 30},\n",
       " {'name': 'b', 'score': 90, 'reputation': 40},\n",
       " {'name': 'a', 'score': 100, 'reputation': 20}]"
      ]
     },
     "execution_count": 7,
     "metadata": {},
     "output_type": "execute_result"
    }
   ],
   "source": [
    "leaderboards([ { \"name\": \"a\", \"score\": 100, \"reputation\": 20 }, { \"name\": \"b\", \"score\": 90, \"reputation\": 40 }, \n",
    "              { \"name\": \"c\", \"score\": 115, \"reputation\": 30 }, ])"
   ]
  },
  {
   "cell_type": "code",
   "execution_count": 8,
   "id": "0f657787",
   "metadata": {},
   "outputs": [],
   "source": [
    "# 3. Create a function that, given a phrase and a number of letters guessed, returns a string with hyphens - for every letter\n",
    "#    of the phrase not guessed, and each letter guessed in place.\n",
    "#    Examples:\n",
    "#    hangman(\"helicopter\", [\"o\", \"e\", \"s\"]) ➞ \"-e---o--e-\"\n",
    "#    hangman(\"tree\", [\"r\", \"t\", \"e\"]) ➞ \"tree\"\n",
    "#    hangman(\"Python rules\", [\"a\", \"n\", \"p\", \"r\", \"z\"]) ➞ \"P----n r----\"\n",
    "#    hangman(\"He\"s a very naughty boy!\", [\"e\", \"a\", \"y\"]) ➞ \"-e\"- a -e-y -a----y –y!\"\n",
    "\n",
    "def hangman(string, lst):\n",
    "    try:\n",
    "        output = \"\"\n",
    "        for i in string:\n",
    "            if i.lower() in lst:\n",
    "                output += i\n",
    "            elif i in '\"! ':\n",
    "                output += i\n",
    "            else:\n",
    "                output += \"-\"\n",
    "        return output\n",
    "    except Exception as e:\n",
    "        return e"
   ]
  },
  {
   "cell_type": "code",
   "execution_count": 9,
   "id": "c0bc3a60",
   "metadata": {},
   "outputs": [
    {
     "data": {
      "text/plain": [
       "'-e---o--e-'"
      ]
     },
     "execution_count": 9,
     "metadata": {},
     "output_type": "execute_result"
    }
   ],
   "source": [
    "hangman(\"helicopter\", [\"o\", \"e\", \"s\"])"
   ]
  },
  {
   "cell_type": "code",
   "execution_count": 10,
   "id": "db39f2c5",
   "metadata": {},
   "outputs": [
    {
     "data": {
      "text/plain": [
       "'tree'"
      ]
     },
     "execution_count": 10,
     "metadata": {},
     "output_type": "execute_result"
    }
   ],
   "source": [
    "hangman(\"tree\", [\"r\", \"t\", \"e\"])"
   ]
  },
  {
   "cell_type": "code",
   "execution_count": 11,
   "id": "60a47151",
   "metadata": {},
   "outputs": [
    {
     "data": {
      "text/plain": [
       "'P----n r----'"
      ]
     },
     "execution_count": 11,
     "metadata": {},
     "output_type": "execute_result"
    }
   ],
   "source": [
    "hangman(\"Python rules\", [\"a\", \"n\", \"p\", \"r\", \"z\"])"
   ]
  },
  {
   "cell_type": "code",
   "execution_count": 12,
   "id": "175ae1a3",
   "metadata": {},
   "outputs": [
    {
     "data": {
      "text/plain": [
       "'-e\"- a -e-y -a----y --y!'"
      ]
     },
     "execution_count": 12,
     "metadata": {},
     "output_type": "execute_result"
    }
   ],
   "source": [
    "hangman(\"He\\\"s a very naughty boy!\", [\"e\", \"a\", \"y\"])"
   ]
  },
  {
   "cell_type": "code",
   "execution_count": 13,
   "id": "9fbf7aef",
   "metadata": {},
   "outputs": [],
   "source": [
    "# 4. The Collatz sequence is as follows:\n",
    "#    Start with some given integer n.\n",
    "#    If it is even, the next number will be n divided by 2.\n",
    "#    If it is odd, multiply it by 3 and add 1 to make the next number.\n",
    "#    The sequence stops when it reaches 1.\n",
    "#    According to the Collatz conjecture, it will always reach 1. If that's true, you can construct a finite sequence \n",
    "#    following the aforementioned method for any given integer.\n",
    "\n",
    "#    Write a function that takes in an integer n and returns the highest integer in the corresponding Collatz sequence.\n",
    "\n",
    "#    Examples:\n",
    "#      max_collatz(10) ➞ 16\n",
    "#        Collatz sequence: 10, 5, 16, 8, 4, 2, 1\n",
    "\n",
    "#      max_collatz(32) ➞ 32\n",
    "#        Collatz sequence: 32, 16, 8, 4, 2, 1\n",
    "\n",
    "#      max_collatz(85) ➞ 256\n",
    "#        Collatz sequence: 85, 256, 128, 64, 32, 16, 8, 4, 2, 1\n",
    "\n",
    "# Sol:\n",
    "\n",
    "def max_collatz(num):\n",
    "    try:\n",
    "        output = []\n",
    "        temp = num\n",
    "        while True:\n",
    "            if temp % 2 == 0:\n",
    "                temp /= 2\n",
    "            else:\n",
    "                temp = (temp * 3) +1\n",
    "            output.append(temp)\n",
    "            if temp == 1:\n",
    "                break\n",
    "        return max(output)\n",
    "    except Exception as e:\n",
    "        return e"
   ]
  },
  {
   "cell_type": "code",
   "execution_count": 14,
   "id": "07caa797",
   "metadata": {},
   "outputs": [
    {
     "data": {
      "text/plain": [
       "16.0"
      ]
     },
     "execution_count": 14,
     "metadata": {},
     "output_type": "execute_result"
    }
   ],
   "source": [
    "max_collatz(10)"
   ]
  },
  {
   "cell_type": "code",
   "execution_count": 15,
   "id": "7add903e",
   "metadata": {},
   "outputs": [
    {
     "data": {
      "text/plain": [
       "16.0"
      ]
     },
     "execution_count": 15,
     "metadata": {},
     "output_type": "execute_result"
    }
   ],
   "source": [
    "max_collatz(32)"
   ]
  },
  {
   "cell_type": "code",
   "execution_count": 16,
   "id": "9045fbbf",
   "metadata": {},
   "outputs": [
    {
     "data": {
      "text/plain": [
       "256"
      ]
     },
     "execution_count": 16,
     "metadata": {},
     "output_type": "execute_result"
    }
   ],
   "source": [
    "max_collatz(85)"
   ]
  },
  {
   "cell_type": "code",
   "execution_count": 44,
   "id": "2b54dae6",
   "metadata": {},
   "outputs": [],
   "source": [
    "# 5. Write a function that sorts a list of integers by their digit length in descending order, then settles ties by sorting\n",
    "#    numbers with the same digit length in ascending order.\n",
    "#    Examples:\n",
    "#       digit_sort([77, 23, 5, 7, 101]) ➞ [101, 23, 77, 5, 7]\n",
    "#       digit_sort([1, 5, 9, 2, 789, 563, 444]) ➞ [444, 563, 789, 1, 2, 5, 9]\n",
    "#       digit_sort([53219, 3772, 564, 32, 1]) ➞ [53219, 3772, 564, 32, 1]\n",
    "\n",
    "# Sol :\n",
    "\n",
    "def digit_sort(in_list):\n",
    "    try:\n",
    "        max_len = len(str(max(in_list)))\n",
    "        output = []\n",
    "        for item in range(max_len,0,-1):\n",
    "            temp = []\n",
    "            for ele in in_list:\n",
    "                if len(str(ele)) == item:\n",
    "                    temp.append(ele)\n",
    "            output.extend(sorted(temp))\n",
    "        return output\n",
    "    except Exception as e:\n",
    "        return e"
   ]
  },
  {
   "cell_type": "code",
   "execution_count": 43,
   "id": "825b6299",
   "metadata": {},
   "outputs": [
    {
     "name": "stdout",
     "output_type": "stream",
     "text": [
      "[101]\n",
      "[77, 23]\n",
      "[5, 7]\n"
     ]
    },
    {
     "data": {
      "text/plain": [
       "[101, 23, 77, 5, 7]"
      ]
     },
     "execution_count": 43,
     "metadata": {},
     "output_type": "execute_result"
    }
   ],
   "source": [
    "digit_sort([77, 23, 5, 7, 101])"
   ]
  },
  {
   "cell_type": "code",
   "execution_count": 45,
   "id": "69661f95",
   "metadata": {},
   "outputs": [
    {
     "data": {
      "text/plain": [
       "[444, 563, 789, 1, 2, 5, 9]"
      ]
     },
     "execution_count": 45,
     "metadata": {},
     "output_type": "execute_result"
    }
   ],
   "source": [
    "digit_sort([1, 5, 9, 2, 789, 563, 444])"
   ]
  },
  {
   "cell_type": "code",
   "execution_count": 46,
   "id": "e1f1d678",
   "metadata": {},
   "outputs": [
    {
     "data": {
      "text/plain": [
       "[53219, 3772, 564, 32, 1]"
      ]
     },
     "execution_count": 46,
     "metadata": {},
     "output_type": "execute_result"
    }
   ],
   "source": [
    "digit_sort([53219, 3772, 564, 32, 1])"
   ]
  },
  {
   "cell_type": "code",
   "execution_count": null,
   "id": "3a2f54e7",
   "metadata": {},
   "outputs": [],
   "source": []
  }
 ],
 "metadata": {
  "kernelspec": {
   "display_name": "Python 3 (ipykernel)",
   "language": "python",
   "name": "python3"
  },
  "language_info": {
   "codemirror_mode": {
    "name": "ipython",
    "version": 3
   },
   "file_extension": ".py",
   "mimetype": "text/x-python",
   "name": "python",
   "nbconvert_exporter": "python",
   "pygments_lexer": "ipython3",
   "version": "3.9.12"
  }
 },
 "nbformat": 4,
 "nbformat_minor": 5
}
