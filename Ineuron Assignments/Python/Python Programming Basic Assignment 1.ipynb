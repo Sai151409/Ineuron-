{
 "cells": [
  {
   "cell_type": "code",
   "execution_count": 1,
   "id": "82bb32fc",
   "metadata": {},
   "outputs": [
    {
     "name": "stdout",
     "output_type": "stream",
     "text": [
      "Hello Python\n"
     ]
    }
   ],
   "source": [
    "# 1. Write a Python program to print \"Hello Python\" ?\n",
    "\n",
    "# Sol : \n",
    "\n",
    "#      print Hello python with in built function print\n",
    "\n",
    "print(\"Hello Python\")"
   ]
  },
  {
   "cell_type": "code",
   "execution_count": 2,
   "id": "d9716335",
   "metadata": {},
   "outputs": [
    {
     "name": "stdout",
     "output_type": "stream",
     "text": [
      "Enter your first number : 890\n",
      "Enter your second number : 789\n",
      "Select an arithmetic operator :        \n",
      "1.Addition : +         \n",
      "2.Subtarction : -         \n",
      "3.Multiplication : *         \n",
      "4.Division : \n",
      "Enter the operator +,-,*,/ : *\n",
      "890 * 789 = 702210\n",
      "Do you want to continue (yes/no) : yes\n",
      "Enter your first number : 86788\n",
      "Enter your second number : 5756\n",
      "Select an arithmetic operator :        \n",
      "1.Addition : +         \n",
      "2.Subtarction : -         \n",
      "3.Multiplication : *         \n",
      "4.Division : \n",
      "Enter the operator +,-,*,/ : +\n",
      "86788 + 5756 = 92544\n",
      "Do you want to continue (yes/no) : yess\n"
     ]
    }
   ],
   "source": [
    "# 2. Write a Python program to do arithmetical operations addition and division.?\n",
    "\n",
    "# Sol:\n",
    "\n",
    "try:\n",
    "    while True:\n",
    "        a = int(input(\"Enter your first number : \"))\n",
    "        b = int(input(\"Enter your second number : \"))\n",
    "        print('Select an arithmetic operator :\\\n",
    "        \\n1.Addition : + \\\n",
    "        \\n2.Subtarction : - \\\n",
    "        \\n3.Multiplication : * \\\n",
    "        \\n4.Division : ')\n",
    "        operator = input(\"Enter the operator +,-,*,/ : \")\n",
    "        if operator  == \"+\":\n",
    "            print(\"{} {} {} = {}\".format(a, operator, b, a+b))\n",
    "        elif operator == \"-\":\n",
    "            print(\"{} {} {} = {}\".format(a, operator, b, a-b))\n",
    "        elif operator == \"*\":\n",
    "            print(\"{} {} {} = {}\".format(a, operator, b, a*b))\n",
    "        elif operator == \"/\":\n",
    "            print(\"{} {} {} = {}\".format(a, operator, b, a/b))\n",
    "        else:\n",
    "            print(\"Enter a valid operator\")\n",
    "        \n",
    "        p = input(\"Do you want to continue (yes/no) : \")\n",
    "        if p.capitalize() != \"Yes\":\n",
    "            break\n",
    "except Exception as e:\n",
    "    print(f\"The error is : {e}\")\n",
    "    "
   ]
  },
  {
   "cell_type": "code",
   "execution_count": 3,
   "id": "a62e2b16",
   "metadata": {},
   "outputs": [],
   "source": [
    "# 3. Write a Python program to find the area of a triangle?\n",
    "\n",
    "def area_of_triangle():\n",
    "    \"\"\"Its find out the area of the triangle\"\"\"\n",
    "    try:\n",
    "        Height = int(input(\"Enter the Height of the triangle : \"))\n",
    "        Base = int(input(\"Enter the Base of the triangle : \"))\n",
    "        Area = 0.5 * Height * Base\n",
    "        return f'The Area of the triangle : {Area}'\n",
    "    except Exception as e:\n",
    "        print(f\"The Error is {e}\")"
   ]
  },
  {
   "cell_type": "code",
   "execution_count": 4,
   "id": "43bee4fd",
   "metadata": {},
   "outputs": [
    {
     "name": "stdout",
     "output_type": "stream",
     "text": [
      "Enter the Height of the triangle : 85\n",
      "Enter the Base of the triangle : 78\n"
     ]
    },
    {
     "data": {
      "text/plain": [
       "'The Area of the triangle : 3315.0'"
      ]
     },
     "execution_count": 4,
     "metadata": {},
     "output_type": "execute_result"
    }
   ],
   "source": [
    "area_of_triangle()"
   ]
  },
  {
   "cell_type": "code",
   "execution_count": 5,
   "id": "36782b37",
   "metadata": {},
   "outputs": [
    {
     "name": "stdout",
     "output_type": "stream",
     "text": [
      "Enter your first number : 78\n",
      "Enter your second number : 52\n",
      "Before swapping the two numbers :         \n",
      "\ta : 78        \n",
      "\tb : 52\n",
      "After swapping the two numbers :         \n",
      "\ta : 52        \n",
      "\tb : 78\n"
     ]
    }
   ],
   "source": [
    "# 4. Write a Python program to swap two variables?\n",
    "\n",
    "# Sol :\n",
    "\n",
    "a = int(input(\"Enter your first number : \"))\n",
    "b = int(input(\"Enter your second number : \"))\n",
    "\n",
    "def swap(a, b): \n",
    "    try:\n",
    "        print(\"Before swapping the two numbers : \\\n",
    "        \\n\\ta : {}\\\n",
    "        \\n\\tb : {}\".format(a, b))\n",
    "        a, b = b, a\n",
    "        print(\"After swapping the two numbers : \\\n",
    "        \\n\\ta : {}\\\n",
    "        \\n\\tb : {}\".format(a, b))\n",
    "    except Exception as e:\n",
    "        print(f\"The occured error is {e}\")\n",
    "    \n",
    "swap(a, b)"
   ]
  },
  {
   "cell_type": "code",
   "execution_count": 6,
   "id": "54c59e8d",
   "metadata": {},
   "outputs": [],
   "source": [
    "# 5.Write a Python program to generate a random number ?\n",
    "\n",
    "import random\n",
    "\n",
    "# Generate a random number by using random module\n",
    "\n",
    "def random_number_generator(start, end):\n",
    "    return random.randrange(start, end)"
   ]
  },
  {
   "cell_type": "code",
   "execution_count": 8,
   "id": "c35bb203",
   "metadata": {},
   "outputs": [
    {
     "data": {
      "text/plain": [
       "40597"
      ]
     },
     "execution_count": 8,
     "metadata": {},
     "output_type": "execute_result"
    }
   ],
   "source": [
    "random_number_generator(0, 100000)"
   ]
  },
  {
   "cell_type": "code",
   "execution_count": null,
   "id": "f1a8197a",
   "metadata": {},
   "outputs": [],
   "source": []
  }
 ],
 "metadata": {
  "kernelspec": {
   "display_name": "Python 3 (ipykernel)",
   "language": "python",
   "name": "python3"
  },
  "language_info": {
   "codemirror_mode": {
    "name": "ipython",
    "version": 3
   },
   "file_extension": ".py",
   "mimetype": "text/x-python",
   "name": "python",
   "nbconvert_exporter": "python",
   "pygments_lexer": "ipython3",
   "version": "3.9.7"
  }
 },
 "nbformat": 4,
 "nbformat_minor": 5
}
