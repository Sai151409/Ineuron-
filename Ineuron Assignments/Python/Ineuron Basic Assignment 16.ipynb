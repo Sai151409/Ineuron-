{
 "cells": [
  {
   "cell_type": "code",
   "execution_count": 1,
   "id": "a1879e8b",
   "metadata": {},
   "outputs": [
    {
     "name": "stdout",
     "output_type": "stream",
     "text": [
      "[1997, 1998, 1999, 2000, 2001, 2002]\n"
     ]
    }
   ],
   "source": [
    "# 1. Create a list called years_list, starting with the year of your birth, and each year thereafter until the year of your \n",
    "#    fifth birthday. For example, if you were born in 1980. the list would be years_list = [1980, 1981, 1982, 1983, 1984, 1985].\n",
    "\n",
    "# Sol :\n",
    "\n",
    "Date_of_birth = 1997\n",
    "\n",
    "years_list = []\n",
    "\n",
    "for i in range(Date_of_birth, Date_of_birth+6):\n",
    "    years_list.append(i)\n",
    "\n",
    "print(years_list)"
   ]
  },
  {
   "cell_type": "code",
   "execution_count": 2,
   "id": "3fb45fcf",
   "metadata": {},
   "outputs": [
    {
     "name": "stdout",
     "output_type": "stream",
     "text": [
      "2000\n"
     ]
    }
   ],
   "source": [
    "# 2. In which year in years_list was your third birthday? Remember, you were 0 years of age for your first year.\n",
    "\n",
    "# Sol :\n",
    "\n",
    "print(years_list[3])"
   ]
  },
  {
   "cell_type": "code",
   "execution_count": 3,
   "id": "3499db8a",
   "metadata": {},
   "outputs": [
    {
     "name": "stdout",
     "output_type": "stream",
     "text": [
      "2002\n"
     ]
    }
   ],
   "source": [
    "# 3.In the years list, which year were you the oldest?\n",
    "\n",
    "# Sol :\n",
    "\n",
    "print(years_list[-1])"
   ]
  },
  {
   "cell_type": "code",
   "execution_count": 4,
   "id": "ed127b4f",
   "metadata": {},
   "outputs": [
    {
     "name": "stdout",
     "output_type": "stream",
     "text": [
      "['mozzarella', 'cinderella', 'salmonella']\n"
     ]
    }
   ],
   "source": [
    "# 4. Make a list called things with these three strings as elements: 'mozzarella', 'cinderella', 'salmonella'.\n",
    "\n",
    "# Sol :\n",
    "\n",
    "things = ['mozzarella', 'cinderella', 'salmonella']\n",
    "\n",
    "print(things)"
   ]
  },
  {
   "cell_type": "code",
   "execution_count": 5,
   "id": "91c7c6ef",
   "metadata": {},
   "outputs": [
    {
     "name": "stdout",
     "output_type": "stream",
     "text": [
      "['mozzarella', 'Cinderella', 'salmonella']\n"
     ]
    }
   ],
   "source": [
    "# 5. Capitalize the element in things that refers to a person and then print the list. Did it change the elements in the list ?\n",
    "\n",
    "# Sol :\n",
    "\n",
    "for i in range(len(things)) : \n",
    "    if things[i] == 'cinderella':\n",
    "        things[i] = things[i].capitalize()\n",
    "        \n",
    "print(things)"
   ]
  },
  {
   "cell_type": "code",
   "execution_count": 6,
   "id": "6467a9a0",
   "metadata": {},
   "outputs": [
    {
     "name": "stdout",
     "output_type": "stream",
     "text": [
      "['Groucho', 'Chico', 'Harpo']\n"
     ]
    }
   ],
   "source": [
    "# 6. Make a surprise list with the elements 'Groucho', 'Chico', and 'Harpo'\n",
    "\n",
    "# Sol :\n",
    "\n",
    "surprise = ['Groucho', 'Chico', 'Harpo']\n",
    "\n",
    "print(surprise)"
   ]
  },
  {
   "cell_type": "code",
   "execution_count": 7,
   "id": "990b110b",
   "metadata": {},
   "outputs": [
    {
     "data": {
      "text/plain": [
       "'Oprah'"
      ]
     },
     "execution_count": 7,
     "metadata": {},
     "output_type": "execute_result"
    }
   ],
   "source": [
    "# 7. Lowercase the last element of the surprise list, reverse it, and then capitalize it.\n",
    "\n",
    "# Sol :\n",
    "\n",
    "surprise[-1].lower()[::-1].capitalize()"
   ]
  },
  {
   "cell_type": "code",
   "execution_count": 8,
   "id": "2eda9ac1",
   "metadata": {},
   "outputs": [
    {
     "name": "stdout",
     "output_type": "stream",
     "text": [
      "{'dog': 'chien', 'cat': 'chat', 'walrus': 'morse'}\n"
     ]
    }
   ],
   "source": [
    "# 8. Make an English-to-French dictionary called e2f and print it. Here are your starter words: \n",
    "#    dog is chien, cat is chat, and walrus is morse.\n",
    "\n",
    "# Sol :\n",
    "\n",
    "e2f = {'dog' : 'chien', 'cat' : 'chat', 'walrus' : 'morse'}\n",
    "\n",
    "print(e2f)"
   ]
  },
  {
   "cell_type": "code",
   "execution_count": 9,
   "id": "5edc51f4",
   "metadata": {},
   "outputs": [
    {
     "name": "stdout",
     "output_type": "stream",
     "text": [
      "morse\n"
     ]
    }
   ],
   "source": [
    "# 9. Write the French word for walrus in your three-word dictionary e2f.\n",
    "\n",
    "# Sol :\n",
    "\n",
    "print(e2f.get('walrus'))"
   ]
  },
  {
   "cell_type": "code",
   "execution_count": 10,
   "id": "a84f4629",
   "metadata": {},
   "outputs": [
    {
     "name": "stdout",
     "output_type": "stream",
     "text": [
      "{'chien': 'dog', 'chat': 'cat', 'morse': 'walrus'}\n"
     ]
    }
   ],
   "source": [
    "# 10. Make a French-to-English dictionary called f2e from e2f. Use the items method.\n",
    "\n",
    "# Sol :\n",
    "\n",
    "f2e = dict(i[::-1] for i in e2f.items())\n",
    "print(f2e)"
   ]
  },
  {
   "cell_type": "code",
   "execution_count": 11,
   "id": "8d951337",
   "metadata": {},
   "outputs": [
    {
     "name": "stdout",
     "output_type": "stream",
     "text": [
      "dog\n"
     ]
    }
   ],
   "source": [
    "# 11. Print the English version of the French word chien using f2e.\n",
    "\n",
    "# Sol :\n",
    "\n",
    "print(f2e.get('chien'))"
   ]
  },
  {
   "cell_type": "code",
   "execution_count": 12,
   "id": "e16abe35",
   "metadata": {},
   "outputs": [
    {
     "name": "stdout",
     "output_type": "stream",
     "text": [
      "['dog', 'cat', 'walrus']\n"
     ]
    }
   ],
   "source": [
    "# 12. Make and print a set of English words from the keys in e2f.\n",
    "\n",
    "# Sol :\n",
    "\n",
    "print(list(e2f.keys()))"
   ]
  },
  {
   "cell_type": "code",
   "execution_count": 13,
   "id": "8673ffb6",
   "metadata": {},
   "outputs": [
    {
     "name": "stdout",
     "output_type": "stream",
     "text": [
      "{'animals': {'cats': ['Henri', 'Grumpy', 'Lucy'], 'octopi': {}, 'emus': {}}, 'plants': {}, 'other': {}}\n"
     ]
    }
   ],
   "source": [
    "# 13. Make a multilevel dictionary called life. Use these strings for the topmost keys: 'animals', 'plants', and 'other'. \n",
    "#     Make the 'animals' key refer to another dictionary with the keys 'cats', 'octopi', and 'emus'. \n",
    "#     Make the 'cats' key refer to a list of strings with the values 'Henri', 'Grumpy', and 'Lucy'.\n",
    "#     Make all the other keys refer to empty dictionaries.\n",
    "\n",
    "# Sol :\n",
    "\n",
    "life = {'animals' : \n",
    "        {'cats'  : ['Henri', 'Grumpy', 'Lucy'], 'octopi' : {}, 'emus' : {}}, \n",
    "        'plants' : {}, \n",
    "        'other' : {}}\n",
    "\n",
    "print(life)"
   ]
  },
  {
   "cell_type": "code",
   "execution_count": 14,
   "id": "e4e522d8",
   "metadata": {},
   "outputs": [
    {
     "name": "stdout",
     "output_type": "stream",
     "text": [
      "['animals', 'plants', 'other']\n"
     ]
    }
   ],
   "source": [
    "# 14. Print the top-level keys of life.\n",
    "\n",
    "# Sol :\n",
    "\n",
    "print(list(life.keys()))"
   ]
  },
  {
   "cell_type": "code",
   "execution_count": 15,
   "id": "7a4f8116",
   "metadata": {},
   "outputs": [
    {
     "name": "stdout",
     "output_type": "stream",
     "text": [
      "['cats', 'octopi', 'emus']\n"
     ]
    }
   ],
   "source": [
    "# 15. Print the keys for life['animals']'\n",
    "\n",
    "# Sol :\n",
    "\n",
    "print(list(life['animals'].keys()))"
   ]
  },
  {
   "cell_type": "code",
   "execution_count": 16,
   "id": "fc69bb0b",
   "metadata": {},
   "outputs": [
    {
     "name": "stdout",
     "output_type": "stream",
     "text": [
      "['Henri', 'Grumpy', 'Lucy']\n"
     ]
    }
   ],
   "source": [
    "# 16. Print the values for life['animals']['cats']\n",
    "\n",
    "# Sol :\n",
    "\n",
    "print(list(life['animals']['cats']))"
   ]
  },
  {
   "cell_type": "code",
   "execution_count": null,
   "id": "4c25ea88",
   "metadata": {},
   "outputs": [],
   "source": []
  },
  {
   "cell_type": "code",
   "execution_count": null,
   "id": "0c068f60",
   "metadata": {},
   "outputs": [],
   "source": []
  }
 ],
 "metadata": {
  "kernelspec": {
   "display_name": "Python 3 (ipykernel)",
   "language": "python",
   "name": "python3"
  },
  "language_info": {
   "codemirror_mode": {
    "name": "ipython",
    "version": 3
   },
   "file_extension": ".py",
   "mimetype": "text/x-python",
   "name": "python",
   "nbconvert_exporter": "python",
   "pygments_lexer": "ipython3",
   "version": "3.9.12"
  }
 },
 "nbformat": 4,
 "nbformat_minor": 5
}
