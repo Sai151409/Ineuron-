{
 "cells": [
  {
   "cell_type": "code",
   "execution_count": 1,
   "id": "468fb672",
   "metadata": {},
   "outputs": [],
   "source": [
    "# 1. In mathematics, the Fibonacci numbers, commonly denoted Fn, form a sequence, called the Fibonacci sequence, such that each \n",
    "#    number is the sum of the two preceding ones, starting from 0 and 1:\n",
    "\n",
    "#    The beginning of the sequence is this: 0, 1, 1, 2, 3, 5, 8, 13, 21, 34, 55, 89, 144, ...\n",
    "#    The function fastFib(num) returns the fibonacci number Fn, of the given num as an argument.\n",
    "#    Examples:\n",
    "#    fib_fast(5) ➞ 5\n",
    "#    fib_fast(10) ➞ 55\n",
    "#    fib_fast(20) ➞ 6765\n",
    "#    fib_fast(50) ➞ 12586269025\n",
    "\n",
    "# Sol :\n",
    "\n",
    "def fib_fast(num):\n",
    "    try:\n",
    "        n1, n2, output = 0, 1, 0\n",
    "        for i in range(num + 1):\n",
    "            if i > 1:\n",
    "                output = n1 + n2\n",
    "                n1 = n2\n",
    "                n2 = output\n",
    "        return output\n",
    "    except Exception as e:\n",
    "        return e"
   ]
  },
  {
   "cell_type": "code",
   "execution_count": 2,
   "id": "d4625fce",
   "metadata": {},
   "outputs": [
    {
     "data": {
      "text/plain": [
       "5"
      ]
     },
     "execution_count": 2,
     "metadata": {},
     "output_type": "execute_result"
    }
   ],
   "source": [
    "fib_fast(5)"
   ]
  },
  {
   "cell_type": "code",
   "execution_count": 3,
   "id": "2a42dc15",
   "metadata": {},
   "outputs": [
    {
     "data": {
      "text/plain": [
       "55"
      ]
     },
     "execution_count": 3,
     "metadata": {},
     "output_type": "execute_result"
    }
   ],
   "source": [
    "fib_fast(10)"
   ]
  },
  {
   "cell_type": "code",
   "execution_count": 4,
   "id": "440315ae",
   "metadata": {},
   "outputs": [
    {
     "data": {
      "text/plain": [
       "6765"
      ]
     },
     "execution_count": 4,
     "metadata": {},
     "output_type": "execute_result"
    }
   ],
   "source": [
    "fib_fast(20)"
   ]
  },
  {
   "cell_type": "code",
   "execution_count": 5,
   "id": "c4624a8c",
   "metadata": {},
   "outputs": [
    {
     "data": {
      "text/plain": [
       "12586269025"
      ]
     },
     "execution_count": 5,
     "metadata": {},
     "output_type": "execute_result"
    }
   ],
   "source": [
    "fib_fast(50)"
   ]
  },
  {
   "cell_type": "code",
   "execution_count": 6,
   "id": "10c6b2aa",
   "metadata": {},
   "outputs": [],
   "source": [
    "# 2.Create a function that takes a strings characters as ASCII and returns each characters hexadecimal value as a string.\n",
    "#   Examples:\n",
    "#   convert_to_hex(\"hello world\") ➞ \"68 65 6c 6c 6f 20 77 6f 72 6c 64\"\n",
    "#   convert_to_hex(\"Big Boi\") ➞ \"42 69 67 20 42 6f 69\"\n",
    "#   convert_to_hex(\"Marty Poppinson\") ➞ \"4d 61 72 74 79 20 50 6f 70 70 69 6e 73 6f 6e\"\n",
    "\n",
    "# Sol :\n",
    "\n",
    "def convert_to_hex(string):\n",
    "    try:\n",
    "        result = ''\n",
    "        for i in range(len(string)):\n",
    "            if i == len(string)-1:\n",
    "                result += hex(ord(string[i]))[-2:]\n",
    "            else:\n",
    "                result += hex(ord(string[i]))[-2:] + ' '\n",
    "        return result\n",
    "    except Exception as e:\n",
    "        return e"
   ]
  },
  {
   "cell_type": "code",
   "execution_count": 7,
   "id": "8a9e21f2",
   "metadata": {},
   "outputs": [
    {
     "data": {
      "text/plain": [
       "'68 65 6c 6c 6f 20 77 6f 72 6c 64'"
      ]
     },
     "execution_count": 7,
     "metadata": {},
     "output_type": "execute_result"
    }
   ],
   "source": [
    "convert_to_hex(\"hello world\")"
   ]
  },
  {
   "cell_type": "code",
   "execution_count": 8,
   "id": "1ae37662",
   "metadata": {},
   "outputs": [
    {
     "data": {
      "text/plain": [
       "'42 69 67 20 42 6f 69'"
      ]
     },
     "execution_count": 8,
     "metadata": {},
     "output_type": "execute_result"
    }
   ],
   "source": [
    " convert_to_hex(\"Big Boi\")"
   ]
  },
  {
   "cell_type": "code",
   "execution_count": 9,
   "id": "fdd73639",
   "metadata": {},
   "outputs": [
    {
     "data": {
      "text/plain": [
       "'4d 61 72 74 79 20 50 6f 70 70 69 6e 73 6f 6e'"
      ]
     },
     "execution_count": 9,
     "metadata": {},
     "output_type": "execute_result"
    }
   ],
   "source": [
    "convert_to_hex(\"Marty Poppinson\")"
   ]
  },
  {
   "cell_type": "code",
   "execution_count": 10,
   "id": "e9f3b7f7",
   "metadata": {},
   "outputs": [],
   "source": [
    "# 3.Someone has attempted to censor my strings by replacing every vowel with a *, l*k* th*s. Luckily, I've been able to find the \n",
    "#   vowels that were removed.\n",
    "#   Given a censored string and a string of the censored vowels, return the original uncensored string.\n",
    "#   Examples:\n",
    "#   uncensor(\"Wh*r* d*d my v*w*ls g*?\", \"eeioeo\") ➞ \"Where did my vowels go?\"\n",
    "#   uncensor(\"abcd\", \"\") ➞ \"abcd\"\n",
    "#   uncensor(\"*PP*RC*S*\", \"UEAE\") ➞ \"UPPERCASE\"\n",
    "\n",
    "# Sol :\n",
    "\n",
    "def uncensor(s1, s2):\n",
    "    try:\n",
    "        result = ''\n",
    "        j = 0\n",
    "        for i in s1:\n",
    "            if i == \"*\":\n",
    "                result += s2[j]\n",
    "                j += 1\n",
    "            else:\n",
    "                result += i\n",
    "        return result\n",
    "    except Exception as e:\n",
    "        return e"
   ]
  },
  {
   "cell_type": "code",
   "execution_count": 11,
   "id": "225edfff",
   "metadata": {},
   "outputs": [
    {
     "data": {
      "text/plain": [
       "'Where did my vowels go?'"
      ]
     },
     "execution_count": 11,
     "metadata": {},
     "output_type": "execute_result"
    }
   ],
   "source": [
    "uncensor(\"Wh*r* d*d my v*w*ls g*?\", \"eeioeo\")"
   ]
  },
  {
   "cell_type": "code",
   "execution_count": 12,
   "id": "8b4a61a8",
   "metadata": {},
   "outputs": [
    {
     "data": {
      "text/plain": [
       "'abcd'"
      ]
     },
     "execution_count": 12,
     "metadata": {},
     "output_type": "execute_result"
    }
   ],
   "source": [
    "uncensor(\"abcd\", \"\")"
   ]
  },
  {
   "cell_type": "code",
   "execution_count": 13,
   "id": "8b2e6cba",
   "metadata": {},
   "outputs": [
    {
     "data": {
      "text/plain": [
       "'UPPERCASE'"
      ]
     },
     "execution_count": 13,
     "metadata": {},
     "output_type": "execute_result"
    }
   ],
   "source": [
    "uncensor(\"*PP*RC*S*\", \"UEAE\")"
   ]
  },
  {
   "cell_type": "code",
   "execution_count": 14,
   "id": "fc80d5fc",
   "metadata": {},
   "outputs": [],
   "source": [
    "# 4.Write a function that takes an IP address and returns the domain name using PTR DNS records.\n",
    "#   Examples:\n",
    "#   get_domain(\"8.8.8.8\") ➞ \"dns.google\"\n",
    "#   get_domain(\"8.8.4.4\") ➞ \"dns.google\"\n",
    "\n",
    "# Sol :\n",
    "\n",
    "import socket\n",
    "\n",
    "def get_domain(ip_address) : \n",
    "    try:\n",
    "        return socket.gethostbyaddr(ip_address)[0]\n",
    "    except Exception as e:\n",
    "        return e"
   ]
  },
  {
   "cell_type": "code",
   "execution_count": 15,
   "id": "16f73a3d",
   "metadata": {},
   "outputs": [
    {
     "data": {
      "text/plain": [
       "'dns.google'"
      ]
     },
     "execution_count": 15,
     "metadata": {},
     "output_type": "execute_result"
    }
   ],
   "source": [
    "get_domain(\"8.8.8.8\")"
   ]
  },
  {
   "cell_type": "code",
   "execution_count": 16,
   "id": "9a1d57d8",
   "metadata": {},
   "outputs": [
    {
     "data": {
      "text/plain": [
       "'dns.google'"
      ]
     },
     "execution_count": 16,
     "metadata": {},
     "output_type": "execute_result"
    }
   ],
   "source": [
    "get_domain(\"8.8.4.4\") "
   ]
  },
  {
   "cell_type": "code",
   "execution_count": 17,
   "id": "70da094a",
   "metadata": {},
   "outputs": [],
   "source": [
    "# 5.Create a function that takes an integer n and returns the factorial of factorials. See below examples for a better \n",
    "#   understanding:\n",
    "#   Examples:\n",
    "#   fact_of_fact(4) ➞ 288\n",
    "#   4! * 3! * 2! * 1! = 288\n",
    "#   fact_of_fact(5) ➞ 34560\n",
    "#   fact_of_fact(6) ➞ 24883200\n",
    "\n",
    "# Sol :\n",
    "\n",
    "def fact_of_fact(num):\n",
    "    try:\n",
    "        result = 1\n",
    "        def fact(n):\n",
    "            if n == 1:\n",
    "                return 1\n",
    "            else:\n",
    "                return n * fact(n-1)\n",
    "        for i in range(num, 0, -1):\n",
    "            result *= fact(i)\n",
    "        return result\n",
    "    except Exception as e:\n",
    "        return e"
   ]
  },
  {
   "cell_type": "code",
   "execution_count": 18,
   "id": "c99286e8",
   "metadata": {},
   "outputs": [
    {
     "data": {
      "text/plain": [
       "288"
      ]
     },
     "execution_count": 18,
     "metadata": {},
     "output_type": "execute_result"
    }
   ],
   "source": [
    "fact_of_fact(4)"
   ]
  },
  {
   "cell_type": "code",
   "execution_count": 19,
   "id": "b729423c",
   "metadata": {},
   "outputs": [
    {
     "data": {
      "text/plain": [
       "34560"
      ]
     },
     "execution_count": 19,
     "metadata": {},
     "output_type": "execute_result"
    }
   ],
   "source": [
    "fact_of_fact(5)"
   ]
  },
  {
   "cell_type": "code",
   "execution_count": 20,
   "id": "fbf9437b",
   "metadata": {},
   "outputs": [
    {
     "data": {
      "text/plain": [
       "24883200"
      ]
     },
     "execution_count": 20,
     "metadata": {},
     "output_type": "execute_result"
    }
   ],
   "source": [
    "fact_of_fact(6)"
   ]
  },
  {
   "cell_type": "code",
   "execution_count": null,
   "id": "ccd97fe2",
   "metadata": {},
   "outputs": [],
   "source": []
  },
  {
   "cell_type": "code",
   "execution_count": null,
   "id": "c4533fa6",
   "metadata": {},
   "outputs": [],
   "source": []
  }
 ],
 "metadata": {
  "kernelspec": {
   "display_name": "Python 3 (ipykernel)",
   "language": "python",
   "name": "python3"
  },
  "language_info": {
   "codemirror_mode": {
    "name": "ipython",
    "version": 3
   },
   "file_extension": ".py",
   "mimetype": "text/x-python",
   "name": "python",
   "nbconvert_exporter": "python",
   "pygments_lexer": "ipython3",
   "version": "3.9.12"
  }
 },
 "nbformat": 4,
 "nbformat_minor": 5
}
