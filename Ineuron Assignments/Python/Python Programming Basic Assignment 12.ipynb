{
 "cells": [
  {
   "cell_type": "code",
   "execution_count": 1,
   "id": "deee90f1",
   "metadata": {},
   "outputs": [],
   "source": [
    "# 1. Write a Python program to Extract Unique values dictionary values?\n",
    "\n",
    "# Sol :\n",
    "\n",
    "def dict_unique_values(d):\n",
    "    \"It gives the unique value of dict\"\n",
    "    try:\n",
    "        k = set()\n",
    "        for i in d.values():\n",
    "            if type(i) == list or type(i) == tuple or type(i) == set:\n",
    "                for j in i:\n",
    "                    k.add(j)\n",
    "            else:\n",
    "                k.add(i)\n",
    "        print(\"The unique values in the dict : \", list(k))\n",
    "    except Exception as e:\n",
    "        print(\"The Error has occured\")\n",
    "        print(f\"The error is : {e}\")    "
   ]
  },
  {
   "cell_type": "code",
   "execution_count": 2,
   "id": "8bab9bbe",
   "metadata": {},
   "outputs": [],
   "source": [
    "a = {\"str\" : \"sudh\", \"int\" : 748, \"float\" : 52.3, \"complex\" : 78+96j, \"bool\" : True,\n",
    "    \"list\" : [89, 90, 78, 56, 34, 23], \"tuple\" : (\"sai\", \"sudh\", \"kishore\", 90, 89),\n",
    "    \"set\" : {90, 89, 78, 67}}"
   ]
  },
  {
   "cell_type": "code",
   "execution_count": 3,
   "id": "fdfaab03",
   "metadata": {},
   "outputs": [
    {
     "name": "stdout",
     "output_type": "stream",
     "text": [
      "The unique values in the dict :  ['sai', True, 34, 67, 'kishore', 748, (78+96j), 78, 'sudh', 52.3, 23, 56, 89, 90]\n"
     ]
    }
   ],
   "source": [
    "dict_unique_values(a)"
   ]
  },
  {
   "cell_type": "code",
   "execution_count": 4,
   "id": "764291c1",
   "metadata": {},
   "outputs": [],
   "source": [
    "b = {1 : \"sudh\", 2 : [90, 89, 87, 67, 90, 90], 3:(90 ,89, 90, 78), \"nciusdnuv\" : {74, 20, 63, 23+6j, \"ueft\"}}"
   ]
  },
  {
   "cell_type": "code",
   "execution_count": 5,
   "id": "1f2cdce3",
   "metadata": {},
   "outputs": [
    {
     "name": "stdout",
     "output_type": "stream",
     "text": [
      "The unique values in the dict :  ['ueft', 67, (23+6j), 74, 78, 'sudh', 20, 87, 89, 90, 63]\n"
     ]
    }
   ],
   "source": [
    "dict_unique_values(b)"
   ]
  },
  {
   "cell_type": "code",
   "execution_count": 6,
   "id": "3e52c872",
   "metadata": {},
   "outputs": [],
   "source": [
    "# 3. Write a Python program to find the sum of all items in a dictionary?\n",
    "\n",
    "# Sol :\n",
    "\n",
    "def dict_sum(d):\n",
    "    \"Its find out the sum of all items in a dictionary\"\n",
    "    try:\n",
    "        sum = 0\n",
    "        for i in d.values():\n",
    "            sum += i\n",
    "        print(\"The sum of all items in a dictionary : \", sum)\n",
    "    except Exception as e:\n",
    "        print(\"The error has occured\")\n",
    "        print(f\"The error is : {e}\")"
   ]
  },
  {
   "cell_type": "code",
   "execution_count": 7,
   "id": "c98106af",
   "metadata": {},
   "outputs": [],
   "source": [
    "dt = {\"a\" : 200, \"b\" : 500, \"c\" : 300}"
   ]
  },
  {
   "cell_type": "code",
   "execution_count": 8,
   "id": "3145b6d4",
   "metadata": {},
   "outputs": [
    {
     "name": "stdout",
     "output_type": "stream",
     "text": [
      "The sum of all items in a dictionary :  1000\n"
     ]
    }
   ],
   "source": [
    "dict_sum(dt)"
   ]
  },
  {
   "cell_type": "code",
   "execution_count": 9,
   "id": "9b281ca4",
   "metadata": {},
   "outputs": [],
   "source": [
    "dt1 = {\"m\" : 741, \"n\" : 452, \"o\" : 236}"
   ]
  },
  {
   "cell_type": "code",
   "execution_count": 10,
   "id": "04b8929d",
   "metadata": {},
   "outputs": [
    {
     "name": "stdout",
     "output_type": "stream",
     "text": [
      "The sum of all items in a dictionary :  1429\n"
     ]
    }
   ],
   "source": [
    "dict_sum(dt1)"
   ]
  },
  {
   "cell_type": "code",
   "execution_count": 11,
   "id": "52316dab",
   "metadata": {},
   "outputs": [],
   "source": [
    "# 3. Write a Python program to Merging two Dictionaries?\n",
    "\n",
    "# Sol :\n",
    "\n",
    "def merge_dict(a, b):\n",
    "    \"Its find out the merging of the two dictionaries\"\n",
    "    try:\n",
    "        k = {}\n",
    "        for i in [a, b]:\n",
    "            for j, l in i.items():\n",
    "                k.update({j : l})\n",
    "                \n",
    "        print(f\"After merging the two dictionaries {a} and {b} is : \\n\\t\\t{k}\")\n",
    "    except Exception as e:\n",
    "        print(\"The error has occured\")\n",
    "        print(f\"The error is : {e}\")\n",
    "        "
   ]
  },
  {
   "cell_type": "code",
   "execution_count": 12,
   "id": "38d05bd2",
   "metadata": {},
   "outputs": [],
   "source": [
    "m = {\"name\" : \"kishore\", \"edu\" : \"pg\", \"year\" : 2021}\n",
    "n = {\"name1\" : \"surya\", \"edu1\" : \"graduation\", \"year\" : 2020}"
   ]
  },
  {
   "cell_type": "code",
   "execution_count": 13,
   "id": "b3b6b6da",
   "metadata": {},
   "outputs": [
    {
     "name": "stdout",
     "output_type": "stream",
     "text": [
      "After merging the two dictionaries {'name': 'kishore', 'edu': 'pg', 'year': 2021} and {'name1': 'surya', 'edu1': 'graduation', 'year': 2020} is : \n",
      "\t\t{'name': 'kishore', 'edu': 'pg', 'year': 2020, 'name1': 'surya', 'edu1': 'graduation'}\n"
     ]
    }
   ],
   "source": [
    "merge_dict(m,n)"
   ]
  },
  {
   "cell_type": "code",
   "execution_count": 14,
   "id": "78b80952",
   "metadata": {},
   "outputs": [],
   "source": [
    "# 4. Write a Python program to convert key-values list to flat dictionary?\n",
    "\n",
    "# Sol : \n",
    "\n",
    "\n",
    "def flat(d):\n",
    "    \"It converts key-values list to flat dictionary\"\n",
    "    try:\n",
    "        k = list(d.keys())\n",
    "        j = dict(zip(d[k[0]], d[k[1]]))\n",
    "        print(\"After convert key-values list to flat dictionary : \", j)\n",
    "    except Exception as e:\n",
    "        print(\"The error has occured\")\n",
    "        print(f\"The error is : {e}\")"
   ]
  },
  {
   "cell_type": "code",
   "execution_count": 15,
   "id": "97e06c86",
   "metadata": {},
   "outputs": [],
   "source": [
    "d = {\"rollno\" : [1,2,3], \"names\" : [\"kishore\", \"surya\", \"yadav\"]}"
   ]
  },
  {
   "cell_type": "code",
   "execution_count": 16,
   "id": "bf241402",
   "metadata": {},
   "outputs": [
    {
     "name": "stdout",
     "output_type": "stream",
     "text": [
      "After convert key-values list to flat dictionary :  {1: 'kishore', 2: 'surya', 3: 'yadav'}\n"
     ]
    }
   ],
   "source": [
    "flat(d)"
   ]
  },
  {
   "cell_type": "code",
   "execution_count": 17,
   "id": "c7b87881",
   "metadata": {},
   "outputs": [],
   "source": [
    "a = {\"no\" : [1,2,3,4,5,6,7], \"day\" : [\"Monday\", \"Tuesday\", \"Wednesday\", \"Thursday\", \"Friday\", \"Saturday\", \"Sunday\"]}"
   ]
  },
  {
   "cell_type": "code",
   "execution_count": 18,
   "id": "55a496d4",
   "metadata": {},
   "outputs": [
    {
     "name": "stdout",
     "output_type": "stream",
     "text": [
      "After convert key-values list to flat dictionary :  {1: 'Monday', 2: 'Tuesday', 3: 'Wednesday', 4: 'Thursday', 5: 'Friday', 6: 'Saturday', 7: 'Sunday'}\n"
     ]
    }
   ],
   "source": [
    "flat(a)"
   ]
  },
  {
   "cell_type": "code",
   "execution_count": 19,
   "id": "b008e860",
   "metadata": {},
   "outputs": [],
   "source": [
    "# 5. Write a Python program to insertion at the beginning in OrderedDict?\n",
    "\n",
    "# Sol : \n",
    "\n",
    "def insertion(d, key, value):\n",
    "    \"Its inserts the value at the begining in ordered dict\"\n",
    "    try : \n",
    "        from collections import OrderedDict\n",
    "        d = OrderedDict(d)\n",
    "        d.update({key : value})\n",
    "        d.move_to_end(key, last = False)\n",
    "        dt = dict(d)\n",
    "        print(\"After insertion at the beginning in OrderedDict : \", dt)\n",
    "    except Exception as e:\n",
    "        print(\"The error has occured\")\n",
    "        print(f\"The error is : {e}\")"
   ]
  },
  {
   "cell_type": "code",
   "execution_count": 20,
   "id": "4ade8835",
   "metadata": {},
   "outputs": [],
   "source": [
    "a = {\"a\" : \"surya\", \"b\" : \"nikhil\"}"
   ]
  },
  {
   "cell_type": "code",
   "execution_count": 21,
   "id": "e0cbb295",
   "metadata": {},
   "outputs": [
    {
     "name": "stdout",
     "output_type": "stream",
     "text": [
      "After insertion at the beginning in OrderedDict :  {'c': 'Nandha', 'a': 'surya', 'b': 'nikhil'}\n"
     ]
    }
   ],
   "source": [
    "insertion(a, \"c\", \"Nandha\")"
   ]
  },
  {
   "cell_type": "code",
   "execution_count": 22,
   "id": "4a555996",
   "metadata": {},
   "outputs": [],
   "source": [
    "d = {2 : \"Monday\", 3 : \"Tuesday\"}"
   ]
  },
  {
   "cell_type": "code",
   "execution_count": 23,
   "id": "d615a1d5",
   "metadata": {},
   "outputs": [
    {
     "name": "stdout",
     "output_type": "stream",
     "text": [
      "After insertion at the beginning in OrderedDict :  {1: 'Sunday', 2: 'Monday', 3: 'Tuesday'}\n"
     ]
    }
   ],
   "source": [
    "insertion(d, 1, \"Sunday\")"
   ]
  },
  {
   "cell_type": "code",
   "execution_count": 24,
   "id": "cda7d392",
   "metadata": {},
   "outputs": [],
   "source": [
    "# Second method\n",
    "\n",
    "def insertion(d, key, value):\n",
    "    \"Its inserts the value at the begining in ordered dict\"\n",
    "    try : \n",
    "        k = list(d.keys())\n",
    "        l = list(d.values())\n",
    "        k.insert(0, key)\n",
    "        l.insert(0, value)\n",
    "        dt = dict(zip(k, l))\n",
    "        print(\"After insertion at the beginning in OrderedDict : \", dt)\n",
    "    except Exception as e:\n",
    "        print(\"The error has occured\")\n",
    "        print(f\"The error is : {e}\")"
   ]
  },
  {
   "cell_type": "code",
   "execution_count": 25,
   "id": "b05f75f8",
   "metadata": {},
   "outputs": [],
   "source": [
    "a = {\"a\" : \"surya\", \"b\" : \"nikhil\"}"
   ]
  },
  {
   "cell_type": "code",
   "execution_count": 26,
   "id": "c19a2abe",
   "metadata": {},
   "outputs": [
    {
     "name": "stdout",
     "output_type": "stream",
     "text": [
      "After insertion at the beginning in OrderedDict :  {'c': 'Nandha', 'a': 'surya', 'b': 'nikhil'}\n"
     ]
    }
   ],
   "source": [
    "insertion(a, \"c\", \"Nandha\")"
   ]
  },
  {
   "cell_type": "code",
   "execution_count": 27,
   "id": "2defbca6",
   "metadata": {},
   "outputs": [],
   "source": [
    "d = {2 : \"Monday\", 3 : \"Tuesday\"}"
   ]
  },
  {
   "cell_type": "code",
   "execution_count": 28,
   "id": "abfef776",
   "metadata": {},
   "outputs": [
    {
     "name": "stdout",
     "output_type": "stream",
     "text": [
      "After insertion at the beginning in OrderedDict :  {1: 'Sunday', 2: 'Monday', 3: 'Tuesday'}\n"
     ]
    }
   ],
   "source": [
    "insertion(d, 1, \"Sunday\")"
   ]
  },
  {
   "cell_type": "code",
   "execution_count": 29,
   "id": "394c0f2b",
   "metadata": {},
   "outputs": [],
   "source": [
    "# 6. Write a Python program to check order of character in string using OrderedDict()?\n",
    "\n",
    "# Sol :\n",
    "\n",
    "def dict_pattern(d, p):\n",
    "    \"It checks whether the order of character in string or not by using OrderedDict()\"\n",
    "    try:\n",
    "        from collections import OrderedDict\n",
    "        k = OrderedDict.fromkeys(d)\n",
    "        pl = 0\n",
    "        for key, value in k.items():\n",
    "            if key == p[pl]:\n",
    "                pl += 1\n",
    "            \n",
    "            if pl == len(p):\n",
    "                return \"The order of pattern is correct\"\n",
    "        return \"The order of pattern is not correct\"\n",
    "    except Exception as e:\n",
    "        print(\"The error has occured\")\n",
    "        print(f\"The error is : {e}\")"
   ]
  },
  {
   "cell_type": "code",
   "execution_count": 30,
   "id": "71816f04",
   "metadata": {},
   "outputs": [
    {
     "data": {
      "text/plain": [
       "'The order of pattern is correct'"
      ]
     },
     "execution_count": 30,
     "metadata": {},
     "output_type": "execute_result"
    }
   ],
   "source": [
    "dict_pattern(\"Sai Ram\", \"SR\")"
   ]
  },
  {
   "cell_type": "code",
   "execution_count": 31,
   "id": "950c58c0",
   "metadata": {},
   "outputs": [
    {
     "data": {
      "text/plain": [
       "'The order of pattern is not correct'"
      ]
     },
     "execution_count": 31,
     "metadata": {},
     "output_type": "execute_result"
    }
   ],
   "source": [
    "dict_pattern(\"Sai Ram\", \"ia\")"
   ]
  },
  {
   "cell_type": "code",
   "execution_count": 32,
   "id": "cf8820a6",
   "metadata": {},
   "outputs": [],
   "source": [
    "# 7. Write a Python program to sort Python Dictionaries by Key or Value?\n",
    "\n",
    "# Sol : \n",
    "\n",
    "def dict_sort(d):\n",
    "    \"It sorts the python dictionaries by key and value\"\n",
    "    \"Keys must be in same data type\"\n",
    "    try:\n",
    "        print(\"After sorting the dictionary with their keys\")\n",
    "        k = sorted(d.keys())\n",
    "        for i in k:\n",
    "            print((i, d[i]), end = \" \")\n",
    "    except Exception as e:\n",
    "        print(\"The error has occured\")\n",
    "        print(f\"The error is : {e}\")"
   ]
  },
  {
   "cell_type": "code",
   "execution_count": 33,
   "id": "9474bb5e",
   "metadata": {},
   "outputs": [],
   "source": [
    "a = {\"name\" : \"sai rama krishna\", \"age\" : \"21\", \"education\" : \"pg\"}"
   ]
  },
  {
   "cell_type": "code",
   "execution_count": 34,
   "id": "30924a06",
   "metadata": {},
   "outputs": [
    {
     "name": "stdout",
     "output_type": "stream",
     "text": [
      "After sorting the dictionary with their keys\n",
      "('age', '21') ('education', 'pg') ('name', 'sai rama krishna') "
     ]
    }
   ],
   "source": [
    "dict_sort(a)"
   ]
  },
  {
   "cell_type": "code",
   "execution_count": 35,
   "id": "3c6be773",
   "metadata": {},
   "outputs": [],
   "source": [
    "def dict_sort(d):\n",
    "    \"It sorts the python dictionaries by key and value\"\n",
    "    \"values must be in same data type\"\n",
    "    try:\n",
    "        print(\"After sorting the dictionary with their keys\")\n",
    "        k = sorted(d.values())\n",
    "        for i in k:\n",
    "            for j in list(d.keys()):\n",
    "                if d.get(j) == i:\n",
    "                    print((j, i), end = \" \")\n",
    "    except Exception as e:\n",
    "        print(\"The error has occured\")\n",
    "        print(f\"The error is : {e}\")"
   ]
  },
  {
   "cell_type": "code",
   "execution_count": 38,
   "id": "562ecba8",
   "metadata": {},
   "outputs": [],
   "source": [
    "a = {\"name\" : \"sudh\", \"job\" : \"Data Science\", \"experience\" : \"2 years\"}"
   ]
  },
  {
   "cell_type": "code",
   "execution_count": 39,
   "id": "d54f4310",
   "metadata": {},
   "outputs": [
    {
     "name": "stdout",
     "output_type": "stream",
     "text": [
      "After sorting the dictionary with their keys\n",
      "('experience', '2 years') ('job', 'Data Science') ('name', 'sudh') "
     ]
    }
   ],
   "source": [
    "dict_sort(a)"
   ]
  },
  {
   "cell_type": "code",
   "execution_count": null,
   "id": "1aae72e1",
   "metadata": {},
   "outputs": [],
   "source": []
  },
  {
   "cell_type": "code",
   "execution_count": null,
   "id": "56f3a97c",
   "metadata": {},
   "outputs": [],
   "source": []
  },
  {
   "cell_type": "code",
   "execution_count": null,
   "id": "35a72609",
   "metadata": {},
   "outputs": [],
   "source": []
  },
  {
   "cell_type": "code",
   "execution_count": null,
   "id": "8c10aa10",
   "metadata": {},
   "outputs": [],
   "source": []
  },
  {
   "cell_type": "code",
   "execution_count": null,
   "id": "46ba5c03",
   "metadata": {},
   "outputs": [],
   "source": []
  }
 ],
 "metadata": {
  "kernelspec": {
   "display_name": "Python 3 (ipykernel)",
   "language": "python",
   "name": "python3"
  },
  "language_info": {
   "codemirror_mode": {
    "name": "ipython",
    "version": 3
   },
   "file_extension": ".py",
   "mimetype": "text/x-python",
   "name": "python",
   "nbconvert_exporter": "python",
   "pygments_lexer": "ipython3",
   "version": "3.9.7"
  }
 },
 "nbformat": 4,
 "nbformat_minor": 5
}
