{
 "cells": [
  {
   "cell_type": "code",
   "execution_count": 1,
   "id": "28deb883",
   "metadata": {},
   "outputs": [],
   "source": [
    "# 1. Write a function that takes a list of lists and returns the value of all of the symbols in it, where each symbol adds or \n",
    "# takes something from the total score. Symbol values:\n",
    "# # = 5\n",
    "# O = 3\n",
    "# X = 1\n",
    "# ! = -1\n",
    "# !! = -3\n",
    "# !!! = -5\n",
    "# A list of lists containing 2 #s, a O, and a !!! would equal (0 + 5 + 5 + 3 - 5) 8.\n",
    "# If the final score is negative, return 0 (e.g. 3 #s, 3 !!s, 2 !!!s and a X would be\n",
    "# (0 + 5 + 5 + 5 - 3 - 3 - 3 - 5 - 5 + 1) -3, so return 0.\n",
    "# Examples\n",
    "\n",
    "# check_score([['#', '!'], ['!!', 'X']]) - 2\n",
    "# check_score([['!!!', 'O', '!'], ['X', '#', '!!!'], ['!!', 'X', 'O']]) - 0\n",
    "\n",
    "# Sol :\n",
    "\n",
    "def check_score(lis):\n",
    "    try:\n",
    "        if type(lis) == list:\n",
    "            value_dict = {'#' : 5, 'O' : 3, 'X' : 1, '!' : -1, '!!' : -3, '!!!' : -5}\n",
    "            value = 0\n",
    "            for i in lis:\n",
    "                if type(i) == list:\n",
    "                    for j in i :\n",
    "                        value = value + value_dict[j]\n",
    "                else:\n",
    "                    value = value + value_dict[i]\n",
    "            if value > 0:\n",
    "                return value\n",
    "            return 0\n",
    "        else:\n",
    "            raise Exception('It is not a list')\n",
    "    except Exception as e:\n",
    "        return e"
   ]
  },
  {
   "cell_type": "code",
   "execution_count": 2,
   "id": "ca2bf9e8",
   "metadata": {},
   "outputs": [
    {
     "data": {
      "text/plain": [
       "2"
      ]
     },
     "execution_count": 2,
     "metadata": {},
     "output_type": "execute_result"
    }
   ],
   "source": [
    "check_score([['#', '!'], ['!!', 'X']])"
   ]
  },
  {
   "cell_type": "code",
   "execution_count": 3,
   "id": "d69912e3",
   "metadata": {},
   "outputs": [
    {
     "data": {
      "text/plain": [
       "0"
      ]
     },
     "execution_count": 3,
     "metadata": {},
     "output_type": "execute_result"
    }
   ],
   "source": [
    "check_score([['!!!', 'O', '!'], ['X', '#', '!!!'], ['!!', 'X', 'O']])"
   ]
  },
  {
   "cell_type": "code",
   "execution_count": 4,
   "id": "1a4c1e16",
   "metadata": {},
   "outputs": [],
   "source": [
    "# 2.Create a function that takes a variable number of arguments, each argument representing the \n",
    "#   number of items in a group, and returns the number of permutations (combinations) of items that \n",
    "#   you could get by taking one item from each group.\n",
    "# Examples:\n",
    "# combinations(2, 3) ➞ 6\n",
    "# combinations(3, 7, 4) ➞ 84\n",
    "# combinations(2, 3, 4, 5) ➞ 120\n",
    "\n",
    "# Sol :\n",
    "\n",
    "def combinations(*args):\n",
    "    try:\n",
    "        output = 1\n",
    "        for i in args :\n",
    "            output *= i\n",
    "        return output\n",
    "    except Exception as e:\n",
    "        return e"
   ]
  },
  {
   "cell_type": "code",
   "execution_count": 5,
   "id": "ff4c0235",
   "metadata": {},
   "outputs": [
    {
     "data": {
      "text/plain": [
       "6"
      ]
     },
     "execution_count": 5,
     "metadata": {},
     "output_type": "execute_result"
    }
   ],
   "source": [
    "combinations(2, 3)"
   ]
  },
  {
   "cell_type": "code",
   "execution_count": 6,
   "id": "6acaa084",
   "metadata": {},
   "outputs": [
    {
     "data": {
      "text/plain": [
       "84"
      ]
     },
     "execution_count": 6,
     "metadata": {},
     "output_type": "execute_result"
    }
   ],
   "source": [
    "combinations(3, 7, 4)"
   ]
  },
  {
   "cell_type": "code",
   "execution_count": 7,
   "id": "a0279962",
   "metadata": {},
   "outputs": [
    {
     "data": {
      "text/plain": [
       "120"
      ]
     },
     "execution_count": 7,
     "metadata": {},
     "output_type": "execute_result"
    }
   ],
   "source": [
    "combinations(2, 3, 4, 5)"
   ]
  },
  {
   "cell_type": "code",
   "execution_count": 8,
   "id": "a3af0d76",
   "metadata": {},
   "outputs": [],
   "source": [
    "# 3.Create a function that takes a string as an argument and returns the Morse code equivalent.\n",
    "# Examples:\n",
    "# encode_morse(\"EDABBIT CHALLENGE\") ➞ \". -.. .- -... -... .. - -.-. .... .- .-.. .-.. . -. --. .\"\n",
    "# encode_morse(\"HELP ME !\") ➞ \".... . .-.. .--. -- . -.-.--\"\n",
    "# This dictionary can be used for coding:\n",
    "# char_to_dots = { 'A': '.-','B': '-...', 'C': '-.-.', 'D': '-..', 'E': '.', 'F': '..-.', 'G': '--.', \n",
    "#                'H': '....','I': '..', 'J': '.---', 'K': '-.-', 'L': '.-..', 'M': '--', 'N': '-.', \n",
    "#                'O': '---','P': '.--.', 'Q': '--.-', 'R': '.-.', 'S': '...', 'T': '-', 'U': '..-', \n",
    "#                'V': '...-','W': '.--', 'X': '-..-', 'Y': '-.--', 'Z': '--..', ' ': ' ','0': '-----',\n",
    "#                '1': '.----','2': '..---', '3': '...--', '4': '....-', '5': '.....', '6': '-....',\n",
    "#                '7': '--...','8': '---..', '9': '----.', '&': '.-...', \"'\": '.----.', '@': '.--.-.',\n",
    "#                ')': '-.--.-','(': '-.--.', ':': '---...', ',': '--..--', '=': '-...-', \n",
    "#                '!': '-.-.--','.': '.-.-.-', '-': '-....-', '+': '.-.-.', '\"': '.-..-.', \n",
    "#                '?': '..--..','/': '-..-.' }\n",
    "\n",
    "# Sol :\n",
    "\n",
    "def encode_morse(string):\n",
    "    try:\n",
    "        char_to_dots = { 'A': '.-', 'B': '-...', 'C': '-.-.', 'D': '-..', 'E': '.', 'F': '..-.', \n",
    "                        'G': '--.', 'H': '....', 'I': '..', 'J': '.---', 'K': '-.-', 'L': '.-..', \n",
    "                        'M': '--', 'N': '-.', 'O': '---', 'P': '.--.', 'Q': '--.-', 'R': '.-.', \n",
    "                        'S': '...', 'T': '-', 'U': '..-', 'V': '...-', 'W': '.--', 'X': '-..-', \n",
    "                        'Y': '-.--', 'Z': '--..', ' ': ' ', '0': '-----', '1': '.----', \n",
    "                        '2': '..---', '3': '...--', '4': '....-', '5': '.....', '6': '-....', \n",
    "                        '7': '--...', '8': '---..', '9': '----.', '&': '.-...', \"'\": '.----.', \n",
    "                        '@': '.--.-.', ')': '-.--.-', '(': '-.--.', ':': '---...', ',': '--..--', \n",
    "                        '=': '-...-', '!': '-.-.--', '.': '.-.-.-', '-': '-....-', '+': '.-.-.', \n",
    "                        '\"': '.-..-.', '?': '..--..', '/': '-..-.' }\n",
    "        output = ''\n",
    "        j = 1\n",
    "        for i in string :\n",
    "            if j == 1:\n",
    "                output += char_to_dots[i]\n",
    "            elif i == ' ':\n",
    "                output += ''\n",
    "            else:\n",
    "                output += ' ' + char_to_dots[i]\n",
    "            j += 1\n",
    "        return output\n",
    "    except Exception as e:\n",
    "        return e"
   ]
  },
  {
   "cell_type": "code",
   "execution_count": 9,
   "id": "c18ba327",
   "metadata": {},
   "outputs": [
    {
     "data": {
      "text/plain": [
       "'. -.. .- -... -... .. - -.-. .... .- .-.. .-.. . -. --. .'"
      ]
     },
     "execution_count": 9,
     "metadata": {},
     "output_type": "execute_result"
    }
   ],
   "source": [
    "encode_morse(\"EDABBIT CHALLENGE\")"
   ]
  },
  {
   "cell_type": "code",
   "execution_count": 10,
   "id": "33f847e3",
   "metadata": {},
   "outputs": [
    {
     "data": {
      "text/plain": [
       "'.... . .-.. .--. -- . -.-.--'"
      ]
     },
     "execution_count": 10,
     "metadata": {},
     "output_type": "execute_result"
    }
   ],
   "source": [
    "encode_morse(\"HELP ME !\")"
   ]
  },
  {
   "cell_type": "code",
   "execution_count": 11,
   "id": "28b19840",
   "metadata": {},
   "outputs": [],
   "source": [
    "# 4.Write a function that takes a number and returns True if it's a prime; False otherwise. \n",
    "# The number can be 2^64-1 (2 to the power of 63, not XOR). With the standard technique it would be \n",
    "# O(2^64-1), which is much too large for the 10 second time limit.\n",
    "# Examples:\n",
    "# prime(7) ➞ True\n",
    "# prime(56963) ➞ True\n",
    "# prime(5151512515524) ➞ False\n",
    "\n",
    "# Sol :\n",
    "\n",
    "def prime(num):\n",
    "    try:\n",
    "        output = False\n",
    "        if ((num+1) % 6 == 0) or ((num-1) % 6 == 0):\n",
    "            output = True\n",
    "        return output\n",
    "    except Exception as e:\n",
    "        return e"
   ]
  },
  {
   "cell_type": "code",
   "execution_count": 12,
   "id": "8a223edc",
   "metadata": {},
   "outputs": [
    {
     "data": {
      "text/plain": [
       "True"
      ]
     },
     "execution_count": 12,
     "metadata": {},
     "output_type": "execute_result"
    }
   ],
   "source": [
    "prime(7)"
   ]
  },
  {
   "cell_type": "code",
   "execution_count": 13,
   "id": "d06c264f",
   "metadata": {},
   "outputs": [
    {
     "data": {
      "text/plain": [
       "True"
      ]
     },
     "execution_count": 13,
     "metadata": {},
     "output_type": "execute_result"
    }
   ],
   "source": [
    " prime(56963)"
   ]
  },
  {
   "cell_type": "code",
   "execution_count": 14,
   "id": "4f6ed97c",
   "metadata": {},
   "outputs": [
    {
     "data": {
      "text/plain": [
       "False"
      ]
     },
     "execution_count": 14,
     "metadata": {},
     "output_type": "execute_result"
    }
   ],
   "source": [
    "prime(5151512515524)"
   ]
  },
  {
   "cell_type": "code",
   "execution_count": 15,
   "id": "a261504c",
   "metadata": {},
   "outputs": [],
   "source": [
    "# 5.Create a function that converts a word to a bitstring and then to a boolean list based on the following criteria:\n",
    "#   1. Locate the position of the letter in the English alphabet (from 1 to 26).\n",
    "#   2. Odd positions will be represented as 1 and 0 otherwise.\n",
    "#   3. Convert the represented positions to boolean values, 1 for True and 0 for False.\n",
    "#   4. Store the conversions into an array.\n",
    "\n",
    "# Examples:\n",
    "#    to_boolean_list(\"deep\") ➞ [False, True, True, False]\n",
    "#  deep converts to 0110\n",
    "#  d is the 4th alphabet - 0\n",
    "#  e is the 5th alphabet - 1\n",
    "#  e is the 5th alphabet - 1\n",
    "#  p is the 16th alphabet - 0\n",
    "#  to_boolean_list(\"loves\") ➞ [False, True, False, True, True]\n",
    "#  to_boolean_list(\"tesh\") ➞ [False, True, True, False]\n",
    "\n",
    "# Sol :\n",
    "\n",
    "import string\n",
    "\n",
    "string_dict = dict(zip(string.ascii_lowercase, range(1, 27)))\n",
    "\n",
    "def to_boolean_list(word):\n",
    "    try:\n",
    "        result = []\n",
    "        for i in word:\n",
    "            if string_dict[i] % 2 == 0:\n",
    "                result.append(False)\n",
    "            else:\n",
    "                result.append(True)\n",
    "        return result\n",
    "    except Exception as e:\n",
    "        return e"
   ]
  },
  {
   "cell_type": "code",
   "execution_count": 16,
   "id": "72720a20",
   "metadata": {},
   "outputs": [
    {
     "data": {
      "text/plain": [
       "[False, True, False, True, True]"
      ]
     },
     "execution_count": 16,
     "metadata": {},
     "output_type": "execute_result"
    }
   ],
   "source": [
    "to_boolean_list(\"loves\")"
   ]
  },
  {
   "cell_type": "code",
   "execution_count": 17,
   "id": "9679c076",
   "metadata": {},
   "outputs": [
    {
     "data": {
      "text/plain": [
       "[False, True, True, False]"
      ]
     },
     "execution_count": 17,
     "metadata": {},
     "output_type": "execute_result"
    }
   ],
   "source": [
    "to_boolean_list(\"tesh\")"
   ]
  },
  {
   "cell_type": "code",
   "execution_count": null,
   "id": "a3f39c41",
   "metadata": {},
   "outputs": [],
   "source": []
  },
  {
   "cell_type": "code",
   "execution_count": null,
   "id": "b150c290",
   "metadata": {},
   "outputs": [],
   "source": []
  }
 ],
 "metadata": {
  "kernelspec": {
   "display_name": "Python 3 (ipykernel)",
   "language": "python",
   "name": "python3"
  },
  "language_info": {
   "codemirror_mode": {
    "name": "ipython",
    "version": 3
   },
   "file_extension": ".py",
   "mimetype": "text/x-python",
   "name": "python",
   "nbconvert_exporter": "python",
   "pygments_lexer": "ipython3",
   "version": "3.9.12"
  }
 },
 "nbformat": 4,
 "nbformat_minor": 5
}
