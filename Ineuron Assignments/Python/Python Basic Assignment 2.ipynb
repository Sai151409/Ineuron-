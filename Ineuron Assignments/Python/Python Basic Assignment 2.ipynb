{
 "cells": [
  {
   "cell_type": "code",
   "execution_count": 1,
   "id": "6f6928ae",
   "metadata": {},
   "outputs": [],
   "source": [
    "# 1.What are the two values of the Boolean data type? How do you write them?\n",
    "\n",
    "# Sol:\n",
    "\n",
    "#    The two values of boolean data type is true, false\n",
    "\n",
    "#    In python we write the boolean values as True, False (all characters must be in small letters expect first character)"
   ]
  },
  {
   "cell_type": "code",
   "execution_count": 2,
   "id": "7f8266cd",
   "metadata": {},
   "outputs": [],
   "source": [
    "# 2.What are the three different types of Boolean operators?\n",
    "\n",
    "# Sol:\n",
    "\n",
    "#   The three different types of boolean operators are: and, or, not"
   ]
  },
  {
   "cell_type": "code",
   "execution_count": 3,
   "id": "33c751b7",
   "metadata": {},
   "outputs": [
    {
     "name": "stdout",
     "output_type": "stream",
     "text": [
      "+-------------+-------------+----------+\n",
      "| operand 1   | operand 2   | result   |\n",
      "+=============+=============+==========+\n",
      "| True        | True        | True     |\n",
      "+-------------+-------------+----------+\n",
      "| True        | False       | True     |\n",
      "+-------------+-------------+----------+\n",
      "| False       | True        | True     |\n",
      "+-------------+-------------+----------+\n",
      "| False       | False       | False    |\n",
      "+-------------+-------------+----------+\n"
     ]
    }
   ],
   "source": [
    "# 3. Make a list of each Boolean operator's truth tables \n",
    "\n",
    "# (i.e. every possible combination of Boolean values for the operator and what it evaluate ).\n",
    "\n",
    "# Sol:\n",
    "\n",
    "#  We know that the boolean value true = 1, false = 0 by using these values are going to list the boolean operator's truth table\n",
    "\n",
    "# OR:\n",
    "\n",
    "#    If any one of the operand is true then we get true value, otherwise it is false\n",
    "\n",
    "from tabulate import tabulate\n",
    "\n",
    "mydata = [[\"True\", \"True\", \"True\"],\n",
    "          [\"True\", \"False\", \"True\"],\n",
    "          [\"False\", \"True\", \"True\"],\n",
    "          [\"False\", \"False\", \"False\"]]\n",
    "\n",
    "head = [\"operand 1\", \"operand 2\", \"result\"]\n",
    "\n",
    "print(tabulate(mydata, headers = head, tablefmt=\"grid\"))"
   ]
  },
  {
   "cell_type": "code",
   "execution_count": 4,
   "id": "37c5b868",
   "metadata": {},
   "outputs": [
    {
     "name": "stdout",
     "output_type": "stream",
     "text": [
      "+-------------+-------------+----------+\n",
      "| operand 1   | operand 2   | result   |\n",
      "+=============+=============+==========+\n",
      "| True        | True        | True     |\n",
      "+-------------+-------------+----------+\n",
      "| True        | False       | False    |\n",
      "+-------------+-------------+----------+\n",
      "| False       | True        | False    |\n",
      "+-------------+-------------+----------+\n",
      "| False       | False       | False    |\n",
      "+-------------+-------------+----------+\n"
     ]
    }
   ],
   "source": [
    "# OR:\n",
    "\n",
    "#    If both the operands is true then we get true value, otherwise it is false\n",
    "\n",
    "mydata = [[\"True\", \"True\", \"True\"],\n",
    "          [\"True\", \"False\", \"False\"],\n",
    "          [\"False\", \"True\", \"False\"],\n",
    "          [\"False\", \"False\", \"False\"]]\n",
    "\n",
    "head = [\"operand 1\", \"operand 2\", \"result\"]\n",
    "\n",
    "print(tabulate(mydata, headers = head, tablefmt=\"grid\"))"
   ]
  },
  {
   "cell_type": "code",
   "execution_count": 5,
   "id": "3beb3a2e",
   "metadata": {},
   "outputs": [
    {
     "name": "stdout",
     "output_type": "stream",
     "text": [
      "+-------+----------+\n",
      "| exp   | result   |\n",
      "+=======+==========+\n",
      "| True  | False    |\n",
      "+-------+----------+\n",
      "| False | True     |\n",
      "+-------+----------+\n"
     ]
    }
   ],
   "source": [
    "# NOT:\n",
    "\n",
    "#    Not will give the opposite boolean value of the operand\n",
    "\n",
    "mydata = [[\"True\", \"False\"],\n",
    "          [\"False\", \"True\"]]\n",
    "\n",
    "head = [\"exp\", \"result\"]\n",
    "\n",
    "print(tabulate(mydata, headers = head, tablefmt=\"grid\"))"
   ]
  },
  {
   "cell_type": "code",
   "execution_count": 6,
   "id": "e66b225a",
   "metadata": {},
   "outputs": [
    {
     "name": "stdout",
     "output_type": "stream",
     "text": [
      "(5 > 4) and (3 == 5) :  False\n",
      "not (5 > 4) :  False\n",
      "not ((5 > 4) or (3 == 5)) :  False\n",
      "(True and True) and (True == False) :  False\n",
      "(not False) or (not True) :  True\n"
     ]
    }
   ],
   "source": [
    "# 4. What are the values of the following expressions?\n",
    "# (5 > 4) and (3 == 5)\n",
    "# not (5 > 4)\n",
    "# (5 > 4) or (3 == 5)\n",
    "# not ((5 > 4) or (3 == 5))\n",
    "# (True and True) and (True == False)\n",
    "# (not False) or (not True)\n",
    "\n",
    "# Sol : \n",
    "\n",
    "#     (5 > 4) and (3 == 5) = False\n",
    "\n",
    "print(\"(5 > 4) and (3 == 5) : \", (5 > 4) and (3 == 5))\n",
    "\n",
    "#     not (5 > 4) = False\n",
    "\n",
    "print(\"not (5 > 4) : \", not (5 > 4))\n",
    "\n",
    "# not ((5 > 4) or (3 == 5)) = False\n",
    "\n",
    "print(\"not ((5 > 4) or (3 == 5)) : \", not ((5 > 4) or (3 == 5)))\n",
    "\n",
    "# (True and True) and (True == False) = False\n",
    "\n",
    "print(\"(True and True) and (True == False) : \", (True and True) and (True == False))\n",
    "\n",
    "# (not False) or (not True) = True\n",
    "\n",
    "print(\"(not False) or (not True) : \", (not False) or (not True))"
   ]
  },
  {
   "cell_type": "code",
   "execution_count": 7,
   "id": "ecd02e78",
   "metadata": {},
   "outputs": [],
   "source": [
    "# 5. What are the six comparison operators?\n",
    "\n",
    "# Sol: \n",
    "\n",
    "#    There are six comparison operators: \n",
    "\n",
    "#         Greater than              : >\n",
    "\n",
    "#         lesthan than              : <\n",
    "\n",
    "#         Greater than or equal to  : >=\n",
    "\n",
    "#         lesser than or equal to   : =<\n",
    "\n",
    "#         Equals to                : ==\n",
    "\n",
    "#         Not Equals to            : !="
   ]
  },
  {
   "cell_type": "code",
   "execution_count": 8,
   "id": "fa41527f",
   "metadata": {},
   "outputs": [],
   "source": [
    "# 6. How do you tell the difference between the equal to and assignment operators?\n",
    "#    Describe a condition and when you would use one.\n",
    "\n",
    "# sol:\n",
    "\n",
    "#    If you store or assign the value in some variable at that time using aasignment operator\n",
    "\n",
    "#    if you want to check the conditions in conditional statements we use the equal to operator"
   ]
  },
  {
   "cell_type": "code",
   "execution_count": 9,
   "id": "971c971d",
   "metadata": {},
   "outputs": [
    {
     "name": "stdout",
     "output_type": "stream",
     "text": [
      "35\n"
     ]
    }
   ],
   "source": [
    "a = 35 # Assignment operator\n",
    "\n",
    "if a == 35: # Equal to\n",
    "    print(35)\n",
    "else:\n",
    "    print('It is not 35')"
   ]
  },
  {
   "cell_type": "code",
   "execution_count": 10,
   "id": "6f3ff101",
   "metadata": {},
   "outputs": [
    {
     "name": "stdout",
     "output_type": "stream",
     "text": [
      "ham\n",
      "spam\n",
      "spam\n"
     ]
    }
   ],
   "source": [
    "# 7. . Identify the three blocks in this code:\n",
    "# spam = 0\n",
    "# if spam == 10:\n",
    "# print('eggs')\n",
    "# if spam > 5:\n",
    "# print('bacon')\n",
    "# else:\n",
    "# print('ham')\n",
    "# print('spam')\n",
    "# print('spam')\n",
    "\n",
    "# sol:\n",
    "\n",
    "spam = 0\n",
    "#--------------------------------------------\n",
    "if spam == 10:                # First Block\n",
    "    print('eggs')\n",
    "#--------------------------------------------\n",
    "if spam > 5:                  # Second Block\n",
    "    print('bacon')\n",
    "#--------------------------------------------\n",
    "else:                         # Third Block\n",
    "    print('ham')\n",
    "    print('spam')\n",
    "    print('spam')\n",
    "#---------------------------------------------"
   ]
  },
  {
   "cell_type": "code",
   "execution_count": 11,
   "id": "598503fb",
   "metadata": {},
   "outputs": [
    {
     "name": "stdout",
     "output_type": "stream",
     "text": [
      "1\n",
      "Hello\n"
     ]
    }
   ],
   "source": [
    "# 8. Write code that prints Hello if 1 is stored in spam, \n",
    "#    prints Howdy if 2 is stored in spam, and prints Greetings! if anything else is stored in spam.\n",
    "\n",
    "\n",
    "# sol:\n",
    "\n",
    "spam = int(input())\n",
    "\n",
    "if spam == 1 : \n",
    "    print(\"Hello\")\n",
    "elif spam == 2:\n",
    "    print(\"Howdy\")\n",
    "else:\n",
    "    print(\"Greetings!\")"
   ]
  },
  {
   "cell_type": "code",
   "execution_count": 12,
   "id": "bc15e98d",
   "metadata": {},
   "outputs": [],
   "source": [
    "# 9.If your programme is stuck in an endless loop, what keys you’ll press?\n",
    "\n",
    "# I will press interrupt the kernel option in jupyter notebook or i + \",\" + i"
   ]
  },
  {
   "cell_type": "code",
   "execution_count": 13,
   "id": "e42b7879",
   "metadata": {},
   "outputs": [],
   "source": [
    "# 10. How can you tell the difference between break and continue?\n",
    "\n",
    "# Sol:\n",
    "\n",
    "#    Break : It is used to stop the loop at specific condition\n",
    "\n",
    "#    continue : It is used to skip the value of specific conditon and goes to the next value in the loop"
   ]
  },
  {
   "cell_type": "code",
   "execution_count": 14,
   "id": "050f6e6b",
   "metadata": {},
   "outputs": [
    {
     "name": "stdout",
     "output_type": "stream",
     "text": [
      "1\n",
      "2\n",
      "3\n",
      "5\n",
      "6\n"
     ]
    }
   ],
   "source": [
    "# Here is the answer\n",
    "\n",
    "for i in range(1, 11):\n",
    "    if i == 4: #skip 4\n",
    "        continue\n",
    "    elif i == 7: # break at 7\n",
    "        break\n",
    "    else:\n",
    "        print(i)"
   ]
  },
  {
   "cell_type": "code",
   "execution_count": 15,
   "id": "e634891c",
   "metadata": {},
   "outputs": [
    {
     "name": "stdout",
     "output_type": "stream",
     "text": [
      "0\n",
      "1\n",
      "2\n",
      "3\n",
      "4\n",
      "5\n",
      "6\n",
      "7\n",
      "8\n",
      "9\n"
     ]
    }
   ],
   "source": [
    "# 11. In a for loop, what is the difference between range(10), range(0, 10), and range(0, 10, 1) ?\n",
    "\n",
    "# sol:\n",
    "\n",
    "#    There is no difference between them all are same \n",
    "\n",
    "for i in range(10): #by default it takes the starting value 0 and step = 1\n",
    "    print(i)"
   ]
  },
  {
   "cell_type": "code",
   "execution_count": 16,
   "id": "5ad09cf1",
   "metadata": {},
   "outputs": [
    {
     "name": "stdout",
     "output_type": "stream",
     "text": [
      "0\n",
      "1\n",
      "2\n",
      "3\n",
      "4\n",
      "5\n",
      "6\n",
      "7\n",
      "8\n",
      "9\n"
     ]
    }
   ],
   "source": [
    "for i in range(0, 10): #Here we specdified the start and end point in the range and by default it takes the step = 1\n",
    "    print(i)"
   ]
  },
  {
   "cell_type": "code",
   "execution_count": 17,
   "id": "4d405887",
   "metadata": {},
   "outputs": [
    {
     "name": "stdout",
     "output_type": "stream",
     "text": [
      "0\n",
      "1\n",
      "2\n",
      "3\n",
      "4\n",
      "5\n",
      "6\n",
      "7\n",
      "8\n",
      "9\n"
     ]
    }
   ],
   "source": [
    "for i in range(0, 10, 1): #Here we specified the start, end, step values\n",
    "    print(i)"
   ]
  },
  {
   "cell_type": "code",
   "execution_count": 18,
   "id": "ad4fe0b7",
   "metadata": {},
   "outputs": [
    {
     "name": "stdout",
     "output_type": "stream",
     "text": [
      "1\n",
      "2\n",
      "3\n",
      "4\n",
      "5\n",
      "6\n",
      "7\n",
      "8\n",
      "9\n",
      "10\n"
     ]
    }
   ],
   "source": [
    "# 12. Write a short program that prints the numbers 1 to 10 using a for loop. \n",
    "# Then write an equivalent program that prints the numbers 1 to 10 using a while loop.\n",
    "\n",
    "for i in range(1, 11): # for loop ignore the last element \n",
    "    print(i)"
   ]
  },
  {
   "cell_type": "code",
   "execution_count": 19,
   "id": "cb888274",
   "metadata": {},
   "outputs": [
    {
     "name": "stdout",
     "output_type": "stream",
     "text": [
      "1\n",
      "2\n",
      "3\n",
      "4\n",
      "5\n",
      "6\n",
      "7\n",
      "8\n",
      "9\n",
      "10\n"
     ]
    }
   ],
   "source": [
    "i = 1 # Intiaization\n",
    "while i < 11: #condition\n",
    "    print(i)\n",
    "    i += 1   # increment"
   ]
  },
  {
   "cell_type": "code",
   "execution_count": 20,
   "id": "80b76f95",
   "metadata": {},
   "outputs": [],
   "source": [
    "# 13. If you had a function named bacon() inside a module named spam, how would you call it after importing spam?\n",
    "\n",
    "# sol:\n",
    "\n",
    "#    import spam\n",
    "\n",
    "#    spam.bacon()"
   ]
  },
  {
   "cell_type": "code",
   "execution_count": null,
   "id": "0948d2d5",
   "metadata": {},
   "outputs": [],
   "source": []
  },
  {
   "cell_type": "code",
   "execution_count": null,
   "id": "07aea032",
   "metadata": {},
   "outputs": [],
   "source": []
  }
 ],
 "metadata": {
  "kernelspec": {
   "display_name": "Python 3 (ipykernel)",
   "language": "python",
   "name": "python3"
  },
  "language_info": {
   "codemirror_mode": {
    "name": "ipython",
    "version": 3
   },
   "file_extension": ".py",
   "mimetype": "text/x-python",
   "name": "python",
   "nbconvert_exporter": "python",
   "pygments_lexer": "ipython3",
   "version": "3.9.7"
  }
 },
 "nbformat": 4,
 "nbformat_minor": 5
}
