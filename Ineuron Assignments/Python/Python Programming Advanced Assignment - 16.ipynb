{
 "cells": [
  {
   "cell_type": "code",
   "execution_count": 1,
   "id": "21905fca",
   "metadata": {},
   "outputs": [],
   "source": [
    "# 1. Rondo Form is a type of musical structure, in which there is a recurring theme/refrain, notated as A. \n",
    "#    Here are the rules for valid rondo forms:\n",
    "#    Rondo forms always start and end with an A section.\n",
    "#    In between the A sections, there should be contrasting sections notated as B, then C, then D, etc... No letter \n",
    "#    should be skipped.\n",
    "#    There shouldn't be any repeats in the sequence (such as ABBACCA).\n",
    "#    Create a function which validates whether a given string is a valid Rondo Form.\n",
    "\n",
    "#    Examples:\n",
    "#    valid_rondo(\"ABACADAEAFAGAHAIAJA\") ➞ True\n",
    "#    valid_rondo(\"ABA\") ➞ True\n",
    "#    valid_rondo(\"ABBACCA\") ➞ False\n",
    "#    valid_rondo(\"ACAC\") ➞ False\n",
    "#    valid_rondo(\"A\") ➞ False\n",
    "\n",
    "# Sol :\n",
    "\n",
    "def valid_rondo(string):\n",
    "    try:\n",
    "        output = True\n",
    "        lst = string.replace('A', '')\n",
    "        lst = list(lst)\n",
    "        if len(lst) == 0:\n",
    "            return False\n",
    "        elif len(lst) == 1:\n",
    "            return output\n",
    "        else:\n",
    "            for i in range(len(lst)-1):\n",
    "                if ord(lst[i]) >= ord(lst[i+1]):\n",
    "                    output = False\n",
    "                    break\n",
    "        return output\n",
    "    except Exception as e:\n",
    "        return e"
   ]
  },
  {
   "cell_type": "code",
   "execution_count": 2,
   "id": "6555d164",
   "metadata": {},
   "outputs": [
    {
     "data": {
      "text/plain": [
       "True"
      ]
     },
     "execution_count": 2,
     "metadata": {},
     "output_type": "execute_result"
    }
   ],
   "source": [
    "valid_rondo(\"ABACADAEAFAGAHAIAJA\")"
   ]
  },
  {
   "cell_type": "code",
   "execution_count": 3,
   "id": "e129ef18",
   "metadata": {},
   "outputs": [
    {
     "data": {
      "text/plain": [
       "True"
      ]
     },
     "execution_count": 3,
     "metadata": {},
     "output_type": "execute_result"
    }
   ],
   "source": [
    "valid_rondo(\"ABA\")"
   ]
  },
  {
   "cell_type": "code",
   "execution_count": 4,
   "id": "ba3a44a0",
   "metadata": {},
   "outputs": [
    {
     "data": {
      "text/plain": [
       "False"
      ]
     },
     "execution_count": 4,
     "metadata": {},
     "output_type": "execute_result"
    }
   ],
   "source": [
    "valid_rondo(\"ABBACCA\")"
   ]
  },
  {
   "cell_type": "code",
   "execution_count": 5,
   "id": "54177cfe",
   "metadata": {},
   "outputs": [
    {
     "data": {
      "text/plain": [
       "False"
      ]
     },
     "execution_count": 5,
     "metadata": {},
     "output_type": "execute_result"
    }
   ],
   "source": [
    "valid_rondo(\"ACAC\")"
   ]
  },
  {
   "cell_type": "code",
   "execution_count": 6,
   "id": "f84331d7",
   "metadata": {},
   "outputs": [
    {
     "data": {
      "text/plain": [
       "False"
      ]
     },
     "execution_count": 6,
     "metadata": {},
     "output_type": "execute_result"
    }
   ],
   "source": [
    "valid_rondo(\"A\")"
   ]
  },
  {
   "cell_type": "code",
   "execution_count": 7,
   "id": "a98abda7",
   "metadata": {},
   "outputs": [],
   "source": [
    "# 2. Create a function that returns the whole of the first sentence which contains a specific word.\n",
    "#    Include the full stop at the end of the sentence.\n",
    "#    Examples:\n",
    "#    txt = \"I have a cat. I have a mat. Things are going swell.\"\n",
    "#    sentence_searcher(txt, \"have\") ➞ \"I have a cat.\"\n",
    "#    sentence_searcher(txt, \"MAT\") ➞ \"I have a mat.\"\n",
    "#    sentence_searcher(txt, \"things\") ➞ \"Things are going swell.\"\n",
    "#    sentence_searcher(txt, \"flat\") ➞ \"\"\n",
    "\n",
    "# Sol :\n",
    "\n",
    "txt = \"I have a cat. I have a mat. Things are going swell.\"\n",
    "\n",
    "def sentence_searcher(txt, string):\n",
    "    try:\n",
    "        lst = txt.split(\". \")\n",
    "        for i in lst:\n",
    "            if string.lower() in i.lower():\n",
    "                output = i\n",
    "                break\n",
    "        else:\n",
    "            output = \"\"\n",
    "        return output\n",
    "    except Exception as e:\n",
    "        return e"
   ]
  },
  {
   "cell_type": "code",
   "execution_count": 8,
   "id": "172503c5",
   "metadata": {},
   "outputs": [
    {
     "data": {
      "text/plain": [
       "'I have a cat'"
      ]
     },
     "execution_count": 8,
     "metadata": {},
     "output_type": "execute_result"
    }
   ],
   "source": [
    "sentence_searcher(txt, \"have\")"
   ]
  },
  {
   "cell_type": "code",
   "execution_count": 9,
   "id": "58ed5bf6",
   "metadata": {},
   "outputs": [
    {
     "data": {
      "text/plain": [
       "'I have a mat'"
      ]
     },
     "execution_count": 9,
     "metadata": {},
     "output_type": "execute_result"
    }
   ],
   "source": [
    "sentence_searcher(txt, \"MAT\")"
   ]
  },
  {
   "cell_type": "code",
   "execution_count": 10,
   "id": "affdc90b",
   "metadata": {},
   "outputs": [
    {
     "data": {
      "text/plain": [
       "'Things are going swell.'"
      ]
     },
     "execution_count": 10,
     "metadata": {},
     "output_type": "execute_result"
    }
   ],
   "source": [
    "sentence_searcher(txt, \"things\")"
   ]
  },
  {
   "cell_type": "code",
   "execution_count": 11,
   "id": "120cb2d0",
   "metadata": {},
   "outputs": [
    {
     "data": {
      "text/plain": [
       "''"
      ]
     },
     "execution_count": 11,
     "metadata": {},
     "output_type": "execute_result"
    }
   ],
   "source": [
    "sentence_searcher(txt, \"flat\")"
   ]
  },
  {
   "cell_type": "code",
   "execution_count": 12,
   "id": "246352ac",
   "metadata": {},
   "outputs": [],
   "source": [
    "# 3. Given a number, find the \"round \"of each digit of the number. An integer is called \"round\" if all its digits except the \n",
    "#    leftmost (most significant) are equal to zero.\n",
    "#    - Round numbers: 4000, 1, 9, 800, 90\n",
    "#    - Not round numbers: 110, 707, 222, 1001\n",
    "#    Create a function that takes a number and returns the \"round\" of each digit (except if the digit is zero) as a string. \n",
    "#    Check out the following examples for more clarification.\n",
    "\n",
    "#    Examples:\n",
    "#      sum_round(101) ➞ \"1 100\"\n",
    "#      sum_round(1234) ➞ \"4 30 200 1000\"\n",
    "#      sum_round(54210) ➞ \"10 200 4000 50000\"\n",
    "\n",
    "# Sol :\n",
    "\n",
    "def sum_round(num):\n",
    "    try:\n",
    "        string = str(num)\n",
    "        output = []\n",
    "        j = 0\n",
    "        for i in range(len(string)-1,-1,-1):\n",
    "            if string[i] != '0':\n",
    "                output.append(string[i]+j*'0')\n",
    "            j += 1\n",
    "        return \" \".join(output)\n",
    "    except Exception as e:\n",
    "        return e"
   ]
  },
  {
   "cell_type": "code",
   "execution_count": 13,
   "id": "a071a503",
   "metadata": {},
   "outputs": [
    {
     "data": {
      "text/plain": [
       "'1 100'"
      ]
     },
     "execution_count": 13,
     "metadata": {},
     "output_type": "execute_result"
    }
   ],
   "source": [
    "sum_round(101)"
   ]
  },
  {
   "cell_type": "code",
   "execution_count": 14,
   "id": "22a1a302",
   "metadata": {},
   "outputs": [
    {
     "data": {
      "text/plain": [
       "'4 30 200 1000'"
      ]
     },
     "execution_count": 14,
     "metadata": {},
     "output_type": "execute_result"
    }
   ],
   "source": [
    "sum_round(1234)"
   ]
  },
  {
   "cell_type": "code",
   "execution_count": 15,
   "id": "3ea7a824",
   "metadata": {},
   "outputs": [
    {
     "data": {
      "text/plain": [
       "'10 200 4000 50000'"
      ]
     },
     "execution_count": 15,
     "metadata": {},
     "output_type": "execute_result"
    }
   ],
   "source": [
    "sum_round(54210)"
   ]
  },
  {
   "cell_type": "code",
   "execution_count": 16,
   "id": "30161833",
   "metadata": {},
   "outputs": [],
   "source": [
    "# 4. Your task, is to create N x N multiplication table, of size n provided in parameter.\n",
    "#    For example, when n is 5, the multiplication table is:\n",
    "\n",
    "#    1, 2, 3, 4, 5\n",
    "#    2, 4, 6, 8, 10\n",
    "#    3, 6, 9, 12, 15\n",
    "#    4, 8, 12, 16, 20\n",
    "#    5, 10, 15, 20, 25\n",
    "#    This example will result in:[[1, 2, 3, 4, 5], [2, 4, 6, 8, 10], [3, 6, 9, 12, 15], [4, 8, 12, 16, 20], [5, 10, 15, 20, 25]]\n",
    "#    Examples:\n",
    "#    multiplication_table(1) ➞ [[1]]\n",
    "#    multiplication_table(3) ➞ [[1, 2, 3], [2, 4, 6], [3, 6, 9]]\n",
    "\n",
    "# Sol:\n",
    "\n",
    "\n",
    "def multiplication_table(n):\n",
    "    try:\n",
    "        output = []\n",
    "        for i in range(1, n+1):\n",
    "            output.append([j * i for j in [i for i in range(1, n+1)]])\n",
    "        return output\n",
    "    except Exception as e:\n",
    "        return e"
   ]
  },
  {
   "cell_type": "code",
   "execution_count": 17,
   "id": "a26dcb37",
   "metadata": {},
   "outputs": [
    {
     "data": {
      "text/plain": [
       "[[1]]"
      ]
     },
     "execution_count": 17,
     "metadata": {},
     "output_type": "execute_result"
    }
   ],
   "source": [
    "multiplication_table(1)"
   ]
  },
  {
   "cell_type": "code",
   "execution_count": 18,
   "id": "56f07ec0",
   "metadata": {},
   "outputs": [
    {
     "data": {
      "text/plain": [
       "[[1, 2, 3], [2, 4, 6], [3, 6, 9]]"
      ]
     },
     "execution_count": 18,
     "metadata": {},
     "output_type": "execute_result"
    }
   ],
   "source": [
    "multiplication_table(3)"
   ]
  },
  {
   "cell_type": "code",
   "execution_count": 19,
   "id": "f64c592a",
   "metadata": {},
   "outputs": [
    {
     "data": {
      "text/plain": [
       "[[1, 2, 3, 4, 5],\n",
       " [2, 4, 6, 8, 10],\n",
       " [3, 6, 9, 12, 15],\n",
       " [4, 8, 12, 16, 20],\n",
       " [5, 10, 15, 20, 25]]"
      ]
     },
     "execution_count": 19,
     "metadata": {},
     "output_type": "execute_result"
    }
   ],
   "source": [
    "multiplication_table(5)"
   ]
  },
  {
   "cell_type": "code",
   "execution_count": 20,
   "id": "f302bda2",
   "metadata": {},
   "outputs": [],
   "source": [
    "# 5. Create a function that returns True if two lines rhyme and False otherwise.\n",
    "#    For the purposes of this exercise, two lines rhyme if the last word from each sentence contains the same vowels.\n",
    "#    Examples:\n",
    "#       does_rhyme(\"Sam I am!\", \"Green eggs and ham.\") ➞ True\n",
    "#       does_rhyme(\"Sam I am!\", \"Green eggs and HAM.\") ➞ True\n",
    "#       Capitalization and punctuation should not matter.\n",
    "#       does_rhyme(\"You are off to the races\", \"a splendid day.\") ➞ False\n",
    "#       does_rhyme(\"and frequently do?\", \"you gotta move.\") ➞ False\n",
    "\n",
    "# Sol :\n",
    "\n",
    "def does_rhyme(s1, s2):\n",
    "    try:\n",
    "        vowels = \"aieou\"\n",
    "        output = False\n",
    "        s1 = [x.lower() for x in s1.split(\" \")[-1] if x.lower() in vowels]\n",
    "        s2 = [x.lower() for x in s2.split(\" \")[-1] if x.lower() in vowels]\n",
    "        if s1 == s2:\n",
    "            return True\n",
    "        else:\n",
    "            return False\n",
    "    except Exception as e:\n",
    "        return e"
   ]
  },
  {
   "cell_type": "code",
   "execution_count": 21,
   "id": "092515e9",
   "metadata": {},
   "outputs": [
    {
     "data": {
      "text/plain": [
       "True"
      ]
     },
     "execution_count": 21,
     "metadata": {},
     "output_type": "execute_result"
    }
   ],
   "source": [
    "does_rhyme(\"Sam I am!\", \"Green eggs and ham.\")"
   ]
  },
  {
   "cell_type": "code",
   "execution_count": 22,
   "id": "e2eb3904",
   "metadata": {},
   "outputs": [
    {
     "data": {
      "text/plain": [
       "True"
      ]
     },
     "execution_count": 22,
     "metadata": {},
     "output_type": "execute_result"
    }
   ],
   "source": [
    "does_rhyme(\"Sam I am!\", \"Green eggs and HAM.\")"
   ]
  },
  {
   "cell_type": "code",
   "execution_count": 23,
   "id": "798ce23c",
   "metadata": {},
   "outputs": [
    {
     "data": {
      "text/plain": [
       "False"
      ]
     },
     "execution_count": 23,
     "metadata": {},
     "output_type": "execute_result"
    }
   ],
   "source": [
    "does_rhyme(\"You are off to the races\", \"a splendid day.\")"
   ]
  },
  {
   "cell_type": "code",
   "execution_count": 24,
   "id": "38704544",
   "metadata": {},
   "outputs": [
    {
     "data": {
      "text/plain": [
       "False"
      ]
     },
     "execution_count": 24,
     "metadata": {},
     "output_type": "execute_result"
    }
   ],
   "source": [
    "does_rhyme(\"and frequently do?\", \"you gotta move.\")"
   ]
  },
  {
   "cell_type": "code",
   "execution_count": null,
   "id": "a3f38b9c",
   "metadata": {},
   "outputs": [],
   "source": []
  }
 ],
 "metadata": {
  "kernelspec": {
   "display_name": "Python 3 (ipykernel)",
   "language": "python",
   "name": "python3"
  },
  "language_info": {
   "codemirror_mode": {
    "name": "ipython",
    "version": 3
   },
   "file_extension": ".py",
   "mimetype": "text/x-python",
   "name": "python",
   "nbconvert_exporter": "python",
   "pygments_lexer": "ipython3",
   "version": "3.9.12"
  }
 },
 "nbformat": 4,
 "nbformat_minor": 5
}
