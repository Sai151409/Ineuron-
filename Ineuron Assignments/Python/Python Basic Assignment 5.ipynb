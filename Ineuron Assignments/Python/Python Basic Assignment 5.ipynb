{
 "cells": [
  {
   "cell_type": "code",
   "execution_count": 1,
   "id": "4efd80f4",
   "metadata": {},
   "outputs": [
    {
     "name": "stdout",
     "output_type": "stream",
     "text": [
      "{}\n",
      "<class 'dict'>\n"
     ]
    }
   ],
   "source": [
    "# 1. What does an empty dictionary's code look like?\n",
    "\n",
    "# Sol:\n",
    "\n",
    "#     An empty dictionary looks like {}\n",
    "\n",
    "# For Example:\n",
    "\n",
    "k = {}\n",
    "\n",
    "print(k)\n",
    "\n",
    "print(type(k))"
   ]
  },
  {
   "cell_type": "code",
   "execution_count": 2,
   "id": "4e65ed13",
   "metadata": {},
   "outputs": [
    {
     "name": "stdout",
     "output_type": "stream",
     "text": [
      "The value of dict : {'foo': 42}\n"
     ]
    }
   ],
   "source": [
    "# 2. What is the value of a dictionary value with the key 'foo' and the value 42?\n",
    "\n",
    "# Sol : \n",
    "\n",
    "#    If the key is foo and the value 42, then the value of dictionary is 42\n",
    "\n",
    "k = {\"foo\" : 42}\n",
    "\n",
    "print(\"The value of dict :\", k)"
   ]
  },
  {
   "cell_type": "code",
   "execution_count": 3,
   "id": "cea27cac",
   "metadata": {},
   "outputs": [],
   "source": [
    "# 3. What is the most significant distinction between a dictionary and a list?\n",
    "\n",
    "# Sol:\n",
    "\n",
    "# List:\n",
    "\n",
    "#     list is collection of elements enclosed with [] and access the elements with their index values\n",
    "\n",
    "#     and its allows the duplicate values too.\n",
    "\n",
    "# Dict:\n",
    "\n",
    "#     Dictionary is collection of elements in the form of key : value pair, enclosed with {} and\n",
    "\n",
    "#     we can only access the values through its respective keys and keys must be unique\n"
   ]
  },
  {
   "cell_type": "code",
   "execution_count": 4,
   "id": "16f9a809",
   "metadata": {},
   "outputs": [
    {
     "ename": "KeyError",
     "evalue": "'foo'",
     "output_type": "error",
     "traceback": [
      "\u001b[1;31m---------------------------------------------------------------------------\u001b[0m",
      "\u001b[1;31mKeyError\u001b[0m                                  Traceback (most recent call last)",
      "\u001b[1;32mC:\\Users\\SAIRAM~1\\AppData\\Local\\Temp/ipykernel_9852/3891852200.py\u001b[0m in \u001b[0;36m<module>\u001b[1;34m\u001b[0m\n\u001b[0;32m      7\u001b[0m \u001b[0mspam\u001b[0m \u001b[1;33m=\u001b[0m \u001b[1;33m{\u001b[0m\u001b[1;34m\"bar\"\u001b[0m \u001b[1;33m:\u001b[0m \u001b[1;36m100\u001b[0m\u001b[1;33m}\u001b[0m\u001b[1;33m\u001b[0m\u001b[1;33m\u001b[0m\u001b[0m\n\u001b[0;32m      8\u001b[0m \u001b[1;33m\u001b[0m\u001b[0m\n\u001b[1;32m----> 9\u001b[1;33m \u001b[0mspam\u001b[0m\u001b[1;33m[\u001b[0m\u001b[1;34m\"foo\"\u001b[0m\u001b[1;33m]\u001b[0m\u001b[1;33m\u001b[0m\u001b[1;33m\u001b[0m\u001b[0m\n\u001b[0m",
      "\u001b[1;31mKeyError\u001b[0m: 'foo'"
     ]
    }
   ],
   "source": [
    "# 4. What happens if you try to access spam['foo'] if spam is {'bar': 100}?\n",
    "\n",
    "# Sol:\n",
    "\n",
    "#      if spam is {bar : 100} and if try to access spam['foo'] we will get keyError\n",
    "\n",
    "spam = {\"bar\" : 100}\n",
    "\n",
    "spam[\"foo\"]"
   ]
  },
  {
   "cell_type": "code",
   "execution_count": 5,
   "id": "420980ca",
   "metadata": {},
   "outputs": [],
   "source": [
    "# 5. If a dictionary is stored in spam, what is the difference between the expressions \n",
    "#    'cat' in spam and 'cat' in spam.keys()?\n",
    "\n",
    "# Sol:\n",
    "\n",
    "#     Threre is no difference between the expression 'cat' in spam and spam.keys() just checks whether the value cat exists\n",
    "#     as key in the dictionary or not"
   ]
  },
  {
   "cell_type": "code",
   "execution_count": 6,
   "id": "065e31ee",
   "metadata": {},
   "outputs": [],
   "source": [
    "# 5. If a dictionary is stored in spam, what is the difference between the expressions \n",
    "#    'cat' in spam and 'cat' in spam.values()?\n",
    "\n",
    "# Sol:\n",
    "\n",
    "#    cat in spam maens it checks whether the value cat exists in the dictionary as a key or not\n",
    "\n",
    "#    cat in spam.values() it checks whether the cat exists as value of the key in a dictionary or not"
   ]
  },
  {
   "cell_type": "code",
   "execution_count": 7,
   "id": "21a5ea01",
   "metadata": {},
   "outputs": [
    {
     "name": "stdout",
     "output_type": "stream",
     "text": [
      "{'color': 'black'}\n"
     ]
    }
   ],
   "source": [
    "# 7.what is a shortcut for the following code ?\n",
    "\n",
    "# if 'color' not in spam:\n",
    "#     spam['color'] = 'black';\n",
    "\n",
    "# Sol:\n",
    "\n",
    "#     spam.setdefault(\"color\", \"black\")\n",
    "\n",
    "spam = {}\n",
    "\n",
    "spam.setdefault(\"color\", \"black\") # Insert key with a value of default if key is not in the dictionary.\n",
    "\n",
    "print(spam)"
   ]
  },
  {
   "cell_type": "code",
   "execution_count": 8,
   "id": "0b0bdb49",
   "metadata": {},
   "outputs": [
    {
     "name": "stdout",
     "output_type": "stream",
     "text": [
      "with pprint module : \n",
      "[{'age': 21, 'education': 'pg', 'name': 'sai'},\n",
      " {'age': 22, 'education': 'B.Tech', 'name': 'kishore'},\n",
      " {'age': 27, 'education': 'M.Tech', 'name': 'surya'}]\n",
      "------------------------------------------------------------------------------------------\n",
      "In Json Dumps : \n",
      "\t [\n",
      "  {\n",
      "    \"name\": \"sai\",\n",
      "    \"age\": 21,\n",
      "    \"education\": \"pg\"\n",
      "  },\n",
      "  {\n",
      "    \"name\": \"kishore\",\n",
      "    \"age\": 22,\n",
      "    \"education\": \"B.Tech\"\n",
      "  },\n",
      "  {\n",
      "    \"name\": \"surya\",\n",
      "    \"age\": 27,\n",
      "    \"education\": \"M.Tech\"\n",
      "  }\n",
      "]\n",
      "In Yaml Dumps :  [{'name': 'sai', 'age': 21, 'education': 'pg'}, {'name': 'kishore', 'age': 22, 'education': 'B.Tech'}, {'name': 'surya', 'age': 27, 'education': 'M.Tech'}]\n"
     ]
    }
   ],
   "source": [
    "# 8. How do you 'pretty print' dictionary values using which modules and function ?\n",
    "\n",
    "# Sol:\n",
    "\n",
    "#   pprint and print are doing the funcionality but print function print the code in normally in one line\n",
    "\n",
    "#   But in pprint it print the complex data structures in readable way\n",
    "\n",
    "#   From pprint module we can do pprint function not only this one \n",
    "\n",
    "#   we can do with dumps in json, yaml\n",
    "\n",
    "#  For Example:\n",
    "\n",
    "a = [{\"name\" : \"sai\", \"age\" : 21, \"education\" : \"pg\"},\n",
    "    {\"name\" : \"kishore\", \"age\" : 22, \"education\" : \"B.Tech\"},\n",
    "    {\"name\" : \"surya\", \"age\" : 27, \"education\" : \"M.Tech\"}]\n",
    "\n",
    "import pprint\n",
    "\n",
    "print(\"with pprint module : \")\n",
    "\n",
    "pprint.pprint(a)\n",
    "\n",
    "print(\"---\" * 30)\n",
    "\n",
    "import json\n",
    "\n",
    "d = json.dumps(a, indent = 2)\n",
    "\n",
    "print(\"In Json Dumps : \")\n",
    "\n",
    "print(\"\\t\", d)\n",
    "\n",
    "import yaml\n",
    "\n",
    "k = yaml.dump(a)\n",
    "\n",
    "print(\"In Yaml Dumps : \", a)"
   ]
  },
  {
   "cell_type": "code",
   "execution_count": null,
   "id": "3493d1b7",
   "metadata": {},
   "outputs": [],
   "source": []
  },
  {
   "cell_type": "code",
   "execution_count": null,
   "id": "971df89a",
   "metadata": {},
   "outputs": [],
   "source": []
  }
 ],
 "metadata": {
  "kernelspec": {
   "display_name": "Python 3 (ipykernel)",
   "language": "python",
   "name": "python3"
  },
  "language_info": {
   "codemirror_mode": {
    "name": "ipython",
    "version": 3
   },
   "file_extension": ".py",
   "mimetype": "text/x-python",
   "name": "python",
   "nbconvert_exporter": "python",
   "pygments_lexer": "ipython3",
   "version": "3.9.7"
  }
 },
 "nbformat": 4,
 "nbformat_minor": 5
}
