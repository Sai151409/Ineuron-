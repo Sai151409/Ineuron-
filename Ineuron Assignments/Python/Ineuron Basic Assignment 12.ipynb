{
 "cells": [
  {
   "cell_type": "code",
   "execution_count": 1,
   "id": "2c8dd993",
   "metadata": {},
   "outputs": [],
   "source": [
    "# 1. In what modes should the PdfFileReader() and PdfFileWriter() File objects will be opened?\n",
    "\n",
    "# Sol :\n",
    "\n",
    "#      PdfFileReader() should be opened in read binary rb and PdfFileWriter() should be opened in write binary wb"
   ]
  },
  {
   "cell_type": "code",
   "execution_count": null,
   "id": "2fb8b36d",
   "metadata": {},
   "outputs": [],
   "source": [
    "# 2. From a PdfFileReader object, how do you get a Page object for page 5?\n",
    "\n",
    "# Sol : PdfFileReader provides a function getPage to get the object of the page\n",
    "\n",
    "# Example\n",
    "\n",
    "import PyPDF2\n",
    "pdfFileObj = open(filepath, mode)\n",
    "pdfReaderObj = PyPDF2.PdfFileReader(pdfFileObj)\n",
    "for i in pdfReaderObj.getNumPages:\n",
    "    pdfReaderObj.getPage(i)"
   ]
  },
  {
   "cell_type": "code",
   "execution_count": 2,
   "id": "e425fbf0",
   "metadata": {},
   "outputs": [],
   "source": [
    "# 3. What PdfFileReader variable stores the number of pages in the PDF document?\n",
    "\n",
    "# Sol : pdfFileReader has function called getNumpages it stores the number of pages in the PDF documnet"
   ]
  },
  {
   "cell_type": "code",
   "execution_count": 3,
   "id": "acbfd4a1",
   "metadata": {},
   "outputs": [],
   "source": [
    "# 4. If a PdfFileReader object’s PDF is encrypted with the password swordfish, what must you do before you can obtain Page \n",
    "#    objects from it?\n",
    "\n",
    "# Sol : \n",
    "\n",
    "#      First of all you have to read the pdf file then pdfFileReader has function called isEncrypted by using this check\n",
    "#      whether it is encrypted or not. If it is True pdfFileReader used the decrypt function which is provided by pdfFileReader\n",
    "#      class then try to extract the content of the pages of Pdf else it throws an error that file has not been decrypted\n"
   ]
  },
  {
   "cell_type": "code",
   "execution_count": null,
   "id": "c2dd543a",
   "metadata": {},
   "outputs": [],
   "source": [
    "# Example\n",
    "\n",
    "import PyPDF2\n",
    "pdfFileObj = open(filepath,mode)\n",
    "pdfFileReader = PyPDF2.PdfFileReader(pdfFileObj)\n",
    "if pdfFileReader.isEncrypted:\n",
    "    pdfFileReader.decrypt('swordfish')\n",
    "for i in pdfFileReader.getNumPages:\n",
    "    pdfFileContent = pdfFileReader.getPage(i)\n",
    "    print(pdfFileContent.extractText(pdfFileContent))"
   ]
  },
  {
   "cell_type": "code",
   "execution_count": 4,
   "id": "377df042",
   "metadata": {},
   "outputs": [],
   "source": [
    "# 5. What methods do you use to rotate a page?\n",
    "\n",
    "# Sol : PyPDF2 provides two methods to rotate the pdf pages\n",
    "\n",
    "#       1. rotateclockwise\n",
    "#       2. rotatecounterclockwise\n",
    "\n",
    "#      PyPDF2 package allows you to rotate the pdf page increments of 90 otherwise you will receive an Assertion Error."
   ]
  },
  {
   "cell_type": "code",
   "execution_count": 5,
   "id": "b07300bc",
   "metadata": {},
   "outputs": [],
   "source": [
    "# 6. What is the difference between a Run object and a Paragraph object?\n",
    "\n",
    "# Sol :\n",
    "\n",
    "#     The structure of documnet is represented by three different data types.The highest level is the document object is represented\n",
    "#     in the entire doument. The document object contains a list of paragraphs objects for the paragraph in the document. Each \n",
    "#     Pagaraph objects contain a list of one or more run objects\n",
    "\n",
    "#    Run object is contiguous run of text with the same style. A new object is needed whenever the text style changes"
   ]
  },
  {
   "cell_type": "code",
   "execution_count": 8,
   "id": "d5dfb6f7",
   "metadata": {},
   "outputs": [
    {
     "name": "stdout",
     "output_type": "stream",
     "text": [
      "Lorem ipsum \n",
      "\n",
      "Lorem ipsum dolor sit amet, consectetur adipiscing elit. Nunc ac faucibus odio. \n",
      "\n",
      "Vestibulum neque massa, scelerisque sit amet ligula eu, congue molestie mi. Praesent ut varius sem. Nullam at porttitor arcu, nec lacinia nisi. Ut ac dolor vitae odio interdum condimentum. Vivamus dapibus sodales ex, vitae malesuada ipsum cursus convallis. Maecenas sed egestas nulla, ac condimentum orci. Mauris diam felis, vulputate ac suscipit et, iaculis non est. Curabitur semper arcu ac ligula semper, nec luctus nisl blandit. Integer lacinia ante ac libero lobortis imperdiet. Nullam mollis convallis ipsum, ac accumsan nunc vehicula vitae. Nulla eget justo in felis tristique fringilla. Morbi sit amet tortor quis risus auctor condimentum. Morbi in ullamcorper elit. Nulla iaculis tellus sit amet mauris tempus fringilla.\n",
      "Maecenas mauris lectus, lobortis et purus mattis, blandit dictum tellus.\n",
      "Maecenas non lorem quis tellus placerat varius. \n",
      "Nulla facilisi. \n",
      "Aenean congue fringilla justo ut aliquam. \n",
      "Nunc vulputate neque vitae justo facilisis, non condimentum ante sagittis. \n",
      "Morbi viverra semper lorem nec molestie. \n",
      "Maecenas tincidunt est efficitur ligula euismod, sit amet ornare est vulputate.\n",
      "\n",
      "\n",
      "\n",
      "\n",
      "\n",
      "\n",
      "\n",
      "\n",
      "\n",
      "In non mauris justo. Duis vehicula mi vel mi pretium, a viverra erat efficitur. Cras aliquam est ac eros varius, id iaculis dui auctor. Duis pretium neque ligula, et pulvinar mi placerat et. Nulla nec nunc sit amet nunc posuere vestibulum. Ut id neque eget tortor mattis tristique. Donec ante est, blandit sit amet tristique vel, lacinia pulvinar arcu. Pellentesque scelerisque fermentum erat, id posuere justo pulvinar ut. Cras id eros sed enim aliquam lobortis. Sed lobortis nisl ut eros efficitur tincidunt. Cras justo mi, porttitor quis mattis vel, ultricies ut purus. Ut facilisis et lacus eu cursus.\n",
      "In eleifend velit vitae libero sollicitudin euismod. Fusce vitae vestibulum velit. Pellentesque vulputate lectus quis pellentesque commodo. Aliquam erat volutpat. Vestibulum in egestas velit. Pellentesque fermentum nisl vitae fringilla venenatis. Etiam id mauris vitae orci maximus ultricies. \n",
      "\n",
      "Cras fringilla ipsum magna, in fringilla dui commodo a.\n",
      "\n",
      "\n",
      "Etiam vehicula luctus fermentum. In vel metus congue, pulvinar lectus vel, fermentum dui. Maecenas ante orci, egestas ut aliquet sit amet, sagittis a magna. Aliquam ante quam, pellentesque ut dignissim quis, laoreet eget est. Aliquam erat volutpat. Class aptent taciti sociosqu ad litora torquent per conubia nostra, per inceptos himenaeos. Ut ullamcorper justo sapien, in cursus libero viverra eget. Vivamus auctor imperdiet urna, at pulvinar leo posuere laoreet. Suspendisse neque nisl, fringilla at iaculis scelerisque, ornare vel dolor. Ut et pulvinar nunc. Pellentesque fringilla mollis efficitur. Nullam venenatis commodo imperdiet. Morbi velit neque, semper quis lorem quis, efficitur dignissim ipsum. Ut ac lorem sed turpis imperdiet eleifend sit amet id sapien.\n",
      "\n",
      "\n",
      "Lorem ipsum dolor sit amet, consectetur adipiscing elit. \n",
      "\n",
      "Nunc ac faucibus odio. Vestibulum neque massa, scelerisque sit amet ligula eu, congue molestie mi. Praesent ut varius sem. Nullam at porttitor arcu, nec lacinia nisi. Ut ac dolor vitae odio interdum condimentum. Vivamus dapibus sodales ex, vitae malesuada ipsum cursus convallis. Maecenas sed egestas nulla, ac condimentum orci. Mauris diam felis, vulputate ac suscipit et, iaculis non est. Curabitur semper arcu ac ligula semper, nec luctus nisl blandit. Integer lacinia ante ac libero lobortis imperdiet. Nullam mollis convallis ipsum, ac accumsan nunc vehicula vitae. Nulla eget justo in felis tristique fringilla. Morbi sit amet tortor quis risus auctor condimentum. Morbi in ullamcorper elit. Nulla iaculis tellus sit amet mauris tempus fringilla.\n",
      "Maecenas mauris lectus, lobortis et purus mattis, blandit dictum tellus. \n",
      "Maecenas non lorem quis tellus placerat varius. Nulla facilisi. Aenean congue fringilla justo ut aliquam. Mauris id ex erat. Nunc vulputate neque vitae justo facilisis, non condimentum ante sagittis. Morbi viverra semper lorem nec molestie. Maecenas tincidunt est efficitur ligula euismod, sit amet ornare est vulputate.\n",
      "In non mauris justo. Duis vehicula mi vel mi pretium, a viverra erat efficitur. Cras aliquam est ac eros varius, id iaculis dui auctor. Duis pretium neque ligula, et pulvinar mi placerat et. Nulla nec nunc sit amet nunc posuere vestibulum. Ut id neque eget tortor mattis tristique. Donec ante est, blandit sit amet tristique vel, lacinia pulvinar arcu. Pellentesque scelerisque fermentum erat, id posuere justo pulvinar ut. Cras id eros sed enim aliquam lobortis. Sed lobortis nisl ut eros efficitur tincidunt. Cras justo mi, porttitor quis mattis vel, ultricies ut purus. Ut facilisis et lacus eu cursus.\n",
      "In eleifend velit vitae libero sollicitudin euismod. \n",
      "Fusce vitae vestibulum velit. Pellentesque vulputate lectus quis pellentesque commodo. Aliquam erat volutpat. Vestibulum in egestas velit. Pellentesque fermentum nisl vitae fringilla venenatis. Etiam id mauris vitae orci maximus ultricies. Cras fringilla ipsum magna, in fringilla dui commodo a.\n",
      "Etiam vehicula luctus fermentum. In vel metus congue, pulvinar lectus vel, fermentum dui. Maecenas ante orci, egestas ut aliquet sit amet, sagittis a magna. Aliquam ante quam, pellentesque ut dignissim quis, laoreet eget est. Aliquam erat volutpat. Class aptent taciti sociosqu ad litora torquent per conubia nostra, per inceptos himenaeos. Ut ullamcorper justo sapien, in cursus libero viverra eget. Vivamus auctor imperdiet urna, at pulvinar leo posuere laoreet. Suspendisse neque nisl, fringilla at iaculis scelerisque, ornare vel dolor. Ut et pulvinar nunc. Pellentesque fringilla mollis efficitur. Nullam venenatis commodo imperdiet. Morbi velit neque, semper quis lorem quis, efficitur dignissim ipsum. Ut ac lorem sed turpis imperdiet eleifend sit amet id sapien.\n",
      "\n",
      "\n"
     ]
    }
   ],
   "source": [
    "# 7. How do you obtain a list of Paragraph objects for a Document object that’s stored in a variable named doc?\n",
    "\n",
    "# Sol :\n",
    "import docx\n",
    "doc  = docx.Document(\"C:\\\\Users\\\\Asus\\\\Downloads\\\\file-sample_100kB.docx\")\n",
    "for i in doc.paragraphs:\n",
    "    print(i.text)"
   ]
  },
  {
   "cell_type": "code",
   "execution_count": 5,
   "id": "6ed7c391",
   "metadata": {},
   "outputs": [],
   "source": [
    "# 8. What type of object has bold, underline, italic, strike, and outline variables?\n",
    "\n",
    "# Sol :\n",
    "\n",
    "#    Run object has bold, underline, italic, strike, and outline variables. The text in the Word document is more than just a\n",
    "#    string. It has font, size, color and other styling information is associated with it. "
   ]
  },
  {
   "cell_type": "code",
   "execution_count": 9,
   "id": "f8828737",
   "metadata": {},
   "outputs": [],
   "source": [
    "# 9. What is the difference between False, True, and None for the bold variable?\n",
    "\n",
    "# Sol :\n",
    "\n",
    "#    bold = True (Style set to be bold)\n",
    "\n",
    "#    bold = False (Style is not set to be bold)\n",
    "\n",
    "#    bold = None (Style is not applicable)"
   ]
  },
  {
   "cell_type": "code",
   "execution_count": 21,
   "id": "804fc4f8",
   "metadata": {},
   "outputs": [],
   "source": [
    "# 10. How do you create a Document object for a new Word document?\n",
    "\n",
    "# Sol :\n",
    "\n",
    "import docx\n",
    "\n",
    "doc = docx.Document()\n",
    "\n",
    "doc.add_heading('Full Stack Data Science Course', level = 0)\n",
    "\n",
    "doc.add_paragraph('''\n",
    "\n",
    "Programming Languages\n",
    "\n",
    "Python\n",
    "                  \n",
    "Sql\n",
    "                  \n",
    "Mongodb\n",
    "                  \n",
    "Cassandra''')\n",
    "\n",
    "doc.save('First_Document.docx')"
   ]
  },
  {
   "cell_type": "code",
   "execution_count": 13,
   "id": "d035f38b",
   "metadata": {},
   "outputs": [],
   "source": [
    "# 11. How do you add a paragraph with the text 'Hello, there!' to a Document object stored in a variable named doc?\n",
    "\n",
    "# Sol :\n",
    "\n",
    "import docx\n",
    "\n",
    "doc = docx.Document()\n",
    "\n",
    "doc.add_paragraph('Hello there!')\n",
    "\n",
    "doc.save('Hello.docx')"
   ]
  },
  {
   "cell_type": "code",
   "execution_count": 14,
   "id": "7a13e43b",
   "metadata": {},
   "outputs": [],
   "source": [
    "# 12. What integers represent the levels of headings available in Word documents?\n",
    "\n",
    "# Sol : \n",
    "\n",
    "#    The levels for a heading in a word document can be specified by using the level attribute inside the add_heading method.\n",
    "#    There are a total of 5 levels starting for 0 t0 4. where level 0 makes a headline with the horizontal line below the text, \n",
    "#    whereas the heading level 1 is the main heading. Similarly, the other headings are sub-heading with their's font-sizes \n",
    "#    in decreasing order."
   ]
  },
  {
   "cell_type": "code",
   "execution_count": null,
   "id": "524ba43d",
   "metadata": {},
   "outputs": [],
   "source": []
  }
 ],
 "metadata": {
  "kernelspec": {
   "display_name": "Python 3 (ipykernel)",
   "language": "python",
   "name": "python3"
  },
  "language_info": {
   "codemirror_mode": {
    "name": "ipython",
    "version": 3
   },
   "file_extension": ".py",
   "mimetype": "text/x-python",
   "name": "python",
   "nbconvert_exporter": "python",
   "pygments_lexer": "ipython3",
   "version": "3.9.12"
  }
 },
 "nbformat": 4,
 "nbformat_minor": 5
}
