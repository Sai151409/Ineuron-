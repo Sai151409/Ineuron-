{
 "cells": [
  {
   "cell_type": "markdown",
   "id": "c5975e6b",
   "metadata": {},
   "source": [
    "###### Q1. What is the purpose of Python's OOP ?\n",
    "\n",
    "Sol: Object-Oriented Programming is a programming paradigm that provides a means of structuring programs so that properities           and behaviours are bundled into individual objects\n",
    "\n",
    "* In Python, object-oriented programming(OOPS) uses objects and classes in programming.\n",
    "* It aims to implement real-world entities like inheritance, polymorphisms, encapsulation, etc. in the programming.\n",
    "* The main concept of OOPs is to bind the data and the functions that work on that together as a single unit so that no other     part of the code can access this data.\n",
    "* It comes up with the following advantages:\n",
    "* It helps to divide our over all program into different small segments and thus making it solving easy with the use of objects\n",
    "* Helps in easy maintenance and modification of existing program\n",
    "* Multiple instances of an object can be made.\n",
    "\n",
    "###### Q2. Where does an inheritance search look for an attribute?\n",
    "Sol: Python searches for an attribute in an upward tree of attributes. it first searches for the attribute in its instance and then looks in the class it is generated from, to all super classes listed in its class header\n",
    "\n",
    "###### Q3. How do you distinguish between a class object and an instance object?\n",
    "Sol: The differences between a class object and an instance object are:\n",
    "\n",
    "Class Object: when we create a class in python then a class object is created so whenever python finds a class statement in the               whole program then it creates a class object and assigns a name to that object i.e. class name.\n",
    "Instance Object: when we call a class, it creates an instance object of that class from which the object has been created. For example when we call the above-created class then it will create an instance object like this.\n",
    "\n",
    "###### Q4. What makes the first argument in a class’s method function special?\n",
    "Sol: cls is the first argument for class methods which refers to the class itself\n",
    "\n",
    "###### Q5. What is the purpose of the init method?\n",
    "Sol: __init__ is a reseved method in python classes. It serves the role of a constructor in object oriented terminology. This method is called when an object is created from a class and it allows the class to initialize the attributes of the class\n",
    "\n",
    "###### Q6. What is the process for creating a class instance?\n",
    "Sol: To create a class instance, we need to call the class by its name and pass the arguments to the class, which its init method accepts.\n",
    "\n",
    "###### Q7. What is the process for creating a class?\n",
    "Sol: class keyword is used to created a class in python. The syntax to create a class in python is class <classname>:\n",
    "    \n",
    "###### Q8. How would you define the superclasses of a class?\n",
    "Sol: Superclass/Parent class is given as a arugment to the child class\n",
    "\n",
    "Example: class Employee(Person): Here child class Employee inherits attributes and methofs from Superclass/Parent Person"
   ]
  },
  {
   "cell_type": "code",
   "execution_count": null,
   "id": "4210e6fd",
   "metadata": {},
   "outputs": [],
   "source": []
  }
 ],
 "metadata": {
  "kernelspec": {
   "display_name": "Python 3 (ipykernel)",
   "language": "python",
   "name": "python3"
  },
  "language_info": {
   "codemirror_mode": {
    "name": "ipython",
    "version": 3
   },
   "file_extension": ".py",
   "mimetype": "text/x-python",
   "name": "python",
   "nbconvert_exporter": "python",
   "pygments_lexer": "ipython3",
   "version": "3.9.12"
  }
 },
 "nbformat": 4,
 "nbformat_minor": 5
}
