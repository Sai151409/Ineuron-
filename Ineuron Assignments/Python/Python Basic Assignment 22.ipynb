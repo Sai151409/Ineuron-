{
 "cells": [
  {
   "cell_type": "code",
   "execution_count": 1,
   "id": "d54f6ddb",
   "metadata": {},
   "outputs": [
    {
     "name": "stdout",
     "output_type": "stream",
     "text": [
      "iNeuron\n"
     ]
    }
   ],
   "source": [
    "# 1. What is the result of the code, and explain?\n",
    "#    >>> X = 'iNeuron'\n",
    "#    >>> def func():\n",
    "#          print(X)\n",
    "#    >>> func()\n",
    "\n",
    "# Sol :    The output of func() is 'iNeuorn' because we didn't define any local variable x in the function it gives the \n",
    "#          global variable x\n",
    "\n",
    "X = \"iNeuron\"\n",
    "def func():\n",
    "    print(X)\n",
    "func()"
   ]
  },
  {
   "cell_type": "code",
   "execution_count": 2,
   "id": "6a296fd8",
   "metadata": {},
   "outputs": [
    {
     "name": "stdout",
     "output_type": "stream",
     "text": [
      "iNeuron\n"
     ]
    }
   ],
   "source": [
    "# 2. What is the result of the code, and explain?\n",
    "#    >>> X = 'iNeuron'\n",
    "#    >>> def func():\n",
    "#    >>>   X = 'NI!'\n",
    "#    >>> func()\n",
    "#    >>> print(X)\n",
    "\n",
    "#Sol :  The ouput is 'iNeuron' beacause we haven't written print statement in func()\n",
    "\n",
    "\n",
    "X = \"iNeuron\"\n",
    "def func():\n",
    "    X =\"NI!\"\n",
    "func()\n",
    "print(X)"
   ]
  },
  {
   "cell_type": "code",
   "execution_count": 4,
   "id": "f059d43b",
   "metadata": {},
   "outputs": [
    {
     "name": "stdout",
     "output_type": "stream",
     "text": [
      "NI\n",
      "iNeuron\n"
     ]
    }
   ],
   "source": [
    "# 3. What does this code print, and why?\n",
    "#    >>> X = 'iNeuron'\n",
    "#    >>> def func():\n",
    "#    >>>    X = 'NI'\n",
    "#    >>>    print(X)\n",
    "#    >>> func()\n",
    "#    >>> print(X)\n",
    "\n",
    "# Sol : The ouput is NI and iNeuron. Beacause here we are printing the global variable and loacl varible that is inside the fun.\n",
    "\n",
    "X = 'iNeuron'\n",
    "def func():\n",
    "    X = 'NI'\n",
    "    print(X)\n",
    "\n",
    "func()\n",
    "print(X)"
   ]
  },
  {
   "cell_type": "code",
   "execution_count": null,
   "id": "2d869dcd",
   "metadata": {},
   "outputs": [],
   "source": [
    "# 4. What output does this code produce? Why?\n",
    "#    >>> X = 'iNeuron'\n",
    "#    >>> def func():\n",
    "#          global X\n",
    "#          X = 'NI'\n",
    "#>>> func()\n",
    ">>> print(X)"
   ]
  },
  {
   "cell_type": "code",
   "execution_count": 10,
   "id": "445b6b56",
   "metadata": {},
   "outputs": [
    {
     "name": "stdout",
     "output_type": "stream",
     "text": [
      "NI\n"
     ]
    },
    {
     "data": {
      "text/plain": [
       "'iNeuron'"
      ]
     },
     "execution_count": 10,
     "metadata": {},
     "output_type": "execute_result"
    }
   ],
   "source": [
    "# 5. What about this code—what’s the output, and why?\n",
    "#    >>> X = 'iNeuron'\n",
    "#    >>> def func():\n",
    "#           X = NI\n",
    "#           def nested():\n",
    "#               print(X)\n",
    "#           nested()\n",
    "#        func()\n",
    "#        X\n",
    "\n",
    "# Sol : The output of the code is NI. the reason for this output is if a function wants to access a variable, \n",
    "#       if its not available in its localscope. it looks for the variable in its global scope. \n",
    "#       similarly here also function nested looks for variable X in its global scope. hence the output of the code is NI\n",
    "\n",
    "X = 'iNeuron'\n",
    "def func():\n",
    "    X = 'NI'\n",
    "    def nested():\n",
    "        print(X)\n",
    "    nested()\n",
    "func()\n",
    "X"
   ]
  },
  {
   "cell_type": "code",
   "execution_count": 11,
   "id": "88727e2e",
   "metadata": {},
   "outputs": [
    {
     "name": "stdout",
     "output_type": "stream",
     "text": [
      "Spam\n"
     ]
    }
   ],
   "source": [
    "# 6. How about this code: what is its output in Python 3, and explain?\n",
    "#    >>> def func():\n",
    "#           X = 'NI'\n",
    "#             def nested():\n",
    "#                nonlocal X\n",
    "#                X = 'Spam'\n",
    "#             nested()\n",
    "#             print(X)\n",
    "#    >>> func()\n",
    "\n",
    "# Sol :  The output of the code is Spam. nonlocal keyword in python is used to declare a variable as not local.\n",
    "#        Hence the statement X = \"Spam\" is modified in the global scope. hence the output of print(X) statement is Spam\n",
    "\n",
    "def func():\n",
    "    X = 'NI'\n",
    "    def nested():\n",
    "        nonlocal X\n",
    "        X = 'Spam'\n",
    "    nested()\n",
    "    print(X)\n",
    "func()"
   ]
  },
  {
   "cell_type": "code",
   "execution_count": null,
   "id": "db9bfad2",
   "metadata": {},
   "outputs": [],
   "source": []
  }
 ],
 "metadata": {
  "kernelspec": {
   "display_name": "Python 3 (ipykernel)",
   "language": "python",
   "name": "python3"
  },
  "language_info": {
   "codemirror_mode": {
    "name": "ipython",
    "version": 3
   },
   "file_extension": ".py",
   "mimetype": "text/x-python",
   "name": "python",
   "nbconvert_exporter": "python",
   "pygments_lexer": "ipython3",
   "version": "3.9.12"
  }
 },
 "nbformat": 4,
 "nbformat_minor": 5
}
