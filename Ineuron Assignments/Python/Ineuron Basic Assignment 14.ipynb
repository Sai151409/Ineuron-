{
 "cells": [
  {
   "cell_type": "code",
   "execution_count": 1,
   "id": "5d1d4467",
   "metadata": {},
   "outputs": [],
   "source": [
    "# 1. What does RGBA stand for?\n",
    "\n",
    "# Sol :\n",
    "\n",
    "#     RGBA Stands for Red, Blue, Green, Alpha. Here alpha means opacity"
   ]
  },
  {
   "cell_type": "code",
   "execution_count": 2,
   "id": "ae200980",
   "metadata": {},
   "outputs": [],
   "source": [
    "# 2. From the Pillow module, how do you get the RGBA value of any images?\n",
    "\n",
    "# Sol: Image.getdata() method gives the RBGA Values of any image"
   ]
  },
  {
   "cell_type": "code",
   "execution_count": 3,
   "id": "1aa0d3f3",
   "metadata": {},
   "outputs": [],
   "source": [
    "# 3. What is a box tuple, and how does it work?\n",
    "\n",
    "# Sol : Box tuple is tuple value of four integers i.e left edge x co-ordinate, top edge y co-ordinate\n",
    "\n",
    "#       height, width respectively. Many of Pillow's functions and methods take a box tuple argument. \n",
    "\n",
    "#       This means Pillow is expecting a tuple of four integer coordinates that represent a rectangular region in an image. "
   ]
  },
  {
   "cell_type": "code",
   "execution_count": 4,
   "id": "d7caf4f9",
   "metadata": {},
   "outputs": [
    {
     "name": "stdout",
     "output_type": "stream",
     "text": [
      "Height :  1366\n",
      "Width :  768\n"
     ]
    }
   ],
   "source": [
    "# 4. Use your image and load in notebook then, How can you find out the width and height of an \n",
    "#    Image object?\n",
    "\n",
    "# Sol :\n",
    "\n",
    "from PIL import Image\n",
    "\n",
    "img = Image.open(\"C:\\\\Users\\\\Asus\\\\Downloads\\\\lion_PNG23270.png\")\n",
    "\n",
    "height, width = img.size\n",
    "\n",
    "print('Height : ', height)\n",
    "print('Width : ', width)"
   ]
  },
  {
   "cell_type": "code",
   "execution_count": 5,
   "id": "caf1a58e",
   "metadata": {},
   "outputs": [],
   "source": [
    "# 5. What method would you call to get Image object for a 100×100 image, excluding the lower-left quarter of it?\n",
    "\n",
    "# Sol :\n",
    "\n",
    "from PIL import Image\n",
    "\n",
    "img = Image.open(\"C:\\\\Users\\\\Asus\\\\Downloads\\\\lion_PNG23270.png\")\n",
    "\n",
    "new_img = img.crop((0, 50, 50, 50))"
   ]
  },
  {
   "cell_type": "code",
   "execution_count": 6,
   "id": "901f4ba6",
   "metadata": {},
   "outputs": [],
   "source": [
    "# 7. What module contains Pillow’s shape-drawing code?\n",
    "\n",
    "# Sol :\n",
    "\n",
    "#      Pillow ImageDraw contains shape-drawing code methods"
   ]
  },
  {
   "cell_type": "code",
   "execution_count": 7,
   "id": "52cc403d",
   "metadata": {},
   "outputs": [],
   "source": [
    "# 8. Image objects do not have drawing methods. What kind of object does? How do you get this kind of object?\n",
    "\n",
    "# Sol :\n",
    "\n",
    "#   ImageDraw() method contains shape-drawing code methods point(), line(), rectangle(). They are returned by passing the image\n",
    "#   image object ImageDraw.Draw() function."
   ]
  },
  {
   "cell_type": "code",
   "execution_count": null,
   "id": "e2c9f0c2",
   "metadata": {},
   "outputs": [],
   "source": []
  },
  {
   "cell_type": "code",
   "execution_count": null,
   "id": "affd63dd",
   "metadata": {},
   "outputs": [],
   "source": []
  }
 ],
 "metadata": {
  "kernelspec": {
   "display_name": "Python 3 (ipykernel)",
   "language": "python",
   "name": "python3"
  },
  "language_info": {
   "codemirror_mode": {
    "name": "ipython",
    "version": 3
   },
   "file_extension": ".py",
   "mimetype": "text/x-python",
   "name": "python",
   "nbconvert_exporter": "python",
   "pygments_lexer": "ipython3",
   "version": "3.9.12"
  }
 },
 "nbformat": 4,
 "nbformat_minor": 5
}
