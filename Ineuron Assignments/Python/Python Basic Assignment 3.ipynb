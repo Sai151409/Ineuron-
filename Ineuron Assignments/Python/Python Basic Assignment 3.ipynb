{
 "cells": [
  {
   "cell_type": "code",
   "execution_count": 1,
   "id": "f53d61ec",
   "metadata": {},
   "outputs": [],
   "source": [
    "# 1. Why are functions advantageous to have in your programs?\n",
    "\n",
    "# Sol: \n",
    "\n",
    "#      Function is known as piece of code or block of code to perform specific task\n",
    "\n",
    "# Advantages of Functions:\n",
    "\n",
    "#    1. Whenever we are doing a large programming project, it is very diffifcult to debugg the code, read the code.\n",
    "#       Inorder to overcome this problem, function will help us divide the large program into smaller groups and enhance\n",
    "#       the code readability\n",
    "\n",
    "#    2. we don't need write the same piece of code for multiple times we just call the function name when we want.\n",
    "\n",
    "#    3. We can use the function with different inputs over mutiple times\n",
    "\n",
    "#    4. We can create our own function and give it to others for thier benefits too.\n",
    "\n",
    "#    5. The main advantage is code reusability"
   ]
  },
  {
   "cell_type": "code",
   "execution_count": 2,
   "id": "1e15a081",
   "metadata": {},
   "outputs": [],
   "source": [
    "# 2. When does the code in a function run: when it's specified or when it's called?\n",
    "\n",
    "# Sol:\n",
    "\n",
    "#     The code in a function runs when it's called."
   ]
  },
  {
   "cell_type": "code",
   "execution_count": 3,
   "id": "c269c3c6",
   "metadata": {},
   "outputs": [],
   "source": [
    "# 3. What statement creates a function?\n",
    "\n",
    "# Sol:\n",
    "\n",
    "#     def statement creates the function"
   ]
  },
  {
   "cell_type": "code",
   "execution_count": 4,
   "id": "92f3bdb4",
   "metadata": {},
   "outputs": [],
   "source": [
    "# 4. What is the difference between a function and a function call?\n",
    "\n",
    "# Sol:\n",
    "\n",
    "#    Function is a group of statements that perform particular task and it declares the function name, return type\n",
    "#    parameters. It is the actual body of the function\n",
    "\n",
    "#    To run the function block we have to call his name i.e function calling. Unless you called the function name there is \n",
    "#    no use with the function block"
   ]
  },
  {
   "cell_type": "code",
   "execution_count": 5,
   "id": "3272f3dd",
   "metadata": {},
   "outputs": [],
   "source": [
    "# 5. How many global scopes are there in a Python program? How many local scopes?\n",
    "\n",
    "# Sol:\n",
    "\n",
    "#     There is only one global scope and one local scope in python program"
   ]
  },
  {
   "cell_type": "code",
   "execution_count": 6,
   "id": "5ac3e5dc",
   "metadata": {},
   "outputs": [],
   "source": [
    "# 6. What happens to variables in a local scope when the function call returns?\n",
    "\n",
    "# Sol:\n",
    "\n",
    "#   local scope variable means create a variable inside a function. Once you call the function name its return the value  \n",
    "#   but local variable is destroyed and it loses his values too. Because its scope exits with in the block"
   ]
  },
  {
   "cell_type": "code",
   "execution_count": 7,
   "id": "24eed2bb",
   "metadata": {},
   "outputs": [
    {
     "name": "stdout",
     "output_type": "stream",
     "text": [
      "0.5\n",
      "The Error has occured name 'a' is not defined\n"
     ]
    }
   ],
   "source": [
    "def func(c):\n",
    "    a = 9#Local Variable\n",
    "    return a/c\n",
    "\n",
    "print(func(18))\n",
    "\n",
    "try:\n",
    "    print(a) # It will give an error\n",
    "except Exception as e:\n",
    "    print(\"The Error has occured\", e)"
   ]
  },
  {
   "cell_type": "code",
   "execution_count": 8,
   "id": "18edf7de",
   "metadata": {},
   "outputs": [],
   "source": [
    "# 7. What is the concept of a return value? Is it possible to have a return value in an expression?\n",
    "\n",
    "# Sol:\n",
    "\n",
    "#     Return statement is mainly used at the end of the excecution function to returns the value. \n",
    "\n",
    "#     It's not possible to have a return value in an expression"
   ]
  },
  {
   "cell_type": "code",
   "execution_count": 9,
   "id": "1c0ccf07",
   "metadata": {},
   "outputs": [
    {
     "name": "stdout",
     "output_type": "stream",
     "text": [
      "0.8888888888888888\n"
     ]
    },
    {
     "data": {
      "text/plain": [
       "NoneType"
      ]
     },
     "execution_count": 9,
     "metadata": {},
     "output_type": "execute_result"
    }
   ],
   "source": [
    "# 8. If a function does not have a return statement, what is the return value of a call to that function?\n",
    "\n",
    "# Sol:\n",
    "\n",
    "#     If a function does not have a return statement, instead of that we use print function\n",
    "#     It will give the NoneType data type\n",
    "\n",
    "#     For Example:\n",
    "\n",
    "def div(a, b):\n",
    "    c = a/b\n",
    "    print(c)\n",
    "\n",
    "type(div(8,9))"
   ]
  },
  {
   "cell_type": "code",
   "execution_count": 10,
   "id": "73ba6687",
   "metadata": {},
   "outputs": [
    {
     "data": {
      "text/plain": [
       "NoneType"
      ]
     },
     "execution_count": 10,
     "metadata": {},
     "output_type": "execute_result"
    }
   ],
   "source": [
    "# Or else if a function doesn't have a return and print It will not give any value\n",
    "# Another Example:\n",
    "\n",
    "def mult(a, b):\n",
    "    a * b\n",
    "\n",
    "type(mult(9,8))"
   ]
  },
  {
   "cell_type": "code",
   "execution_count": 11,
   "id": "e8a67623",
   "metadata": {},
   "outputs": [
    {
     "name": "stdout",
     "output_type": "stream",
     "text": [
      "0.5\n",
      "a = 9\n"
     ]
    }
   ],
   "source": [
    "# 9. How do you make a function variable refer to the global variable?\n",
    "\n",
    "# Sol:\n",
    "\n",
    "#     We just use the global keyword before the local variable\n",
    "\n",
    "# For Example:\n",
    "\n",
    "def func(c):\n",
    "    global a\n",
    "    a = 9\n",
    "    return a/c\n",
    "\n",
    "print(func(18))\n",
    "\n",
    "print(\"a =\", a) # It will give \"a\" value, because it is global variable, we can access any where "
   ]
  },
  {
   "cell_type": "code",
   "execution_count": 12,
   "id": "06f5acd7",
   "metadata": {},
   "outputs": [],
   "source": [
    "# 10. What is the data type of None?\n",
    "\n",
    "# Sol:\n",
    "\n",
    "#     The data type of None means null value "
   ]
  },
  {
   "cell_type": "code",
   "execution_count": 13,
   "id": "2110befc",
   "metadata": {},
   "outputs": [
    {
     "name": "stdout",
     "output_type": "stream",
     "text": [
      "The error has occured :  No module named 'areallyourpetsnamederic'\n"
     ]
    }
   ],
   "source": [
    "# 11. What does the sentence import areallyourpetsnamederic do?\n",
    "\n",
    "# Sol: Import keyword is used to import the module in the current \".py\" file. Otherwise It will give ModuleNotFoundError\n",
    "\n",
    "try:\n",
    "    import areallyourpetsnamederic\n",
    "except Exception as e:\n",
    "    print(\"The error has occured : \", e)\n",
    "\n",
    "# Because there is no areallyourpetsnamederic module in python libraries"
   ]
  },
  {
   "cell_type": "code",
   "execution_count": 14,
   "id": "4094a93d",
   "metadata": {},
   "outputs": [],
   "source": [
    "# 12. If you had a bacon() feature in a spam module, what would you call it after importing spam?\n",
    "\n",
    "# Sol:\n",
    "\n",
    "#      After importing spam module i call bacon() fecature as\n",
    "\n",
    "#      spam.bacon()"
   ]
  },
  {
   "cell_type": "code",
   "execution_count": 15,
   "id": "e6448500",
   "metadata": {},
   "outputs": [],
   "source": [
    "# 13. What can you do to save a programme from crashing if it encounters an error?\n",
    "# Sol: \n",
    "#     In order to save a programme from crashing, we use the try and except to handle the error if it encounters the error."
   ]
  },
  {
   "cell_type": "code",
   "execution_count": null,
   "id": "cb522166",
   "metadata": {},
   "outputs": [],
   "source": [
    "# 14. What is the purpose of the try clause? What is the purpose of the except clause?\n",
    "# Sol :\n",
    "#      If the code is working correctly without making an error then it goes in the try clause. \n",
    "#      If the code excecutes an error then it goes in the except clause."
   ]
  }
 ],
 "metadata": {
  "kernelspec": {
   "display_name": "Python 3 (ipykernel)",
   "language": "python",
   "name": "python3"
  },
  "language_info": {
   "codemirror_mode": {
    "name": "ipython",
    "version": 3
   },
   "file_extension": ".py",
   "mimetype": "text/x-python",
   "name": "python",
   "nbconvert_exporter": "python",
   "pygments_lexer": "ipython3",
   "version": "3.9.7"
  }
 },
 "nbformat": 4,
 "nbformat_minor": 5
}
