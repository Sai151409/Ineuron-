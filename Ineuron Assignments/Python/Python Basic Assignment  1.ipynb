{
 "cells": [
  {
   "cell_type": "code",
   "execution_count": 1,
   "id": "87926210",
   "metadata": {},
   "outputs": [],
   "source": [
    "# 1. In the below elements which of them are values or an expression? \n",
    "#   eg:- values can be integer or string and expressions will be mathematical operators.\n",
    "\n",
    "# * \n",
    "# 'hello'\n",
    "# -87.8\n",
    "# - \n",
    "# / \n",
    "# +\n",
    "# 6\"\"\" \n",
    "\n",
    "# Solution : \n",
    "\n",
    "#        Here 'hello', -87.8, 6 are the values and +,-,*,/ are the expressions"
   ]
  },
  {
   "cell_type": "code",
   "execution_count": 2,
   "id": "0eef8c1d",
   "metadata": {},
   "outputs": [],
   "source": [
    "# 2. What is the difference between string and variable?\n",
    "\n",
    "# Solution : \n",
    "\n",
    "#      String - It is the squence of characters enclosed with single or double quotes\n",
    "\n",
    "#      variabe - It is named alloction space or container to store the data in the internal memory"
   ]
  },
  {
   "cell_type": "code",
   "execution_count": 3,
   "id": "4ca282c9",
   "metadata": {},
   "outputs": [],
   "source": [
    "# 3. Describe three different data types.\n",
    "\n",
    "# Solution :  \n",
    "\n",
    "#      Numeric, Sequence, Text these are the three different data types in the python\n",
    "\n",
    "#      Numeric: \n",
    "\n",
    "#      There are three data types int, float, complex \n",
    "\n",
    "#      int means value should be postive integer, negative integer or Zero, ex : 78, -96, 0\n",
    "\n",
    "#      float similarly like int but it contains decimal values ex : 789.231\n",
    "\n",
    "#      complex data type is the combination of real part and imaginary part ex: 78+9j\n",
    "\n",
    "#      Sequence:\n",
    "\n",
    "#      There are several sequence types. list, tuple, set, dict\n",
    "\n",
    "#      list : list is collection of ordered elements enclosed with closed brackets. ex : [45, 89, 90]\n",
    "\n",
    "#      tuple : tuple is collection of ordered elements enclosed with open brackets. ex : (90, 89, \"krish\", 90.6)\n",
    "\n",
    "#      set: set is collection of unordered elements enclosed with braces. ex : {67, 90, \"sai\"}\n",
    "\n",
    "#      dict : dict is collection of key and pair values enclosed with braces. ex : {\"name\":\"ram\", \"age\" : 21}\n",
    "\n",
    "#      Text:\n",
    "\n",
    "#      Sequence of characters enclosed with double r single quotes.  ex : \"Kishore\""
   ]
  },
  {
   "cell_type": "code",
   "execution_count": 4,
   "id": "436374a1",
   "metadata": {},
   "outputs": [],
   "source": [
    "# 4. What is an expression made up of? What do all expressions do?\n",
    "\n",
    "# Solution : \n",
    "\n",
    "#     Expression is made up of values, variables and mathematical operators then python execute the code.\n",
    "\n",
    "#     Expression evaluates the combination of different data type values with operators "
   ]
  },
  {
   "cell_type": "code",
   "execution_count": 5,
   "id": "8ec79c8d",
   "metadata": {},
   "outputs": [],
   "source": [
    "# 5. This assignment statements, like spam = 10. What is the difference between an expression and a statement?\n",
    "\n",
    "# Solution : \n",
    "\n",
    "#     Statement give some instructions to the python to execute the code. ex: for, while, if, elif, else\n",
    "\n",
    "#     Expression is made up of values, variables and mathematical operators"
   ]
  },
  {
   "cell_type": "code",
   "execution_count": 6,
   "id": "1861cce7",
   "metadata": {},
   "outputs": [],
   "source": [
    "# 6. After running the following code, what does the variable bacon contain?\n",
    "\n",
    "# bacon = 22\n",
    "\n",
    "# bacon + 1\n",
    "\n",
    "# Solution : \n",
    "\n",
    "#     we will get the answer 23"
   ]
  },
  {
   "cell_type": "code",
   "execution_count": 7,
   "id": "f48a6c7c",
   "metadata": {},
   "outputs": [
    {
     "data": {
      "text/plain": [
       "23"
      ]
     },
     "execution_count": 7,
     "metadata": {},
     "output_type": "execute_result"
    }
   ],
   "source": [
    "# Here is the answer\n",
    "\n",
    "bacon = 22\n",
    "\n",
    "bacon + 1"
   ]
  },
  {
   "cell_type": "code",
   "execution_count": 8,
   "id": "9c773b77",
   "metadata": {},
   "outputs": [],
   "source": [
    "# 7. What should the values of the following two terms be?\n",
    "\n",
    "#'spam' + 'spamspam'\n",
    "\n",
    "#'spam' * 3\n",
    "\n",
    "# Solution : \n",
    "\n",
    "#     Both are same"
   ]
  },
  {
   "cell_type": "code",
   "execution_count": 9,
   "id": "420f59cf",
   "metadata": {},
   "outputs": [
    {
     "name": "stdout",
     "output_type": "stream",
     "text": [
      "spamspamspam\n",
      "\n",
      "\n",
      "spamspamspam\n"
     ]
    }
   ],
   "source": [
    "# Here is the answer\n",
    "\n",
    "print('spam' + 'spamspam')\n",
    "\n",
    "print(\"\\n\")\n",
    "\n",
    "print('spam' * 3)"
   ]
  },
  {
   "cell_type": "code",
   "execution_count": 10,
   "id": "9baa687f",
   "metadata": {},
   "outputs": [],
   "source": [
    "# 8. Why is eggs a valid variable name while 100 is invalid?\n",
    "\n",
    "# Solution :\n",
    "\n",
    "#     variable name must be starts with underscore or character then python will take it as valid name otherwise it shows invalid one."
   ]
  },
  {
   "cell_type": "code",
   "execution_count": 11,
   "id": "a66ef8e2",
   "metadata": {},
   "outputs": [],
   "source": [
    "# Here is the answer\n",
    "\n",
    "egg = 90 # Its valid one that's why python executes this code"
   ]
  },
  {
   "cell_type": "code",
   "execution_count": 12,
   "id": "234de414",
   "metadata": {},
   "outputs": [
    {
     "ename": "SyntaxError",
     "evalue": "cannot assign to literal (Temp/ipykernel_10476/1175430219.py, line 1)",
     "output_type": "error",
     "traceback": [
      "\u001b[1;36m  File \u001b[1;32m\"C:\\Users\\SAIRAM~1\\AppData\\Local\\Temp/ipykernel_10476/1175430219.py\"\u001b[1;36m, line \u001b[1;32m1\u001b[0m\n\u001b[1;33m    100 = \"sai\" # Here its show the syntax error\u001b[0m\n\u001b[1;37m    ^\u001b[0m\n\u001b[1;31mSyntaxError\u001b[0m\u001b[1;31m:\u001b[0m cannot assign to literal\n"
     ]
    }
   ],
   "source": [
    "100 = \"sai\" # Here its show the syntax error "
   ]
  },
  {
   "cell_type": "code",
   "execution_count": 13,
   "id": "c8eca892",
   "metadata": {},
   "outputs": [],
   "source": [
    "# 9. What three functions can be used to get the integer, floating-point number, or string version of a value?\n",
    "\n",
    "# Solution :\n",
    "\n",
    "#     int(), float(), str()"
   ]
  },
  {
   "cell_type": "code",
   "execution_count": 14,
   "id": "a397e7e6",
   "metadata": {},
   "outputs": [],
   "source": [
    "# 10. Why does this expression cause an error? How can you fix it?\n",
    "# 'I have eaten ' + 99 + ' burritos.'\n",
    "\n",
    "# Solution :\n",
    "\n",
    "# Python doesn't allow us to concatenate the str and int data types"
   ]
  },
  {
   "cell_type": "code",
   "execution_count": 15,
   "id": "c72017cc",
   "metadata": {},
   "outputs": [
    {
     "ename": "TypeError",
     "evalue": "can only concatenate str (not \"int\") to str",
     "output_type": "error",
     "traceback": [
      "\u001b[1;31m---------------------------------------------------------------------------\u001b[0m",
      "\u001b[1;31mTypeError\u001b[0m                                 Traceback (most recent call last)",
      "\u001b[1;32mC:\\Users\\SAIRAM~1\\AppData\\Local\\Temp/ipykernel_10476/3942948929.py\u001b[0m in \u001b[0;36m<module>\u001b[1;34m\u001b[0m\n\u001b[0;32m      1\u001b[0m \u001b[1;31m# Here is the answer\u001b[0m\u001b[1;33m\u001b[0m\u001b[1;33m\u001b[0m\u001b[0m\n\u001b[0;32m      2\u001b[0m \u001b[1;33m\u001b[0m\u001b[0m\n\u001b[1;32m----> 3\u001b[1;33m \u001b[1;34m'I have eaten '\u001b[0m \u001b[1;33m+\u001b[0m \u001b[1;36m99\u001b[0m \u001b[1;33m+\u001b[0m \u001b[1;34m' burritos.'\u001b[0m \u001b[1;31m# Here can see the type error i.e can only concatenate str (not \"int\") to str\u001b[0m\u001b[1;33m\u001b[0m\u001b[1;33m\u001b[0m\u001b[0m\n\u001b[0m",
      "\u001b[1;31mTypeError\u001b[0m: can only concatenate str (not \"int\") to str"
     ]
    }
   ],
   "source": [
    "# Here is the answer\n",
    "\n",
    "'I have eaten ' + 99 + ' burritos.' # Here can see the type error i.e can only concatenate str (not \"int\") to str"
   ]
  },
  {
   "cell_type": "code",
   "execution_count": null,
   "id": "a868dad1",
   "metadata": {},
   "outputs": [],
   "source": []
  }
 ],
 "metadata": {
  "kernelspec": {
   "display_name": "Python 3 (ipykernel)",
   "language": "python",
   "name": "python3"
  },
  "language_info": {
   "codemirror_mode": {
    "name": "ipython",
    "version": 3
   },
   "file_extension": ".py",
   "mimetype": "text/x-python",
   "name": "python",
   "nbconvert_exporter": "python",
   "pygments_lexer": "ipython3",
   "version": "3.9.7"
  }
 },
 "nbformat": 4,
 "nbformat_minor": 5
}
