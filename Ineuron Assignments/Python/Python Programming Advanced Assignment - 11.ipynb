{
 "cells": [
  {
   "cell_type": "code",
   "execution_count": 1,
   "id": "9f59bea8",
   "metadata": {},
   "outputs": [],
   "source": [
    "# 1. Create a function that takes a list and returns a new list containing only prime numbers.\n",
    "#    Examples:\n",
    "#    filter_primes([7, 9, 3, 9, 10, 11, 27]) ➞ [7, 3, 11]\n",
    "#    filter_primes([10007, 1009, 1007, 27, 147, 77, 1001, 70]) ➞ [10007, 1009]\n",
    "#    filter_primes([1009, 10, 10, 10, 3, 33, 9, 4, 1, 61, 63, 69, 1087, 1091, 1093, 1097]) ➞ \n",
    "#         [1009, 3, 61, 1087, 1091, 1093, 1097]\n",
    "\n",
    "# Sol :\n",
    "\n",
    "def filter_primes(lst : list):\n",
    "    try:\n",
    "        result = []\n",
    "        for i in lst:\n",
    "            for j in range(2, i):\n",
    "                if i % j == 0:\n",
    "                    break\n",
    "            else:\n",
    "                result.append(i)\n",
    "        return result\n",
    "    except Exception as e:\n",
    "        return e"
   ]
  },
  {
   "cell_type": "code",
   "execution_count": 2,
   "id": "946eeaa7",
   "metadata": {},
   "outputs": [
    {
     "data": {
      "text/plain": [
       "[7, 3, 11]"
      ]
     },
     "execution_count": 2,
     "metadata": {},
     "output_type": "execute_result"
    }
   ],
   "source": [
    "filter_primes([7, 9, 3, 9, 10, 11, 27])"
   ]
  },
  {
   "cell_type": "code",
   "execution_count": 3,
   "id": "a1287d31",
   "metadata": {},
   "outputs": [
    {
     "data": {
      "text/plain": [
       "[10007, 1009]"
      ]
     },
     "execution_count": 3,
     "metadata": {},
     "output_type": "execute_result"
    }
   ],
   "source": [
    "filter_primes([10007, 1009, 1007, 27, 147, 77, 1001, 70])"
   ]
  },
  {
   "cell_type": "code",
   "execution_count": 4,
   "id": "a6c59a34",
   "metadata": {},
   "outputs": [
    {
     "data": {
      "text/plain": [
       "[1009, 3, 1, 61, 1087, 1091, 1093, 1097]"
      ]
     },
     "execution_count": 4,
     "metadata": {},
     "output_type": "execute_result"
    }
   ],
   "source": [
    "filter_primes([1009, 10, 10, 10, 3, 33, 9, 4, 1, 61, 63, 69, 1087, 1091, 1093, 1097])"
   ]
  },
  {
   "cell_type": "code",
   "execution_count": 5,
   "id": "4b22f880",
   "metadata": {},
   "outputs": [],
   "source": [
    "# 2. Once a water balloon pops, is soaks the area around it. The ground gets drier the further away you travel from the balloon.\n",
    "#    The effect of a water balloon popping can be modeled using a list. Create a function that takes a list which takes the \n",
    "#    pre-pop state and returns the state after the balloon is popped. The pre-pop state will contain at most a single balloon, \n",
    "#    whose size is represented by the only non-zero element.\n",
    "\n",
    "#    Examples:\n",
    "#    pop([0, 0, 0, 0, 4, 0, 0, 0, 0]) ➞ [0, 1, 2, 3, 4, 3, 2, 1, 0]\n",
    "#    pop([0, 0, 0, 3, 0, 0, 0]) ➞ [0, 1, 2, 3, 2, 1, 0]\n",
    "#    pop([0, 0, 2, 0, 0]) ➞ [0, 1, 2, 1, 0]\n",
    "#    pop([0]) ➞ [0]\n",
    "\n",
    "# Sol :\n",
    "\n",
    "def pop(lst : list):\n",
    "    try:\n",
    "        result = []\n",
    "        j = 0\n",
    "        for i in range(len(lst)):\n",
    "            if set(lst[:i+1]) == set() or set(lst[:i+1]) == {0}:\n",
    "                if lst[i] == 0:\n",
    "                    result.append(j)\n",
    "                    j += 1\n",
    "            else:\n",
    "                if lst[i] != 0:\n",
    "                    result.append(lst[i])\n",
    "                else:\n",
    "                    j -= 1\n",
    "                    result.append(j)\n",
    "        return result\n",
    "    except  Exception as e:\n",
    "        return E"
   ]
  },
  {
   "cell_type": "code",
   "execution_count": 6,
   "id": "05232d56",
   "metadata": {},
   "outputs": [
    {
     "data": {
      "text/plain": [
       "[0, 1, 2, 3, 4, 3, 2, 1, 0]"
      ]
     },
     "execution_count": 6,
     "metadata": {},
     "output_type": "execute_result"
    }
   ],
   "source": [
    "pop([0, 0, 0, 0, 4, 0, 0, 0, 0])"
   ]
  },
  {
   "cell_type": "code",
   "execution_count": 7,
   "id": "319d062c",
   "metadata": {},
   "outputs": [
    {
     "data": {
      "text/plain": [
       "[0, 1, 2, 3, 2, 1, 0]"
      ]
     },
     "execution_count": 7,
     "metadata": {},
     "output_type": "execute_result"
    }
   ],
   "source": [
    "pop([0, 0, 0, 3, 0, 0, 0])"
   ]
  },
  {
   "cell_type": "code",
   "execution_count": 8,
   "id": "85c5a2ac",
   "metadata": {},
   "outputs": [
    {
     "data": {
      "text/plain": [
       "[0, 1, 2, 1, 0]"
      ]
     },
     "execution_count": 8,
     "metadata": {},
     "output_type": "execute_result"
    }
   ],
   "source": [
    "pop([0, 0, 2, 0, 0])"
   ]
  },
  {
   "cell_type": "code",
   "execution_count": 9,
   "id": "b217df28",
   "metadata": {},
   "outputs": [
    {
     "data": {
      "text/plain": [
       "[0]"
      ]
     },
     "execution_count": 9,
     "metadata": {},
     "output_type": "execute_result"
    }
   ],
   "source": [
    "pop([0])"
   ]
  },
  {
   "cell_type": "code",
   "execution_count": 10,
   "id": "b1ebbf1c",
   "metadata": {},
   "outputs": [],
   "source": [
    "# 3. \"Loves me, loves me not\" is a traditional game in which a person plucks off all the petals of a flower one by one, saying\n",
    "#     the phrase \"Loves me\" and \"Loves me not\" when determining whether the one that they love, loves them back. Given a number\n",
    "#     of petals, return a string which repeats the phrases \"Loves me\" and \"Loves me not\" for every alternating petal, and \n",
    "#     return the last phrase in all caps. Remember to put a comma and space between phrases.\n",
    "\n",
    "#    Examples:\n",
    "#      loves_me(3) ➞ \"Loves me, Loves me not, LOVES ME\"\n",
    "#      loves_me(6) ➞ \"Loves me, Loves me not, Loves me, Loves me not, Loves me, LOVES ME NOT\"\n",
    "#      loves_me(1) ➞ \"LOVES ME\"\n",
    "\n",
    "# Sol :\n",
    "\n",
    "def loves_me(num):\n",
    "    try:\n",
    "        result = \"\"\n",
    "        for i in range(num):\n",
    "            if i % 2 == 0:\n",
    "                if i == num-1:\n",
    "                    result += \"Loves me\".upper()\n",
    "                else:\n",
    "                    result += \"Loves me, \"\n",
    "            else:\n",
    "                if i == num-1:\n",
    "                    result += \"Loves me not\". upper()\n",
    "                else:\n",
    "                    result += \"Loves me not, \"\n",
    "        return result\n",
    "    except Exception as e:\n",
    "        return e"
   ]
  },
  {
   "cell_type": "code",
   "execution_count": 11,
   "id": "5ab0507f",
   "metadata": {},
   "outputs": [
    {
     "data": {
      "text/plain": [
       "'Loves me, Loves me not, LOVES ME'"
      ]
     },
     "execution_count": 11,
     "metadata": {},
     "output_type": "execute_result"
    }
   ],
   "source": [
    "loves_me(3)"
   ]
  },
  {
   "cell_type": "code",
   "execution_count": 12,
   "id": "2e4b6720",
   "metadata": {},
   "outputs": [
    {
     "data": {
      "text/plain": [
       "'Loves me, Loves me not, Loves me, Loves me not, Loves me, LOVES ME NOT'"
      ]
     },
     "execution_count": 12,
     "metadata": {},
     "output_type": "execute_result"
    }
   ],
   "source": [
    "loves_me(6)"
   ]
  },
  {
   "cell_type": "code",
   "execution_count": 13,
   "id": "1ebf0415",
   "metadata": {},
   "outputs": [
    {
     "data": {
      "text/plain": [
       "'LOVES ME'"
      ]
     },
     "execution_count": 13,
     "metadata": {},
     "output_type": "execute_result"
    }
   ],
   "source": [
    "loves_me(1)"
   ]
  },
  {
   "cell_type": "code",
   "execution_count": 14,
   "id": "d0c246e1",
   "metadata": {},
   "outputs": [],
   "source": [
    "# 4. Write a function that sorts each string in a list by the letter in alphabetic ascending order (a-z).\n",
    "#    Examples:\n",
    "#      sort_by_letter([\"932c\", \"832u32\", \"2344b\"]) ➞ [\"2344b\", \"932c\", \"832u32\"]\n",
    "#      sort_by_letter([\"99a\", \"78b\", \"c2345\", \"11d\"]) ➞ [\"99a\", \"78b\", \"c2345\", \"11d\"]\n",
    "#      sort_by_letter([\"572z\", \"5y5\", \"304q2\"]) ➞ [\"304q2\", \"5y5\", \"572z\"]\n",
    "#      sort_by_letter([]) ➞ []\n",
    "\n",
    "# Sol :\n",
    "\n",
    "import string\n",
    "def sort_by_letter(lst : list):\n",
    "    try:\n",
    "        output = []\n",
    "        result = {}\n",
    "        for i in lst:\n",
    "            for j in i:\n",
    "                if j in list(string.ascii_lowercase):\n",
    "                    result[j] = i\n",
    "        for i in sorted(result) :\n",
    "            output.append(result[i])\n",
    "        return output\n",
    "    except Exception as e:\n",
    "        return e"
   ]
  },
  {
   "cell_type": "code",
   "execution_count": 15,
   "id": "63f11259",
   "metadata": {},
   "outputs": [
    {
     "data": {
      "text/plain": [
       "['2344b', '932c', '832u32']"
      ]
     },
     "execution_count": 15,
     "metadata": {},
     "output_type": "execute_result"
    }
   ],
   "source": [
    "sort_by_letter([\"932c\", \"832u32\", \"2344b\"])"
   ]
  },
  {
   "cell_type": "code",
   "execution_count": 16,
   "id": "5edbaad1",
   "metadata": {},
   "outputs": [
    {
     "data": {
      "text/plain": [
       "['99a', '78b', 'c2345', '11d']"
      ]
     },
     "execution_count": 16,
     "metadata": {},
     "output_type": "execute_result"
    }
   ],
   "source": [
    "sort_by_letter([\"99a\", \"78b\", \"c2345\", \"11d\"])"
   ]
  },
  {
   "cell_type": "code",
   "execution_count": 17,
   "id": "da873ee4",
   "metadata": {},
   "outputs": [
    {
     "data": {
      "text/plain": [
       "['304q2', '5y5', '572z']"
      ]
     },
     "execution_count": 17,
     "metadata": {},
     "output_type": "execute_result"
    }
   ],
   "source": [
    "sort_by_letter([\"572z\", \"5y5\", \"304q2\"])"
   ]
  },
  {
   "cell_type": "code",
   "execution_count": 18,
   "id": "27b7d275",
   "metadata": {},
   "outputs": [
    {
     "data": {
      "text/plain": [
       "[]"
      ]
     },
     "execution_count": 18,
     "metadata": {},
     "output_type": "execute_result"
    }
   ],
   "source": [
    "sort_by_letter([])"
   ]
  },
  {
   "cell_type": "code",
   "execution_count": 19,
   "id": "375f716e",
   "metadata": {},
   "outputs": [],
   "source": [
    "# 5.There are three cups on a table, at positions A, B, and C. At the start, there is a ball hidden under the cup at position B.\n",
    "#   However, I perform several swaps on the cups, which is notated as two letters. For example, if I swap the cups at positions\n",
    "#   A and B, I could notate this as AB or BA.\n",
    "#   Create a function that returns the letter position that the ball is at, once I finish swapping the cups. \n",
    "#   The swaps will be given to you as a list.\n",
    "\n",
    "#   Examples:\n",
    "#     cup_swapping([\"AB\", \"CA\", \"AB\"]) ➞ \"C\"\n",
    "#     Ball begins at position B.\n",
    "#     Cups A and B swap, so the ball is at position A.\n",
    "#     Cups C and A swap, so the ball is at position C.\n",
    "#     Cups A and B swap, but the ball is at position C, so it doesn't move.\n",
    "\n",
    "# Sol :\n",
    "\n",
    "def cup_swapping(swap_list,intitial_ball_pos):\n",
    "    try:\n",
    "        ball_position = intitial_ball_pos\n",
    "        for ele in swap_list:\n",
    "            if ball_position in ele:\n",
    "                ball_position = ele.replace(ball_position,'')\n",
    "        return ball_position\n",
    "    except Exception as e:\n",
    "        return e"
   ]
  },
  {
   "cell_type": "code",
   "execution_count": 20,
   "id": "3c156c98",
   "metadata": {},
   "outputs": [
    {
     "data": {
      "text/plain": [
       "'C'"
      ]
     },
     "execution_count": 20,
     "metadata": {},
     "output_type": "execute_result"
    }
   ],
   "source": [
    "cup_swapping([\"AB\", \"CA\", \"AB\"],'B')"
   ]
  },
  {
   "cell_type": "code",
   "execution_count": 21,
   "id": "74942c34",
   "metadata": {},
   "outputs": [
    {
     "data": {
      "text/plain": [
       "'B'"
      ]
     },
     "execution_count": 21,
     "metadata": {},
     "output_type": "execute_result"
    }
   ],
   "source": [
    "cup_swapping([\"AB\", \"CA\", \"AB\"],'C')"
   ]
  },
  {
   "cell_type": "code",
   "execution_count": 22,
   "id": "fecb53dd",
   "metadata": {},
   "outputs": [
    {
     "data": {
      "text/plain": [
       "'A'"
      ]
     },
     "execution_count": 22,
     "metadata": {},
     "output_type": "execute_result"
    }
   ],
   "source": [
    "cup_swapping([\"AC\", \"BC\", \"AB\"],'A')"
   ]
  },
  {
   "cell_type": "code",
   "execution_count": null,
   "id": "d4627b52",
   "metadata": {},
   "outputs": [],
   "source": []
  },
  {
   "cell_type": "code",
   "execution_count": null,
   "id": "69c8965d",
   "metadata": {},
   "outputs": [],
   "source": []
  },
  {
   "cell_type": "code",
   "execution_count": null,
   "id": "10f29578",
   "metadata": {},
   "outputs": [],
   "source": []
  }
 ],
 "metadata": {
  "kernelspec": {
   "display_name": "Python 3 (ipykernel)",
   "language": "python",
   "name": "python3"
  },
  "language_info": {
   "codemirror_mode": {
    "name": "ipython",
    "version": 3
   },
   "file_extension": ".py",
   "mimetype": "text/x-python",
   "name": "python",
   "nbconvert_exporter": "python",
   "pygments_lexer": "ipython3",
   "version": "3.9.12"
  }
 },
 "nbformat": 4,
 "nbformat_minor": 5
}
