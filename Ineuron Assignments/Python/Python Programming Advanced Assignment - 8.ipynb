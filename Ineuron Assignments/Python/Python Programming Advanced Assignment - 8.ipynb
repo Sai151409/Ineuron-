{
 "cells": [
  {
   "cell_type": "code",
   "execution_count": 1,
   "id": "5625adc0",
   "metadata": {},
   "outputs": [],
   "source": [
    "# 1. Given a sentence as txt, return True if any two adjacent words have this property: One word ends with a vowel, while the \n",
    "#    word immediately after begins with a vowel (a e i o u).\n",
    "#    Examples:\n",
    "#      vowel_links(\"a very large appliance\") ➞ True\n",
    "#      vowel_links(\"go to edabit\") ➞ True\n",
    "#      vowel_links(\"an open fire\") ➞ False\n",
    "#      vowel_links(\"a sudden applause\") ➞ False\n",
    "\n",
    "# Sol :\n",
    "\n",
    "def vowel_links(sentence):\n",
    "    try:\n",
    "        vowels = ['a', 'e', 'i', 'o', 'u']\n",
    "        lst = sentence.split(' ')\n",
    "        for i in range(len(lst)):\n",
    "            if i != len(lst)-1:\n",
    "                if lst[i][-1] in vowels and lst[i+1][0] in vowels:\n",
    "                    return True\n",
    "            else:\n",
    "                return False\n",
    "    except Exception as e:\n",
    "        return e"
   ]
  },
  {
   "cell_type": "code",
   "execution_count": 2,
   "id": "5b371c38",
   "metadata": {},
   "outputs": [
    {
     "data": {
      "text/plain": [
       "True"
      ]
     },
     "execution_count": 2,
     "metadata": {},
     "output_type": "execute_result"
    }
   ],
   "source": [
    "vowel_links(\"a very large appliance\")"
   ]
  },
  {
   "cell_type": "code",
   "execution_count": 3,
   "id": "417b4508",
   "metadata": {},
   "outputs": [
    {
     "data": {
      "text/plain": [
       "True"
      ]
     },
     "execution_count": 3,
     "metadata": {},
     "output_type": "execute_result"
    }
   ],
   "source": [
    "vowel_links(\"go to edabit\") "
   ]
  },
  {
   "cell_type": "code",
   "execution_count": 4,
   "id": "b3d2c66e",
   "metadata": {},
   "outputs": [
    {
     "data": {
      "text/plain": [
       "False"
      ]
     },
     "execution_count": 4,
     "metadata": {},
     "output_type": "execute_result"
    }
   ],
   "source": [
    "vowel_links(\"an open fire\")"
   ]
  },
  {
   "cell_type": "code",
   "execution_count": 5,
   "id": "8dac2527",
   "metadata": {},
   "outputs": [
    {
     "data": {
      "text/plain": [
       "False"
      ]
     },
     "execution_count": 5,
     "metadata": {},
     "output_type": "execute_result"
    }
   ],
   "source": [
    "vowel_links(\"a sudden applause\")"
   ]
  },
  {
   "cell_type": "code",
   "execution_count": 6,
   "id": "a8a557a0",
   "metadata": {},
   "outputs": [],
   "source": [
    "# 2. You are given three inputs: a string, one letter, and a second letter. Write a function that returns True if every \n",
    "#    instance of the first letter occurs before every instance of the second letter.\n",
    "#    Examples:\n",
    "#    first_before_second(\"a rabbit jumps joyfully\", \"a\", \"j\") ➞ True\n",
    "#        # Every instance of \"a\" occurs before every instance of \"j\".\n",
    "\n",
    "#    first_before_second(\"knaves knew about waterfalls\", \"k\", \"w\") ➞ True\n",
    "\n",
    "#    first_before_second(\"happy birthday\", \"a\", \"y\") ➞ False\n",
    "#       # The \"a\" in \"birthday\" occurs after the \"y\" in \"happy\".\n",
    "\n",
    "#    first_before_second(\"precarious kangaroos\", \"k\", \"a\") ➞ False\n",
    "\n",
    "# Sol :\n",
    "\n",
    "def first_before_second(string, first_num, second_num):\n",
    "    try:\n",
    "        last_occur_first = string.rindex(first_num)\n",
    "        first_occur_second = string.index(second_num)\n",
    "        if last_occur_first < first_occur_second :\n",
    "            return True \n",
    "        else:\n",
    "            return False\n",
    "    except Exception as e:\n",
    "        return e"
   ]
  },
  {
   "cell_type": "code",
   "execution_count": 7,
   "id": "0f58df34",
   "metadata": {},
   "outputs": [
    {
     "data": {
      "text/plain": [
       "True"
      ]
     },
     "execution_count": 7,
     "metadata": {},
     "output_type": "execute_result"
    }
   ],
   "source": [
    "first_before_second(\"a rabbit jumps joyfully\", \"a\", \"j\")"
   ]
  },
  {
   "cell_type": "code",
   "execution_count": 8,
   "id": "3ac4dbaa",
   "metadata": {},
   "outputs": [
    {
     "data": {
      "text/plain": [
       "True"
      ]
     },
     "execution_count": 8,
     "metadata": {},
     "output_type": "execute_result"
    }
   ],
   "source": [
    "first_before_second(\"knaves knew about waterfalls\", \"k\", \"w\")"
   ]
  },
  {
   "cell_type": "code",
   "execution_count": 9,
   "id": "a8eefb61",
   "metadata": {},
   "outputs": [
    {
     "data": {
      "text/plain": [
       "False"
      ]
     },
     "execution_count": 9,
     "metadata": {},
     "output_type": "execute_result"
    }
   ],
   "source": [
    "first_before_second(\"happy birthday\", \"a\", \"y\")"
   ]
  },
  {
   "cell_type": "code",
   "execution_count": 10,
   "id": "9d30a120",
   "metadata": {},
   "outputs": [
    {
     "data": {
      "text/plain": [
       "False"
      ]
     },
     "execution_count": 10,
     "metadata": {},
     "output_type": "execute_result"
    }
   ],
   "source": [
    "first_before_second(\"precarious kangaroos\", \"k\", \"a\")"
   ]
  },
  {
   "cell_type": "code",
   "execution_count": 11,
   "id": "5c57fb84",
   "metadata": {},
   "outputs": [],
   "source": [
    "# 3.Create a function that returns the characters from a list or string r on odd or even positions, depending on the \n",
    "#   specifiers. The specifier will be \"odd\" for items on odd positions (1, 3, 5, ...) and \"even\" for items on even positions\n",
    "#   (2, 4, 6, ...).\n",
    "#   Examples:\n",
    "#     char_at_pos([2, 4, 6, 8, 10], \"even\") ➞ [4, 8]\n",
    "#     # 4 & 8 occupy the 2nd & 4th positions\n",
    "\n",
    "#     char_at_pos(\"EDABIT\", \"odd\") ➞ \"EAI\"\n",
    "#     # \"E\", \"A\" and \"I\" occupy the 1st, 3rd and 5th positions\n",
    "\n",
    "#     char_at_pos([\"A\", \"R\", \"B\", \"I\", \"T\", \"R\", \"A\", \"R\", \"I\", \"L\", \"Y\"], \"odd\") ➞ [\"A\", \"B\", \"T\", \"A\", \"I\", \"Y\"]\n",
    "\n",
    "# Sol :\n",
    "\n",
    "def char_at_pos(string, condition):\n",
    "    try:\n",
    "        result_list = []\n",
    "        result_str = \"\"\n",
    "        if condition == 'even':\n",
    "            if type(string) == list:\n",
    "                for i in range(len(string)):\n",
    "                    if (i+1) % 2 == 0:\n",
    "                        result_list.append(string[i])\n",
    "            else:\n",
    "                for i in range(len(string)):\n",
    "                    if (i+1) % 2 == 0:\n",
    "                        result_str+=string[i]\n",
    "        elif condition == 'odd':\n",
    "            if type(string) == list:\n",
    "                for i in range(len(string)):\n",
    "                    if (i) % 2 == 0:\n",
    "                        result_list.append(string[i])\n",
    "            else:\n",
    "                for i in range(len(string)):\n",
    "                    if (i) % 2 == 0:\n",
    "                        result_str+=string[i]\n",
    "        if type(string) == list:\n",
    "            return result_list\n",
    "        else:\n",
    "            return result_str\n",
    "    except Exception as e:\n",
    "        return e"
   ]
  },
  {
   "cell_type": "code",
   "execution_count": 12,
   "id": "e91d2189",
   "metadata": {},
   "outputs": [
    {
     "data": {
      "text/plain": [
       "[4, 8]"
      ]
     },
     "execution_count": 12,
     "metadata": {},
     "output_type": "execute_result"
    }
   ],
   "source": [
    "char_at_pos([2, 4, 6, 8, 10], \"even\")"
   ]
  },
  {
   "cell_type": "code",
   "execution_count": 13,
   "id": "b8f15e41",
   "metadata": {},
   "outputs": [
    {
     "data": {
      "text/plain": [
       "'EAI'"
      ]
     },
     "execution_count": 13,
     "metadata": {},
     "output_type": "execute_result"
    }
   ],
   "source": [
    "char_at_pos(\"EDABIT\", \"odd\")"
   ]
  },
  {
   "cell_type": "code",
   "execution_count": 14,
   "id": "346668a3",
   "metadata": {},
   "outputs": [
    {
     "data": {
      "text/plain": [
       "['A', 'B', 'T', 'A', 'I', 'Y']"
      ]
     },
     "execution_count": 14,
     "metadata": {},
     "output_type": "execute_result"
    }
   ],
   "source": [
    "char_at_pos([\"A\", \"R\", \"B\", \"I\", \"T\", \"R\", \"A\", \"R\", \"I\", \"L\", \"Y\"], \"odd\")"
   ]
  },
  {
   "cell_type": "code",
   "execution_count": 15,
   "id": "e2a2204a",
   "metadata": {},
   "outputs": [],
   "source": [
    "# 4. Write a function that returns the greatest common divisor of all list elements. If the greatest common divisor is 1,\n",
    "#    return 1.\n",
    "#    Examples:\n",
    "#    GCD([10, 20, 40]) ➞ 10\n",
    "#    GCD([1, 2, 3, 100]) ➞ 1\n",
    "#    GCD([1024, 192, 2048, 512]) ➞ 64\n",
    "\n",
    "# Sol :\n",
    "\n",
    "def GCD(lst : list):\n",
    "    try:\n",
    "        result = []\n",
    "        lst1 = lst.copy()\n",
    "        lst1.sort()\n",
    "        end = lst1[0]\n",
    "        for i in range(1, end+1):\n",
    "            for j in lst:\n",
    "                if j % i != 0:\n",
    "                    break\n",
    "            else:\n",
    "                result.append(i)\n",
    "        return result[-1]\n",
    "    except Exception as e:\n",
    "        return e"
   ]
  },
  {
   "cell_type": "code",
   "execution_count": 16,
   "id": "aab4f426",
   "metadata": {},
   "outputs": [
    {
     "data": {
      "text/plain": [
       "10"
      ]
     },
     "execution_count": 16,
     "metadata": {},
     "output_type": "execute_result"
    }
   ],
   "source": [
    "GCD([10, 20, 40])"
   ]
  },
  {
   "cell_type": "code",
   "execution_count": 17,
   "id": "0c91af16",
   "metadata": {},
   "outputs": [
    {
     "data": {
      "text/plain": [
       "1"
      ]
     },
     "execution_count": 17,
     "metadata": {},
     "output_type": "execute_result"
    }
   ],
   "source": [
    "GCD([1, 2, 3, 100])"
   ]
  },
  {
   "cell_type": "code",
   "execution_count": 18,
   "id": "124a5c83",
   "metadata": {},
   "outputs": [
    {
     "data": {
      "text/plain": [
       "64"
      ]
     },
     "execution_count": 18,
     "metadata": {},
     "output_type": "execute_result"
    }
   ],
   "source": [
    "GCD([1024, 192, 2048, 512])"
   ]
  },
  {
   "cell_type": "code",
   "execution_count": 19,
   "id": "f35b3fbf",
   "metadata": {},
   "outputs": [],
   "source": [
    "# 5. A number/string is a palindrome if the digits/characters are the same when read both forward and backward. \n",
    "#    Examples include \"racecar\" and 12321. Given a positive number n, check if n or the binary representation of n is \n",
    "#    palindromic. Return the following:\n",
    "#    \"Decimal only.\" if only n is a palindrome.\n",
    "#    \"Binary only.\" if only the binary representation of n is a palindrome.\n",
    "#    \"Decimal and binary.\" if both are palindromes.\n",
    "#    \"Neither!\" if neither are palindromes.\n",
    "\n",
    "#     Examples:\n",
    "\n",
    "#     palindrome_type(1306031) ➞ \"Decimal only.\"\n",
    "#     # decimal = 1306031\n",
    "#     # binary = \"100111110110110101111\"\n",
    "\n",
    "#     palindrome_type(427787) ➞ \"Binary only.\"\n",
    "#     # decimal = 427787\n",
    "#     # binary = \"1101000011100001011\"\n",
    "\n",
    "#     palindrome_type(313) ➞ \"Decimal and binary.\"\n",
    "#     # decimal = 313\n",
    "#     # binary = 100111001\n",
    "\n",
    "#     palindrome_type(934) ➞ \"Neither!\"\n",
    "#     # decimal = 934\n",
    "#     # binary = \"1110100110\"\n",
    "\n",
    "# Sol :\n",
    "\n",
    "def palindrome_type(num):\n",
    "    try:\n",
    "        if str(num) == str(num)[::-1] and bin(num)[2:] == bin(num)[2:][::-1]:\n",
    "            return \"Decimal and binary.\"\n",
    "        elif str(num) == str(num)[::-1] and bin(num)[2:] != bin(num)[2:][::-1]:\n",
    "            return \"Decimal only.\"\n",
    "        elif str(num) != str(num)[::-1] and bin(num)[2:] == bin(num)[2:][::-1]:\n",
    "            return \"Binary only.\"\n",
    "        else:\n",
    "            return \"Neither\"\n",
    "    except Exception as e:\n",
    "        return e"
   ]
  },
  {
   "cell_type": "code",
   "execution_count": 20,
   "id": "b561934a",
   "metadata": {},
   "outputs": [
    {
     "data": {
      "text/plain": [
       "'Decimal only.'"
      ]
     },
     "execution_count": 20,
     "metadata": {},
     "output_type": "execute_result"
    }
   ],
   "source": [
    "palindrome_type(1306031)"
   ]
  },
  {
   "cell_type": "code",
   "execution_count": 21,
   "id": "805ccf6f",
   "metadata": {},
   "outputs": [
    {
     "data": {
      "text/plain": [
       "'Binary only.'"
      ]
     },
     "execution_count": 21,
     "metadata": {},
     "output_type": "execute_result"
    }
   ],
   "source": [
    "palindrome_type(427787)"
   ]
  },
  {
   "cell_type": "code",
   "execution_count": 22,
   "id": "5b7f831f",
   "metadata": {},
   "outputs": [
    {
     "data": {
      "text/plain": [
       "'Decimal and binary.'"
      ]
     },
     "execution_count": 22,
     "metadata": {},
     "output_type": "execute_result"
    }
   ],
   "source": [
    "palindrome_type(313)"
   ]
  },
  {
   "cell_type": "code",
   "execution_count": 23,
   "id": "59b49616",
   "metadata": {},
   "outputs": [
    {
     "data": {
      "text/plain": [
       "'Neither'"
      ]
     },
     "execution_count": 23,
     "metadata": {},
     "output_type": "execute_result"
    }
   ],
   "source": [
    "palindrome_type(934)"
   ]
  },
  {
   "cell_type": "code",
   "execution_count": null,
   "id": "b7b2f8d7",
   "metadata": {},
   "outputs": [],
   "source": []
  },
  {
   "cell_type": "code",
   "execution_count": null,
   "id": "eab1ddd2",
   "metadata": {},
   "outputs": [],
   "source": []
  },
  {
   "cell_type": "code",
   "execution_count": null,
   "id": "99a02934",
   "metadata": {},
   "outputs": [],
   "source": []
  },
  {
   "cell_type": "code",
   "execution_count": null,
   "id": "72808390",
   "metadata": {},
   "outputs": [],
   "source": []
  }
 ],
 "metadata": {
  "kernelspec": {
   "display_name": "Python 3 (ipykernel)",
   "language": "python",
   "name": "python3"
  },
  "language_info": {
   "codemirror_mode": {
    "name": "ipython",
    "version": 3
   },
   "file_extension": ".py",
   "mimetype": "text/x-python",
   "name": "python",
   "nbconvert_exporter": "python",
   "pygments_lexer": "ipython3",
   "version": "3.9.12"
  }
 },
 "nbformat": 4,
 "nbformat_minor": 5
}
