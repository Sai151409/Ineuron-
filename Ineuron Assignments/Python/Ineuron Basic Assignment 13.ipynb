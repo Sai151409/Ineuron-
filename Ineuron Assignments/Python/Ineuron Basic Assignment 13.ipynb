{
 "cells": [
  {
   "cell_type": "code",
   "execution_count": 1,
   "id": "fd96ad65",
   "metadata": {},
   "outputs": [],
   "source": [
    "# 1. What advantages do Excel spreadsheets have over CSV spreadsheets?\n",
    "\n",
    "# Sol :\n",
    "\n",
    "#   1. Excel file formats are better to storing the data and manipulate the data\n",
    "\n",
    "#   2. Excel can do the operations on data by using macros, formula e.t.c.\n",
    "\n",
    "#   3. But csv is a plain text files doesn't contain the macros, formulas e.t.c."
   ]
  },
  {
   "cell_type": "code",
   "execution_count": 2,
   "id": "93b78b07",
   "metadata": {},
   "outputs": [],
   "source": [
    "# 2.What do you pass to csv.reader() and csv.writer() to create reader and writer objects?\n",
    "\n",
    "# Sol :\n",
    "\n",
    "import csv\n",
    "record = ['Surya', 'Krishna', 'Venkat']\n",
    "records = [['Surya', 'Krishna', 'Venkat'],\n",
    "           ['Surya', 'Krishna', 'Venkat'],\n",
    "           ['Surya', 'Krishna', 'Venkat']]\n",
    "with open('first.csv', 'w') as file:\n",
    "    k = csv.writer(file) # pass the filename\n",
    "    k.writerow(record)\n",
    "    k.writerows(records)"
   ]
  },
  {
   "cell_type": "code",
   "execution_count": 3,
   "id": "ee97397d",
   "metadata": {},
   "outputs": [
    {
     "name": "stdout",
     "output_type": "stream",
     "text": [
      "['Surya', 'Krishna', 'Venkat']\n",
      "[]\n",
      "['Surya', 'Krishna', 'Venkat']\n",
      "[]\n",
      "['Surya', 'Krishna', 'Venkat']\n",
      "[]\n",
      "['Surya', 'Krishna', 'Venkat']\n",
      "[]\n"
     ]
    }
   ],
   "source": [
    "with open('first.csv', 'r') as file:\n",
    "    k = csv.reader(file, delimiter= ',')\n",
    "    for i in k:\n",
    "        print(i)"
   ]
  },
  {
   "cell_type": "code",
   "execution_count": 4,
   "id": "c8327859",
   "metadata": {},
   "outputs": [],
   "source": [
    "# 3. What modes do File objects for reader and writer objects need to be opened in?\n",
    "\n",
    "# Sol :\n",
    "\n",
    "#    csv.reader(file) file objects needed to be opened in read mode i.e mode = 'r'\n",
    "\n",
    "#    csv.writer(file) file objects needed to be opened in write mode i.e mode = 'w'"
   ]
  },
  {
   "cell_type": "code",
   "execution_count": 5,
   "id": "fabdd797",
   "metadata": {},
   "outputs": [],
   "source": [
    "# 4. What method takes a list argument and writes it to a CSV file?\n",
    "\n",
    "# Sol : \n",
    "\n",
    "#    csv has two methods to take a list arugument and writing into csv file\n",
    "\n",
    "#    writerow() is used to write a single row \n",
    "\n",
    "#    writerows() is used to write mutliple rows at a time"
   ]
  },
  {
   "cell_type": "code",
   "execution_count": 6,
   "id": "3db93f49",
   "metadata": {},
   "outputs": [],
   "source": [
    "# Example\n",
    "\n",
    "import csv\n",
    "record = ['Surya', 'Krishna', 'Venkat']\n",
    "records = [['Surya', 'Krishna', 'Venkat'],\n",
    "           ['Surya', 'Krishna', 'Venkat'],\n",
    "           ['Surya', 'Krishna', 'Venkat']]\n",
    "with open('first.csv', 'w') as file:\n",
    "    k = csv.writer(file) # pass the filename\n",
    "    k.writerow(record)\n",
    "    k.writerows(records)"
   ]
  },
  {
   "cell_type": "code",
   "execution_count": 7,
   "id": "e8441190",
   "metadata": {},
   "outputs": [],
   "source": [
    "# 5. What do the keyword arguments delimiter and line terminator do?\n",
    "\n",
    "# Sol : \n",
    "\n",
    "#   For Example\n",
    "\n",
    "#   name, age, balance\n",
    "\n",
    "#   vishnu, 21, 45000\n",
    "\n",
    "#   sai, 25, 20000\n",
    "\n",
    "# Here ',' is  a delimiter it is seprating the data\n",
    "\n",
    "# Line Terminator is at the end of the line by default it is new line, you can change the line terminator\n",
    "\n",
    "#  as per requirement"
   ]
  },
  {
   "cell_type": "code",
   "execution_count": 8,
   "id": "5c0dfdb1",
   "metadata": {},
   "outputs": [
    {
     "name": "stdout",
     "output_type": "stream",
     "text": [
      "{\n",
      "\"name\" : \"sai\", \"age\" : 34, \"Profession\" : \"Data Scientist\"\n",
      "}\n",
      "Type of k : <class 'str'>\n",
      "{'name': 'sai', 'age': 34, 'Profession': 'Data Scientist'}\n",
      "Type of h :  <class 'dict'>\n"
     ]
    }
   ],
   "source": [
    "# 6. What function takes a string of JSON data and returns a Python data structure?\n",
    "\n",
    "# Sol :\n",
    "\n",
    "#     loads() method takes the string of JSON data and returns a Python data structure\n",
    "\n",
    "#   For Example\n",
    "\n",
    "k = '''{\n",
    "\"name\" : \"sai\", \"age\" : 34, \"Profession\" : \"Data Scientist\"\n",
    "}'''\n",
    "\n",
    "print(k)\n",
    "\n",
    "print('Type of k :', type(k))\n",
    "\n",
    "import json\n",
    "\n",
    "h = json.loads(k)\n",
    "\n",
    "print(h)\n",
    "\n",
    "print('Type of h : ', type(h))"
   ]
  },
  {
   "cell_type": "code",
   "execution_count": 9,
   "id": "f6e74361",
   "metadata": {},
   "outputs": [
    {
     "name": "stdout",
     "output_type": "stream",
     "text": [
      "{'name': 'sai', 'age': 34, 'Profession': 'Data Scientist'}\n",
      "Type of k : <class 'dict'>\n",
      "{\"name\": \"sai\", \"age\": 34, \"Profession\": \"Data Scientist\"}\n",
      "Type of h :  <class 'str'>\n"
     ]
    }
   ],
   "source": [
    "# 7. What function takes a Python data structure and returns a string of JSON data?\n",
    "\n",
    "# Sol : \n",
    "\n",
    "#     dump() method takes a python structure and returns a string of JSON data\n",
    "\n",
    "k = {\n",
    "\"name\" : \"sai\", \"age\" : 34, \"Profession\" : \"Data Scientist\"\n",
    "}\n",
    "\n",
    "print(k)\n",
    "\n",
    "print('Type of k :', type(k))\n",
    "\n",
    "import json\n",
    "\n",
    "h = json.dumps(k)\n",
    "\n",
    "print(h)\n",
    "\n",
    "print('Type of h : ', type(h))"
   ]
  },
  {
   "cell_type": "code",
   "execution_count": null,
   "id": "68f0c694",
   "metadata": {},
   "outputs": [],
   "source": []
  },
  {
   "cell_type": "code",
   "execution_count": null,
   "id": "eed8a99f",
   "metadata": {},
   "outputs": [],
   "source": []
  },
  {
   "cell_type": "code",
   "execution_count": null,
   "id": "08817c37",
   "metadata": {},
   "outputs": [],
   "source": []
  },
  {
   "cell_type": "code",
   "execution_count": null,
   "id": "1582915e",
   "metadata": {},
   "outputs": [],
   "source": []
  }
 ],
 "metadata": {
  "kernelspec": {
   "display_name": "Python 3 (ipykernel)",
   "language": "python",
   "name": "python3"
  },
  "language_info": {
   "codemirror_mode": {
    "name": "ipython",
    "version": 3
   },
   "file_extension": ".py",
   "mimetype": "text/x-python",
   "name": "python",
   "nbconvert_exporter": "python",
   "pygments_lexer": "ipython3",
   "version": "3.9.12"
  }
 },
 "nbformat": 4,
 "nbformat_minor": 5
}
