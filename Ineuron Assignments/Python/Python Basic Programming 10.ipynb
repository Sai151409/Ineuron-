{
 "cells": [
  {
   "cell_type": "code",
   "execution_count": 1,
   "id": "df9fb60f",
   "metadata": {},
   "outputs": [],
   "source": [
    "# 1. How do you distinguish between shutil.copy() and shutil.copytree()?\n",
    "\n",
    "# Sol :\n",
    "\n",
    "#    shutil.copy() method is used to copy the content of file from one file to another file\n",
    "\n",
    "#   Similarly shutil.copytree() is used to copy the content of entire folder from one folder to another folder\n",
    "\n",
    "#   Both methods have two arguments src, dst\n",
    "\n",
    "#   src - location of file to copied\n",
    "\n",
    "#   dst - location of file where src data should be copied"
   ]
  },
  {
   "cell_type": "code",
   "execution_count": 2,
   "id": "cba11355",
   "metadata": {},
   "outputs": [],
   "source": [
    "# 2. What function is used to rename files?\n",
    "\n",
    "# Sol :\n",
    "\n",
    "#     In python programming we use os.rename() method to rename the files, this function takes two argumemts src, dst\n",
    "\n",
    "#     src - file name which we want to rename \n",
    "\n",
    "#     dst - new name of the file directory"
   ]
  },
  {
   "cell_type": "code",
   "execution_count": 3,
   "id": "1eebbd9f",
   "metadata": {},
   "outputs": [],
   "source": [
    "# 3. What is the difference between the delete functions in the send2trash and shutil modules?\n",
    "\n",
    "# Sol :\n",
    "\n",
    "#    Shutil modules provide a function called shutil.rmtree() which deletes the entire file and directory just like \n",
    "\n",
    "#    os.remove() - remove the file, os.rmdir() - remove a empty directory\n",
    "\n",
    "#    For instance if you delete the entire folder acciendently its not possible to recover the files\n",
    "\n",
    "\n",
    "#   send2trash module provides a method called send2trash.send2trash(). It deletes the enrite files and directory just like\n",
    "\n",
    "#   shutil.rmtree. Even if you delete the file accidentally you can recover the files from the trash\n",
    "\n",
    "#   But send2trash is not a standard python library. We have to install the module explictly by using pip command\n",
    "\n",
    "#   !pip install send2trash"
   ]
  },
  {
   "cell_type": "code",
   "execution_count": 4,
   "id": "d6fcd2c7",
   "metadata": {},
   "outputs": [],
   "source": [
    "# 4.ZipFile objects have a close() method just like File objects’ close() method. \n",
    "#   What ZipFile method is equivalent to File objects’ open() method?\n",
    "\n",
    "# Sol :\n",
    "\n",
    "#   ZipFile module provides a method called zipfile.zipFile() to read and write to zip files. It takes the arguments just like\n",
    "\n",
    "#   filename, mode\n",
    "\n",
    "#   Syntax :\n",
    "\n",
    "#      zipfile.ZipFile(filename, mode = 'r')"
   ]
  },
  {
   "cell_type": "code",
   "execution_count": 20,
   "id": "1aa14d16",
   "metadata": {},
   "outputs": [],
   "source": [
    "# 5. Create a programme that searches a folder tree for files with a certain file extension (such as .pdf or .jpg).\n",
    "#    Copy these files from whatever location they are in to a new folder\n",
    "\n",
    "# Sol :\n",
    "\n",
    "import os\n",
    "import shutil\n",
    "\n",
    "def search_copy(source, destination, extensions) :\n",
    "    source = os.path.abspath(source)\n",
    "    destination = os.path.abspath(destination)\n",
    "    for folder, subfolder, filenames in os.walk(source) : \n",
    "        for filename in filenames:\n",
    "            fileName, Extension = os.path.splitext(filename)\n",
    "            if Extension in extensions:\n",
    "                targetFile = folder + os.path.sep + fileName + Extension\n",
    "                shutil.copy(targetFile, destination)\n",
    "        print(f'Files Copied Sucessfully')"
   ]
  },
  {
   "cell_type": "code",
   "execution_count": 21,
   "id": "27352c9e",
   "metadata": {},
   "outputs": [],
   "source": [
    "source = 'C:/Users/ASUS/All in one/Ineuron/Python All Assignments'"
   ]
  },
  {
   "cell_type": "code",
   "execution_count": 22,
   "id": "c919c266",
   "metadata": {},
   "outputs": [],
   "source": [
    "destination = 'Assignment Folder'"
   ]
  },
  {
   "cell_type": "code",
   "execution_count": 23,
   "id": "37e4528d",
   "metadata": {},
   "outputs": [],
   "source": [
    "extensions = ['.docx', '.pdf']"
   ]
  },
  {
   "cell_type": "code",
   "execution_count": 24,
   "id": "4338b49a",
   "metadata": {},
   "outputs": [
    {
     "name": "stdout",
     "output_type": "stream",
     "text": [
      "Files Copied Sucessfully\n",
      "Files Copied Sucessfully\n",
      "Files Copied Sucessfully\n",
      "Files Copied Sucessfully\n",
      "Files Copied Sucessfully\n"
     ]
    }
   ],
   "source": [
    "search_copy(source, destination, extensions)"
   ]
  },
  {
   "cell_type": "code",
   "execution_count": null,
   "id": "77668d6a",
   "metadata": {},
   "outputs": [],
   "source": []
  }
 ],
 "metadata": {
  "kernelspec": {
   "display_name": "Python 3 (ipykernel)",
   "language": "python",
   "name": "python3"
  },
  "language_info": {
   "codemirror_mode": {
    "name": "ipython",
    "version": 3
   },
   "file_extension": ".py",
   "mimetype": "text/x-python",
   "name": "python",
   "nbconvert_exporter": "python",
   "pygments_lexer": "ipython3",
   "version": "3.9.7"
  }
 },
 "nbformat": 4,
 "nbformat_minor": 5
}
