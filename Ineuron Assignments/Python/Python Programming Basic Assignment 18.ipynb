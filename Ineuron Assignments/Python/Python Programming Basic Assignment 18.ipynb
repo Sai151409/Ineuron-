{
 "cells": [
  {
   "cell_type": "code",
   "execution_count": 1,
   "id": "7e1a695d",
   "metadata": {},
   "outputs": [],
   "source": [
    "# Q1. Create a function that takes a list of non-negative integers and strings and return a new list without the strings.\n",
    "#     Examples : \n",
    "#          filter_list([1, 2, 'a', 'b']) ➞ [1, 2]\n",
    "#          filter_list([1, 'a', 'b', 0, 15]) ➞ [1, 0, 15]\n",
    "#          filter_list([1, 2, 'aasf', '1', '123', 123]) ➞ [1, 2, 123]\n",
    "\n",
    "# Sol : \n",
    "\n",
    "def filter_list(list1):\n",
    "    try:\n",
    "        k = []\n",
    "        if type(list1) == list:\n",
    "            for i in list1:\n",
    "                if type(i) == int:\n",
    "                    k.append(i)\n",
    "        return k\n",
    "    except Exception as e:\n",
    "        print('The error has occured')\n",
    "        print('The error is  : ', e)"
   ]
  },
  {
   "cell_type": "code",
   "execution_count": 2,
   "id": "bf03f24a",
   "metadata": {},
   "outputs": [
    {
     "data": {
      "text/plain": [
       "[1, 2]"
      ]
     },
     "execution_count": 2,
     "metadata": {},
     "output_type": "execute_result"
    }
   ],
   "source": [
    "filter_list([1, 2, 'a', 'b'])"
   ]
  },
  {
   "cell_type": "code",
   "execution_count": 3,
   "id": "6d2a8301",
   "metadata": {},
   "outputs": [
    {
     "data": {
      "text/plain": [
       "[1, 0, 15]"
      ]
     },
     "execution_count": 3,
     "metadata": {},
     "output_type": "execute_result"
    }
   ],
   "source": [
    "filter_list([1, 'a', 'b', 0, 15])"
   ]
  },
  {
   "cell_type": "code",
   "execution_count": 4,
   "id": "1370835f",
   "metadata": {},
   "outputs": [
    {
     "data": {
      "text/plain": [
       "[1, 2, 123]"
      ]
     },
     "execution_count": 4,
     "metadata": {},
     "output_type": "execute_result"
    }
   ],
   "source": [
    "filter_list([1, 2, 'aasf', '1', '123', 123])"
   ]
  },
  {
   "cell_type": "code",
   "execution_count": 5,
   "id": "0ede30be",
   "metadata": {},
   "outputs": [],
   "source": [
    "# Q2. The'Reverser' takes a string as input and returns that string in reverse order, with the opposite case.\n",
    "#     Examples : \n",
    "#         reverse('Hello World') ➞'DLROw OLLEh'\n",
    "#         reverse('ReVeRsE') ➞'eSrEvEr'\n",
    "#         reverse('Radar') ➞'RADAr'\n",
    "\n",
    "# Sol :\n",
    "\n",
    "def reverse(string):\n",
    "    try:\n",
    "        if type(string) == str:\n",
    "            k = string[::-1]\n",
    "            k = k.swapcase()\n",
    "            return k\n",
    "    except Exception as e:\n",
    "        PRINT('The error has occured')\n",
    "        print('The error is  : ', e)"
   ]
  },
  {
   "cell_type": "code",
   "execution_count": 6,
   "id": "773b3e69",
   "metadata": {},
   "outputs": [
    {
     "data": {
      "text/plain": [
       "'DLROw OLLEh'"
      ]
     },
     "execution_count": 6,
     "metadata": {},
     "output_type": "execute_result"
    }
   ],
   "source": [
    "reverse('Hello World')"
   ]
  },
  {
   "cell_type": "code",
   "execution_count": 7,
   "id": "3fb9aaf8",
   "metadata": {},
   "outputs": [
    {
     "data": {
      "text/plain": [
       "'eSrEvEr'"
      ]
     },
     "execution_count": 7,
     "metadata": {},
     "output_type": "execute_result"
    }
   ],
   "source": [
    "reverse('ReVeRsE')"
   ]
  },
  {
   "cell_type": "code",
   "execution_count": 8,
   "id": "5dce7e5d",
   "metadata": {},
   "outputs": [
    {
     "data": {
      "text/plain": [
       "'RADAr'"
      ]
     },
     "execution_count": 8,
     "metadata": {},
     "output_type": "execute_result"
    }
   ],
   "source": [
    "reverse('Radar')"
   ]
  },
  {
   "cell_type": "code",
   "execution_count": 9,
   "id": "ce05955e",
   "metadata": {},
   "outputs": [],
   "source": [
    "# Q3. You can assign variables from lists like this:\n",
    "#     lst = [1, 2, 3, 4, 5, 6]\n",
    "#     first = lst[0]\n",
    "#     middle = lst[1:-1]\n",
    "#     last = lst[-1]\n",
    "#     print(first) ➞ outputs 1\n",
    "#     print(middle) ➞ outputs [2, 3, 4, 5]\n",
    "#     print(last) ➞ outputs 6\n",
    "#     With Python 3, you can assign variables from lists in a much more succinct way. Create\n",
    "#     variables first, middle and last from the given list using destructuring assignment\n",
    "#     (check the Resources tab for some examples), where:\n",
    "#     first ➞ 1\n",
    "#     middle ➞ [2, 3, 4, 5]\n",
    "#     last ➞ 6\n",
    "#     Your task is to unpack the list writeyourcodehere into three variables, being first,\n",
    "#     middle, and last, with middle being everything in between the first and last element. Then\n",
    "#     print all three variables.\n",
    "\n",
    "def unpack(ls):\n",
    "    try:\n",
    "        if type(ls) == list:\n",
    "            print('First -', ls[0])\n",
    "            print('Middle -', ls[1:-1])\n",
    "            print('Last -', ls[-1])\n",
    "        \n",
    "    except Exception as e:\n",
    "        print('The error has occured')\n",
    "        print('The error is : ', e)"
   ]
  },
  {
   "cell_type": "code",
   "execution_count": 10,
   "id": "8b3704f9",
   "metadata": {},
   "outputs": [
    {
     "name": "stdout",
     "output_type": "stream",
     "text": [
      "First - 1\n",
      "Middle - [2, 3, 4, 5]\n",
      "Last - 6\n"
     ]
    }
   ],
   "source": [
    "l = [1,2,3,4,5,6]\n",
    "\n",
    "unpack(l)"
   ]
  },
  {
   "cell_type": "code",
   "execution_count": 11,
   "id": "4263448a",
   "metadata": {},
   "outputs": [],
   "source": [
    "# Q4. Write a function that calculates the factorial of a number recursively.\n",
    "#     Examples : \n",
    "#        factorial(5) ➞ 120\n",
    "#        factorial(3) ➞ 6\n",
    "#        factorial(1) ➞ 1\n",
    "#        factorial(0) ➞ 1\n",
    "\n",
    "# Sol :\n",
    "\n",
    "def factorial(n):\n",
    "    try:\n",
    "        if n == 0:\n",
    "            return 1\n",
    "        else:\n",
    "            return n * factorial(n-1)\n",
    "    except Exception as e:\n",
    "        print('The error has occured')\n",
    "        print('The error is : ', e)"
   ]
  },
  {
   "cell_type": "code",
   "execution_count": 12,
   "id": "a6859a8b",
   "metadata": {},
   "outputs": [
    {
     "data": {
      "text/plain": [
       "120"
      ]
     },
     "execution_count": 12,
     "metadata": {},
     "output_type": "execute_result"
    }
   ],
   "source": [
    "factorial(5)"
   ]
  },
  {
   "cell_type": "code",
   "execution_count": 13,
   "id": "824217cb",
   "metadata": {},
   "outputs": [
    {
     "data": {
      "text/plain": [
       "6"
      ]
     },
     "execution_count": 13,
     "metadata": {},
     "output_type": "execute_result"
    }
   ],
   "source": [
    "factorial(3)"
   ]
  },
  {
   "cell_type": "code",
   "execution_count": 14,
   "id": "bdaed8b1",
   "metadata": {},
   "outputs": [
    {
     "data": {
      "text/plain": [
       "1"
      ]
     },
     "execution_count": 14,
     "metadata": {},
     "output_type": "execute_result"
    }
   ],
   "source": [
    "factorial(1)"
   ]
  },
  {
   "cell_type": "code",
   "execution_count": 15,
   "id": "ca9489fa",
   "metadata": {},
   "outputs": [
    {
     "data": {
      "text/plain": [
       "1"
      ]
     },
     "execution_count": 15,
     "metadata": {},
     "output_type": "execute_result"
    }
   ],
   "source": [
    "factorial(0)"
   ]
  },
  {
   "cell_type": "code",
   "execution_count": 16,
   "id": "f9bacf3a",
   "metadata": {},
   "outputs": [],
   "source": [
    "# Q5. Write a function that moves all elements of one type to the end of the list.\n",
    "#     Examples\n",
    "#     move_to_end([1, 3, 2, 4, 4, 1], 1) ➞ [3, 2, 4, 4, 1, 1]\n",
    "#     Move all the 1s to the end of the array.\n",
    "#     move_to_end([7, 8, 9, 1, 2, 3, 4], 9) ➞ [7, 8, 1, 2, 3, 4, 9]\n",
    "#     move_to_end(['a','a', 'a', 'b'], 'a') ➞ ['b', 'a', 'a', 'a']\n",
    "\n",
    "# Sol :\n",
    "\n",
    "def move_to_end(ls, a):\n",
    "    try:\n",
    "        k = []\n",
    "        count = 0\n",
    "        for i in ls:\n",
    "            if i != a:\n",
    "                k.append(i)\n",
    "            else:\n",
    "                count += 1\n",
    "        \n",
    "        k += [a] * count \n",
    "        \n",
    "        return k\n",
    "    except Exception as e:\n",
    "        print('The error has occured')\n",
    "        print('The error is : ', e)"
   ]
  },
  {
   "cell_type": "code",
   "execution_count": 17,
   "id": "1cb18374",
   "metadata": {},
   "outputs": [
    {
     "data": {
      "text/plain": [
       "[3, 2, 4, 4, 1, 1]"
      ]
     },
     "execution_count": 17,
     "metadata": {},
     "output_type": "execute_result"
    }
   ],
   "source": [
    "move_to_end([1, 3, 2, 4, 4, 1], 1)"
   ]
  },
  {
   "cell_type": "code",
   "execution_count": 18,
   "id": "28b9f605",
   "metadata": {},
   "outputs": [
    {
     "data": {
      "text/plain": [
       "[7, 8, 1, 2, 3, 4, 9]"
      ]
     },
     "execution_count": 18,
     "metadata": {},
     "output_type": "execute_result"
    }
   ],
   "source": [
    "move_to_end([7, 8, 9, 1, 2, 3, 4], 9)"
   ]
  },
  {
   "cell_type": "code",
   "execution_count": 19,
   "id": "1e80a5a4",
   "metadata": {},
   "outputs": [
    {
     "data": {
      "text/plain": [
       "['b', 'a', 'a', 'a']"
      ]
     },
     "execution_count": 19,
     "metadata": {},
     "output_type": "execute_result"
    }
   ],
   "source": [
    "move_to_end(['a','a', 'a', 'b'], 'a')"
   ]
  },
  {
   "cell_type": "code",
   "execution_count": null,
   "id": "cef228a5",
   "metadata": {},
   "outputs": [],
   "source": []
  },
  {
   "cell_type": "code",
   "execution_count": null,
   "id": "1065b6b9",
   "metadata": {},
   "outputs": [],
   "source": []
  },
  {
   "cell_type": "code",
   "execution_count": null,
   "id": "d0ebc292",
   "metadata": {},
   "outputs": [],
   "source": []
  },
  {
   "cell_type": "code",
   "execution_count": null,
   "id": "8258531d",
   "metadata": {},
   "outputs": [],
   "source": []
  }
 ],
 "metadata": {
  "kernelspec": {
   "display_name": "Python 3 (ipykernel)",
   "language": "python",
   "name": "python3"
  },
  "language_info": {
   "codemirror_mode": {
    "name": "ipython",
    "version": 3
   },
   "file_extension": ".py",
   "mimetype": "text/x-python",
   "name": "python",
   "nbconvert_exporter": "python",
   "pygments_lexer": "ipython3",
   "version": "3.9.7"
  }
 },
 "nbformat": 4,
 "nbformat_minor": 5
}
