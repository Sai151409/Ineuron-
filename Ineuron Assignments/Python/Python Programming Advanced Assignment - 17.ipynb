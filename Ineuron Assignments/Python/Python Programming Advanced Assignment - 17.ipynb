{
 "cells": [
  {
   "cell_type": "code",
   "execution_count": 1,
   "id": "a6fdb163",
   "metadata": {},
   "outputs": [],
   "source": [
    "# 1. Create a function that transposes a 2D matrix.\n",
    "#    Examples:\n",
    "\n",
    "#    transpose_matrix([ [1, 1, 1], [2, 2, 2], [3, 3, 3] ]) ➞ [ [1, 2, 3], [1, 2, 3], [1, 2, 3] ]\n",
    "\n",
    "#    transpose_matrix([ [5, 5], [6, 7], [9, 1] ]) ➞ [ [5, 6, 9], [5, 7, 1] ]\n",
    "\n",
    "def transpose_matrix(matrix):\n",
    "    try:\n",
    "        output = []\n",
    "        for i in range(len(matrix[0])):\n",
    "            result = []\n",
    "            for j in range(len(matrix)):\n",
    "                result.append(matrix[j][i])\n",
    "            output.append(result)\n",
    "        return output\n",
    "    except Exception as e:\n",
    "        return e"
   ]
  },
  {
   "cell_type": "code",
   "execution_count": 2,
   "id": "bb71817b",
   "metadata": {},
   "outputs": [
    {
     "data": {
      "text/plain": [
       "[[1, 2, 3], [1, 2, 3], [1, 2, 3]]"
      ]
     },
     "execution_count": 2,
     "metadata": {},
     "output_type": "execute_result"
    }
   ],
   "source": [
    "transpose_matrix([ [1, 1, 1], [2, 2, 2], [3, 3, 3] ])"
   ]
  },
  {
   "cell_type": "code",
   "execution_count": 3,
   "id": "dc5b0881",
   "metadata": {},
   "outputs": [
    {
     "data": {
      "text/plain": [
       "[[5, 6, 9], [5, 7, 1]]"
      ]
     },
     "execution_count": 3,
     "metadata": {},
     "output_type": "execute_result"
    }
   ],
   "source": [
    "transpose_matrix([[5, 5], [6, 7], [9, 1]])"
   ]
  },
  {
   "cell_type": "code",
   "execution_count": 4,
   "id": "33e200d4",
   "metadata": {},
   "outputs": [],
   "source": [
    "# 2. Create a function that determines whether a string is a valid hex code.\n",
    "#    A hex code must begin with a pound key # and is exactly 6 characters in length. Each character must be a digit from 0-9 or \n",
    "#    an alphabetic character from A-F. All alphabetic characters may be uppercase or lowercase.\n",
    "\n",
    "#    Examples:\n",
    "#    is_valid_hex_code(\"#CD5C5C\") ➞ True\n",
    "#    is_valid_hex_code(\"#EAECEE\") ➞ True\n",
    "#    is_valid_hex_code(\"#eaecee\") ➞ True\n",
    "\n",
    "#    is_valid_hex_code(\"#CD5C58C\") ➞ False\n",
    "#    Length exceeds 6\n",
    "\n",
    "#    is_valid_hex_code(\"#CD5C5Z\") ➞ False\n",
    "#    Not all alphabetic characters in A-F\n",
    "\n",
    "#    is_valid_hex_code(\"#CD5C&C\") ➞ False\n",
    "#    Contains unacceptable character\n",
    "\n",
    "#    is_valid_hex_code(\"CD5C5C\") ➞ False\n",
    "#    Missing #\n",
    "\n",
    "# Sol :\n",
    "\n",
    "def is_valid_hex_code(string):\n",
    "    try:\n",
    "        output = True\n",
    "        if string[0] == \"#\" and len(string[1:]) == 6:\n",
    "            for i in string[1:]:\n",
    "                if i.isdigit():\n",
    "                    if int(i) in [k for k in range(10)]:\n",
    "                        continue\n",
    "                    else:\n",
    "                        output = False\n",
    "                        break\n",
    "                else:\n",
    "                    if i.upper() in [chr(j) for j in range(65, 71)]:\n",
    "                        continue\n",
    "                    else:\n",
    "                        output = False\n",
    "                        break\n",
    "        else:\n",
    "            output = False\n",
    "        return output\n",
    "    except Exception as e:\n",
    "        return e"
   ]
  },
  {
   "cell_type": "code",
   "execution_count": 5,
   "id": "167bc112",
   "metadata": {},
   "outputs": [
    {
     "data": {
      "text/plain": [
       "True"
      ]
     },
     "execution_count": 5,
     "metadata": {},
     "output_type": "execute_result"
    }
   ],
   "source": [
    "is_valid_hex_code(\"#CD5C5C\")"
   ]
  },
  {
   "cell_type": "code",
   "execution_count": 6,
   "id": "894f9ee4",
   "metadata": {},
   "outputs": [
    {
     "data": {
      "text/plain": [
       "True"
      ]
     },
     "execution_count": 6,
     "metadata": {},
     "output_type": "execute_result"
    }
   ],
   "source": [
    "is_valid_hex_code(\"#EAECEE\")"
   ]
  },
  {
   "cell_type": "code",
   "execution_count": 7,
   "id": "cd0cfe1c",
   "metadata": {},
   "outputs": [
    {
     "data": {
      "text/plain": [
       "True"
      ]
     },
     "execution_count": 7,
     "metadata": {},
     "output_type": "execute_result"
    }
   ],
   "source": [
    "is_valid_hex_code(\"#eaecee\")"
   ]
  },
  {
   "cell_type": "code",
   "execution_count": 8,
   "id": "67ff6b6b",
   "metadata": {},
   "outputs": [
    {
     "data": {
      "text/plain": [
       "False"
      ]
     },
     "execution_count": 8,
     "metadata": {},
     "output_type": "execute_result"
    }
   ],
   "source": [
    "is_valid_hex_code(\"#CD5C58C\")"
   ]
  },
  {
   "cell_type": "code",
   "execution_count": 9,
   "id": "23f2f638",
   "metadata": {},
   "outputs": [
    {
     "data": {
      "text/plain": [
       "False"
      ]
     },
     "execution_count": 9,
     "metadata": {},
     "output_type": "execute_result"
    }
   ],
   "source": [
    "is_valid_hex_code(\"#CD5C5Z\")"
   ]
  },
  {
   "cell_type": "code",
   "execution_count": 10,
   "id": "2c717eb0",
   "metadata": {},
   "outputs": [
    {
     "data": {
      "text/plain": [
       "False"
      ]
     },
     "execution_count": 10,
     "metadata": {},
     "output_type": "execute_result"
    }
   ],
   "source": [
    "is_valid_hex_code(\"#CD5C&C\")"
   ]
  },
  {
   "cell_type": "code",
   "execution_count": 11,
   "id": "a3f418c4",
   "metadata": {},
   "outputs": [
    {
     "data": {
      "text/plain": [
       "False"
      ]
     },
     "execution_count": 11,
     "metadata": {},
     "output_type": "execute_result"
    }
   ],
   "source": [
    "is_valid_hex_code(\"CD5C5C\")"
   ]
  },
  {
   "cell_type": "code",
   "execution_count": 12,
   "id": "43949fa6",
   "metadata": {},
   "outputs": [],
   "source": [
    "# 3. Given a list of math equations (given as strings), return the percentage of correct answers as a string. Round to the \n",
    "#    nearest whole number.\n",
    "#    Examples:\n",
    "#       mark_maths([\"2+2=4\", \"3+2=5\", \"10-3=3\", \"5+5=10\"]) ➞ \"75%\"\n",
    "#       mark_maths([\"1-2=-2\"]), \"0%\"\n",
    "#       mark_maths([\"2+3=5\", \"4+4=9\", \"3-1=2\"]) ➞ \"67%\""
   ]
  },
  {
   "cell_type": "code",
   "execution_count": 13,
   "id": "7bbace93",
   "metadata": {},
   "outputs": [],
   "source": [
    "def mark_maths(equ_lst):\n",
    "    try:\n",
    "        result = 0\n",
    "        for i in equ_lst:\n",
    "            if eval(i.split(\"=\")[0]) == int(i.split(\"=\")[1]):\n",
    "                result += 1\n",
    "        return f'{int(round(((result/len(equ_lst))*100), 0))}%'\n",
    "    except Exception as e:\n",
    "        return e"
   ]
  },
  {
   "cell_type": "code",
   "execution_count": 14,
   "id": "29684efe",
   "metadata": {},
   "outputs": [
    {
     "data": {
      "text/plain": [
       "'75%'"
      ]
     },
     "execution_count": 14,
     "metadata": {},
     "output_type": "execute_result"
    }
   ],
   "source": [
    "mark_maths([\"2+2=4\", \"3+2=5\", \"10-3=3\", \"5+5=10\"])"
   ]
  },
  {
   "cell_type": "code",
   "execution_count": 15,
   "id": "5fd6133e",
   "metadata": {},
   "outputs": [
    {
     "data": {
      "text/plain": [
       "'0%'"
      ]
     },
     "execution_count": 15,
     "metadata": {},
     "output_type": "execute_result"
    }
   ],
   "source": [
    "mark_maths([\"1-2=-2\"])"
   ]
  },
  {
   "cell_type": "code",
   "execution_count": 16,
   "id": "1159f53e",
   "metadata": {},
   "outputs": [
    {
     "data": {
      "text/plain": [
       "'67%'"
      ]
     },
     "execution_count": 16,
     "metadata": {},
     "output_type": "execute_result"
    }
   ],
   "source": [
    "mark_maths([\"2+3=5\", \"4+4=9\", \"3-1=2\"])"
   ]
  },
  {
   "cell_type": "code",
   "execution_count": 17,
   "id": "d9234137",
   "metadata": {},
   "outputs": [],
   "source": [
    "# 4. There are two players, Alice and Bob, each with a 3-by-3 grid. A referee tells Alice to fill out one particular row in the \n",
    "#    grid (say the second row) by putting either a 1 or a 0 in each box, such that the sum of the numbers in that row is odd. \n",
    "#    The referee tells Bob to fill out one column in the grid (say the first column) by putting either a 1 or a 0 in each box, \n",
    "#    such that the sum of the numbers in that column is even. Alice and Bob win the game if Alice’s numbers give an odd sum, \n",
    "#    Bob’s give an even sum, and (most important) they’ve each written down the same number in the one square where their row  \n",
    "#    and column intersect.\n",
    "\n",
    "#    Examples:\n",
    "#    magic_square_game([2, \"100\"], [1, \"101\"]) ➞ False\n",
    "#    magic_square_game([2, \"001\"], [1, \"101\"]) ➞ True\n",
    "#    magic_square_game([3, \"111\"], [2, \"011\"]) ➞ True\n",
    "#    magic_square_game([1, \"010\"], [3, \"101\"]) ➞ False\n",
    "#    Two lists, Alice [row, \"her choice\"], Bob [column, \"his choice\"]\n",
    "\n",
    "# Sol :\n",
    "\n",
    "def magic_square_game(lst1, lst2):\n",
    "    try:\n",
    "        output = False\n",
    "        if lst2[1][lst1[0]-1] == lst1[1][lst2[0]-1]:\n",
    "            output = True\n",
    "        return output\n",
    "    except Exception as e:\n",
    "        return e"
   ]
  },
  {
   "cell_type": "code",
   "execution_count": 18,
   "id": "8637e50e",
   "metadata": {},
   "outputs": [
    {
     "data": {
      "text/plain": [
       "False"
      ]
     },
     "execution_count": 18,
     "metadata": {},
     "output_type": "execute_result"
    }
   ],
   "source": [
    "magic_square_game([2, \"100\"], [1, \"101\"])"
   ]
  },
  {
   "cell_type": "code",
   "execution_count": 19,
   "id": "0d8abb4f",
   "metadata": {},
   "outputs": [
    {
     "data": {
      "text/plain": [
       "True"
      ]
     },
     "execution_count": 19,
     "metadata": {},
     "output_type": "execute_result"
    }
   ],
   "source": [
    "magic_square_game([2, \"001\"], [1, \"101\"])"
   ]
  },
  {
   "cell_type": "code",
   "execution_count": 20,
   "id": "fe4c01d8",
   "metadata": {},
   "outputs": [
    {
     "data": {
      "text/plain": [
       "True"
      ]
     },
     "execution_count": 20,
     "metadata": {},
     "output_type": "execute_result"
    }
   ],
   "source": [
    "magic_square_game([3, \"111\"], [2, \"011\"])"
   ]
  },
  {
   "cell_type": "code",
   "execution_count": 21,
   "id": "7c1c4a04",
   "metadata": {},
   "outputs": [
    {
     "data": {
      "text/plain": [
       "False"
      ]
     },
     "execution_count": 21,
     "metadata": {},
     "output_type": "execute_result"
    }
   ],
   "source": [
    "magic_square_game([1, \"010\"], [3, \"101\"])"
   ]
  },
  {
   "cell_type": "code",
   "execution_count": 22,
   "id": "c2642e58",
   "metadata": {},
   "outputs": [],
   "source": [
    "# 5. From point A, an object is moving towards point B at constant velocity va (in km/hr). From point B, another object is \n",
    "#    moving towards point A at constant velocity vb (in km/hr). Knowing this and the distance between point A and B (in km), \n",
    "#    write a function that returns how much time passes until both objects meet.\n",
    "#    Format the output like this: \"2h 23min 34s\"\n",
    "\n",
    "#    Examples:\n",
    "#       lets_meet(100, 10, 30) ➞ \"2h 30min 0s\"\n",
    "#       lets_meet(280, 70, 80) ➞ \"1h 52min 0s\"\n",
    "#       lets_meet(90, 75, 65) ➞ \"0h 38min 34s\"\n",
    "\n",
    "# Sol :\n",
    "\n",
    "import math\n",
    "def lets_meet(dis, va, vb):\n",
    "    try:\n",
    "        time = dis/(va+vb)\n",
    "        hour = math.floor(time)\n",
    "        minute = math.floor((time-hour)*60)\n",
    "        second = math.floor((((time-hour)*60)-minute)*60)\n",
    "        return f'{hour}h {minute}min {second}s'\n",
    "    except Exception as e:\n",
    "        return e"
   ]
  },
  {
   "cell_type": "code",
   "execution_count": 23,
   "id": "55ef5adf",
   "metadata": {},
   "outputs": [
    {
     "data": {
      "text/plain": [
       "'2h 30min 0s'"
      ]
     },
     "execution_count": 23,
     "metadata": {},
     "output_type": "execute_result"
    }
   ],
   "source": [
    "lets_meet(100, 10, 30)"
   ]
  },
  {
   "cell_type": "code",
   "execution_count": 24,
   "id": "0de67716",
   "metadata": {},
   "outputs": [
    {
     "data": {
      "text/plain": [
       "'1h 52min 0s'"
      ]
     },
     "execution_count": 24,
     "metadata": {},
     "output_type": "execute_result"
    }
   ],
   "source": [
    "lets_meet(280, 70, 80)"
   ]
  },
  {
   "cell_type": "code",
   "execution_count": 25,
   "id": "c6d04f71",
   "metadata": {},
   "outputs": [
    {
     "data": {
      "text/plain": [
       "'0h 38min 34s'"
      ]
     },
     "execution_count": 25,
     "metadata": {},
     "output_type": "execute_result"
    }
   ],
   "source": [
    "lets_meet(90, 75, 65)"
   ]
  },
  {
   "cell_type": "code",
   "execution_count": null,
   "id": "68238e23",
   "metadata": {},
   "outputs": [],
   "source": []
  }
 ],
 "metadata": {
  "kernelspec": {
   "display_name": "Python 3 (ipykernel)",
   "language": "python",
   "name": "python3"
  },
  "language_info": {
   "codemirror_mode": {
    "name": "ipython",
    "version": 3
   },
   "file_extension": ".py",
   "mimetype": "text/x-python",
   "name": "python",
   "nbconvert_exporter": "python",
   "pygments_lexer": "ipython3",
   "version": "3.9.12"
  }
 },
 "nbformat": 4,
 "nbformat_minor": 5
}
