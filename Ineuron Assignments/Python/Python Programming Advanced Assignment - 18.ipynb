{
 "cells": [
  {
   "cell_type": "code",
   "execution_count": 1,
   "id": "a1020d47",
   "metadata": {},
   "outputs": [],
   "source": [
    "# 1. A robot has been given a list of movement instructions. Each instruction is either left, right, up or down, followed by\n",
    "#    a distance to move. The robot starts at [0, 0]. You want to calculate where the robot will end up and return its final \n",
    "#    position as a list. \n",
    "#    To illustrate, if the robot is given the following instructions: [\"right 10\", \"up 50\", \"left 30\", \"down 10\"]\n",
    "#    It will end up 20 left and 40 up from where it started, so we return [-20, 40].\n",
    "\n",
    "#    Examples:\n",
    "#    track_robot([\"right 10\", \"up 50\", \"left 30\", \"down 10\"]) ➞ [-20, 40]\n",
    "#    track_robot([]) ➞ [0, 0]\n",
    "#    // If there are no instructions, the robot doesn't move.\n",
    "#    track_robot([\"right 100\", \"right 100\", \"up 500\", \"up 10000\"]) ➞ [200, 10500]\n",
    "\n",
    "# Sol :\n",
    "\n",
    "def track_robot(in_list):\n",
    "    try:\n",
    "        output = [0,0]\n",
    "        for ele in in_list:\n",
    "            ele = ele.split(\" \")\n",
    "            if ele[0] in ['right','left']:\n",
    "                output[0] = output[0]-int(ele[1]) if ele[0] == 'left' else output[0]+int(ele[1])\n",
    "            else:\n",
    "                output[1] = output[1]-int(ele[1]) if ele[0] == 'down' else output[1]+int(ele[1])\n",
    "        return f'{output}'\n",
    "    except Exception as e:\n",
    "        return e"
   ]
  },
  {
   "cell_type": "code",
   "execution_count": 2,
   "id": "fc3018d5",
   "metadata": {},
   "outputs": [
    {
     "data": {
      "text/plain": [
       "'[-20, 40]'"
      ]
     },
     "execution_count": 2,
     "metadata": {},
     "output_type": "execute_result"
    }
   ],
   "source": [
    "track_robot([\"right 10\", \"up 50\", \"left 30\", \"down 10\"])"
   ]
  },
  {
   "cell_type": "code",
   "execution_count": 3,
   "id": "0ab49217",
   "metadata": {},
   "outputs": [
    {
     "data": {
      "text/plain": [
       "'[0, 0]'"
      ]
     },
     "execution_count": 3,
     "metadata": {},
     "output_type": "execute_result"
    }
   ],
   "source": [
    "track_robot([])"
   ]
  },
  {
   "cell_type": "code",
   "execution_count": 4,
   "id": "b61ac8b0",
   "metadata": {},
   "outputs": [
    {
     "data": {
      "text/plain": [
       "'[200, 10500]'"
      ]
     },
     "execution_count": 4,
     "metadata": {},
     "output_type": "execute_result"
    }
   ],
   "source": [
    "track_robot([\"right 100\", \"right 100\", \"up 500\", \"up 10000\"])"
   ]
  },
  {
   "cell_type": "code",
   "execution_count": 5,
   "id": "54092425",
   "metadata": {},
   "outputs": [],
   "source": [
    "# 2. Write a function that will return the longest word in a sentence. In cases where more than one word is found, return \n",
    "#    the first one.\n",
    "#    Examples:\n",
    "#      find_longest(\"A thing of beauty is a joy forever.\") ➞ \"forever\"\n",
    "#      find_longest(\"Forgetfulness is by all means powerless!\") ➞ \"forgetfulness\"\n",
    "#      find_longest(\"\\\"Strengths\\\" is the longest and most commonly used word that contains only a single vowel.\")➞\"strengths\"\n",
    "\n",
    "# Sol :\n",
    "\n",
    "def find_longest(in_string):\n",
    "    try:\n",
    "        len_list = []\n",
    "        for ele in in_string.split(' '):\n",
    "            len_list.append(len(ele))\n",
    "        return f'{in_string.split(\" \")[len_list.index(max(len_list))].lower()}'\n",
    "    except Exception as e:\n",
    "        return e"
   ]
  },
  {
   "cell_type": "code",
   "execution_count": 6,
   "id": "99f9aac0",
   "metadata": {},
   "outputs": [
    {
     "data": {
      "text/plain": [
       "'forever.'"
      ]
     },
     "execution_count": 6,
     "metadata": {},
     "output_type": "execute_result"
    }
   ],
   "source": [
    "find_longest(\"A thing of beauty is a joy forever.\")"
   ]
  },
  {
   "cell_type": "code",
   "execution_count": 7,
   "id": "e3ba7350",
   "metadata": {},
   "outputs": [
    {
     "data": {
      "text/plain": [
       "'forgetfulness'"
      ]
     },
     "execution_count": 7,
     "metadata": {},
     "output_type": "execute_result"
    }
   ],
   "source": [
    "find_longest(\"Forgetfulness is by all means powerless!\")"
   ]
  },
  {
   "cell_type": "code",
   "execution_count": 8,
   "id": "973ad094",
   "metadata": {},
   "outputs": [
    {
     "data": {
      "text/plain": [
       "'\"strengths\"'"
      ]
     },
     "execution_count": 8,
     "metadata": {},
     "output_type": "execute_result"
    }
   ],
   "source": [
    "find_longest(\"\\\"Strengths\\\" is the longest and most commonly used word that contains only a single vowel.\")"
   ]
  },
  {
   "cell_type": "code",
   "execution_count": 9,
   "id": "33c883d2",
   "metadata": {},
   "outputs": [],
   "source": [
    "# 3. Create a function to check if a candidate is qualified in an imaginary coding interview of an imaginary tech startup.\n",
    "#    The criteria for a candidate to be qualified in the coding interview is:\n",
    "\n",
    "#    The candidate should have complete all the questions.\n",
    "#    The maximum time given to complete the interview is 120 minutes.\n",
    "#    The maximum time given for very easy questions is 5 minutes each.\n",
    "#    The maximum time given for easy questions is 10 minutes each.\n",
    "#    The maximum time given for medium questions is 15 minutes each.\n",
    "#    The maximum time given for hard questions is 20 minutes each.\n",
    "#    If all the above conditions are satisfied, return \"qualified\", else return \"disqualified\".\n",
    "\n",
    "#    You will be given a list of time taken by a candidate to solve a particular question and the total time taken by the\n",
    "#    candidate to complete the interview.\n",
    "\n",
    "#    Given a list , in a true condition will always be in the format [very easy, very easy, easy, easy, medium, medium, \n",
    "#    hard, hard].\n",
    "\n",
    "#    The maximum time to complete the interview includes a buffer time of 20 minutes.\n",
    "\n",
    "#    Examples:\n",
    "#    interview([5, 5, 10, 10, 15, 15, 20, 20], 120) ➞ \"qualified\"\n",
    "#    interview([2, 3, 8, 6, 5, 12, 10, 18], 64) ➞ \"qualified\"\n",
    "#    interview([5, 5, 10, 10, 25, 15, 20, 20], 120) ➞ \"disqualified\"\n",
    "#    Exceeded the time limit for a medium question.\n",
    "#    interview([5, 5, 10, 10, 15, 15, 20], 120) ➞ \"disqualified\"\n",
    "#     Did not complete all the questions.\n",
    "#    interview([5, 5, 10, 10, 15, 15, 20, 20], 130) ➞ \"disqualified\"\n",
    "#    Solved all the questions in their respected time limits but exceeded the total time limit of the interview.\n",
    "\n",
    "# Sol :\n",
    "\n",
    "def interview(in_list, in_time):\n",
    "    try:\n",
    "        output = 'qualified'\n",
    "        if in_time > 120 or max(in_list[0:2]) > 5 or max(in_list[2:4]) > 10 or max(in_list[4:6]) > 15 or max(in_list[6:8]) > 20 or len(in_list) != 8:\n",
    "            output = 'disqualified'\n",
    "        return f'{output}'\n",
    "    except Exception as e:\n",
    "        return e"
   ]
  },
  {
   "cell_type": "code",
   "execution_count": 10,
   "id": "679f8bbb",
   "metadata": {},
   "outputs": [
    {
     "data": {
      "text/plain": [
       "'qualified'"
      ]
     },
     "execution_count": 10,
     "metadata": {},
     "output_type": "execute_result"
    }
   ],
   "source": [
    "interview([5, 5, 10, 10, 15, 15, 20, 20], 120)"
   ]
  },
  {
   "cell_type": "code",
   "execution_count": 11,
   "id": "5a88070d",
   "metadata": {},
   "outputs": [
    {
     "data": {
      "text/plain": [
       "'qualified'"
      ]
     },
     "execution_count": 11,
     "metadata": {},
     "output_type": "execute_result"
    }
   ],
   "source": [
    "interview([2, 3, 8, 6, 5, 12, 10, 18], 64)"
   ]
  },
  {
   "cell_type": "code",
   "execution_count": 12,
   "id": "a291bef0",
   "metadata": {},
   "outputs": [
    {
     "data": {
      "text/plain": [
       "'disqualified'"
      ]
     },
     "execution_count": 12,
     "metadata": {},
     "output_type": "execute_result"
    }
   ],
   "source": [
    "interview([5, 5, 10, 10, 25, 15, 20, 20], 120)"
   ]
  },
  {
   "cell_type": "code",
   "execution_count": 13,
   "id": "9234fe3a",
   "metadata": {},
   "outputs": [
    {
     "data": {
      "text/plain": [
       "'disqualified'"
      ]
     },
     "execution_count": 13,
     "metadata": {},
     "output_type": "execute_result"
    }
   ],
   "source": [
    "interview([5, 5, 10, 10, 15, 15, 20], 120)"
   ]
  },
  {
   "cell_type": "code",
   "execution_count": 14,
   "id": "29ce9b22",
   "metadata": {},
   "outputs": [
    {
     "data": {
      "text/plain": [
       "'disqualified'"
      ]
     },
     "execution_count": 14,
     "metadata": {},
     "output_type": "execute_result"
    }
   ],
   "source": [
    "interview([5, 5, 10, 10, 15, 15, 20, 20], 130)"
   ]
  },
  {
   "cell_type": "code",
   "execution_count": 15,
   "id": "d7177c9b",
   "metadata": {},
   "outputs": [],
   "source": [
    "# 4. Write a function that divides a list into chunks of size n, where n is the length of each chunk.\n",
    "#    Examples:\n",
    "#    chunkify([2, 3, 4, 5], 2) ➞ [[2, 3], [4, 5]]\n",
    "#    chunkify([2, 3, 4, 5, 6], 2) ➞ [[2, 3], [4, 5], [6]]\n",
    "#    chunkify([2, 3, 4, 5, 6, 7], 3) ➞ [[2, 3, 4], [5, 6, 7]]\n",
    "#    chunkify([2, 3, 4, 5, 6, 7], 1) ➞ [[2], [3], [4], [5], [6], [7]]\n",
    "#    chunkify([2, 3, 4, 5, 6, 7], 7) ➞ [[2, 3, 4, 5, 6, 7]]\n",
    "\n",
    "# Sol :\n",
    "\n",
    "def chunkify(in_list,chunk_size):\n",
    "    try:\n",
    "        output = []\n",
    "        for i in range(0,len(in_list),chunk_size):\n",
    "            output.append(in_list[i:i+chunk_size])\n",
    "        return f'{output}'\n",
    "    except Exception as e:\n",
    "        return e"
   ]
  },
  {
   "cell_type": "code",
   "execution_count": 16,
   "id": "660a20f6",
   "metadata": {},
   "outputs": [
    {
     "data": {
      "text/plain": [
       "'[[2, 3], [4, 5]]'"
      ]
     },
     "execution_count": 16,
     "metadata": {},
     "output_type": "execute_result"
    }
   ],
   "source": [
    "chunkify([2, 3, 4, 5], 2)"
   ]
  },
  {
   "cell_type": "code",
   "execution_count": 17,
   "id": "97d59244",
   "metadata": {},
   "outputs": [
    {
     "data": {
      "text/plain": [
       "'[[2, 3], [4, 5], [6]]'"
      ]
     },
     "execution_count": 17,
     "metadata": {},
     "output_type": "execute_result"
    }
   ],
   "source": [
    "chunkify([2, 3, 4, 5, 6], 2)"
   ]
  },
  {
   "cell_type": "code",
   "execution_count": 18,
   "id": "56b38b0a",
   "metadata": {},
   "outputs": [
    {
     "data": {
      "text/plain": [
       "'[[2, 3, 4], [5, 6, 7]]'"
      ]
     },
     "execution_count": 18,
     "metadata": {},
     "output_type": "execute_result"
    }
   ],
   "source": [
    "chunkify([2, 3, 4, 5, 6, 7], 3)"
   ]
  },
  {
   "cell_type": "code",
   "execution_count": 19,
   "id": "5067fa5c",
   "metadata": {},
   "outputs": [
    {
     "data": {
      "text/plain": [
       "'[[2], [3], [4], [5], [6], [7]]'"
      ]
     },
     "execution_count": 19,
     "metadata": {},
     "output_type": "execute_result"
    }
   ],
   "source": [
    "chunkify([2, 3, 4, 5, 6, 7], 1)"
   ]
  },
  {
   "cell_type": "code",
   "execution_count": 20,
   "id": "2ae2ce2f",
   "metadata": {},
   "outputs": [
    {
     "data": {
      "text/plain": [
       "'[[2, 3, 4, 5, 6, 7]]'"
      ]
     },
     "execution_count": 20,
     "metadata": {},
     "output_type": "execute_result"
    }
   ],
   "source": [
    "chunkify([2, 3, 4, 5, 6, 7], 7)"
   ]
  },
  {
   "cell_type": "code",
   "execution_count": 21,
   "id": "b200b8e8",
   "metadata": {},
   "outputs": [],
   "source": [
    "# 5. You are given a list of strings consisting of grocery items, with prices in parentheses. \n",
    "#    Return a list of prices in float format.\n",
    "#    Examples:\n",
    "#    get_prices([\"salad ($4.99)\"]) ➞ [4.99]\n",
    "\n",
    "#    get_prices([ \"artichokes ($1.99)\", \"rotiserrie chicken ($5.99)\", \"gum ($0.75)\" ]) ➞ [1.99, 5.99, 0.75]\n",
    "\n",
    "#    get_prices([ \"ice cream ($5.99)\", \"banana ($0.20)\", \"sandwich ($8.50)\", \"soup ($1.99)\" ]) ➞ [5.99, 0.2, 8.50, 1.99]\n",
    "\n",
    "# Sol :\n",
    "\n",
    "def get_prices(in_list):\n",
    "    try:\n",
    "        out_list = []\n",
    "        for ele in in_list:\n",
    "            out_list.append(float((ele.split('$')[-1]).split(')')[0]))\n",
    "        return f'{out_list}'\n",
    "    except Exception as e:\n",
    "        return e"
   ]
  },
  {
   "cell_type": "code",
   "execution_count": 22,
   "id": "6394da95",
   "metadata": {},
   "outputs": [
    {
     "data": {
      "text/plain": [
       "'[4.99]'"
      ]
     },
     "execution_count": 22,
     "metadata": {},
     "output_type": "execute_result"
    }
   ],
   "source": [
    "get_prices([\"salad ($4.99)\"])"
   ]
  },
  {
   "cell_type": "code",
   "execution_count": 23,
   "id": "500d60b8",
   "metadata": {},
   "outputs": [
    {
     "data": {
      "text/plain": [
       "'[1.99, 5.99, 0.75]'"
      ]
     },
     "execution_count": 23,
     "metadata": {},
     "output_type": "execute_result"
    }
   ],
   "source": [
    "get_prices([\"artichokes ($1.99)\",\"rotiserrie chicken ($5.99)\",\"gum ($0.75)\"])"
   ]
  },
  {
   "cell_type": "code",
   "execution_count": 24,
   "id": "ac99cf2c",
   "metadata": {},
   "outputs": [
    {
     "data": {
      "text/plain": [
       "'[5.99, 0.2, 8.5, 1.99]'"
      ]
     },
     "execution_count": 24,
     "metadata": {},
     "output_type": "execute_result"
    }
   ],
   "source": [
    "get_prices([\"ice cream ($5.99)\",\"banana ($0.20)\",\"sandwich ($8.50)\",\"soup ($1.99)\"])"
   ]
  },
  {
   "cell_type": "code",
   "execution_count": null,
   "id": "20124a20",
   "metadata": {},
   "outputs": [],
   "source": []
  }
 ],
 "metadata": {
  "kernelspec": {
   "display_name": "Python 3 (ipykernel)",
   "language": "python",
   "name": "python3"
  },
  "language_info": {
   "codemirror_mode": {
    "name": "ipython",
    "version": 3
   },
   "file_extension": ".py",
   "mimetype": "text/x-python",
   "name": "python",
   "nbconvert_exporter": "python",
   "pygments_lexer": "ipython3",
   "version": "3.9.12"
  }
 },
 "nbformat": 4,
 "nbformat_minor": 5
}
