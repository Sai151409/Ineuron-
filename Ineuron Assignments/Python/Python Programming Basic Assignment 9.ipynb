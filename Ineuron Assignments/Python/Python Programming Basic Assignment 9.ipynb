{
 "cells": [
  {
   "cell_type": "code",
   "execution_count": 1,
   "id": "723f78e2",
   "metadata": {},
   "outputs": [],
   "source": [
    "# 1. Write a Python program to check if the given number is a Disarium Number?\n",
    "\n",
    "# Sol :\n",
    "\n",
    "def check_disarium():\n",
    "    \"It checks whether the given number is disarium or not\"\n",
    "    try:\n",
    "        a = int(input(\"Enter the value of number : \"))\n",
    "        \n",
    "        sum = 0\n",
    "        \n",
    "        k = str(a)\n",
    "        \n",
    "        for i in k:\n",
    "            sum  = sum + (int(i) ** (k.index(i)+1))\n",
    "                          \n",
    "        if sum == a:\n",
    "            print(f'{a} is a disarium number')\n",
    "        else:\n",
    "            print(f'{a} is not a disarium number')\n",
    "    except Exception as e:\n",
    "        print(\"The error has occured\")\n",
    "        print(f\"The error is {e}\")"
   ]
  },
  {
   "cell_type": "code",
   "execution_count": 2,
   "id": "79adc633",
   "metadata": {},
   "outputs": [
    {
     "name": "stdout",
     "output_type": "stream",
     "text": [
      "Enter the value of number : 89\n",
      "89 is a disarium number\n"
     ]
    }
   ],
   "source": [
    "check_disarium()"
   ]
  },
  {
   "cell_type": "code",
   "execution_count": 3,
   "id": "eb2b947a",
   "metadata": {},
   "outputs": [
    {
     "name": "stdout",
     "output_type": "stream",
     "text": [
      "Enter the value of number : 175\n",
      "175 is a disarium number\n"
     ]
    }
   ],
   "source": [
    "check_disarium()"
   ]
  },
  {
   "cell_type": "code",
   "execution_count": 4,
   "id": "5a99f9bf",
   "metadata": {},
   "outputs": [
    {
     "name": "stdout",
     "output_type": "stream",
     "text": [
      "Enter the value of number : 239\n",
      "239 is not a disarium number\n"
     ]
    }
   ],
   "source": [
    "check_disarium()"
   ]
  },
  {
   "cell_type": "code",
   "execution_count": 5,
   "id": "2e7b623c",
   "metadata": {},
   "outputs": [],
   "source": [
    "# 2. Write a Python program to print all disarium numbers between 1 to 100?\n",
    "\n",
    "# Sol:\n",
    "\n",
    "\n",
    "def disarium_range():\n",
    "    \"It give the disarium numbers between the range\"\n",
    "    try:\n",
    "        low = int(input(\"Enter the lower limit of range : \"))\n",
    "        \n",
    "        high = int(input(\"Enter the higher limit of range : \"))\n",
    "        \n",
    "        for i in range(low, high+1):\n",
    "            a = i\n",
    "            \n",
    "            sum = 0\n",
    "        \n",
    "            k = str(a)\n",
    "        \n",
    "            for j in k:\n",
    "                sum  = sum + (int(j) ** (k.index(j)+1))\n",
    "                          \n",
    "            if sum == i:\n",
    "                print(i)\n",
    "    except Exception as e:\n",
    "        print(\"The error has occured\")\n",
    "        print(f\"The error is {e}\")"
   ]
  },
  {
   "cell_type": "code",
   "execution_count": 6,
   "id": "b81cadf7",
   "metadata": {},
   "outputs": [
    {
     "name": "stdout",
     "output_type": "stream",
     "text": [
      "Enter the lower limit of range : 1\n",
      "Enter the higher limit of range : 100\n",
      "1\n",
      "2\n",
      "3\n",
      "4\n",
      "5\n",
      "6\n",
      "7\n",
      "8\n",
      "9\n",
      "89\n"
     ]
    }
   ],
   "source": [
    "disarium_range()"
   ]
  },
  {
   "cell_type": "code",
   "execution_count": 10,
   "id": "6f9589c9",
   "metadata": {},
   "outputs": [],
   "source": [
    "# 3. Write a Python program to check if the given number is Happy Number?\n",
    "\n",
    "# Sol :\n",
    "\n",
    "def check_happy(a):\n",
    "    \"It checks whether the given number is happy or not\"\n",
    "    k = str(a)\n",
    "    \n",
    "    sum = 0\n",
    "    \n",
    "    for i in k:\n",
    "        sum += int(i)**2\n",
    "    \n",
    "    if sum == 1:\n",
    "        print(\"It is happy number\")\n",
    "    else:\n",
    "        if len(str(sum)) == 1:\n",
    "            print(\"It is not a happy number\")\n",
    "        else:\n",
    "            check_happy(sum)"
   ]
  },
  {
   "cell_type": "code",
   "execution_count": 11,
   "id": "d90495c1",
   "metadata": {},
   "outputs": [
    {
     "name": "stdout",
     "output_type": "stream",
     "text": [
      "It is happy number\n"
     ]
    }
   ],
   "source": [
    "check_happy(28)"
   ]
  },
  {
   "cell_type": "code",
   "execution_count": 12,
   "id": "f51d7d7f",
   "metadata": {},
   "outputs": [
    {
     "name": "stdout",
     "output_type": "stream",
     "text": [
      "It is happy number\n"
     ]
    }
   ],
   "source": [
    "check_happy(10)"
   ]
  },
  {
   "cell_type": "code",
   "execution_count": 13,
   "id": "5c7ab7c2",
   "metadata": {},
   "outputs": [
    {
     "name": "stdout",
     "output_type": "stream",
     "text": [
      "It is happy number\n"
     ]
    }
   ],
   "source": [
    "check_happy(23)"
   ]
  },
  {
   "cell_type": "code",
   "execution_count": 14,
   "id": "860b39db",
   "metadata": {},
   "outputs": [
    {
     "name": "stdout",
     "output_type": "stream",
     "text": [
      "It is not a happy number\n"
     ]
    }
   ],
   "source": [
    "check_happy(25)"
   ]
  },
  {
   "cell_type": "code",
   "execution_count": 15,
   "id": "e5b8defc",
   "metadata": {},
   "outputs": [
    {
     "name": "stdout",
     "output_type": "stream",
     "text": [
      "It is not a happy number\n"
     ]
    }
   ],
   "source": [
    "check_happy(78)"
   ]
  },
  {
   "cell_type": "code",
   "execution_count": 16,
   "id": "f6306761",
   "metadata": {},
   "outputs": [
    {
     "name": "stdout",
     "output_type": "stream",
     "text": [
      "The no of happy numbers between 1 and 100 : \n",
      "1\n",
      "7\n",
      "10\n",
      "13\n",
      "19\n",
      "23\n",
      "28\n",
      "31\n",
      "32\n",
      "44\n",
      "49\n",
      "68\n",
      "70\n",
      "79\n",
      "82\n",
      "86\n",
      "91\n",
      "94\n",
      "97\n",
      "100\n"
     ]
    }
   ],
   "source": [
    "# 4. Write a Python program to print all happy numbers between 1 and 100?\n",
    "\n",
    "# Sol:\n",
    "\n",
    "def check_happy(num):\n",
    "    remainder = sum = 0\n",
    "    while num > 0:\n",
    "        remainder = num % 10\n",
    "        sum = sum + remainder ** 2\n",
    "        num //= 10\n",
    "    return sum\n",
    "\n",
    "print(\"The no of happy numbers between 1 and 100 : \")\n",
    "for i in range(1, 101):\n",
    "    my_result = i\n",
    "    while(my_result!=1 and my_result!=4):\n",
    "        my_result = check_happy(my_result)\n",
    "    if my_result == 1:\n",
    "        print(i)"
   ]
  },
  {
   "cell_type": "code",
   "execution_count": 17,
   "id": "1d478164",
   "metadata": {},
   "outputs": [],
   "source": [
    "# 5. Write a Python program to determine whether the given number is a Harshad Number?\n",
    "\n",
    "# Sol :\n",
    "\n",
    "def check_harshad(number) : \n",
    "    \"It checks whether the given number is harshad or not\"\n",
    "    k = str(number)\n",
    "    \n",
    "    a = 0\n",
    "    \n",
    "    for i in k:\n",
    "        a += int(i)\n",
    "    \n",
    "    if number % a == 0:\n",
    "        print(\"It is a harshad number\")\n",
    "    else:\n",
    "        print(\"It is not a harshad number\")"
   ]
  },
  {
   "cell_type": "code",
   "execution_count": 18,
   "id": "a1bc1128",
   "metadata": {},
   "outputs": [
    {
     "name": "stdout",
     "output_type": "stream",
     "text": [
      "It is a harshad number\n"
     ]
    }
   ],
   "source": [
    "check_harshad(21)"
   ]
  },
  {
   "cell_type": "code",
   "execution_count": 19,
   "id": "f3ee06b1",
   "metadata": {},
   "outputs": [
    {
     "name": "stdout",
     "output_type": "stream",
     "text": [
      "It is a harshad number\n"
     ]
    }
   ],
   "source": [
    "check_harshad(153)"
   ]
  },
  {
   "cell_type": "code",
   "execution_count": 20,
   "id": "2feddf68",
   "metadata": {},
   "outputs": [
    {
     "name": "stdout",
     "output_type": "stream",
     "text": [
      "It is not a harshad number\n"
     ]
    }
   ],
   "source": [
    "check_harshad(25)"
   ]
  },
  {
   "cell_type": "code",
   "execution_count": 21,
   "id": "62e79720",
   "metadata": {},
   "outputs": [],
   "source": [
    "# 6. Write a Python program to print all pronic numbers between 1 and 100?\n",
    "\n",
    "# Sol :\n",
    "\n",
    "def check_harshad_range() : \n",
    "    \"It give the harshad numbers between the range\"\n",
    "    \n",
    "    low = int(input(\"Enter the lower limit of range : \"))\n",
    "    high = int(input(\"Enter the higher limit of range : \"))\n",
    "    \n",
    "    print(\"The harshad numbers between 1 and 100 : \")\n",
    "    \n",
    "    for i in range(low, high+1):\n",
    "        k = str(i)\n",
    "    \n",
    "        a = 0\n",
    "    \n",
    "        for j in k:\n",
    "            a += int(j)\n",
    "    \n",
    "        if i % a == 0:\n",
    "            print(i)"
   ]
  },
  {
   "cell_type": "code",
   "execution_count": 22,
   "id": "ec3cfe3d",
   "metadata": {},
   "outputs": [
    {
     "name": "stdout",
     "output_type": "stream",
     "text": [
      "Enter the lower limit of range : 1\n",
      "Enter the higher limit of range : 100\n",
      "The harshad numbers between 1 and 100 : \n",
      "1\n",
      "2\n",
      "3\n",
      "4\n",
      "5\n",
      "6\n",
      "7\n",
      "8\n",
      "9\n",
      "10\n",
      "12\n",
      "18\n",
      "20\n",
      "21\n",
      "24\n",
      "27\n",
      "30\n",
      "36\n",
      "40\n",
      "42\n",
      "45\n",
      "48\n",
      "50\n",
      "54\n",
      "60\n",
      "63\n",
      "70\n",
      "72\n",
      "80\n",
      "81\n",
      "84\n",
      "90\n",
      "100\n"
     ]
    }
   ],
   "source": [
    "check_harshad_range()"
   ]
  },
  {
   "cell_type": "code",
   "execution_count": null,
   "id": "31d1c073",
   "metadata": {},
   "outputs": [],
   "source": []
  }
 ],
 "metadata": {
  "kernelspec": {
   "display_name": "Python 3 (ipykernel)",
   "language": "python",
   "name": "python3"
  },
  "language_info": {
   "codemirror_mode": {
    "name": "ipython",
    "version": 3
   },
   "file_extension": ".py",
   "mimetype": "text/x-python",
   "name": "python",
   "nbconvert_exporter": "python",
   "pygments_lexer": "ipython3",
   "version": "3.9.7"
  }
 },
 "nbformat": 4,
 "nbformat_minor": 5
}
