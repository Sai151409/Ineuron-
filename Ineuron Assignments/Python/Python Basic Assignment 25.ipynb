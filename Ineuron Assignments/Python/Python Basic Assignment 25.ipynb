{
 "cells": [
  {
   "cell_type": "code",
   "execution_count": 14,
   "id": "b1be3cd2",
   "metadata": {},
   "outputs": [
    {
     "name": "stdout",
     "output_type": "stream",
     "text": [
      "[1, 2, 3, 4, 5, 6, 7, 8] --- <class 'list'>\n",
      "<generator object <genexpr> at 0x000001DAFB8DD900> --- <class 'generator'>\n"
     ]
    }
   ],
   "source": [
    "# 1) . What is the difference between enclosing a list comprehension in square brackets and parentheses?\n",
    "\n",
    "# Sol :\n",
    "\n",
    "#    Encoding a list comhrension in square brackets return list but in parantheses return genrerator object\n",
    "\n",
    "k = [sai for sai in range(1, 9)]\n",
    "\n",
    "print(k, \"---\", type(k))\n",
    "\n",
    "k = (sai for sai in range(1, 9))\n",
    "\n",
    "print(k, \"---\", type(k))"
   ]
  },
  {
   "cell_type": "code",
   "execution_count": 15,
   "id": "d0fa3046",
   "metadata": {},
   "outputs": [],
   "source": [
    "# 2) What is the relationship between generators and iterators?\n",
    "\n",
    "# Sol :\n",
    "\n",
    "#    An iterator is a object which contains the countable number of values and it is used to iterate over iterable objects like\n",
    "#    list, tuple, sets etc.Iterators are implemented using a class. It follows lazy evaluation where the evaluation will be on \n",
    "#    hold and stored in memory until the item is called specifically which helps us to avoid repeated evaluation. As lazy\n",
    "#    evaluation is implemented, it requires only 1 memory location to process the value and when we are using a dataset then,\n",
    "#    wastage of the RAM space will be reduced the need to load the entire datset at the same time will not be there. For an \n",
    "#    iterator: iter() keyword is used to create an iterator containing an iterable object.next() keyword is used to call the\n",
    "#    next element in the iterable object.\n",
    "\n",
    "#    Similarly Generators are an another way of creating iterators in a simple way where it uses the keyword yield statement \n",
    "#    instead of return statement in a defined function.Generators are implemented using a function. Just as iterators, \n",
    "#    generators also follow lazy evaluation. Here, the yield function returns the data without affecting or exiting the \n",
    "#    function. It will return a sequence of data in an iterable format where we need to iterate over the sequence to use \n",
    "#    the data as they won’t store the entire sequence in the memory."
   ]
  },
  {
   "cell_type": "code",
   "execution_count": 16,
   "id": "659676bc",
   "metadata": {},
   "outputs": [
    {
     "name": "stdout",
     "output_type": "stream",
     "text": [
      "1\n",
      "2\n",
      "3\n",
      "4\n",
      "5\n",
      "6\n",
      "7\n",
      "8\n",
      "<list_iterator object at 0x000001DAFB0AB460>\n",
      "0\n",
      "1\n",
      "8\n",
      "27\n",
      "64\n"
     ]
    }
   ],
   "source": [
    "# Example of iterator\n",
    "\n",
    "iter_str = iter([1,2,3,4,5,6,7,8])\n",
    "\n",
    "print(next(iter_str))\n",
    "print(next(iter_str))\n",
    "print(next(iter_str))\n",
    "print(next(iter_str))\n",
    "print(next(iter_str))\n",
    "print(next(iter_str))\n",
    "print(next(iter_str))\n",
    "print(next(iter_str))\n",
    "print(iter_str)\n",
    "\n",
    "def cube_numbers(in_num) : \n",
    "    for ele in range(in_num+1):\n",
    "        yield ele ** 3\n",
    "        \n",
    "out_num = cube_numbers(4)\n",
    "print(next(out_num))\n",
    "print(next(out_num))\n",
    "print(next(out_num))\n",
    "print(next(out_num))\n",
    "print(next(out_num))"
   ]
  },
  {
   "cell_type": "code",
   "execution_count": 17,
   "id": "6c759f96",
   "metadata": {},
   "outputs": [],
   "source": [
    "# 3) What are the signs that a function is a generator function?\n",
    "\n",
    "# Sol :\n",
    "\n",
    "#       A generator function uses a yield statement instead of a return statement. \n",
    "#       A generator function will always return a iterable object called generator. \n",
    "#       where as a normal function can return a string/list/tuple/dict/NoneType ... etc"
   ]
  },
  {
   "cell_type": "code",
   "execution_count": 18,
   "id": "49c78fa8",
   "metadata": {},
   "outputs": [],
   "source": [
    "# 4) What is the purpose of a yield statement?\n",
    "\n",
    "# Sol :\n",
    "\n",
    "#     The yield statement suspends function’s execution and sends a value back to the caller, but retains enough state to \n",
    "#     enable function to resume where it is left off. When resumed, the function continues execution immediately after the \n",
    "#     last yield run. This allows its code to produce a series of values over time, rather than computing them at once and \n",
    "#     sending them back like a list."
   ]
  },
  {
   "cell_type": "code",
   "execution_count": 19,
   "id": "89a3a96f",
   "metadata": {},
   "outputs": [],
   "source": [
    "# 5) What is the relationship between map calls and list comprehensions? Make a comparison and contrast between the two ?\n",
    "# Sol :\n",
    "\n",
    "#      The main differences between map calls and list comprehensiosn are:\n",
    "\n",
    "#      1. List comprehension is more concise and easier to read as compared to map.\n",
    "#      2. List comprehension allows filtering. In map, we have no such facility. For example, to print all odd numbers in \n",
    "#         range of 50, we can write [n for n in range(50) if n%2 != 0]. There is no alternate for it in map\n",
    "#      3. List comprehension are used when a list of results is required as final output.but map only returns a map object. \n",
    "#         it needs to be explicitly coverted to desired datatype.\n",
    "#      4. List comprehension is faster than map when we need to evaluate expressions that are too long or complicated to express\n",
    "#      5. Map is faster in case of calling an already defined function on a set of values."
   ]
  },
  {
   "cell_type": "code",
   "execution_count": null,
   "id": "e4fdb8a3",
   "metadata": {},
   "outputs": [],
   "source": []
  },
  {
   "cell_type": "code",
   "execution_count": null,
   "id": "f13c4449",
   "metadata": {},
   "outputs": [],
   "source": []
  }
 ],
 "metadata": {
  "kernelspec": {
   "display_name": "Python 3 (ipykernel)",
   "language": "python",
   "name": "python3"
  },
  "language_info": {
   "codemirror_mode": {
    "name": "ipython",
    "version": 3
   },
   "file_extension": ".py",
   "mimetype": "text/x-python",
   "name": "python",
   "nbconvert_exporter": "python",
   "pygments_lexer": "ipython3",
   "version": "3.9.12"
  }
 },
 "nbformat": 4,
 "nbformat_minor": 5
}
