{
 "cells": [
  {
   "cell_type": "code",
   "execution_count": 1,
   "id": "229dc094",
   "metadata": {},
   "outputs": [],
   "source": [
    "# 1. Write a Python program to find words which are greater than given length k?\n",
    "\n",
    "# Sol : \n",
    "\n",
    "def s(a, k):\n",
    "    \"Its find out the words which greater than length k\"\n",
    "    try:\n",
    "        b = \"\"\n",
    "        l = a\n",
    "        for i in l.split():\n",
    "            if len(i) > k:\n",
    "                b += (i + \" \")\n",
    "        print(f\"The words which are greater than given lenth {k} : \\n\\t{b}\")\n",
    "    except Exception as e:\n",
    "        print(\"The error has occured\")\n",
    "        print(f\"The error is {e}\")"
   ]
  },
  {
   "cell_type": "code",
   "execution_count": 2,
   "id": "b10a4170",
   "metadata": {},
   "outputs": [],
   "source": [
    "a = \"When I read about Alluri Sitarama Raju and Komaram Bheem, it was exciting to know that their story is similar. They never met each other. What if they had met? What if they had got inspired by each other?\"\n",
    "k = 4"
   ]
  },
  {
   "cell_type": "code",
   "execution_count": 3,
   "id": "36dd854d",
   "metadata": {},
   "outputs": [
    {
     "name": "stdout",
     "output_type": "stream",
     "text": [
      "The words which are greater than given lenth 4 : \n",
      "\tabout Alluri Sitarama Komaram Bheem, exciting their story similar. never other. inspired other? \n"
     ]
    }
   ],
   "source": [
    "s(a, k)"
   ]
  },
  {
   "cell_type": "code",
   "execution_count": 4,
   "id": "65766802",
   "metadata": {},
   "outputs": [],
   "source": [
    "b = \"Upstox is an online trading platform. Financial services provided are online from a remote location. Using an online business model helps the company offer low-cost brokerage plans while keeping operational costs minimal. The platform offers a range of trading features, including charting, analysis, as well as trading. Upstox has gained partnerships with other investors such as Tiger Global, Kalaari Capital, and Ratan Tata. The company is registered with stock exchanges such as NSE.\"\n",
    "k = 6"
   ]
  },
  {
   "cell_type": "code",
   "execution_count": 5,
   "id": "4d4fd1e0",
   "metadata": {},
   "outputs": [
    {
     "name": "stdout",
     "output_type": "stream",
     "text": [
      "The words which are greater than given lenth 6 : \n",
      "\ttrading platform. Financial services provided location. business company low-cost brokerage keeping operational minimal. platform trading features, including charting, analysis, trading. partnerships investors Global, Kalaari Capital, company registered exchanges \n"
     ]
    }
   ],
   "source": [
    "s(b, k)"
   ]
  },
  {
   "cell_type": "code",
   "execution_count": 6,
   "id": "88dc421c",
   "metadata": {},
   "outputs": [],
   "source": [
    "# 2. Write a Python program for removing i-th character from a string?\n",
    "\n",
    "# Sol :\n",
    "\n",
    "def remove(a, i):\n",
    "    \"It removes the i-th in the string character\"\n",
    "    try:\n",
    "        b = {}\n",
    "        for g in range(len(a)):\n",
    "            b[g+1] = a[g]\n",
    "        b.pop(i)\n",
    "        k = \"\"\n",
    "        for j in b.values():\n",
    "            k += j\n",
    "        print(f\"After removing {i}th character in the string is : \", k)\n",
    "    except Excepxtion as e:\n",
    "        print(\"The error has occured\")\n",
    "        print(f\"The error is : {e}\")"
   ]
  },
  {
   "cell_type": "code",
   "execution_count": 7,
   "id": "930da2d9",
   "metadata": {},
   "outputs": [
    {
     "name": "stdout",
     "output_type": "stream",
     "text": [
      "After removing 5th character in the string is :  sai ama krishna\n"
     ]
    }
   ],
   "source": [
    "remove(\"sai rama krishna\", 5)"
   ]
  },
  {
   "cell_type": "code",
   "execution_count": 8,
   "id": "2b4143a8",
   "metadata": {},
   "outputs": [
    {
     "name": "stdout",
     "output_type": "stream",
     "text": [
      "After removing 10th character in the string is :  Surya Kumr Yadav\n"
     ]
    }
   ],
   "source": [
    "remove(\"Surya Kumar Yadav\", 10)"
   ]
  },
  {
   "cell_type": "code",
   "execution_count": 9,
   "id": "2c3ff380",
   "metadata": {},
   "outputs": [
    {
     "name": "stdout",
     "output_type": "stream",
     "text": [
      "After splitting the list : \n",
      "\n",
      "\t\t ['Welcome', 'to', 'Ineuron', 'full', 'stack', 'data', 'science', 'cousre']\n",
      "\n",
      "\n",
      "After joining the charater - between the elements of the list : \n",
      "\n",
      "\t\t Welcome-to-Ineuron-full-stack-data-science-cousre\n"
     ]
    }
   ],
   "source": [
    "# 3. Write a Python program to split and join a string? \n",
    "\n",
    "# Sol :\n",
    "\n",
    "def list_split(string):\n",
    "    try:\n",
    "        return string.split()\n",
    "    except Exception as e:\n",
    "        print(\"The error has occured\")\n",
    "        print(f\"The error is : {e}\")\n",
    "        \n",
    "def list_join(list_string):\n",
    "    try:\n",
    "        return \"-\".join(list_string)\n",
    "    except Exception as e:\n",
    "        print(\"The error has occured\")\n",
    "        print(f\"The error is : {e}\")\n",
    "        \n",
    "        \n",
    "string = \"Welcome to Ineuron full stack data science cousre\"\n",
    "\n",
    "list_string = list_split(string)\n",
    "\n",
    "print(\"After splitting the list : \\n\\n\\t\\t\", list_string)\n",
    "\n",
    "print(\"\\n\")\n",
    "\n",
    "print(\"After joining the charater - between the elements of the list : \\n\\n\\t\\t\", list_join(list_string))"
   ]
  },
  {
   "cell_type": "code",
   "execution_count": 10,
   "id": "b4ff395c",
   "metadata": {},
   "outputs": [],
   "source": [
    "# 4. Write a Python to check if a given string is binary string or not?\n",
    "\n",
    "# Sol : \n",
    "\n",
    "def binary(string):\n",
    "    \"Binary string means that string contains 1 and 0 elements\"\n",
    "    \"Its check whether the given string is binary string or not\"\n",
    "    try:\n",
    "        for i in string:\n",
    "            if i != \"1\" and i != \"0\":\n",
    "                print(\"It is not a binary string\")\n",
    "                break\n",
    "        else:\n",
    "            print(\"It is a binary string\")\n",
    "    except Exception as e:\n",
    "        print(\"The error has occured\")\n",
    "        print(f\"The error is : {e}\")"
   ]
  },
  {
   "cell_type": "code",
   "execution_count": 11,
   "id": "38a17ed5",
   "metadata": {},
   "outputs": [
    {
     "name": "stdout",
     "output_type": "stream",
     "text": [
      "It is a binary string\n"
     ]
    }
   ],
   "source": [
    "binary(\"0010101010\")"
   ]
  },
  {
   "cell_type": "code",
   "execution_count": 12,
   "id": "0731e9b9",
   "metadata": {},
   "outputs": [
    {
     "name": "stdout",
     "output_type": "stream",
     "text": [
      "It is not a binary string\n"
     ]
    }
   ],
   "source": [
    "binary(\"37481010100101\")"
   ]
  },
  {
   "cell_type": "code",
   "execution_count": 13,
   "id": "4cf4f096",
   "metadata": {},
   "outputs": [],
   "source": [
    "# 5. Write a Python program to find uncommon words from two Strings?\n",
    "\n",
    "# Sol : \n",
    "\n",
    "def uncommon_split(a, b):\n",
    "    try:\n",
    "        k = set(a.split())\n",
    "        l = set(b.split())\n",
    "        uncommon = list(k.symmetric_difference(l))   \n",
    "        print(f\"The uncommon words of {a}, {b} is : \\n\\n\\t{uncommon}\")\n",
    "    except Exception as e:\n",
    "        print(\"The error has occured\")\n",
    "        print(f\"The error is : {e}\")"
   ]
  },
  {
   "cell_type": "code",
   "execution_count": 14,
   "id": "3ac1cb20",
   "metadata": {},
   "outputs": [
    {
     "name": "stdout",
     "output_type": "stream",
     "text": [
      "The uncommon words of Welcome to ineuron course, Welcome to the online data science course is : \n",
      "\n",
      "\t['the', 'data', 'ineuron', 'science', 'online']\n"
     ]
    }
   ],
   "source": [
    "uncommon_split(\"Welcome to ineuron course\", \"Welcome to the online data science course\")"
   ]
  },
  {
   "cell_type": "code",
   "execution_count": 15,
   "id": "8505832c",
   "metadata": {},
   "outputs": [],
   "source": [
    "# 6. Write a Python to find all duplicate characters in string?\n",
    "\n",
    "# Sol :\n",
    "\n",
    "def duplicate(string):\n",
    "    \"It finds out the duplicate values in the string\"\n",
    "    try : \n",
    "        k = set()\n",
    "        for i in string:\n",
    "            if string.count(i) >  1:\n",
    "                k.add(i)\n",
    "        print(\"The duplicate charcaters in the string : \")\n",
    "        for i in list(k):\n",
    "            print(i)\n",
    "    except Exception as e:\n",
    "        print(\"The error has occured\")\n",
    "        print(f\"The error is : {e}\")"
   ]
  },
  {
   "cell_type": "code",
   "execution_count": 16,
   "id": "18d67be9",
   "metadata": {},
   "outputs": [
    {
     "name": "stdout",
     "output_type": "stream",
     "text": [
      "The duplicate charcaters in the string : \n",
      "u\n",
      "t\n",
      "l\n",
      "e\n",
      "c\n",
      "a\n",
      "S\n",
      " \n"
     ]
    }
   ],
   "source": [
    "duplicate(\"Full Stack Data Scienece Course\")"
   ]
  },
  {
   "cell_type": "code",
   "execution_count": 17,
   "id": "41f33ace",
   "metadata": {},
   "outputs": [],
   "source": [
    "# 7. Write a Python Program to check if a string contains any special character?\n",
    "\n",
    "# Sol : \n",
    "\n",
    "def sc(string) : \n",
    "    \"It checks whether the string contains a special character or not\"\n",
    "    try:\n",
    "        sp = [\"@\", \"_\", \"!\", \"#\", \"$\", \"%\", \"^\", \"&\", \"*\", \"(\", \")\", \"<\", \">\", \"?\", \"/\", \"|\", \"}\", \"{\" ,\"~\", \":\"]\n",
    "        for i in sp:\n",
    "            if i in string:\n",
    "                print(\"String has a special character\")\n",
    "                break\n",
    "        else:\n",
    "            print(\"String doesn't have a special character\")\n",
    "    except Exception as e:\n",
    "        print(\"The error has occured\")\n",
    "        print(f\"The error is : {e}\")"
   ]
  },
  {
   "cell_type": "code",
   "execution_count": 18,
   "id": "866d23b4",
   "metadata": {},
   "outputs": [
    {
     "name": "stdout",
     "output_type": "stream",
     "text": [
      "String doesn't have a special character\n"
     ]
    }
   ],
   "source": [
    "sc(\"Ineuron\")"
   ]
  },
  {
   "cell_type": "code",
   "execution_count": 19,
   "id": "2560f5d7",
   "metadata": {},
   "outputs": [
    {
     "name": "stdout",
     "output_type": "stream",
     "text": [
      "String has a special character\n"
     ]
    }
   ],
   "source": [
    "sc(\"Full stack data science !\")"
   ]
  },
  {
   "cell_type": "code",
   "execution_count": null,
   "id": "84b1f077",
   "metadata": {},
   "outputs": [],
   "source": []
  },
  {
   "cell_type": "code",
   "execution_count": null,
   "id": "b55c0410",
   "metadata": {},
   "outputs": [],
   "source": []
  },
  {
   "cell_type": "code",
   "execution_count": null,
   "id": "efa3edc1",
   "metadata": {},
   "outputs": [],
   "source": []
  }
 ],
 "metadata": {
  "kernelspec": {
   "display_name": "Python 3 (ipykernel)",
   "language": "python",
   "name": "python3"
  },
  "language_info": {
   "codemirror_mode": {
    "name": "ipython",
    "version": 3
   },
   "file_extension": ".py",
   "mimetype": "text/x-python",
   "name": "python",
   "nbconvert_exporter": "python",
   "pygments_lexer": "ipython3",
   "version": "3.9.7"
  }
 },
 "nbformat": 4,
 "nbformat_minor": 5
}
