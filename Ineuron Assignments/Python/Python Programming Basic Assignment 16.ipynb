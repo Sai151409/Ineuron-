{
 "cells": [
  {
   "cell_type": "code",
   "execution_count": 1,
   "id": "e6892e46",
   "metadata": {},
   "outputs": [],
   "source": [
    "# Q1. Write a function that stutters a word as if someone is struggling to read it. \n",
    "#     The first two letters are repeated twice with an ellipsis ... and space after each, and then the\n",
    "#     word is pronounced with a question mark ?.\n",
    "#     Examples\n",
    "#     stutter('incredible') ➞ 'in... in... incredible?'\n",
    "#     stutter('enthusiastic') ➞ 'en... en... enthusiastic?'\n",
    "#     stutter('outstanding') ➞ 'ou... ou... outstanding?'\n",
    "\n",
    "# Hint :- Assume all input is in lower case and at least two characters long.\n",
    "\n",
    "# Sol : \n",
    "\n",
    "def stutter(string):\n",
    "    try:\n",
    "        k = string[:2]+\"...\"+\" \"+string[:2]+\"...\"+\" \"+string+\"?\"\n",
    "        return k\n",
    "    except Exception as e:\n",
    "        print(\"The error has occured\")\n",
    "        print(\"The error is : \", e)"
   ]
  },
  {
   "cell_type": "code",
   "execution_count": 2,
   "id": "f00addd2",
   "metadata": {},
   "outputs": [
    {
     "data": {
      "text/plain": [
       "'in... in... incredible?'"
      ]
     },
     "execution_count": 2,
     "metadata": {},
     "output_type": "execute_result"
    }
   ],
   "source": [
    "stutter('incredible')"
   ]
  },
  {
   "cell_type": "code",
   "execution_count": 3,
   "id": "2a48b02e",
   "metadata": {},
   "outputs": [
    {
     "data": {
      "text/plain": [
       "'en... en... enthusiastic?'"
      ]
     },
     "execution_count": 3,
     "metadata": {},
     "output_type": "execute_result"
    }
   ],
   "source": [
    "stutter('enthusiastic')"
   ]
  },
  {
   "cell_type": "code",
   "execution_count": 4,
   "id": "c769c2a0",
   "metadata": {},
   "outputs": [
    {
     "data": {
      "text/plain": [
       "'ou... ou... outstanding?'"
      ]
     },
     "execution_count": 4,
     "metadata": {},
     "output_type": "execute_result"
    }
   ],
   "source": [
    "stutter('outstanding')"
   ]
  },
  {
   "cell_type": "code",
   "execution_count": 5,
   "id": "f0ac778a",
   "metadata": {},
   "outputs": [
    {
     "name": "stdout",
     "output_type": "stream",
     "text": [
      "The error has occured\n",
      "The error is :  'bool' object is not subscriptable\n"
     ]
    }
   ],
   "source": [
    "stutter(True) # If you give argument other than string it gives an exception message"
   ]
  },
  {
   "cell_type": "code",
   "execution_count": 6,
   "id": "ae189a23",
   "metadata": {},
   "outputs": [],
   "source": [
    "# Q2.Create a function that takes an angle in radians and returns the corresponding \n",
    "#    angle in degrees rounded to one decimal place.\n",
    "#    Examples : \n",
    "#         radians_to_degrees(1) ➞ 57.3\n",
    "#         radians_to_degrees(20) ➞ 1145.9\n",
    "#         radians_to_degrees(50) ➞ 2864.8\n",
    "\n",
    "# Sol :\n",
    "\n",
    "def radians_to_degrees(n):\n",
    "    try:\n",
    "        import math\n",
    "        k = math.degrees(n)\n",
    "        k = round(k, 1)\n",
    "        return k\n",
    "    except Exception as e:\n",
    "        print(\"The Error has occured\")\n",
    "        print(\"The error is : \", e)"
   ]
  },
  {
   "cell_type": "code",
   "execution_count": 7,
   "id": "0e76a837",
   "metadata": {},
   "outputs": [
    {
     "data": {
      "text/plain": [
       "57.3"
      ]
     },
     "execution_count": 7,
     "metadata": {},
     "output_type": "execute_result"
    }
   ],
   "source": [
    "radians_to_degrees(1)"
   ]
  },
  {
   "cell_type": "code",
   "execution_count": 8,
   "id": "031c9370",
   "metadata": {},
   "outputs": [
    {
     "data": {
      "text/plain": [
       "1145.9"
      ]
     },
     "execution_count": 8,
     "metadata": {},
     "output_type": "execute_result"
    }
   ],
   "source": [
    "radians_to_degrees(20)"
   ]
  },
  {
   "cell_type": "code",
   "execution_count": 9,
   "id": "9944b51e",
   "metadata": {},
   "outputs": [
    {
     "data": {
      "text/plain": [
       "2864.8"
      ]
     },
     "execution_count": 9,
     "metadata": {},
     "output_type": "execute_result"
    }
   ],
   "source": [
    "radians_to_degrees(50)"
   ]
  },
  {
   "cell_type": "code",
   "execution_count": 10,
   "id": "81c35338",
   "metadata": {},
   "outputs": [],
   "source": [
    "# Q3. In this challenge, establish if a given integer num is a Curzon number. If 1 plus\n",
    "#     2 elevated to num is exactly divisible by 1 plus 2 multiplied by num, then num is a Curzon number.\n",
    "#     Given a non-negative integer num, implement a function that returns True if num is a Curzon number, or False otherwise.\n",
    "#     Examples :\n",
    "#           is_curzon(5) ➞ True\n",
    "#           2 ** 5 + 1 = 33\n",
    "#           2 * 5 + 1 = 11\n",
    "#           33 is a multiple of 11\n",
    "#           is_curzon(10) ➞ False\n",
    "#           2 ** 10 + 1 = 1025\n",
    "#           2 * 10 + 1 = 21\n",
    "#           1025 is not a multiple of 21\n",
    "#           is_curzon(14) ➞ True\n",
    "#           2 ** 14 + 1 = 16385\n",
    "#           2 * 14 + 1 = 29\n",
    "#           16385 is a multiple of 29\n",
    "\n",
    "# Sol :\n",
    "\n",
    "def is_curzon(n):\n",
    "    try:\n",
    "        k = 2 ** n + 1\n",
    "        j = 2 * n + 1\n",
    "        if k % j == 0:\n",
    "            return True\n",
    "        else:\n",
    "            return False\n",
    "    except Exception as e:\n",
    "        print(\"The error has occured\")\n",
    "        print(\"The error is : \", e)"
   ]
  },
  {
   "cell_type": "code",
   "execution_count": 11,
   "id": "bc285fb2",
   "metadata": {},
   "outputs": [
    {
     "data": {
      "text/plain": [
       "True"
      ]
     },
     "execution_count": 11,
     "metadata": {},
     "output_type": "execute_result"
    }
   ],
   "source": [
    "is_curzon(5)"
   ]
  },
  {
   "cell_type": "code",
   "execution_count": 12,
   "id": "015a271a",
   "metadata": {},
   "outputs": [
    {
     "data": {
      "text/plain": [
       "False"
      ]
     },
     "execution_count": 12,
     "metadata": {},
     "output_type": "execute_result"
    }
   ],
   "source": [
    "is_curzon(10)"
   ]
  },
  {
   "cell_type": "code",
   "execution_count": 13,
   "id": "ef92aa7a",
   "metadata": {},
   "outputs": [
    {
     "data": {
      "text/plain": [
       "True"
      ]
     },
     "execution_count": 13,
     "metadata": {},
     "output_type": "execute_result"
    }
   ],
   "source": [
    "is_curzon(14)"
   ]
  },
  {
   "cell_type": "code",
   "execution_count": 14,
   "id": "cf868984",
   "metadata": {},
   "outputs": [],
   "source": [
    "# Question 4.Given the side length x find the area of a hexagon.\n",
    "# Examples:\n",
    "#     area_of_hexagon(1) ➞ 2.6\n",
    "#     area_of_hexagon(2) ➞ 10.4\n",
    "#     area_of_hexagon(3) ➞ 23.4\n",
    "\n",
    "# Sol :\n",
    "\n",
    "def area_of_hexagon(n):\n",
    "    try:\n",
    "        import math\n",
    "        area = (3*math.sqrt(3)*(n**2))/2\n",
    "        area = round(area, 1)\n",
    "        return area\n",
    "    except Exception as e:\n",
    "        print(\"The erro has occured\")\n",
    "        print(\"The error is : \", e)"
   ]
  },
  {
   "cell_type": "code",
   "execution_count": 15,
   "id": "5a069604",
   "metadata": {},
   "outputs": [
    {
     "data": {
      "text/plain": [
       "2.6"
      ]
     },
     "execution_count": 15,
     "metadata": {},
     "output_type": "execute_result"
    }
   ],
   "source": [
    "area_of_hexagon(1)"
   ]
  },
  {
   "cell_type": "code",
   "execution_count": 16,
   "id": "0990184a",
   "metadata": {},
   "outputs": [
    {
     "data": {
      "text/plain": [
       "10.4"
      ]
     },
     "execution_count": 16,
     "metadata": {},
     "output_type": "execute_result"
    }
   ],
   "source": [
    "area_of_hexagon(2)"
   ]
  },
  {
   "cell_type": "code",
   "execution_count": 17,
   "id": "adc95198",
   "metadata": {},
   "outputs": [
    {
     "data": {
      "text/plain": [
       "23.4"
      ]
     },
     "execution_count": 17,
     "metadata": {},
     "output_type": "execute_result"
    }
   ],
   "source": [
    "area_of_hexagon(3)"
   ]
  },
  {
   "cell_type": "code",
   "execution_count": 18,
   "id": "b51ded65",
   "metadata": {},
   "outputs": [],
   "source": [
    "# Q5. Create a function that returns a base-2 (binary) representation of a base-10\n",
    "#    (decimal) string number. To convert is simple: ((2) means base-2 and (10) means base-10)\n",
    "#    010101001(2) = 1 + 8 + 32 + 128.\n",
    "#    Going from right to left, the value of the most right bit is 1, now from that every bit to the left\n",
    "#    will be x2 the value, value of an 8 bit binary numbers are (256, 128, 64, 32, 16, 8, 4, 2, 1).\n",
    "#    Examples :\n",
    "#       binary(1) ➞ '1'\n",
    "#       1*1 = 1\n",
    "#       binary(5) ➞ '101'\n",
    "#       1*1 + 1*4 = 5\n",
    "#       binary(10) ➞ '1010'\n",
    "#       1*2 + 1*8 = 10\n",
    "\n",
    "# Sol: \n",
    "\n",
    "def binary(n):\n",
    "    try:\n",
    "        k = bin(n)[2:]\n",
    "        return k\n",
    "    except Exception as e:\n",
    "        print(\"The error has occured\")\n",
    "        print(\"The error is : \", e)"
   ]
  },
  {
   "cell_type": "code",
   "execution_count": 19,
   "id": "120d304c",
   "metadata": {},
   "outputs": [
    {
     "data": {
      "text/plain": [
       "'1'"
      ]
     },
     "execution_count": 19,
     "metadata": {},
     "output_type": "execute_result"
    }
   ],
   "source": [
    "binary(1)"
   ]
  },
  {
   "cell_type": "code",
   "execution_count": 20,
   "id": "404e0022",
   "metadata": {},
   "outputs": [
    {
     "data": {
      "text/plain": [
       "'101'"
      ]
     },
     "execution_count": 20,
     "metadata": {},
     "output_type": "execute_result"
    }
   ],
   "source": [
    "binary(5)"
   ]
  },
  {
   "cell_type": "code",
   "execution_count": 21,
   "id": "2844b330",
   "metadata": {},
   "outputs": [
    {
     "data": {
      "text/plain": [
       "'1010'"
      ]
     },
     "execution_count": 21,
     "metadata": {},
     "output_type": "execute_result"
    }
   ],
   "source": [
    "binary(10)"
   ]
  },
  {
   "cell_type": "code",
   "execution_count": null,
   "id": "c360151e",
   "metadata": {},
   "outputs": [],
   "source": []
  },
  {
   "cell_type": "code",
   "execution_count": null,
   "id": "363fc7cb",
   "metadata": {},
   "outputs": [],
   "source": []
  },
  {
   "cell_type": "code",
   "execution_count": null,
   "id": "a814848b",
   "metadata": {},
   "outputs": [],
   "source": []
  },
  {
   "cell_type": "code",
   "execution_count": null,
   "id": "bd8b3842",
   "metadata": {},
   "outputs": [],
   "source": []
  }
 ],
 "metadata": {
  "kernelspec": {
   "display_name": "Python 3 (ipykernel)",
   "language": "python",
   "name": "python3"
  },
  "language_info": {
   "codemirror_mode": {
    "name": "ipython",
    "version": 3
   },
   "file_extension": ".py",
   "mimetype": "text/x-python",
   "name": "python",
   "nbconvert_exporter": "python",
   "pygments_lexer": "ipython3",
   "version": "3.9.7"
  }
 },
 "nbformat": 4,
 "nbformat_minor": 5
}
