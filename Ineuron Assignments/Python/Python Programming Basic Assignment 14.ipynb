{
 "cells": [
  {
   "cell_type": "code",
   "execution_count": 1,
   "id": "959a148b",
   "metadata": {},
   "outputs": [
    {
     "name": "stdout",
     "output_type": "stream",
     "text": [
      "0\n",
      "7\n",
      "14\n",
      "21\n",
      "28\n",
      "35\n",
      "42\n",
      "49\n",
      "56\n",
      "63\n",
      "70\n",
      "77\n",
      "84\n",
      "91\n",
      "98\n",
      "105\n",
      "112\n",
      "119\n",
      "126\n",
      "133\n",
      "140\n",
      "147\n",
      "154\n",
      "161\n",
      "168\n",
      "175\n",
      "182\n",
      "189\n",
      "196\n",
      "203\n",
      "210\n",
      "217\n",
      "224\n",
      "231\n",
      "238\n",
      "245\n",
      "252\n",
      "259\n",
      "266\n",
      "273\n",
      "280\n",
      "287\n",
      "294\n",
      "301\n",
      "308\n",
      "315\n",
      "322\n",
      "329\n",
      "336\n",
      "343\n",
      "350\n",
      "357\n",
      "364\n",
      "371\n",
      "378\n",
      "385\n",
      "392\n",
      "399\n",
      "406\n",
      "413\n",
      "420\n",
      "427\n",
      "434\n",
      "441\n",
      "448\n"
     ]
    }
   ],
   "source": [
    "# 1. Define a class with a generator which can iterate the numbers, which are divisible by 7, between a given range 0 and n.\n",
    "\n",
    "# Sol :\n",
    "\n",
    "class iterate:\n",
    "    def __init__(self, num):\n",
    "        self.num = num\n",
    "    def div(self):\n",
    "        try:\n",
    "            for i in range(self.num):\n",
    "                if i % 7 == 0:\n",
    "                    yield i\n",
    "        except Exception as e:\n",
    "            print(\"The error has occured\")\n",
    "            print(\"The error is : \", e)\n",
    "            \n",
    "k = iterate(450)\n",
    "for i in k.div():\n",
    "    print(i)"
   ]
  },
  {
   "cell_type": "code",
   "execution_count": 2,
   "id": "8ef58de4",
   "metadata": {},
   "outputs": [],
   "source": [
    "# 2. Write a program to compute the frequency of the words from the input. The output should output after sorting the key alphanumerically.\n",
    "# Suppose the following input is supplied to the program: New to Python or choosing between Python 2 and Python 3? Read Python 2 or Python 3.\n",
    "# Then, the output should be: 2:2 3.:1 3?:1 New:1 Python:5 Read:1 and:1 between:1 choosing:1 or:2 to:1\n",
    "\n",
    "# Sol :\n",
    "\n",
    "def word_frequency():\n",
    "    try:\n",
    "        a = input(\"Enter your string : \")\n",
    "        p = a.split()\n",
    "        k = sorted(set(p))\n",
    "        for i in k:\n",
    "            d = a.count(i)\n",
    "            print(i, \":\", d)\n",
    "    except Exception as e:\n",
    "        print(\"The error has occured\")\n",
    "        print(\"The error is : \", e)"
   ]
  },
  {
   "cell_type": "code",
   "execution_count": 3,
   "id": "cd6551ec",
   "metadata": {},
   "outputs": [
    {
     "name": "stdout",
     "output_type": "stream",
     "text": [
      "Enter your string : New to Python or choosing between Python 2 and Python 3? Read Python 2 or Python 3.\n",
      "2 : 2\n",
      "3. : 1\n",
      "3? : 1\n",
      "New : 1\n",
      "Python : 5\n",
      "Read : 1\n",
      "and : 1\n",
      "between : 1\n",
      "choosing : 1\n",
      "or : 2\n",
      "to : 1\n"
     ]
    }
   ],
   "source": [
    "word_frequency()"
   ]
  },
  {
   "cell_type": "code",
   "execution_count": 4,
   "id": "4eca836e",
   "metadata": {},
   "outputs": [],
   "source": [
    "# 3. Define a class Person and its two child classes: Male and Female. \n",
    "# All classes have a method 'getGender' which can print 'Male' for Male class and 'Female' for Female class.\n",
    "\n",
    "# Sol :\n",
    "\n",
    "class Person:\n",
    "    pass\n",
    "\n",
    "class Male(Person):\n",
    "    def getGender():\n",
    "        print(\"Male\")\n",
    "        \n",
    "class Female(Person):\n",
    "    def getGender():\n",
    "        print(\"Female\")"
   ]
  },
  {
   "cell_type": "code",
   "execution_count": 5,
   "id": "4d21d2f4",
   "metadata": {},
   "outputs": [
    {
     "name": "stdout",
     "output_type": "stream",
     "text": [
      "Male class gender :  Male\n",
      "Female class gender :  Female\n"
     ]
    }
   ],
   "source": [
    "print(\"Male class gender : \", end = \" \")\n",
    "Male.getGender()\n",
    "print(\"Female class gender : \", end = \" \")\n",
    "Female.getGender()"
   ]
  },
  {
   "cell_type": "code",
   "execution_count": 6,
   "id": "5b92e2d4",
   "metadata": {},
   "outputs": [
    {
     "name": "stdout",
     "output_type": "stream",
     "text": [
      "I Play Hockey\n",
      "I Play Football\n",
      "I Love Hockey\n",
      "I Love Football\n",
      "You Play Hockey\n",
      "You Play Football\n",
      "You Love Hockey\n",
      "You Love Football\n"
     ]
    }
   ],
   "source": [
    "# 4. Please write a program to generate all sentences where subject is in [\"I\", \"You\"] and verb is in [\"Play\", \"Love\"] and the object is in [\"Hockey\",\"Football\"].\n",
    "\n",
    "# Sol : \n",
    "\n",
    "try:\n",
    "    first = [\"I\", \"You\"]\n",
    "    middle = [\"Play\", \"Love\"]\n",
    "    last = [\"Hockey\", \"Football\"]\n",
    "    for i in first:\n",
    "        for j in middle:\n",
    "            for k in last:\n",
    "                print(f\"{i} {j} {k}\")\n",
    "except Exception as e:\n",
    "    print(\"The error has occured\")\n",
    "    print(\"The error is : \", e)"
   ]
  },
  {
   "cell_type": "code",
   "execution_count": 7,
   "id": "48a14895",
   "metadata": {},
   "outputs": [
    {
     "name": "stdout",
     "output_type": "stream",
     "text": [
      "b'x\\x9c\\xcbH\\xcd\\xc9\\xc9W(\\xcf/\\xcaIQ\\xcc \\x82\\r\\x00\\xbd[\\x11\\xf5'\n",
      "b'hello world!hello world!hello world!hello world!'\n"
     ]
    }
   ],
   "source": [
    "# 5.Please write a program to compress and decompress the string \"hello world!hello world!hello world!hello world!\" ?\n",
    "\n",
    "# Sol :\n",
    "\n",
    "import zlib\n",
    "s = b'hello world!hello world!hello world!hello world!'\n",
    "t = zlib.compress(s)\n",
    "print(t)\n",
    "print(zlib.decompress(t))"
   ]
  },
  {
   "cell_type": "code",
   "execution_count": 8,
   "id": "b6e66636",
   "metadata": {},
   "outputs": [],
   "source": [
    "# 6.Please write a binary search function which searches an item in a sorted list. \n",
    "# The function should return the index of element to be searched in the list ?\n",
    "\n",
    "# Sol :\n",
    "\n",
    "def binary_search(ls, num):\n",
    "    try:\n",
    "        k = sorted(ls)\n",
    "        for i in k:\n",
    "            if i == num:\n",
    "                return f\"The number is available in the list it's index is : {k.index(i)}\"\n",
    "        else:\n",
    "            raise Exception(\"The enterd number which is not available in the list\")\n",
    "    except Exception as e:\n",
    "        print(e)"
   ]
  },
  {
   "cell_type": "code",
   "execution_count": 9,
   "id": "c46d7574",
   "metadata": {},
   "outputs": [],
   "source": [
    "l = [i for i in range(0, 100000, 3)]"
   ]
  },
  {
   "cell_type": "code",
   "execution_count": 10,
   "id": "dac218fd",
   "metadata": {},
   "outputs": [
    {
     "data": {
      "text/plain": [
       "\"The number is available in the list it's index is : 21\""
      ]
     },
     "execution_count": 10,
     "metadata": {},
     "output_type": "execute_result"
    }
   ],
   "source": [
    "binary_search(l, 63)"
   ]
  },
  {
   "cell_type": "code",
   "execution_count": null,
   "id": "a9fa6fba",
   "metadata": {},
   "outputs": [],
   "source": []
  },
  {
   "cell_type": "code",
   "execution_count": null,
   "id": "2ebf0eed",
   "metadata": {},
   "outputs": [],
   "source": []
  },
  {
   "cell_type": "code",
   "execution_count": null,
   "id": "5d9e4270",
   "metadata": {},
   "outputs": [],
   "source": []
  },
  {
   "cell_type": "code",
   "execution_count": null,
   "id": "9805d088",
   "metadata": {},
   "outputs": [],
   "source": []
  },
  {
   "cell_type": "code",
   "execution_count": null,
   "id": "6b3c29b8",
   "metadata": {},
   "outputs": [],
   "source": []
  },
  {
   "cell_type": "code",
   "execution_count": null,
   "id": "1b9cfdbb",
   "metadata": {},
   "outputs": [],
   "source": []
  }
 ],
 "metadata": {
  "kernelspec": {
   "display_name": "Python 3 (ipykernel)",
   "language": "python",
   "name": "python3"
  },
  "language_info": {
   "codemirror_mode": {
    "name": "ipython",
    "version": 3
   },
   "file_extension": ".py",
   "mimetype": "text/x-python",
   "name": "python",
   "nbconvert_exporter": "python",
   "pygments_lexer": "ipython3",
   "version": "3.9.7"
  }
 },
 "nbformat": 4,
 "nbformat_minor": 5
}
