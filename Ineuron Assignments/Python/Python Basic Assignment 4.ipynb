{
 "cells": [
  {
   "cell_type": "code",
   "execution_count": 1,
   "id": "13880e20",
   "metadata": {},
   "outputs": [
    {
     "name": "stdout",
     "output_type": "stream",
     "text": [
      "[]\n"
     ]
    }
   ],
   "source": [
    "# 1. What exactly is []?\n",
    "\n",
    "# Sol:\n",
    "\n",
    "# [] is a empty list. list doesn't contains any elements\n",
    "\n",
    "# For Example:\n",
    "\n",
    "k = []\n",
    "\n",
    "print(k)"
   ]
  },
  {
   "cell_type": "code",
   "execution_count": 2,
   "id": "7e54970e",
   "metadata": {},
   "outputs": [
    {
     "name": "stdout",
     "output_type": "stream",
     "text": [
      "[2, 4, 'Hello', 6, 8, 10]\n"
     ]
    }
   ],
   "source": [
    "# 2. In a list of values stored in a variable called spam, \n",
    "# how would you assign the value 'hello' as the third value? (Assume [2, 4, 6, 8, 10] are in spam.)\n",
    "\n",
    "# Sol:\n",
    "\n",
    "#     Here first i'm creating a spam list with the elements 2, 4, 6, 8, 10\n",
    "\n",
    "spam = [2, 4, 6, 8, 10]\n",
    "\n",
    "#     In list we have a insert function by using this we can assign any value in required place\n",
    "\n",
    "spam.insert(2, \"Hello\") # First arg is index, second arg is data value\n",
    "\n",
    "print(spam)"
   ]
  },
  {
   "cell_type": "code",
   "execution_count": 3,
   "id": "61db408a",
   "metadata": {},
   "outputs": [
    {
     "data": {
      "text/plain": [
       "'d'"
      ]
     },
     "execution_count": 3,
     "metadata": {},
     "output_type": "execute_result"
    }
   ],
   "source": [
    "# Let's pretend the spam includes the list ['a', 'b', 'c', 'd'] for the next three queries.\n",
    "# 3. What is the value of spam[int(int('3'* 2) / 11)]?\n",
    "\n",
    "# Sol:\n",
    "\n",
    "#    Here i'm creating a spam list\n",
    "\n",
    "spam = ['a', 'b', 'c', 'd']\n",
    "\n",
    "spam[int(int('3'* 2) / 11)] # Here is the answer"
   ]
  },
  {
   "cell_type": "code",
   "execution_count": 4,
   "id": "e50c1ff3",
   "metadata": {},
   "outputs": [
    {
     "data": {
      "text/plain": [
       "'d'"
      ]
     },
     "execution_count": 4,
     "metadata": {},
     "output_type": "execute_result"
    }
   ],
   "source": [
    "# 4. What is the value of spam[-1]?\n",
    "\n",
    "# Sol:\n",
    "\n",
    "spam[-1] # In list access the elements with negative indexing but in reverse order"
   ]
  },
  {
   "cell_type": "code",
   "execution_count": 5,
   "id": "5807bfb2",
   "metadata": {},
   "outputs": [
    {
     "data": {
      "text/plain": [
       "'c'"
      ]
     },
     "execution_count": 5,
     "metadata": {},
     "output_type": "execute_result"
    }
   ],
   "source": [
    "# 5. What is the value of spam[:2]?\n",
    "\n",
    "# Sol:\n",
    "\n",
    "spam[-2] # It gives the secound element from the last in the list"
   ]
  },
  {
   "cell_type": "code",
   "execution_count": 6,
   "id": "4fdd30bc",
   "metadata": {},
   "outputs": [
    {
     "data": {
      "text/plain": [
       "1"
      ]
     },
     "execution_count": 6,
     "metadata": {},
     "output_type": "execute_result"
    }
   ],
   "source": [
    "# Let's pretend bacon has the list [3.14, 'cat', 11, 'cat', True] for the next three questions.\n",
    "\n",
    "# 6. What is the value of bacon.index('cat')?\n",
    "\n",
    "# Sol:\n",
    "\n",
    "#     bacon is another list with the elements 3.14, 'cat', 11, 'cat', True\n",
    "\n",
    "bacon = [3.14, 'cat', 11, 'cat', True]\n",
    "\n",
    "bacon.index('cat') # Here i'm find out the index of elements in the list. index function gives the index value of specified element"
   ]
  },
  {
   "cell_type": "code",
   "execution_count": 7,
   "id": "c094b9a7",
   "metadata": {},
   "outputs": [
    {
     "name": "stdout",
     "output_type": "stream",
     "text": [
      "[3.14, 'cat', 11, 'cat', True, 99]\n"
     ]
    }
   ],
   "source": [
    "# 7. How does bacon.append(99) change the look of the list value in bacon?\n",
    "\n",
    "# Sol:\n",
    "\n",
    "#     Here append is another function in the list which add the elements at the end of the list.\n",
    "\n",
    "bacon.append(99)\n",
    "\n",
    "print(bacon)"
   ]
  },
  {
   "cell_type": "code",
   "execution_count": 8,
   "id": "25a2321e",
   "metadata": {},
   "outputs": [
    {
     "name": "stdout",
     "output_type": "stream",
     "text": [
      "[3.14, 11, 'cat', True, 99]\n"
     ]
    }
   ],
   "source": [
    "# 8. How does bacon.remove('cat') change the look of the list in bacon?\n",
    "\n",
    "# Sol:\n",
    "\n",
    "#    To delete the elements from the list, there is another function it is remove\n",
    "\n",
    "bacon.remove('cat') # But in our list there are two cats which removes the first one.\n",
    "\n",
    "print(bacon)"
   ]
  },
  {
   "cell_type": "code",
   "execution_count": 9,
   "id": "7f8a4a58",
   "metadata": {},
   "outputs": [
    {
     "name": "stdout",
     "output_type": "stream",
     "text": [
      "[1, 2, 3, 4, 5, 6]\n",
      "[1, 2, 3, 1, 2, 3, 1, 2, 3]\n",
      "[4, 5, 6, 4, 5, 6, 4, 5, 6, 4, 5, 6, 4, 5, 6, 4, 5, 6, 4, 5, 6, 4, 5, 6]\n"
     ]
    }
   ],
   "source": [
    "# 9. What are the list concatenation and list replication operators?\n",
    "\n",
    "# Sol:\n",
    "\n",
    "#    List concatenation means \"+\" that the elements of one list which is join to the other end of the list\n",
    "\n",
    "#    List replication means \"*\" it gives the elements of list multiple times\n",
    "\n",
    "# For example :\n",
    "\n",
    "a, b = [1, 2, 3], [4, 5, 6]\n",
    "\n",
    "# Concatenation\n",
    "\n",
    "print(a+b)\n",
    "\n",
    "# Replication\n",
    "\n",
    "print(a * 3)\n",
    "\n",
    "print(b * 8)"
   ]
  },
  {
   "cell_type": "code",
   "execution_count": 10,
   "id": "844a93a3",
   "metadata": {},
   "outputs": [],
   "source": [
    "# 10. What is difference between the list methods append() and insert()?\n",
    "\n",
    "# Sol:\n",
    "\n",
    "#    append - In list add the elements at the end of the list i.e list.append(value)\n",
    "\n",
    "#    insert - insert assign the values in the list in a specified index place i,e list.insert(index, value)"
   ]
  },
  {
   "cell_type": "code",
   "execution_count": 11,
   "id": "98385937",
   "metadata": {},
   "outputs": [],
   "source": [
    "# 11. What are the two methods for removing items from a list?\n",
    "\n",
    "# Sol:\n",
    "\n",
    "#     pop, remove are the methods for removing items from a list"
   ]
  },
  {
   "cell_type": "code",
   "execution_count": 12,
   "id": "1f04dd53",
   "metadata": {},
   "outputs": [
    {
     "name": "stdout",
     "output_type": "stream",
     "text": [
      "len(a) :  4\n",
      "len(b) :  4\n",
      "----------------------------\n",
      "[89, 90]\n",
      "su\n",
      "-----------------------------\n",
      "89\n",
      "90\n",
      "78\n",
      "65\n",
      "s\n",
      "u\n",
      "d\n",
      "h\n"
     ]
    }
   ],
   "source": [
    "# 12. Describe how list values and string values are identical.\n",
    "\n",
    "# Sol:\n",
    "\n",
    "#    if you pass the list and string values to the len() function it gives the length and we can slicing the elemnents in \n",
    "#    both list and string. By using for loop we can iterate the values of list and string\n",
    "\n",
    "# For Example:\n",
    "\n",
    "a = [89, 90, 78, 65]\n",
    "\n",
    "b = \"sudh\"\n",
    "\n",
    "# len()\n",
    "\n",
    "print(\"len(a) : \", len(a))\n",
    "print(\"len(b) : \", len(b))\n",
    "\n",
    "print(\"----------------------------\")\n",
    "\n",
    "# Slice\n",
    "\n",
    "print(a[:2])\n",
    "print(b[:2])\n",
    "\n",
    "print(\"-----------------------------\")\n",
    "# for loop\n",
    "\n",
    "for i in a:\n",
    "    print(i)\n",
    "    \n",
    "for i in b:\n",
    "    print(i)"
   ]
  },
  {
   "cell_type": "code",
   "execution_count": 13,
   "id": "e42ad716",
   "metadata": {},
   "outputs": [],
   "source": [
    "# 13. What is the difference between tuples and lists?\n",
    "\n",
    "# Sol:\n",
    "\n",
    "#     list - list is collection of elements which is enclosed with [] and we can access, slicing and replacing the elements\n",
    "#            That's why list is a mutbale\n",
    "\n",
    "#     tuple - tuple is collection of elements which is enclosed with () and we can access, slicing the elements\n",
    "#             But not replace, That's why tuple is a immutbale"
   ]
  },
  {
   "cell_type": "code",
   "execution_count": 14,
   "id": "16230725",
   "metadata": {},
   "outputs": [
    {
     "name": "stdout",
     "output_type": "stream",
     "text": [
      "<class 'int'>\n",
      "-----------------------\n",
      "<class 'tuple'>\n"
     ]
    }
   ],
   "source": [
    "# 14. How do you type a tuple value that only contains the integer 42?\n",
    "\n",
    "# Sol:\n",
    "\n",
    "a = (42)\n",
    "\n",
    "print(type(a)) # It is int data type because it contains only one element in the tuple\n",
    "\n",
    "print(\"-----------------------\")\n",
    "b = (42,) # If we put a comma after the first element in the list it treat as a tuple\n",
    "\n",
    "print(type(b))"
   ]
  },
  {
   "cell_type": "code",
   "execution_count": 15,
   "id": "7751c054",
   "metadata": {},
   "outputs": [
    {
     "name": "stdout",
     "output_type": "stream",
     "text": [
      "[56, 78, 90]\n",
      "From list form to tuple form\n",
      "\t (56, 78, 90)\n",
      "------------------------------------\n",
      "(89, 78, 76)\n",
      "From tuple form to list form\n",
      "\t [89, 78, 76]\n"
     ]
    }
   ],
   "source": [
    "# 15. How do you get a list values tuple form? How do you get a tuple values list form?\n",
    "\n",
    "# Sol:\n",
    "\n",
    "#   To convert the list values in the tuple and viceversa it is known as typecasting.\n",
    "\n",
    "#  To convert the list to tuple form, the function is tuple\n",
    "\n",
    "a = [56, 78, 90]\n",
    "\n",
    "print(a)\n",
    "\n",
    "print(\"From list form to tuple form\")\n",
    "\n",
    "print(\"\\t\", end = \" \")\n",
    "\n",
    "print(tuple(a))\n",
    "\n",
    "print(\"------------------------------------\")\n",
    "\n",
    "# To convert the tuple form to list form, the function is list\n",
    "\n",
    "b = (89, 78, 76)\n",
    "\n",
    "print(b)\n",
    "\n",
    "print(\"From tuple form to list form\")\n",
    "\n",
    "print(\"\\t\", end = \" \")\n",
    "\n",
    "print(list(b))"
   ]
  },
  {
   "cell_type": "code",
   "execution_count": 16,
   "id": "8aec7712",
   "metadata": {},
   "outputs": [],
   "source": [
    "# 16. Variables that \"contain\" list values are not necessarily lists themselves. Instead, what do they contain?\n",
    "\n",
    "# Sol:\n",
    "\n",
    "#     Variables will contain references to list values "
   ]
  },
  {
   "cell_type": "code",
   "execution_count": 17,
   "id": "2f021068",
   "metadata": {},
   "outputs": [],
   "source": [
    "# 17. How do you distinguish between copy.copy() and copy.deepcopy()?\n",
    "\n",
    "# Sol:\n",
    "\n",
    "#      The copy.copy() function will do a shallow copy of a list, while the copy.deepcopy() function will do a deep copy of a list. \n",
    "#     That is, only copy.deepcopy() will duplicate any lists inside the list."
   ]
  },
  {
   "cell_type": "code",
   "execution_count": null,
   "id": "ad248156",
   "metadata": {},
   "outputs": [],
   "source": []
  },
  {
   "cell_type": "code",
   "execution_count": null,
   "id": "90a09241",
   "metadata": {},
   "outputs": [],
   "source": []
  },
  {
   "cell_type": "code",
   "execution_count": null,
   "id": "dda67cdb",
   "metadata": {},
   "outputs": [],
   "source": []
  }
 ],
 "metadata": {
  "kernelspec": {
   "display_name": "Python 3 (ipykernel)",
   "language": "python",
   "name": "python3"
  },
  "language_info": {
   "codemirror_mode": {
    "name": "ipython",
    "version": 3
   },
   "file_extension": ".py",
   "mimetype": "text/x-python",
   "name": "python",
   "nbconvert_exporter": "python",
   "pygments_lexer": "ipython3",
   "version": "3.9.7"
  }
 },
 "nbformat": 4,
 "nbformat_minor": 5
}
