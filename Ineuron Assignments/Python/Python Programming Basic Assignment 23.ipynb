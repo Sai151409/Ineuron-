{
 "cells": [
  {
   "cell_type": "code",
   "execution_count": 7,
   "id": "fb793035",
   "metadata": {},
   "outputs": [],
   "source": [
    "# Q1. Create a function that takes a number as an argument and returns True or False depending on whether the number \n",
    "#     is symmetrical or not. A number is symmetrical when it is the same as its reverse.\n",
    "#     Examples : \n",
    "#         is_symmetrical(7227) ➞ True\n",
    "#         is_symmetrical(12567) ➞ False\n",
    "#         is_symmetrical(44444444) ➞ True\n",
    "#         is_symmetrical(9939) ➞ False\n",
    "#         is_symmetrical(1112111) ➞ True\n",
    "\n",
    "# Sol :\n",
    "\n",
    "def is_symmetrical(num):\n",
    "    try:\n",
    "        str2 = ''\n",
    "        str1 = str(num)\n",
    "        k = list(str1)\n",
    "        j = k[::-1]\n",
    "        for i in j:\n",
    "            str2 += i\n",
    "        if str1 == str2:\n",
    "            return True\n",
    "        else:\n",
    "            return False\n",
    "    except Exception as e:\n",
    "        print('The error has occured')\n",
    "        print('The error is : ', e)"
   ]
  },
  {
   "cell_type": "code",
   "execution_count": 8,
   "id": "ef6989d2",
   "metadata": {},
   "outputs": [
    {
     "data": {
      "text/plain": [
       "True"
      ]
     },
     "execution_count": 8,
     "metadata": {},
     "output_type": "execute_result"
    }
   ],
   "source": [
    "is_symmetrical(7227)"
   ]
  },
  {
   "cell_type": "code",
   "execution_count": 9,
   "id": "4543edf8",
   "metadata": {},
   "outputs": [
    {
     "data": {
      "text/plain": [
       "False"
      ]
     },
     "execution_count": 9,
     "metadata": {},
     "output_type": "execute_result"
    }
   ],
   "source": [
    "is_symmetrical(12567)"
   ]
  },
  {
   "cell_type": "code",
   "execution_count": 10,
   "id": "2efd44e8",
   "metadata": {},
   "outputs": [
    {
     "data": {
      "text/plain": [
       "True"
      ]
     },
     "execution_count": 10,
     "metadata": {},
     "output_type": "execute_result"
    }
   ],
   "source": [
    "is_symmetrical(44444444)"
   ]
  },
  {
   "cell_type": "code",
   "execution_count": 11,
   "id": "7ae657f0",
   "metadata": {},
   "outputs": [
    {
     "data": {
      "text/plain": [
       "False"
      ]
     },
     "execution_count": 11,
     "metadata": {},
     "output_type": "execute_result"
    }
   ],
   "source": [
    "is_symmetrical(9939)"
   ]
  },
  {
   "cell_type": "code",
   "execution_count": 12,
   "id": "441dd6f4",
   "metadata": {},
   "outputs": [
    {
     "data": {
      "text/plain": [
       "True"
      ]
     },
     "execution_count": 12,
     "metadata": {},
     "output_type": "execute_result"
    }
   ],
   "source": [
    "is_symmetrical(1112111)"
   ]
  },
  {
   "cell_type": "code",
   "execution_count": 20,
   "id": "04ac73c7",
   "metadata": {},
   "outputs": [],
   "source": [
    "# Q2. Given a string of numbers separated by a comma and space, return the product of the numbers.\n",
    "#     Examples : \n",
    "#         multiply_nums(\"2, 3\") ➞ 6\n",
    "#         multiply_nums(\"1, 2, 3, 4\") ➞ 24\n",
    "#         multiply_nums(\"54, 75, 453, 0\") ➞ 0\n",
    "#         multiply_nums(\"10, -2\") ➞ -20\n",
    "\n",
    "# Sol :\n",
    "\n",
    "def multiply_nums(str1):\n",
    "    try:\n",
    "        result = 1\n",
    "        k =  str1.split(',')\n",
    "        for i in k:\n",
    "            result *= int(i)\n",
    "        return result\n",
    "    except Exception as e:\n",
    "        print('The error has occured')\n",
    "        print('The error is : ', e)"
   ]
  },
  {
   "cell_type": "code",
   "execution_count": 21,
   "id": "65b548e7",
   "metadata": {},
   "outputs": [
    {
     "data": {
      "text/plain": [
       "6"
      ]
     },
     "execution_count": 21,
     "metadata": {},
     "output_type": "execute_result"
    }
   ],
   "source": [
    "multiply_nums(\"2, 3\")"
   ]
  },
  {
   "cell_type": "code",
   "execution_count": 22,
   "id": "9ab949af",
   "metadata": {},
   "outputs": [
    {
     "data": {
      "text/plain": [
       "24"
      ]
     },
     "execution_count": 22,
     "metadata": {},
     "output_type": "execute_result"
    }
   ],
   "source": [
    "multiply_nums(\"1, 2, 3, 4\")"
   ]
  },
  {
   "cell_type": "code",
   "execution_count": 23,
   "id": "04dc993b",
   "metadata": {},
   "outputs": [
    {
     "data": {
      "text/plain": [
       "0"
      ]
     },
     "execution_count": 23,
     "metadata": {},
     "output_type": "execute_result"
    }
   ],
   "source": [
    "multiply_nums(\"54, 75, 453, 0\")"
   ]
  },
  {
   "cell_type": "code",
   "execution_count": 24,
   "id": "1bc72f51",
   "metadata": {},
   "outputs": [
    {
     "data": {
      "text/plain": [
       "-20"
      ]
     },
     "execution_count": 24,
     "metadata": {},
     "output_type": "execute_result"
    }
   ],
   "source": [
    "multiply_nums(\"10, -2\")"
   ]
  },
  {
   "cell_type": "code",
   "execution_count": 4,
   "id": "b2192308",
   "metadata": {},
   "outputs": [],
   "source": [
    "# Q3. Create a function that squares every digit of a number.\n",
    "#     Examples : \n",
    "#          square_digits(9119) ➞ 811181\n",
    "#          square_digits(2483) ➞ 416649\n",
    "#          square_digits(3212) ➞ 9414\n",
    "#     Notes :\n",
    "#          The function receives an integer and must return an integer.\n",
    "\n",
    "# Sol :\n",
    "\n",
    "def square_digits(num):\n",
    "    try:\n",
    "        str1 = ''\n",
    "        k  = str(num)\n",
    "        for i in k :\n",
    "            h = int(i)\n",
    "            str1 += str(h ** 2)\n",
    "        return int(str1)\n",
    "    except Exception as e:\n",
    "        print('The error has occured')\n",
    "        print('The error is : ', e)\n",
    "        "
   ]
  },
  {
   "cell_type": "code",
   "execution_count": 5,
   "id": "bb63f17b",
   "metadata": {},
   "outputs": [
    {
     "data": {
      "text/plain": [
       "811181"
      ]
     },
     "execution_count": 5,
     "metadata": {},
     "output_type": "execute_result"
    }
   ],
   "source": [
    "square_digits(9119)"
   ]
  },
  {
   "cell_type": "code",
   "execution_count": 7,
   "id": "2846231b",
   "metadata": {},
   "outputs": [
    {
     "data": {
      "text/plain": [
       "416649"
      ]
     },
     "execution_count": 7,
     "metadata": {},
     "output_type": "execute_result"
    }
   ],
   "source": [
    "square_digits(2483)"
   ]
  },
  {
   "cell_type": "code",
   "execution_count": 8,
   "id": "f6c6eb96",
   "metadata": {},
   "outputs": [
    {
     "data": {
      "text/plain": [
       "9414"
      ]
     },
     "execution_count": 8,
     "metadata": {},
     "output_type": "execute_result"
    }
   ],
   "source": [
    "square_digits(3212)"
   ]
  },
  {
   "cell_type": "code",
   "execution_count": 9,
   "id": "903c1654",
   "metadata": {},
   "outputs": [],
   "source": [
    "# Q4. Create a function that sorts a list and removes all duplicate items from it.\n",
    "#     Examples : \n",
    "#        setify([1, 3, 3, 5, 5]) ➞ [1, 3, 5]\n",
    "#        setify([4, 4, 4, 4]) ➞ [4]\n",
    "#        setify([5, 7, 8, 9, 10, 15]) ➞ [5, 7, 8, 9, 10, 15]\n",
    "#        setify([3, 3, 3, 2, 1]) ➞ [1, 2, 3]\n",
    "\n",
    "\n",
    "# Sol :\n",
    "\n",
    "\n",
    "def setify(lst):\n",
    "    try:\n",
    "        return list(set(lst))\n",
    "    except Exception as e:\n",
    "        print('The error has occured')\n",
    "        print('The errro is : ', e)"
   ]
  },
  {
   "cell_type": "code",
   "execution_count": 10,
   "id": "a7a70462",
   "metadata": {},
   "outputs": [
    {
     "data": {
      "text/plain": [
       "[1, 3, 5]"
      ]
     },
     "execution_count": 10,
     "metadata": {},
     "output_type": "execute_result"
    }
   ],
   "source": [
    "setify([1, 3, 3, 5, 5])"
   ]
  },
  {
   "cell_type": "code",
   "execution_count": 11,
   "id": "12a4b7a0",
   "metadata": {},
   "outputs": [
    {
     "data": {
      "text/plain": [
       "[4]"
      ]
     },
     "execution_count": 11,
     "metadata": {},
     "output_type": "execute_result"
    }
   ],
   "source": [
    "setify([4, 4, 4, 4])"
   ]
  },
  {
   "cell_type": "code",
   "execution_count": 12,
   "id": "96d3f532",
   "metadata": {},
   "outputs": [
    {
     "data": {
      "text/plain": [
       "[5, 7, 8, 9, 10, 15]"
      ]
     },
     "execution_count": 12,
     "metadata": {},
     "output_type": "execute_result"
    }
   ],
   "source": [
    "setify([5, 7, 8, 9, 10, 15])"
   ]
  },
  {
   "cell_type": "code",
   "execution_count": 13,
   "id": "af91b399",
   "metadata": {},
   "outputs": [
    {
     "data": {
      "text/plain": [
       "[1, 2, 3]"
      ]
     },
     "execution_count": 13,
     "metadata": {},
     "output_type": "execute_result"
    }
   ],
   "source": [
    "setify([3, 3, 3, 2, 1])"
   ]
  },
  {
   "cell_type": "code",
   "execution_count": 24,
   "id": "d5e54f4a",
   "metadata": {},
   "outputs": [],
   "source": [
    "# Q5. Create a function that returns the mean of all digits.\n",
    "#     Examples : \n",
    "#        mean(42) ➞ 3\n",
    "#        mean(12345) ➞ 3\n",
    "#        mean(666) ➞ 6\n",
    "#        Notes :\n",
    "#           The mean of all digits is the sum of digits / how many digits there are (e.g. mean of digits in\n",
    "#               512 is (5+1+2)/3(number of digits) = 8/3=2).\n",
    "#           The mean will always be an integer.\n",
    "\n",
    "# Sol :\n",
    "\n",
    "\n",
    "def mean(num):\n",
    "    try:\n",
    "        k= []\n",
    "        n = str(num)\n",
    "        for i in n:\n",
    "            k.append(int(i))\n",
    "        return int(sum(k)/len(k))\n",
    "    except Exception as e:\n",
    "        print('The error has occured')\n",
    "        print('The error is : ', e)"
   ]
  },
  {
   "cell_type": "code",
   "execution_count": 25,
   "id": "6c986382",
   "metadata": {},
   "outputs": [
    {
     "data": {
      "text/plain": [
       "3"
      ]
     },
     "execution_count": 25,
     "metadata": {},
     "output_type": "execute_result"
    }
   ],
   "source": [
    "mean(42)"
   ]
  },
  {
   "cell_type": "code",
   "execution_count": 26,
   "id": "337f953c",
   "metadata": {},
   "outputs": [
    {
     "data": {
      "text/plain": [
       "3"
      ]
     },
     "execution_count": 26,
     "metadata": {},
     "output_type": "execute_result"
    }
   ],
   "source": [
    "mean(12345)"
   ]
  },
  {
   "cell_type": "code",
   "execution_count": 27,
   "id": "4bb3dafb",
   "metadata": {},
   "outputs": [
    {
     "data": {
      "text/plain": [
       "6"
      ]
     },
     "execution_count": 27,
     "metadata": {},
     "output_type": "execute_result"
    }
   ],
   "source": [
    "mean(666)"
   ]
  },
  {
   "cell_type": "code",
   "execution_count": null,
   "id": "6faa2478",
   "metadata": {},
   "outputs": [],
   "source": []
  },
  {
   "cell_type": "code",
   "execution_count": null,
   "id": "1b3fea82",
   "metadata": {},
   "outputs": [],
   "source": []
  }
 ],
 "metadata": {
  "kernelspec": {
   "display_name": "Python 3 (ipykernel)",
   "language": "python",
   "name": "python3"
  },
  "language_info": {
   "codemirror_mode": {
    "name": "ipython",
    "version": 3
   },
   "file_extension": ".py",
   "mimetype": "text/x-python",
   "name": "python",
   "nbconvert_exporter": "python",
   "pygments_lexer": "ipython3",
   "version": "3.9.7"
  }
 },
 "nbformat": 4,
 "nbformat_minor": 5
}
