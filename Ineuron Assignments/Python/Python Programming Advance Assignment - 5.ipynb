{
 "cells": [
  {
   "cell_type": "code",
   "execution_count": 1,
   "id": "aba723f5",
   "metadata": {},
   "outputs": [],
   "source": [
    "# 1.Create a function that takes a number n (integer greater than zero) as an argument, and returns 2 if n is odd and 8 if n is \n",
    "#   even. You can only use the following arithmetic operators: addition of numbers +, subtraction of numbers -, multiplication \n",
    "#   of number *, division of number /, and exponentiation **.\n",
    "#   You are not allowed to use any other methods in this challenge (i.e. no if statements, comparison operators, etc).\n",
    "#   Examples:\n",
    "#     f(1) ➞ 2\n",
    "#     f(2) ➞ 8\n",
    "#     f(3) ➞ 2\n",
    "\n",
    "# Sol : \n",
    "def f(n):\n",
    "    try:\n",
    "        result = [8, 2]\n",
    "        return result[n&1]\n",
    "    except Exception as e:\n",
    "        return e"
   ]
  },
  {
   "cell_type": "code",
   "execution_count": 2,
   "id": "07bc5a47",
   "metadata": {},
   "outputs": [
    {
     "data": {
      "text/plain": [
       "2"
      ]
     },
     "execution_count": 2,
     "metadata": {},
     "output_type": "execute_result"
    }
   ],
   "source": [
    "f(1)"
   ]
  },
  {
   "cell_type": "code",
   "execution_count": 3,
   "id": "838d8e0b",
   "metadata": {},
   "outputs": [
    {
     "data": {
      "text/plain": [
       "8"
      ]
     },
     "execution_count": 3,
     "metadata": {},
     "output_type": "execute_result"
    }
   ],
   "source": [
    "f(2) "
   ]
  },
  {
   "cell_type": "code",
   "execution_count": 4,
   "id": "cc51251b",
   "metadata": {},
   "outputs": [
    {
     "data": {
      "text/plain": [
       "2"
      ]
     },
     "execution_count": 4,
     "metadata": {},
     "output_type": "execute_result"
    }
   ],
   "source": [
    "f(3) "
   ]
  },
  {
   "cell_type": "code",
   "execution_count": 5,
   "id": "b993cb67",
   "metadata": {},
   "outputs": [],
   "source": [
    "# 2.Create a function that returns the majority vote in a list. A majority vote is an element that occurs > N/2 times in a list \n",
    "#   (where N is the length of the list).\n",
    "#   Examples:\n",
    "#   majority_vote([\"A\", \"A\", \"B\"]) ➞ \"A\"\n",
    "#   majority_vote([\"A\", \"A\", \"A\", \"B\", \"C\", \"A\"]) ➞ \"A\"\n",
    "#   majority_vote([\"A\", \"B\", \"B\", \"A\", \"C\", \"C\"]) ➞ None\n",
    "\n",
    "# Sol :\n",
    "\n",
    "def majority_vote(lst : list):\n",
    "    try:\n",
    "        result = {}\n",
    "        for i in set(lst):\n",
    "            result[lst.count(i)] = i\n",
    "        if len(set(result.keys())) > 1:\n",
    "            print(result[max(result)])\n",
    "        else:\n",
    "            print(None)\n",
    "    except Exception as e:\n",
    "        return e"
   ]
  },
  {
   "cell_type": "code",
   "execution_count": 6,
   "id": "7c73655e",
   "metadata": {},
   "outputs": [
    {
     "name": "stdout",
     "output_type": "stream",
     "text": [
      "A\n"
     ]
    }
   ],
   "source": [
    "majority_vote([\"A\", \"A\", \"B\"])"
   ]
  },
  {
   "cell_type": "code",
   "execution_count": 7,
   "id": "cbe1dbd3",
   "metadata": {},
   "outputs": [
    {
     "name": "stdout",
     "output_type": "stream",
     "text": [
      "A\n"
     ]
    }
   ],
   "source": [
    "majority_vote([\"A\", \"A\", \"A\", \"B\", \"C\", \"A\"])"
   ]
  },
  {
   "cell_type": "code",
   "execution_count": 8,
   "id": "c5898fc3",
   "metadata": {},
   "outputs": [
    {
     "name": "stdout",
     "output_type": "stream",
     "text": [
      "None\n"
     ]
    }
   ],
   "source": [
    "majority_vote([\"A\", \"B\", \"B\", \"A\", \"C\", \"C\"])"
   ]
  },
  {
   "cell_type": "code",
   "execution_count": 9,
   "id": "08caff15",
   "metadata": {},
   "outputs": [],
   "source": [
    "# 3.Create a function that takes a string txt and censors any word from a given list lst. The text removed must be replaced by \n",
    "#   the given character char.\n",
    "#   Examples:\n",
    "#     censor_string(\"Today is a Wednesday!\", [\"Today\", \"a\"], \"-\") ➞ \"----- is - Wednesday!\"\n",
    "#     censor_string(\"The cow jumped over the moon.\", [\"cow\", \"over\"], \"*\"), \"The *** jumped **** the moon.\")\n",
    "#     censor_string(\"Why did the chicken cross the road ?\", [\"Did\", \"chicken\", \"road\"], \"*\") ➞ \"Why *** the ******* cross \n",
    "#      the ****?\"\n",
    "\n",
    "def censor_string(s1, s2, sign):\n",
    "    try:\n",
    "        result = []\n",
    "        for i in s1.split(\" \"):\n",
    "            if i in s2:\n",
    "                result.append(len(i) * sign)\n",
    "            else:\n",
    "                result.append(i)\n",
    "        return \" \".join(result)\n",
    "    except Exception as e:\n",
    "        return e"
   ]
  },
  {
   "cell_type": "code",
   "execution_count": 10,
   "id": "40edc53d",
   "metadata": {},
   "outputs": [
    {
     "data": {
      "text/plain": [
       "'----- is - Wednesday!'"
      ]
     },
     "execution_count": 10,
     "metadata": {},
     "output_type": "execute_result"
    }
   ],
   "source": [
    "censor_string(\"Today is a Wednesday!\", [\"Today\", \"a\"], \"-\")"
   ]
  },
  {
   "cell_type": "code",
   "execution_count": 11,
   "id": "cc291f86",
   "metadata": {},
   "outputs": [
    {
     "data": {
      "text/plain": [
       "'The *** jumped **** the moon.'"
      ]
     },
     "execution_count": 11,
     "metadata": {},
     "output_type": "execute_result"
    }
   ],
   "source": [
    "censor_string(\"The cow jumped over the moon.\", [\"cow\", \"over\"], \"*\")"
   ]
  },
  {
   "cell_type": "code",
   "execution_count": 12,
   "id": "da45cadd",
   "metadata": {},
   "outputs": [
    {
     "data": {
      "text/plain": [
       "'Why did the ******* cross the **** ?'"
      ]
     },
     "execution_count": 12,
     "metadata": {},
     "output_type": "execute_result"
    }
   ],
   "source": [
    "censor_string(\"Why did the chicken cross the road ?\", [\"Did\", \"chicken\", \"road\"], \"*\")"
   ]
  },
  {
   "cell_type": "code",
   "execution_count": 13,
   "id": "7a9b5f64",
   "metadata": {},
   "outputs": [],
   "source": [
    "# 4.In mathematics a Polydivisible Number (or magic number) is a number in a given number base with digits abcde.. that has the \n",
    "#   following properties:\n",
    "#   Its first digit a is not 0.\n",
    "#   The number formed by its first two digits ab is a multiple of 2.\n",
    "#   The number formed by its first three digits abc is a multiple of 3.\n",
    "#   The number formed by its first four digits abcd is a multiple of 4.\n",
    "#   Create a function which takes an integer n and returns True if the given number is a Polydivisible Number and False \n",
    "#   otherwise.\n",
    "\n",
    "#   Examples:\n",
    "#    is_polydivisible(1232) ➞ True \n",
    "#    1 / 1 = 1 \n",
    "#    12 / 2 = 6 \n",
    "#    123 / 3 = 41 \n",
    "#    1232 / 4 = 308 \n",
    "#    is_polydivisible(123220 ) ➞ False \n",
    "#    1 / 1 = 1 \n",
    "#    12 / 2 = 6 \n",
    "#    123 / 3 = 41 \n",
    "#    1232 / 4 = 308 \n",
    "#    12322 / 5 = 2464.4 Not a Whole Number \n",
    "#    123220 /6 = 220536.333... Not a Whole Number"
   ]
  },
  {
   "cell_type": "code",
   "execution_count": 14,
   "id": "fd539c6f",
   "metadata": {},
   "outputs": [],
   "source": [
    "def is_polydivisible(num):\n",
    "    result = set()\n",
    "    num = str(num)\n",
    "    for i in range(len(num)):\n",
    "        if int(int(num[:i+1]) / (i+1)) == int(num[:i+1]) / (i+1):\n",
    "            result.add(True)\n",
    "        else:\n",
    "            result.add(False)\n",
    "    if result == {True}:\n",
    "        return True\n",
    "    else:\n",
    "        return False"
   ]
  },
  {
   "cell_type": "code",
   "execution_count": 15,
   "id": "f4ce84bb",
   "metadata": {},
   "outputs": [
    {
     "data": {
      "text/plain": [
       "True"
      ]
     },
     "execution_count": 15,
     "metadata": {},
     "output_type": "execute_result"
    }
   ],
   "source": [
    "is_polydivisible(1232)"
   ]
  },
  {
   "cell_type": "code",
   "execution_count": 16,
   "id": "c6aab79e",
   "metadata": {},
   "outputs": [
    {
     "data": {
      "text/plain": [
       "False"
      ]
     },
     "execution_count": 16,
     "metadata": {},
     "output_type": "execute_result"
    }
   ],
   "source": [
    "is_polydivisible(123220 )"
   ]
  },
  {
   "cell_type": "code",
   "execution_count": 17,
   "id": "76c290c5",
   "metadata": {},
   "outputs": [],
   "source": [
    "# 5. Create a function that takes a list of numbers and returns the sum of all prime numbers in the list.\n",
    "# Examples:\n",
    "# sum_primes([1, 2, 3, 4, 5, 6, 7, 8, 9, 10]) ➞ 17\n",
    "# sum_primes([2, 3, 4, 11, 20, 50, 71]) ➞ 87\n",
    "# sum_primes([]) ➞ None\n",
    "\n",
    "# Sol :\n",
    "\n",
    "def sum_primes(lst : list):\n",
    "    try:\n",
    "        pass\n",
    "    except Exception as e:\n",
    "        return e"
   ]
  },
  {
   "cell_type": "code",
   "execution_count": 18,
   "id": "fbd58707",
   "metadata": {},
   "outputs": [],
   "source": [
    "def sum_primes(lst : list):\n",
    "    result = 0\n",
    "    if len(lst) == 0:\n",
    "        return None\n",
    "    for i in lst:\n",
    "        if i == 1:\n",
    "            continue\n",
    "        elif i == 2:\n",
    "            result += 2\n",
    "        else:\n",
    "            for j in range(2, i):\n",
    "                if i % j == 0:\n",
    "                    break\n",
    "            else:\n",
    "                result += i\n",
    "    return result"
   ]
  },
  {
   "cell_type": "code",
   "execution_count": 19,
   "id": "eb5c8845",
   "metadata": {},
   "outputs": [
    {
     "name": "stdout",
     "output_type": "stream",
     "text": [
      "17\n"
     ]
    }
   ],
   "source": [
    "print(sum_primes([1, 2, 3, 4, 5, 6, 7, 8, 9, 10]))"
   ]
  },
  {
   "cell_type": "code",
   "execution_count": 20,
   "id": "512a110f",
   "metadata": {},
   "outputs": [
    {
     "name": "stdout",
     "output_type": "stream",
     "text": [
      "87\n"
     ]
    }
   ],
   "source": [
    "print(sum_primes([2, 3, 4, 11, 20, 50, 71]))"
   ]
  },
  {
   "cell_type": "code",
   "execution_count": 21,
   "id": "f522cfd5",
   "metadata": {},
   "outputs": [
    {
     "name": "stdout",
     "output_type": "stream",
     "text": [
      "None\n"
     ]
    }
   ],
   "source": [
    "print(sum_primes([]))"
   ]
  },
  {
   "cell_type": "code",
   "execution_count": null,
   "id": "e00b05cd",
   "metadata": {},
   "outputs": [],
   "source": []
  }
 ],
 "metadata": {
  "kernelspec": {
   "display_name": "Python 3 (ipykernel)",
   "language": "python",
   "name": "python3"
  },
  "language_info": {
   "codemirror_mode": {
    "name": "ipython",
    "version": 3
   },
   "file_extension": ".py",
   "mimetype": "text/x-python",
   "name": "python",
   "nbconvert_exporter": "python",
   "pygments_lexer": "ipython3",
   "version": "3.9.12"
  }
 },
 "nbformat": 4,
 "nbformat_minor": 5
}
