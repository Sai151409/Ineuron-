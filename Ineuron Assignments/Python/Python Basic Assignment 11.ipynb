{
 "cells": [
  {
   "cell_type": "code",
   "execution_count": 1,
   "id": "1de62c5e",
   "metadata": {},
   "outputs": [],
   "source": [
    "# 1. Create an assert statement that throws an AssertionError if the variable spam is a negative integer.\n",
    "\n",
    "# Sol:\n",
    "\n",
    "def asert():\n",
    "    spam = int(input('Enter the number : '))\n",
    "    assert spam > 0, f'{spam} is a negative number'\n",
    "    print(spam)"
   ]
  },
  {
   "cell_type": "code",
   "execution_count": 2,
   "id": "0b4ea592",
   "metadata": {},
   "outputs": [
    {
     "name": "stdout",
     "output_type": "stream",
     "text": [
      "Enter the number : 45696\n",
      "45696\n"
     ]
    }
   ],
   "source": [
    "asert()"
   ]
  },
  {
   "cell_type": "code",
   "execution_count": 3,
   "id": "d0774eb1",
   "metadata": {},
   "outputs": [
    {
     "name": "stdout",
     "output_type": "stream",
     "text": [
      "Enter the number : -895623\n"
     ]
    },
    {
     "ename": "AssertionError",
     "evalue": "-895623 is a negative number",
     "output_type": "error",
     "traceback": [
      "\u001b[1;31m---------------------------------------------------------------------------\u001b[0m",
      "\u001b[1;31mAssertionError\u001b[0m                            Traceback (most recent call last)",
      "Input \u001b[1;32mIn [3]\u001b[0m, in \u001b[0;36m<cell line: 1>\u001b[1;34m()\u001b[0m\n\u001b[1;32m----> 1\u001b[0m \u001b[43masert\u001b[49m\u001b[43m(\u001b[49m\u001b[43m)\u001b[49m\n",
      "Input \u001b[1;32mIn [1]\u001b[0m, in \u001b[0;36masert\u001b[1;34m()\u001b[0m\n\u001b[0;32m      5\u001b[0m \u001b[38;5;28;01mdef\u001b[39;00m \u001b[38;5;21masert\u001b[39m():\n\u001b[0;32m      6\u001b[0m     spam \u001b[38;5;241m=\u001b[39m \u001b[38;5;28mint\u001b[39m(\u001b[38;5;28minput\u001b[39m(\u001b[38;5;124m'\u001b[39m\u001b[38;5;124mEnter the number : \u001b[39m\u001b[38;5;124m'\u001b[39m))\n\u001b[1;32m----> 7\u001b[0m     \u001b[38;5;28;01massert\u001b[39;00m spam \u001b[38;5;241m>\u001b[39m \u001b[38;5;241m0\u001b[39m, \u001b[38;5;124mf\u001b[39m\u001b[38;5;124m'\u001b[39m\u001b[38;5;132;01m{\u001b[39;00mspam\u001b[38;5;132;01m}\u001b[39;00m\u001b[38;5;124m is a negative number\u001b[39m\u001b[38;5;124m'\u001b[39m\n\u001b[0;32m      8\u001b[0m     \u001b[38;5;28mprint\u001b[39m(spam)\n",
      "\u001b[1;31mAssertionError\u001b[0m: -895623 is a negative number"
     ]
    }
   ],
   "source": [
    "asert()"
   ]
  },
  {
   "cell_type": "code",
   "execution_count": 4,
   "id": "45f6619d",
   "metadata": {},
   "outputs": [],
   "source": [
    "# 2. Write an assert statement that triggers an AssertionError if the variables eggs and bacon contain strings that are the same\n",
    "#    as each other, even if their cases are different (that is, 'hello' and 'hello' are considered the same, and 'goodbye' \n",
    "#    and 'GOODbye' are also considered the same).\n",
    "\n",
    "# Sol :\n",
    "\n",
    "def asrt():\n",
    "    eggs = input('Enter the first string : ')\n",
    "    bacon = input('Enter the second string : ')\n",
    "    assert eggs.lower() != bacon.lower(), f'Both strings are same'\n",
    "    print('Both strings are not same')"
   ]
  },
  {
   "cell_type": "code",
   "execution_count": 5,
   "id": "6ddbd87a",
   "metadata": {},
   "outputs": [
    {
     "name": "stdout",
     "output_type": "stream",
     "text": [
      "Enter the first string : hello\n",
      "Enter the second string : hello\n"
     ]
    },
    {
     "ename": "AssertionError",
     "evalue": "Both strings are same",
     "output_type": "error",
     "traceback": [
      "\u001b[1;31m---------------------------------------------------------------------------\u001b[0m",
      "\u001b[1;31mAssertionError\u001b[0m                            Traceback (most recent call last)",
      "Input \u001b[1;32mIn [5]\u001b[0m, in \u001b[0;36m<cell line: 1>\u001b[1;34m()\u001b[0m\n\u001b[1;32m----> 1\u001b[0m \u001b[43masrt\u001b[49m\u001b[43m(\u001b[49m\u001b[43m)\u001b[49m\n",
      "Input \u001b[1;32mIn [4]\u001b[0m, in \u001b[0;36masrt\u001b[1;34m()\u001b[0m\n\u001b[0;32m      8\u001b[0m eggs \u001b[38;5;241m=\u001b[39m \u001b[38;5;28minput\u001b[39m(\u001b[38;5;124m'\u001b[39m\u001b[38;5;124mEnter the first string : \u001b[39m\u001b[38;5;124m'\u001b[39m)\n\u001b[0;32m      9\u001b[0m bacon \u001b[38;5;241m=\u001b[39m \u001b[38;5;28minput\u001b[39m(\u001b[38;5;124m'\u001b[39m\u001b[38;5;124mEnter the second string : \u001b[39m\u001b[38;5;124m'\u001b[39m)\n\u001b[1;32m---> 10\u001b[0m \u001b[38;5;28;01massert\u001b[39;00m eggs\u001b[38;5;241m.\u001b[39mlower() \u001b[38;5;241m!=\u001b[39m bacon\u001b[38;5;241m.\u001b[39mlower(), \u001b[38;5;124mf\u001b[39m\u001b[38;5;124m'\u001b[39m\u001b[38;5;124mBoth strings are same\u001b[39m\u001b[38;5;124m'\u001b[39m\n\u001b[0;32m     11\u001b[0m \u001b[38;5;28mprint\u001b[39m(\u001b[38;5;124m'\u001b[39m\u001b[38;5;124mBoth strings are not same\u001b[39m\u001b[38;5;124m'\u001b[39m)\n",
      "\u001b[1;31mAssertionError\u001b[0m: Both strings are same"
     ]
    }
   ],
   "source": [
    "asrt()"
   ]
  },
  {
   "cell_type": "code",
   "execution_count": 6,
   "id": "7a497b74",
   "metadata": {},
   "outputs": [
    {
     "name": "stdout",
     "output_type": "stream",
     "text": [
      "Enter the first string : GOODBYE\n",
      "Enter the second string : goodbye\n"
     ]
    },
    {
     "ename": "AssertionError",
     "evalue": "Both strings are same",
     "output_type": "error",
     "traceback": [
      "\u001b[1;31m---------------------------------------------------------------------------\u001b[0m",
      "\u001b[1;31mAssertionError\u001b[0m                            Traceback (most recent call last)",
      "Input \u001b[1;32mIn [6]\u001b[0m, in \u001b[0;36m<cell line: 1>\u001b[1;34m()\u001b[0m\n\u001b[1;32m----> 1\u001b[0m \u001b[43masrt\u001b[49m\u001b[43m(\u001b[49m\u001b[43m)\u001b[49m\n",
      "Input \u001b[1;32mIn [4]\u001b[0m, in \u001b[0;36masrt\u001b[1;34m()\u001b[0m\n\u001b[0;32m      8\u001b[0m eggs \u001b[38;5;241m=\u001b[39m \u001b[38;5;28minput\u001b[39m(\u001b[38;5;124m'\u001b[39m\u001b[38;5;124mEnter the first string : \u001b[39m\u001b[38;5;124m'\u001b[39m)\n\u001b[0;32m      9\u001b[0m bacon \u001b[38;5;241m=\u001b[39m \u001b[38;5;28minput\u001b[39m(\u001b[38;5;124m'\u001b[39m\u001b[38;5;124mEnter the second string : \u001b[39m\u001b[38;5;124m'\u001b[39m)\n\u001b[1;32m---> 10\u001b[0m \u001b[38;5;28;01massert\u001b[39;00m eggs\u001b[38;5;241m.\u001b[39mlower() \u001b[38;5;241m!=\u001b[39m bacon\u001b[38;5;241m.\u001b[39mlower(), \u001b[38;5;124mf\u001b[39m\u001b[38;5;124m'\u001b[39m\u001b[38;5;124mBoth strings are same\u001b[39m\u001b[38;5;124m'\u001b[39m\n\u001b[0;32m     11\u001b[0m \u001b[38;5;28mprint\u001b[39m(\u001b[38;5;124m'\u001b[39m\u001b[38;5;124mBoth strings are not same\u001b[39m\u001b[38;5;124m'\u001b[39m)\n",
      "\u001b[1;31mAssertionError\u001b[0m: Both strings are same"
     ]
    }
   ],
   "source": [
    "asrt()"
   ]
  },
  {
   "cell_type": "code",
   "execution_count": 7,
   "id": "eb9daaca",
   "metadata": {},
   "outputs": [
    {
     "name": "stdout",
     "output_type": "stream",
     "text": [
      "Enter the first string : Sai Kumar\n",
      "Enter the second string : Sai Krishna\n",
      "Both strings are not same\n"
     ]
    }
   ],
   "source": [
    "asrt()"
   ]
  },
  {
   "cell_type": "code",
   "execution_count": 8,
   "id": "83acaf59",
   "metadata": {},
   "outputs": [],
   "source": [
    "# 3. Create an assert statement that throws an AssertionError every time.\n",
    "\n",
    "# Sol : \n",
    "\n",
    "def always():\n",
    "    assert False, 'Always shows Assertion Error'"
   ]
  },
  {
   "cell_type": "code",
   "execution_count": 9,
   "id": "f0fef863",
   "metadata": {},
   "outputs": [
    {
     "ename": "AssertionError",
     "evalue": "Always shows Assertion Error",
     "output_type": "error",
     "traceback": [
      "\u001b[1;31m---------------------------------------------------------------------------\u001b[0m",
      "\u001b[1;31mAssertionError\u001b[0m                            Traceback (most recent call last)",
      "Input \u001b[1;32mIn [9]\u001b[0m, in \u001b[0;36m<cell line: 1>\u001b[1;34m()\u001b[0m\n\u001b[1;32m----> 1\u001b[0m \u001b[43malways\u001b[49m\u001b[43m(\u001b[49m\u001b[43m)\u001b[49m\n",
      "Input \u001b[1;32mIn [8]\u001b[0m, in \u001b[0;36malways\u001b[1;34m()\u001b[0m\n\u001b[0;32m      5\u001b[0m \u001b[38;5;28;01mdef\u001b[39;00m \u001b[38;5;21malways\u001b[39m():\n\u001b[1;32m----> 6\u001b[0m     \u001b[38;5;28;01massert\u001b[39;00m \u001b[38;5;28;01mFalse\u001b[39;00m, \u001b[38;5;124m'\u001b[39m\u001b[38;5;124mAlways shows Assertion Error\u001b[39m\u001b[38;5;124m'\u001b[39m\n",
      "\u001b[1;31mAssertionError\u001b[0m: Always shows Assertion Error"
     ]
    }
   ],
   "source": [
    "always()"
   ]
  },
  {
   "cell_type": "code",
   "execution_count": 10,
   "id": "33bd8b10",
   "metadata": {},
   "outputs": [],
   "source": [
    "# 4. What are the two lines that must be present in your software in order to call logging.debug()?\n",
    "\n",
    "# Sol :\n",
    "\n",
    "import logging\n",
    "logging.basicConfig(filename  = 'application.txt', level=logging.DEBUG, format = ' %(asctime)s - %(levelname)s - %(message)s')"
   ]
  },
  {
   "cell_type": "code",
   "execution_count": 11,
   "id": "d805594f",
   "metadata": {},
   "outputs": [],
   "source": [
    "# 5. What are the two lines that your program must have in order to have logging.debug() send a logging message to a file \n",
    "#    named programLog.txt?\n",
    "\n",
    "# Sol :\n",
    "\n",
    "import logging\n",
    "logging.basicConfig(filename = 'application.txt', level = logging.DEBUG, format = '%(asctime)s - %(levelname)s - %(message)s')"
   ]
  },
  {
   "cell_type": "code",
   "execution_count": 12,
   "id": "23e4fcc1",
   "metadata": {},
   "outputs": [],
   "source": [
    "logging.debug('Data is inserted sucessfully')\n",
    "logging.debug('Conncetion closed sucessfully')"
   ]
  },
  {
   "cell_type": "code",
   "execution_count": 14,
   "id": "2e319102",
   "metadata": {},
   "outputs": [
    {
     "name": "stdout",
     "output_type": "stream",
     "text": [
      " 2022-08-24 19:21:59,130 - DEBUG - Data is inserted sucessfully\n",
      "\n",
      " 2022-08-24 19:21:59,130 - DEBUG - Conncetion closed sucessfully\n",
      "\n",
      " 2022-08-24 19:22:11,160 - DEBUG - pickle loaded: C:\\Users\\Asus\\anaconda3\\lib\\site-packages\\jedi\\third_party\\typeshed\\stdlib\\3\\builtins.pyi\n",
      "\n",
      " 2022-08-24 19:22:12,558 - DEBUG - diff parser start\n",
      "\n",
      " 2022-08-24 19:22:12,558 - DEBUG - line_lengths old: 1; new: 1\n",
      "\n",
      " 2022-08-24 19:22:12,558 - DEBUG - -> code[replace] old[1:1] new[1:1]\n",
      "\n",
      " 2022-08-24 19:22:12,558 - DEBUG - parse_part from 1 to 1 (to 0 in part parser)\n",
      "\n",
      " 2022-08-24 19:22:12,558 - DEBUG - diff parser end\n",
      "\n"
     ]
    }
   ],
   "source": [
    "file = open('application.txt', 'r')\n",
    "for i in file.readlines():\n",
    "    print(i)"
   ]
  },
  {
   "cell_type": "code",
   "execution_count": 15,
   "id": "ce32161d",
   "metadata": {},
   "outputs": [],
   "source": [
    "# 6. What are the five levels of logging?\n",
    "\n",
    "# Sol :  The five levels of logging is critical, debug, info, warning, error"
   ]
  },
  {
   "cell_type": "code",
   "execution_count": 16,
   "id": "2de6e464",
   "metadata": {},
   "outputs": [],
   "source": [
    "# 7. What line of code would you add to your software to disable all logging messages?\n",
    "logging.disable = True"
   ]
  },
  {
   "cell_type": "code",
   "execution_count": 17,
   "id": "897d50d9",
   "metadata": {},
   "outputs": [],
   "source": [
    "# 8.Why is using logging messages better than using print() to display the same message?\n",
    "\n",
    "# Sol :\n",
    "\n",
    "#    Print is mainly used to display the message on console but if you get an error while you are doing a project code doesn't \n",
    "#    have access to the console, its very difficult to debug the code by using print statemement\n",
    "\n",
    "#    In logging it has severity levels. It will track the each and every event of the code like info, debug, error, warning\n",
    "#    It stores the each and every event in log file that's why we can debug the code very easily. we can also disable the \n",
    "#    logging messages with out remove its function."
   ]
  },
  {
   "cell_type": "code",
   "execution_count": 18,
   "id": "8c35713c",
   "metadata": {},
   "outputs": [],
   "source": [
    "# 10. What are the differences between the Step Over, Step In, and Step Out buttons in the debugger?\n",
    "\n",
    "# Sol : \n",
    "\n",
    "# Step In : Step In will cause the debugger to execute the next line of code then pause again\n",
    "\n",
    "# Step Over : Step Over will execute the next line of code just like step in. But if the next line of code is function call\n",
    "#             step over will step over to the code of the function. Function will be exceuted at high speed, the debugger will also\n",
    "#             pause until the function call returns\n",
    "\n",
    "# Step Out : Step out causes the debugger to execute the lines of code at full speed until it returns from the current function."
   ]
  },
  {
   "cell_type": "code",
   "execution_count": 19,
   "id": "c86cc3db",
   "metadata": {},
   "outputs": [],
   "source": [
    "# 10. After you click Continue, when will the debugger stop ?\n",
    "\n",
    "# Sol : Continue will cause the progarm to continue running normally without pausing any debugger until it terminates or reaches the break point "
   ]
  },
  {
   "cell_type": "code",
   "execution_count": 20,
   "id": "96b9f483",
   "metadata": {},
   "outputs": [],
   "source": [
    "# 11. What is the concept of a breakpoint?\n",
    "\n",
    "# Sol : Break point is a setting a line of code that causes the debugger to pause when the program execution reaches the line "
   ]
  },
  {
   "cell_type": "code",
   "execution_count": null,
   "id": "e32d8996",
   "metadata": {},
   "outputs": [],
   "source": []
  }
 ],
 "metadata": {
  "kernelspec": {
   "display_name": "Python 3 (ipykernel)",
   "language": "python",
   "name": "python3"
  },
  "language_info": {
   "codemirror_mode": {
    "name": "ipython",
    "version": 3
   },
   "file_extension": ".py",
   "mimetype": "text/x-python",
   "name": "python",
   "nbconvert_exporter": "python",
   "pygments_lexer": "ipython3",
   "version": "3.9.12"
  }
 },
 "nbformat": 4,
 "nbformat_minor": 5
}
