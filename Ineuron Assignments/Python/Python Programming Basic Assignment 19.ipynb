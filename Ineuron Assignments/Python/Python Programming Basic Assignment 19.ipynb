{
 "cells": [
  {
   "cell_type": "code",
   "execution_count": 1,
   "id": "c150c5ae",
   "metadata": {},
   "outputs": [],
   "source": [
    "# Q1. Create a function that takes a string and returns a string in which each character is repeated once.\n",
    "#     Examples : \n",
    "#     double_char('String') ➞ 'SSttrriinngg'\n",
    "#     double_char('Hello World!') ➞ 'HHeelllloo WWoorrlldd!!'\n",
    "#     double_char('1234!_ ') ➞ '11223344!!__ '\n",
    "\n",
    "# Sol :\n",
    "\n",
    "def double_char(string):\n",
    "    try:\n",
    "        k = ''\n",
    "        for i in string:\n",
    "            k += i * 2\n",
    "        return k\n",
    "    except Exception as e:\n",
    "        print('The error has occured')\n",
    "        print('The error is : ', e)"
   ]
  },
  {
   "cell_type": "code",
   "execution_count": 2,
   "id": "7acb3ba6",
   "metadata": {},
   "outputs": [
    {
     "data": {
      "text/plain": [
       "'SSttrriinngg'"
      ]
     },
     "execution_count": 2,
     "metadata": {},
     "output_type": "execute_result"
    }
   ],
   "source": [
    "double_char('String')"
   ]
  },
  {
   "cell_type": "code",
   "execution_count": 3,
   "id": "f4441841",
   "metadata": {},
   "outputs": [
    {
     "data": {
      "text/plain": [
       "'HHeelllloo  WWoorrlldd!!'"
      ]
     },
     "execution_count": 3,
     "metadata": {},
     "output_type": "execute_result"
    }
   ],
   "source": [
    "double_char('Hello World!')"
   ]
  },
  {
   "cell_type": "code",
   "execution_count": 4,
   "id": "0389122d",
   "metadata": {},
   "outputs": [
    {
     "data": {
      "text/plain": [
       "'11223344!!__  '"
      ]
     },
     "execution_count": 4,
     "metadata": {},
     "output_type": "execute_result"
    }
   ],
   "source": [
    "double_char('1234!_ ') "
   ]
  },
  {
   "cell_type": "code",
   "execution_count": 5,
   "id": "d9343521",
   "metadata": {},
   "outputs": [],
   "source": [
    "# Q2. Create a function that reverses a boolean value and returns the string boolean expected\n",
    "# if another variable type is given.\n",
    "#     Examples : \n",
    "#         reverse(True) ➞ False\n",
    "#         reverse(False) ➞ True\n",
    "#         reverse(0) ➞ 'boolean expected'\n",
    "#         reverse(None) ➞ 'boolean expected'\n",
    "\n",
    "# Sol : \n",
    "\n",
    "def reverse(value):\n",
    "    try: \n",
    "        if type(value) == bool:\n",
    "            if value ==  True:\n",
    "                return False\n",
    "            else:\n",
    "                return True\n",
    "        else:\n",
    "            return 'boolean excepted'\n",
    "    except Exception as e:\n",
    "        print('The erorr has occured')\n",
    "        print('The error is : ', e)"
   ]
  },
  {
   "cell_type": "code",
   "execution_count": 6,
   "id": "5a248ecc",
   "metadata": {},
   "outputs": [
    {
     "data": {
      "text/plain": [
       "False"
      ]
     },
     "execution_count": 6,
     "metadata": {},
     "output_type": "execute_result"
    }
   ],
   "source": [
    "reverse(True)"
   ]
  },
  {
   "cell_type": "code",
   "execution_count": 7,
   "id": "fe0f8b82",
   "metadata": {},
   "outputs": [
    {
     "data": {
      "text/plain": [
       "True"
      ]
     },
     "execution_count": 7,
     "metadata": {},
     "output_type": "execute_result"
    }
   ],
   "source": [
    "reverse(False)"
   ]
  },
  {
   "cell_type": "code",
   "execution_count": 8,
   "id": "36927478",
   "metadata": {},
   "outputs": [
    {
     "data": {
      "text/plain": [
       "'boolean excepted'"
      ]
     },
     "execution_count": 8,
     "metadata": {},
     "output_type": "execute_result"
    }
   ],
   "source": [
    "reverse(0)"
   ]
  },
  {
   "cell_type": "code",
   "execution_count": 9,
   "id": "4a0a2358",
   "metadata": {},
   "outputs": [
    {
     "data": {
      "text/plain": [
       "'boolean excepted'"
      ]
     },
     "execution_count": 9,
     "metadata": {},
     "output_type": "execute_result"
    }
   ],
   "source": [
    "reverse(None)"
   ]
  },
  {
   "cell_type": "code",
   "execution_count": 10,
   "id": "edc71a34",
   "metadata": {},
   "outputs": [],
   "source": [
    "# Q3. Create a function that returns the thickness (in meters) of a piece of paper after folding it n\n",
    "#     number of times. The paper starts off with a thickness of 0.5mm.\n",
    "#     Examples\n",
    "#     num_layers(1) ➞ '0.001m'\n",
    "#     Paper folded once is 1mm (equal to 0.001m)\n",
    "#     num_layers(4) ➞ '0.008m'\n",
    "#     Paper folded 4 times is 8mm (equal to 0.008m)\n",
    "#     num_layers(21) ➞ '1048.576m'\n",
    "#     Paper folded 21 times is 1048576mm (equal to 1048.576m)\n",
    "\n",
    "# Sol : \n",
    "\n",
    "def num_layers(a):\n",
    "    try:\n",
    "        thickness = 0.5\n",
    "        for i in range(a):\n",
    "            thickness *= 2\n",
    "        k = thickness / 1000\n",
    "        return k\n",
    "    except Exception as e:\n",
    "        print('The error has occured')\n",
    "        print('The error is : ', e)"
   ]
  },
  {
   "cell_type": "code",
   "execution_count": 11,
   "id": "01f1533b",
   "metadata": {},
   "outputs": [
    {
     "data": {
      "text/plain": [
       "0.001"
      ]
     },
     "execution_count": 11,
     "metadata": {},
     "output_type": "execute_result"
    }
   ],
   "source": [
    "num_layers(1)"
   ]
  },
  {
   "cell_type": "code",
   "execution_count": 12,
   "id": "745e4e24",
   "metadata": {},
   "outputs": [
    {
     "data": {
      "text/plain": [
       "0.008"
      ]
     },
     "execution_count": 12,
     "metadata": {},
     "output_type": "execute_result"
    }
   ],
   "source": [
    "num_layers(4)"
   ]
  },
  {
   "cell_type": "code",
   "execution_count": 13,
   "id": "9133ef3c",
   "metadata": {},
   "outputs": [
    {
     "data": {
      "text/plain": [
       "1048.576"
      ]
     },
     "execution_count": 13,
     "metadata": {},
     "output_type": "execute_result"
    }
   ],
   "source": [
    "num_layers(21)"
   ]
  },
  {
   "cell_type": "code",
   "execution_count": 14,
   "id": "35132283",
   "metadata": {},
   "outputs": [],
   "source": [
    "# Q4. Create a function that takes a single string as argument and returns an ordered list containing\n",
    "#     the indices of all capital letters in the string.\n",
    "#     Examples:\n",
    "#          index_of_caps('eDaBiT') ➞ [1, 3, 5]\n",
    "#          index_of_caps('eQuINoX') ➞ [1, 3, 4, 6]\n",
    "#          index_of_caps('determine') ➞ []\n",
    "#          index_of_caps('STRIKE') ➞ [0, 1, 2, 3, 4, 5]\n",
    "#          index_of_caps('sUn') ➞ [1]\n",
    "\n",
    "def index_of_caps(string):\n",
    "    try:\n",
    "        count = []\n",
    "        k = 0\n",
    "        for i in string:\n",
    "            if i.isupper() ==  True:\n",
    "                count.append(k)\n",
    "            k += 1\n",
    "        return count\n",
    "\n",
    "    except Exception as e:\n",
    "        print('The error has occured')\n",
    "        print('The error is : ', e)"
   ]
  },
  {
   "cell_type": "code",
   "execution_count": 15,
   "id": "0564b975",
   "metadata": {},
   "outputs": [
    {
     "data": {
      "text/plain": [
       "[1, 3, 5]"
      ]
     },
     "execution_count": 15,
     "metadata": {},
     "output_type": "execute_result"
    }
   ],
   "source": [
    "index_of_caps('eDaBiT')"
   ]
  },
  {
   "cell_type": "code",
   "execution_count": 16,
   "id": "63d9aea9",
   "metadata": {},
   "outputs": [
    {
     "data": {
      "text/plain": [
       "[1, 3, 4, 6]"
      ]
     },
     "execution_count": 16,
     "metadata": {},
     "output_type": "execute_result"
    }
   ],
   "source": [
    "index_of_caps('eQuINoX')"
   ]
  },
  {
   "cell_type": "code",
   "execution_count": 17,
   "id": "d6181b3e",
   "metadata": {},
   "outputs": [
    {
     "data": {
      "text/plain": [
       "[]"
      ]
     },
     "execution_count": 17,
     "metadata": {},
     "output_type": "execute_result"
    }
   ],
   "source": [
    "index_of_caps('determine')"
   ]
  },
  {
   "cell_type": "code",
   "execution_count": 18,
   "id": "3c1b49be",
   "metadata": {},
   "outputs": [
    {
     "data": {
      "text/plain": [
       "[0, 1, 2, 3, 4, 5]"
      ]
     },
     "execution_count": 18,
     "metadata": {},
     "output_type": "execute_result"
    }
   ],
   "source": [
    "index_of_caps('STRIKE')"
   ]
  },
  {
   "cell_type": "code",
   "execution_count": 19,
   "id": "45167925",
   "metadata": {},
   "outputs": [
    {
     "data": {
      "text/plain": [
       "[1]"
      ]
     },
     "execution_count": 19,
     "metadata": {},
     "output_type": "execute_result"
    }
   ],
   "source": [
    "index_of_caps('sUn')"
   ]
  },
  {
   "cell_type": "code",
   "execution_count": 20,
   "id": "ae5ec68e",
   "metadata": {},
   "outputs": [],
   "source": [
    "# Q5. Using list comprehensions, create a function that finds all even numbers from 1 to the given\n",
    "#     number.\n",
    "#         Examples:\n",
    "#             find_even_nums(8) ➞ [2, 4, 6, 8]\n",
    "#             find_even_nums(4) ➞ [2, 4]\n",
    "#             find_even_nums(2) ➞ [2]\n",
    "\n",
    "# Sol: \n",
    "\n",
    "def find_even_numbers(n):\n",
    "    try:\n",
    "        ls = []\n",
    "        for i in range(1, n + 1):\n",
    "            if i % 2 ==0 :\n",
    "                ls.append(i)\n",
    "        return ls\n",
    "    except Exception as e:\n",
    "        print('The error has occured')\n",
    "        print('The error is : ', e)"
   ]
  },
  {
   "cell_type": "code",
   "execution_count": 21,
   "id": "b6abeb21",
   "metadata": {},
   "outputs": [
    {
     "data": {
      "text/plain": [
       "[2, 4, 6, 8]"
      ]
     },
     "execution_count": 21,
     "metadata": {},
     "output_type": "execute_result"
    }
   ],
   "source": [
    "find_even_numbers(8)"
   ]
  },
  {
   "cell_type": "code",
   "execution_count": 22,
   "id": "437090e5",
   "metadata": {},
   "outputs": [
    {
     "data": {
      "text/plain": [
       "[2, 4]"
      ]
     },
     "execution_count": 22,
     "metadata": {},
     "output_type": "execute_result"
    }
   ],
   "source": [
    "find_even_numbers(4)"
   ]
  },
  {
   "cell_type": "code",
   "execution_count": 23,
   "id": "18d1e699",
   "metadata": {},
   "outputs": [
    {
     "data": {
      "text/plain": [
       "[2]"
      ]
     },
     "execution_count": 23,
     "metadata": {},
     "output_type": "execute_result"
    }
   ],
   "source": [
    "find_even_numbers(2)"
   ]
  },
  {
   "cell_type": "code",
   "execution_count": null,
   "id": "8304b051",
   "metadata": {},
   "outputs": [],
   "source": []
  },
  {
   "cell_type": "code",
   "execution_count": null,
   "id": "feffeb38",
   "metadata": {},
   "outputs": [],
   "source": []
  },
  {
   "cell_type": "code",
   "execution_count": null,
   "id": "6456d783",
   "metadata": {},
   "outputs": [],
   "source": []
  },
  {
   "cell_type": "code",
   "execution_count": null,
   "id": "efb2618d",
   "metadata": {},
   "outputs": [],
   "source": []
  }
 ],
 "metadata": {
  "kernelspec": {
   "display_name": "Python 3 (ipykernel)",
   "language": "python",
   "name": "python3"
  },
  "language_info": {
   "codemirror_mode": {
    "name": "ipython",
    "version": 3
   },
   "file_extension": ".py",
   "mimetype": "text/x-python",
   "name": "python",
   "nbconvert_exporter": "python",
   "pygments_lexer": "ipython3",
   "version": "3.9.7"
  }
 },
 "nbformat": 4,
 "nbformat_minor": 5
}
