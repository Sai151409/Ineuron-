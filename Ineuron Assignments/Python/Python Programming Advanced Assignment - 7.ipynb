{
 "cells": [
  {
   "cell_type": "code",
   "execution_count": 1,
   "id": "4cdde55c",
   "metadata": {},
   "outputs": [],
   "source": [
    "# 1. Write a function that counts how many concentric layers a rug.\n",
    "#    Examples:\n",
    "#     count_layers([\"AAAA\",\"ABBA\",\"AAAA\"]) ➞ 2\n",
    "#     count_layers([\"AAAAAAAAA\",\"ABBBBBBBA\",\"ABBAAABBA\",\"ABBBBBBBA\",\"AAAAAAAAA\"]) ➞ 3\n",
    "#     count_layers([\"AAAAAAAAAAA\",\"AABBBBBBBAA\",\"AABCCCCCBAA\",\"AABCAAACBAA\",\"AABCADACBAA\",\n",
    "#                  \"AABCAAACBAA\",\"AABCCCCCBAA\",\"AABBBBBBBAA\",\"AAAAAAAAAAA\"]) ➞ 5\n",
    "\n",
    "# Sol :\n",
    "\n",
    "def count_layers(lst : list):\n",
    "    try:\n",
    "        result = set(lst)\n",
    "        return len(result)\n",
    "    except Exception as e:\n",
    "        return e"
   ]
  },
  {
   "cell_type": "code",
   "execution_count": 2,
   "id": "d9e64823",
   "metadata": {},
   "outputs": [
    {
     "data": {
      "text/plain": [
       "2"
      ]
     },
     "execution_count": 2,
     "metadata": {},
     "output_type": "execute_result"
    }
   ],
   "source": [
    "count_layers([\"AAAA\",\"ABBA\",\"AAAA\"])"
   ]
  },
  {
   "cell_type": "code",
   "execution_count": 3,
   "id": "05b2772c",
   "metadata": {},
   "outputs": [
    {
     "data": {
      "text/plain": [
       "3"
      ]
     },
     "execution_count": 3,
     "metadata": {},
     "output_type": "execute_result"
    }
   ],
   "source": [
    "count_layers([\"AAAAAAAAA\",\"ABBBBBBBA\",\"ABBAAABBA\",\"ABBBBBBBA\",\"AAAAAAAAA\"])"
   ]
  },
  {
   "cell_type": "code",
   "execution_count": 4,
   "id": "00e156d6",
   "metadata": {},
   "outputs": [
    {
     "data": {
      "text/plain": [
       "5"
      ]
     },
     "execution_count": 4,
     "metadata": {},
     "output_type": "execute_result"
    }
   ],
   "source": [
    "count_layers([\"AAAAAAAAAAA\",\"AABBBBBBBAA\",\"AABCCCCCBAA\",\"AABCAAACBAA\",\"AABCADACBAA\",\n",
    "              \"AABCAAACBAA\",\"AABCCCCCBAA\",\"AABBBBBBBAA\",\"AAAAAAAAAAA\"])"
   ]
  },
  {
   "cell_type": "code",
   "execution_count": 5,
   "id": "88687939",
   "metadata": {},
   "outputs": [],
   "source": [
    "# 2. There are many different styles of music and many albums exhibit multiple styles. \n",
    "#    Create a function that takes a list of musical styles from albums and returns how many styles are unique.\n",
    "#    Examples:\n",
    "#       unique_styles([ \"Dub,Dancehall\", \"Industrial,Heavy Metal\", \"Techno,Dubstep\", \"Synth-pop,Euro-Disco\", \n",
    "#                     \"Industrial,Techno,Minimal\" ]) ➞ 9\n",
    "#       unique_styles([ \"Soul\", \"House,Folk\", \"Trance,Downtempo,Big Beat,House\", \"Deep House\", \"Soul\" ]) ➞ 7\n",
    "\n",
    "# Sol :\n",
    "\n",
    "def unique_styles(lst : list):\n",
    "    try:\n",
    "        result = []\n",
    "        for i in lst:\n",
    "            result.extend(i.split(','))\n",
    "        result = set(result)\n",
    "        return len(result)\n",
    "    except Exception as e:\n",
    "        return e"
   ]
  },
  {
   "cell_type": "code",
   "execution_count": 6,
   "id": "54184491",
   "metadata": {},
   "outputs": [
    {
     "data": {
      "text/plain": [
       "9"
      ]
     },
     "execution_count": 6,
     "metadata": {},
     "output_type": "execute_result"
    }
   ],
   "source": [
    "unique_styles([ \"Dub,Dancehall\", \"Industrial,Heavy Metal\", \"Techno,Dubstep\", \"Synth-pop,Euro-Disco\", \n",
    "               \"Industrial,Techno,Minimal\" ])"
   ]
  },
  {
   "cell_type": "code",
   "execution_count": 7,
   "id": "5003935b",
   "metadata": {},
   "outputs": [
    {
     "data": {
      "text/plain": [
       "7"
      ]
     },
     "execution_count": 7,
     "metadata": {},
     "output_type": "execute_result"
    }
   ],
   "source": [
    "unique_styles([ \"Soul\", \"House,Folk\", \"Trance,Downtempo,Big Beat,House\", \"Deep House\", \"Soul\" ])"
   ]
  },
  {
   "cell_type": "code",
   "execution_count": 8,
   "id": "6b9b7ed8",
   "metadata": {},
   "outputs": [],
   "source": [
    "# 3. Create a function that finds a target number in a list of prime numbers. Implement a binary search algorithm in your \n",
    "#    function. The target number will be from 2 through 97. If the target is prime then return \"yes\" else return \"no\".\n",
    "#    Examples:\n",
    "#    primes = [2, 3, 5, 7, 11, 13, 17, 19, 23, 29, 31, 37, 41, 43, 47, 53, 59, 61, 67, 71, 73, 79, 83, 89, 97]\n",
    "#    is_prime(primes, 3) ➞ \"yes\"\n",
    "#    is_prime(primes, 4) ➞ \"no\"\n",
    "#    is_prime(primes, 67) ➞ \"yes\"\n",
    "#    is_prime(primes, 36) ➞ \"no\"\n",
    "\n",
    "# Sol :\n",
    "\n",
    "\n",
    "primes = [2, 3, 5, 7, 11, 13, 17, 19, 23, 29, 31, 37, 41, 43, 47, 53, 59, 61, 67, 71, 73, 79, 83, 89, 97]\n",
    "\n",
    "def is_prime(prime_list, num):\n",
    "    try:\n",
    "        output = 'No'\n",
    "        start_point = 0\n",
    "        mid_point = 0\n",
    "        end_point = len(prime_list) - 1\n",
    "        while start_point <= end_point :\n",
    "            mid_point = (start_point + end_point) // 2\n",
    "            if prime_list[mid_point] < num:\n",
    "                start_point = mid_point + 1\n",
    "            elif prime_list[mid_point] > num :\n",
    "                end_point = mid_point - 1\n",
    "            else:\n",
    "                output = 'Yes'\n",
    "                break\n",
    "        return output\n",
    "    except Exception as e:\n",
    "        return e"
   ]
  },
  {
   "cell_type": "code",
   "execution_count": 9,
   "id": "af7b1eb4",
   "metadata": {},
   "outputs": [
    {
     "data": {
      "text/plain": [
       "'Yes'"
      ]
     },
     "execution_count": 9,
     "metadata": {},
     "output_type": "execute_result"
    }
   ],
   "source": [
    "is_prime(primes, 3)"
   ]
  },
  {
   "cell_type": "code",
   "execution_count": 10,
   "id": "8e8337e6",
   "metadata": {},
   "outputs": [
    {
     "data": {
      "text/plain": [
       "'No'"
      ]
     },
     "execution_count": 10,
     "metadata": {},
     "output_type": "execute_result"
    }
   ],
   "source": [
    "is_prime(primes, 4)"
   ]
  },
  {
   "cell_type": "code",
   "execution_count": 11,
   "id": "d398afbd",
   "metadata": {},
   "outputs": [
    {
     "data": {
      "text/plain": [
       "'Yes'"
      ]
     },
     "execution_count": 11,
     "metadata": {},
     "output_type": "execute_result"
    }
   ],
   "source": [
    "is_prime(primes, 67)"
   ]
  },
  {
   "cell_type": "code",
   "execution_count": 12,
   "id": "699eb822",
   "metadata": {},
   "outputs": [
    {
     "data": {
      "text/plain": [
       "'No'"
      ]
     },
     "execution_count": 12,
     "metadata": {},
     "output_type": "execute_result"
    }
   ],
   "source": [
    "is_prime(primes, 36)"
   ]
  },
  {
   "cell_type": "code",
   "execution_count": 13,
   "id": "f0087b7f",
   "metadata": {},
   "outputs": [],
   "source": [
    "# 4. Create a function that takes in n, a, b and returns the number of positive values raised to the nth power that lie in the \n",
    "#    range [a, b], inclusive.\n",
    "#    Examples:\n",
    "\n",
    "#    power_ranger(2, 49, 65) ➞ 2\n",
    "#    # 2 squares (n^2) lie between 49 and 65, 49 (7^2) and 64 (8^2)\n",
    "\n",
    "#    power_ranger(3, 1, 27) ➞ 3\n",
    "#    # 3 cubes (n^3) lie between 1 and 27, 1 (1^3), 8 (2^3) and 27 (3^3)\n",
    "\n",
    "#    power_ranger(10, 1, 5) ➞ 1\n",
    "#    # 1 value raised to the 10th power lies between 1 and 5, 1 (1^10)\n",
    "\n",
    "#    power_ranger(5, 31, 33) ➞ 1\n",
    "#    power_ranger(4, 250, 1300) ➞ 3\n",
    "\n",
    "# Sol :\n",
    "\n",
    "import math\n",
    "def power_ranger(n, a, b):\n",
    "    try:\n",
    "        count = 0\n",
    "        for i in range(a, b):\n",
    "            if int(math.pow(i, 1/n)) == math.pow(i, 1/n):\n",
    "                count += 1\n",
    "        return count\n",
    "    except Exception as e:\n",
    "        return e"
   ]
  },
  {
   "cell_type": "code",
   "execution_count": 14,
   "id": "7ba4b13d",
   "metadata": {},
   "outputs": [
    {
     "data": {
      "text/plain": [
       "1"
      ]
     },
     "execution_count": 14,
     "metadata": {},
     "output_type": "execute_result"
    }
   ],
   "source": [
    "power_ranger(5, 31, 33)"
   ]
  },
  {
   "cell_type": "code",
   "execution_count": 15,
   "id": "de064d66",
   "metadata": {},
   "outputs": [
    {
     "data": {
      "text/plain": [
       "3"
      ]
     },
     "execution_count": 15,
     "metadata": {},
     "output_type": "execute_result"
    }
   ],
   "source": [
    "power_ranger(4, 250, 1300)"
   ]
  },
  {
   "cell_type": "code",
   "execution_count": 16,
   "id": "0937ec1c",
   "metadata": {},
   "outputs": [],
   "source": [
    "# 5. Given a number, return the difference between the maximum and minimum numbers that can be formed when the digits are \n",
    "#    rearranged.\n",
    "#    Examples:\n",
    "#       rearranged_difference(972882) ➞ 760833\n",
    "#       # 988722 - 227889 = 760833\n",
    "#       rearranged_difference(3320707) ➞ 7709823\n",
    "#       # 7733200 - 23377 = 7709823\n",
    "#       rearranged_difference(90010) ➞ 90981\n",
    "#       # 91000 - 19 = 90981\n",
    "\n",
    "# Sol :"
   ]
  },
  {
   "cell_type": "code",
   "execution_count": 17,
   "id": "bc6aa546",
   "metadata": {},
   "outputs": [],
   "source": [
    "def rearranged_difference(num):\n",
    "    try:\n",
    "        k = list(str(num))\n",
    "        j = k.copy()\n",
    "        k.sort()\n",
    "        j.sort(reverse=True)\n",
    "        result = int(\"\".join(j)) - int(\"\".join(k))\n",
    "        return result\n",
    "    except Exception as e:\n",
    "        return e"
   ]
  },
  {
   "cell_type": "code",
   "execution_count": 18,
   "id": "beb7ed1b",
   "metadata": {},
   "outputs": [
    {
     "data": {
      "text/plain": [
       "760833"
      ]
     },
     "execution_count": 18,
     "metadata": {},
     "output_type": "execute_result"
    }
   ],
   "source": [
    "rearranged_difference(972882)"
   ]
  },
  {
   "cell_type": "code",
   "execution_count": 19,
   "id": "f9f6a32b",
   "metadata": {},
   "outputs": [
    {
     "data": {
      "text/plain": [
       "7709823"
      ]
     },
     "execution_count": 19,
     "metadata": {},
     "output_type": "execute_result"
    }
   ],
   "source": [
    "rearranged_difference(3320707)"
   ]
  },
  {
   "cell_type": "code",
   "execution_count": 20,
   "id": "c81b8701",
   "metadata": {},
   "outputs": [
    {
     "data": {
      "text/plain": [
       "90981"
      ]
     },
     "execution_count": 20,
     "metadata": {},
     "output_type": "execute_result"
    }
   ],
   "source": [
    "rearranged_difference(90010)"
   ]
  },
  {
   "cell_type": "code",
   "execution_count": null,
   "id": "18a60cba",
   "metadata": {},
   "outputs": [],
   "source": []
  }
 ],
 "metadata": {
  "kernelspec": {
   "display_name": "Python 3 (ipykernel)",
   "language": "python",
   "name": "python3"
  },
  "language_info": {
   "codemirror_mode": {
    "name": "ipython",
    "version": 3
   },
   "file_extension": ".py",
   "mimetype": "text/x-python",
   "name": "python",
   "nbconvert_exporter": "python",
   "pygments_lexer": "ipython3",
   "version": "3.9.12"
  }
 },
 "nbformat": 4,
 "nbformat_minor": 5
}
