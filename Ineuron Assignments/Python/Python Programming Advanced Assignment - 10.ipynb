{
 "cells": [
  {
   "cell_type": "code",
   "execution_count": 1,
   "id": "8849a76c",
   "metadata": {},
   "outputs": [],
   "source": [
    "# 1. Create a function that takes the width, height and character and returns a picture frame as a 2D list.\n",
    "#    Examples:\n",
    "#      get_frame(4, 5, \"#\") ➞ [ [\"####\"], [\"# #\"], [\"# #\"], [\"# #\"], [\"####\"] ]\n",
    "#      Frame is 4 characters wide and 5 characters tall.\n",
    "\n",
    "#      get_frame(10, 3, \"*\") ➞ [ [\"**********\"], [\"* *\"], [\"**********\"] ]\n",
    "#      Frame is 10 characters and wide and 3 characters tall.\n",
    "\n",
    "#      get_frame(2, 5, \"0\") ➞ \"invalid\"\n",
    "#      Frame's width is not more than 2.\n",
    "\n",
    "# Sol :\n",
    "\n",
    "def get_frame(w, h, p):\n",
    "    try:\n",
    "        if w > 2:\n",
    "            for i in range(h):\n",
    "                if i == 0 or i+1 == h:\n",
    "                    print([w*p])\n",
    "                else:\n",
    "                    print([p+((w-2)*\" \")+p])\n",
    "        else:\n",
    "            print(\"Invalid\")\n",
    "    except Exception as e:\n",
    "        return e"
   ]
  },
  {
   "cell_type": "code",
   "execution_count": 2,
   "id": "3aa17c1f",
   "metadata": {},
   "outputs": [
    {
     "name": "stdout",
     "output_type": "stream",
     "text": [
      "['####']\n",
      "['#  #']\n",
      "['#  #']\n",
      "['#  #']\n",
      "['####']\n"
     ]
    }
   ],
   "source": [
    "get_frame(4, 5, \"#\")"
   ]
  },
  {
   "cell_type": "code",
   "execution_count": 3,
   "id": "a0078c75",
   "metadata": {},
   "outputs": [
    {
     "name": "stdout",
     "output_type": "stream",
     "text": [
      "['**********']\n",
      "['*        *']\n",
      "['**********']\n"
     ]
    }
   ],
   "source": [
    "get_frame(10, 3, \"*\")"
   ]
  },
  {
   "cell_type": "code",
   "execution_count": 4,
   "id": "62093719",
   "metadata": {},
   "outputs": [
    {
     "name": "stdout",
     "output_type": "stream",
     "text": [
      "Invalid\n"
     ]
    }
   ],
   "source": [
    "get_frame(2, 5, \"0\")"
   ]
  },
  {
   "cell_type": "code",
   "execution_count": 5,
   "id": "9fb90331",
   "metadata": {},
   "outputs": [],
   "source": [
    "# 2. Write three functions:\n",
    "#    boolean_and\n",
    "#    boolean_or\n",
    "#    boolean_xor\n",
    "#    These functions should evaluate a list of True and False values, starting from the leftmost element and evaluating \n",
    "#     pairwise. \n",
    "#    Examples:\n",
    "#    boolean_and([True, True, False, True]) ➞ False\n",
    "#       [True, True, False, True] => [True, False, True] => [False, True] => False\n",
    "\n",
    "#    boolean_or([True, True, False, False]) ➞ True\n",
    "#       [True, True, False, True] => [True, False, False] => [True, False] => True\n",
    "\n",
    "#    boolean_xor([True, True, False, False]) ➞ False\n",
    "#       [True, True, False, False] => [False, False, False] => [False, False] => False"
   ]
  },
  {
   "cell_type": "code",
   "execution_count": 6,
   "id": "6f8cea3a",
   "metadata": {},
   "outputs": [],
   "source": [
    "def boolean_and(lst:list):\n",
    "    try:\n",
    "        result = lst[0]\n",
    "        for i in range(len(lst)):\n",
    "            if i != len(lst) - 1:\n",
    "                result &= lst[i+1]\n",
    "        return result\n",
    "    except Exception as e:\n",
    "        return e\n",
    "\n",
    "def boolean_or(lst:list):\n",
    "    try:\n",
    "        result = lst[0]\n",
    "        for i in range(len(lst)):\n",
    "            if i != len(lst) - 1:\n",
    "                result |= lst[i+1]\n",
    "        return result\n",
    "    except Exception as e:\n",
    "        return e\n",
    "    \n",
    "def boolean_xor(lst:list):\n",
    "    try:\n",
    "        result = lst[0]\n",
    "        for i in range(len(lst)):\n",
    "            if i != len(lst) - 1:\n",
    "                result ^= lst[i+1]\n",
    "        return result\n",
    "    except Exception as e:\n",
    "        return e"
   ]
  },
  {
   "cell_type": "code",
   "execution_count": 7,
   "id": "4367850e",
   "metadata": {},
   "outputs": [
    {
     "data": {
      "text/plain": [
       "False"
      ]
     },
     "execution_count": 7,
     "metadata": {},
     "output_type": "execute_result"
    }
   ],
   "source": [
    "boolean_and([True, True, False, True])"
   ]
  },
  {
   "cell_type": "code",
   "execution_count": 8,
   "id": "24bce970",
   "metadata": {},
   "outputs": [
    {
     "data": {
      "text/plain": [
       "True"
      ]
     },
     "execution_count": 8,
     "metadata": {},
     "output_type": "execute_result"
    }
   ],
   "source": [
    "boolean_or([True, True, False, False])"
   ]
  },
  {
   "cell_type": "code",
   "execution_count": 9,
   "id": "c86d5134",
   "metadata": {},
   "outputs": [
    {
     "data": {
      "text/plain": [
       "False"
      ]
     },
     "execution_count": 9,
     "metadata": {},
     "output_type": "execute_result"
    }
   ],
   "source": [
    "boolean_xor([True, True, False, False])"
   ]
  },
  {
   "cell_type": "code",
   "execution_count": 10,
   "id": "6078d721",
   "metadata": {},
   "outputs": [],
   "source": [
    "#  3. Create a function that creates a box based on dimension n.\n",
    "#     Examples:\n",
    "#       make_box(5) ➞ [ \"#####\", \"# #\", \"# #\", \"# #\", \"#####\" ]\n",
    "#  \n",
    "#       make_box(3) ➞ [ \"###\", \"# #\", \"###\" ]\n",
    "#  \n",
    "#       make_box(2) ➞ [ \"##\", \"##\" ]\n",
    "#  \n",
    "#       make_box(1) ➞ [ \"#\" ]\n",
    "\n",
    "# Sol :\n",
    "\n",
    "def make_box(num):\n",
    "    try:\n",
    "        result = []\n",
    "        for i in range(num):\n",
    "            if i == 0 or i == num-1:\n",
    "                result.append(num * \"#\")\n",
    "            else:\n",
    "                result.append(\"#\"+(num-2)*\" \"+\"#\")\n",
    "        for i in result:\n",
    "            print(i)\n",
    "    except Exception as e:\n",
    "        return e"
   ]
  },
  {
   "cell_type": "code",
   "execution_count": 11,
   "id": "7cc32033",
   "metadata": {},
   "outputs": [
    {
     "name": "stdout",
     "output_type": "stream",
     "text": [
      "#####\n",
      "#   #\n",
      "#   #\n",
      "#   #\n",
      "#####\n"
     ]
    }
   ],
   "source": [
    "make_box(5)"
   ]
  },
  {
   "cell_type": "code",
   "execution_count": 12,
   "id": "1664e25a",
   "metadata": {},
   "outputs": [
    {
     "name": "stdout",
     "output_type": "stream",
     "text": [
      "###\n",
      "# #\n",
      "###\n"
     ]
    }
   ],
   "source": [
    "make_box(3)"
   ]
  },
  {
   "cell_type": "code",
   "execution_count": 13,
   "id": "4c74ea21",
   "metadata": {},
   "outputs": [
    {
     "name": "stdout",
     "output_type": "stream",
     "text": [
      "##\n",
      "##\n"
     ]
    }
   ],
   "source": [
    "make_box(2)"
   ]
  },
  {
   "cell_type": "code",
   "execution_count": 14,
   "id": "ad304ba2",
   "metadata": {},
   "outputs": [
    {
     "name": "stdout",
     "output_type": "stream",
     "text": [
      "#\n"
     ]
    }
   ],
   "source": [
    "make_box(1)"
   ]
  },
  {
   "cell_type": "code",
   "execution_count": 15,
   "id": "67607f3e",
   "metadata": {},
   "outputs": [],
   "source": [
    "# 4. Given a common phrase, return False if any individual word in the phrase contains duplicate letters. Return True otherwise.\n",
    "#    Examples:\n",
    "#      no_duplicate_letters(\"Fortune favours the bold.\") ➞ True\n",
    "#      no_duplicate_letters(\"You can lead a horse to water, but you can't make him drink.\") ➞ True\n",
    "#      no_duplicate_letters(\"Look before you leap.\") ➞ False\n",
    "#      Duplicate letters in \"Look\" and \"before\".\n",
    "#      no_duplicate_letters(\"An apple a day keeps the doctor away.\") ➞ False\n",
    "#      Duplicate letters in \"apple\", \"keeps\", \"doctor\", and \"away\".\n",
    "\n",
    "# Sol :\n",
    "\n",
    "def no_duplicate_letters(string):\n",
    "    try:\n",
    "        string_lst = string.split(\" \")\n",
    "        for i in string_lst:\n",
    "            string_set = set(i)\n",
    "            for j in string_set:\n",
    "                result = i.count(j)\n",
    "                if result == 2:\n",
    "                    return False\n",
    "        else:\n",
    "            return True\n",
    "    except Exception as e:\n",
    "        return e         "
   ]
  },
  {
   "cell_type": "code",
   "execution_count": 16,
   "id": "78dc7288",
   "metadata": {},
   "outputs": [
    {
     "data": {
      "text/plain": [
       "True"
      ]
     },
     "execution_count": 16,
     "metadata": {},
     "output_type": "execute_result"
    }
   ],
   "source": [
    "no_duplicate_letters(\"Fortune favours the bold.\")"
   ]
  },
  {
   "cell_type": "code",
   "execution_count": 17,
   "id": "f7a631f1",
   "metadata": {},
   "outputs": [
    {
     "data": {
      "text/plain": [
       "True"
      ]
     },
     "execution_count": 17,
     "metadata": {},
     "output_type": "execute_result"
    }
   ],
   "source": [
    "no_duplicate_letters(\"You can lead a horse to water, but you can't make him drink.\")"
   ]
  },
  {
   "cell_type": "code",
   "execution_count": 18,
   "id": "ef2537b0",
   "metadata": {},
   "outputs": [
    {
     "data": {
      "text/plain": [
       "False"
      ]
     },
     "execution_count": 18,
     "metadata": {},
     "output_type": "execute_result"
    }
   ],
   "source": [
    "no_duplicate_letters(\"Look before you leap.\")"
   ]
  },
  {
   "cell_type": "code",
   "execution_count": 19,
   "id": "7ef77040",
   "metadata": {},
   "outputs": [
    {
     "data": {
      "text/plain": [
       "False"
      ]
     },
     "execution_count": 19,
     "metadata": {},
     "output_type": "execute_result"
    }
   ],
   "source": [
    "no_duplicate_letters(\"An apple a day keeps the doctor away.\")"
   ]
  },
  {
   "cell_type": "code",
   "execution_count": 20,
   "id": "564c501e",
   "metadata": {},
   "outputs": [
    {
     "name": "stdout",
     "output_type": "stream",
     "text": [
      "['California', 'Florida']\n"
     ]
    }
   ],
   "source": [
    "# 5. Write a regular expression that will match the states that voted yes to President Trump's impeachment. \n",
    "#    You must use RegEx positive lookahead.\n",
    "#     Examples:\n",
    "#     txt = \"Texas = no, California = yes, Florida = yes, Michigan = no\"\n",
    "#     pattern = \"yourregularexpressionhere\"\n",
    "#     re.findall(pattern, txt) ➞ [\"California\", \"Florida\"]\n",
    "\n",
    "# Sol :\n",
    "\n",
    "import re\n",
    "txt = \"Texas = no, California = yes, Florida = yes, Michigan = no\"\n",
    "pattern = r'\\w+(?=\\s=\\syes*)'\n",
    "match = re.findall(pattern,txt)\n",
    "print(match)"
   ]
  },
  {
   "cell_type": "code",
   "execution_count": null,
   "id": "258f31ef",
   "metadata": {},
   "outputs": [],
   "source": []
  },
  {
   "cell_type": "code",
   "execution_count": null,
   "id": "1b77c323",
   "metadata": {},
   "outputs": [],
   "source": []
  },
  {
   "cell_type": "code",
   "execution_count": null,
   "id": "cf36513a",
   "metadata": {},
   "outputs": [],
   "source": []
  }
 ],
 "metadata": {
  "kernelspec": {
   "display_name": "Python 3 (ipykernel)",
   "language": "python",
   "name": "python3"
  },
  "language_info": {
   "codemirror_mode": {
    "name": "ipython",
    "version": 3
   },
   "file_extension": ".py",
   "mimetype": "text/x-python",
   "name": "python",
   "nbconvert_exporter": "python",
   "pygments_lexer": "ipython3",
   "version": "3.9.12"
  }
 },
 "nbformat": 4,
 "nbformat_minor": 5
}
