{
 "cells": [
  {
   "cell_type": "code",
   "execution_count": 1,
   "id": "a5931fdf",
   "metadata": {},
   "outputs": [
    {
     "name": "stdout",
     "output_type": "stream",
     "text": [
      "No of seconds in an hour : 3600\n"
     ]
    }
   ],
   "source": [
    "# 1.How many seconds are in an hour? Use the interactive interpreter as a calculator and multiply the number of seconds \n",
    "#   in a minute (60) by the number of minutes in an hour (also 60).\n",
    "\n",
    "# Sol :\n",
    "\n",
    "no_of_seconds_in_a_minute = 60\n",
    "no_of_minutes_in_a_hour = 60\n",
    "\n",
    "print('No of seconds in an hour :', no_of_seconds_in_a_minute * no_of_minutes_in_a_hour)"
   ]
  },
  {
   "cell_type": "code",
   "execution_count": 2,
   "id": "3e7cf8ca",
   "metadata": {},
   "outputs": [
    {
     "name": "stdout",
     "output_type": "stream",
     "text": [
      "3600\n"
     ]
    }
   ],
   "source": [
    "# 2. Assign the result from the previous task (seconds in an hour) to a variable called seconds_per_hour.\n",
    "\n",
    "# Sol :\n",
    "\n",
    "# Here i'm usig the previous question variables\n",
    "\n",
    "seconds_per_hour = no_of_seconds_in_a_minute * no_of_minutes_in_a_hour\n",
    "\n",
    "print(seconds_per_hour)"
   ]
  },
  {
   "cell_type": "code",
   "execution_count": 3,
   "id": "03fc1788",
   "metadata": {},
   "outputs": [
    {
     "name": "stdout",
     "output_type": "stream",
     "text": [
      "86400\n"
     ]
    }
   ],
   "source": [
    "# 3. How many seconds do you think there are in a day? Make use of the variables seconds per hour and minutes per hour.\n",
    "\n",
    "# Sol :\n",
    "\n",
    "no_of_hours_in_a_day = 24\n",
    "\n",
    "print(no_of_seconds_in_a_minute * no_of_minutes_in_a_hour * no_of_hours_in_a_day)"
   ]
  },
  {
   "cell_type": "code",
   "execution_count": 4,
   "id": "ea7cd357",
   "metadata": {},
   "outputs": [
    {
     "name": "stdout",
     "output_type": "stream",
     "text": [
      "86400\n"
     ]
    }
   ],
   "source": [
    "# 4. Calculate seconds per day again, but this time save the result in a variable called seconds_per_day\n",
    "\n",
    "# Sol : \n",
    "\n",
    "seconds_per_day = no_of_seconds_in_a_minute * no_of_minutes_in_a_hour * no_of_hours_in_a_day\n",
    "\n",
    "print(seconds_per_day)"
   ]
  },
  {
   "cell_type": "code",
   "execution_count": 5,
   "id": "e6dbc144",
   "metadata": {},
   "outputs": [
    {
     "name": "stdout",
     "output_type": "stream",
     "text": [
      "24.0\n"
     ]
    }
   ],
   "source": [
    "# 5. Divide seconds_per_day by seconds_per_hour. Use floating-point (/) division.\n",
    "\n",
    "# Sol: \n",
    "\n",
    "print(seconds_per_day / seconds_per_hour)"
   ]
  },
  {
   "cell_type": "code",
   "execution_count": 6,
   "id": "a2743938",
   "metadata": {},
   "outputs": [
    {
     "name": "stdout",
     "output_type": "stream",
     "text": [
      "24\n",
      "yes this values agree with the floating point value from the previous question\n"
     ]
    }
   ],
   "source": [
    "# 6. Divide seconds_per_day by seconds_per_hour, using integer (//) division. Did this number agree with the floating-point \n",
    "#    value from the previous question, aside from the final .0?\n",
    "\n",
    "# Sol :\n",
    "\n",
    "print(seconds_per_day // seconds_per_hour)\n",
    "\n",
    "print('yes this values agree with the floating point value from the previous question')"
   ]
  },
  {
   "cell_type": "code",
   "execution_count": 7,
   "id": "5e188423",
   "metadata": {},
   "outputs": [
    {
     "name": "stdout",
     "output_type": "stream",
     "text": [
      "2\n",
      "3\n",
      "5\n",
      "7\n",
      "11\n"
     ]
    }
   ],
   "source": [
    "def genPrimes():\n",
    "    n = 0\n",
    "    while True:\n",
    "        if n == 2 or n == 3 :\n",
    "            yield n\n",
    "        elif ((n-1)%6 == 0 or (n+1)%6 == 0) and n !=1:\n",
    "            yield n\n",
    "        n = n+1\n",
    "        \n",
    "output = genPrimes()\n",
    "for ele in range(5):\n",
    "    print(next(output))"
   ]
  },
  {
   "cell_type": "code",
   "execution_count": null,
   "id": "a2f92e75",
   "metadata": {},
   "outputs": [],
   "source": []
  },
  {
   "cell_type": "code",
   "execution_count": null,
   "id": "03613479",
   "metadata": {},
   "outputs": [],
   "source": []
  }
 ],
 "metadata": {
  "kernelspec": {
   "display_name": "Python 3 (ipykernel)",
   "language": "python",
   "name": "python3"
  },
  "language_info": {
   "codemirror_mode": {
    "name": "ipython",
    "version": 3
   },
   "file_extension": ".py",
   "mimetype": "text/x-python",
   "name": "python",
   "nbconvert_exporter": "python",
   "pygments_lexer": "ipython3",
   "version": "3.9.12"
  }
 },
 "nbformat": 4,
 "nbformat_minor": 5
}
