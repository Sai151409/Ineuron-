{
 "cells": [
  {
   "cell_type": "code",
   "execution_count": 1,
   "id": "c8a16303",
   "metadata": {},
   "outputs": [],
   "source": [
    "# 1. YouTube offers different playback speed options for users. This allows users to increase or decrease the speed of the video\n",
    "#    content. Given the actual duration and playback speed of the video, calculate the playback duration of the video.\n",
    "#   Examples:\n",
    "#    playback_duration(\"00:30:00\", 2) ➞ \"00:15:00\"\n",
    "#    playback_duration(\"01:20:00\", 1.5) ➞ \"00:53:20\"\n",
    "#    playback_duration(\"51:20:09\", 0.5) ➞ \"102:40:18\"\n",
    "\n",
    "def playback_duration(string, speed):\n",
    "    try:\n",
    "        time = string.split(\":\")\n",
    "        seconds = (int(time[0]) * 3600 + int(time[1]) * 60 + int(time[-1]))/speed\n",
    "        hours = str(int(seconds/3600)) if seconds > 3600 else \"00\"\n",
    "        minutes = str(int((seconds%3600)/60)) if seconds%3600 > 60 else \"00\"\n",
    "        seconds = str(int((seconds%3600)%60)) if (seconds%3600)%60 > 0 else \"00\"\n",
    "        return f\"{hours}:{minutes}:{seconds}\"\n",
    "    except Exception as e:\n",
    "        return e"
   ]
  },
  {
   "cell_type": "code",
   "execution_count": 2,
   "id": "b9d7b18e",
   "metadata": {},
   "outputs": [
    {
     "data": {
      "text/plain": [
       "'00:15:00'"
      ]
     },
     "execution_count": 2,
     "metadata": {},
     "output_type": "execute_result"
    }
   ],
   "source": [
    "playback_duration(\"00:30:00\", 2)"
   ]
  },
  {
   "cell_type": "code",
   "execution_count": 3,
   "id": "c5c1ecaa",
   "metadata": {},
   "outputs": [
    {
     "data": {
      "text/plain": [
       "'00:53:20'"
      ]
     },
     "execution_count": 3,
     "metadata": {},
     "output_type": "execute_result"
    }
   ],
   "source": [
    "playback_duration(\"01:20:00\", 1.5)"
   ]
  },
  {
   "cell_type": "code",
   "execution_count": 4,
   "id": "880dc925",
   "metadata": {},
   "outputs": [
    {
     "data": {
      "text/plain": [
       "'102:40:18'"
      ]
     },
     "execution_count": 4,
     "metadata": {},
     "output_type": "execute_result"
    }
   ],
   "source": [
    "playback_duration(\"51:20:09\", 0.5)"
   ]
  },
  {
   "cell_type": "code",
   "execution_count": 5,
   "id": "f5e2841d",
   "metadata": {},
   "outputs": [],
   "source": [
    "# 2. We needs your help to construct a building which will be a pile of n cubes. The cube at the bottom will have a volume \n",
    "#    of n^3, the cube above will have volume of (n-1)^3 and so on until the top which will have a volume of 1^3.\n",
    "#    Given the total volume m of the building, can you find the number of cubes n required for the building?\n",
    "#    In other words, you have to return an integer n such that: n^3 + (n-1)^3 + ... + 1^3 == m\n",
    "#    Return None if there is no such number.\n",
    "#     Examples:\n",
    "#     pile_of_cubes(1071225) ➞ 45\n",
    "#     pile_of_cubes(4183059834009) ➞ 2022\n",
    "#     pile_of_cubes(16) ➞ None\n",
    "\n",
    "def pile_of_cubes(num):\n",
    "    try:\n",
    "        result = 0\n",
    "        for i in range(num):\n",
    "            result += i ** 3\n",
    "            if result == num:\n",
    "                return i\n",
    "            elif result > num:\n",
    "                return None \n",
    "    except Exception as e:\n",
    "        return e"
   ]
  },
  {
   "cell_type": "code",
   "execution_count": 6,
   "id": "44d25e4b",
   "metadata": {},
   "outputs": [
    {
     "name": "stdout",
     "output_type": "stream",
     "text": [
      "45\n"
     ]
    }
   ],
   "source": [
    "print(pile_of_cubes(1071225))"
   ]
  },
  {
   "cell_type": "code",
   "execution_count": 7,
   "id": "4f8b402e",
   "metadata": {},
   "outputs": [
    {
     "name": "stdout",
     "output_type": "stream",
     "text": [
      "2022\n"
     ]
    }
   ],
   "source": [
    "print(pile_of_cubes(4183059834009))"
   ]
  },
  {
   "cell_type": "code",
   "execution_count": 8,
   "id": "841c9e7c",
   "metadata": {},
   "outputs": [
    {
     "name": "stdout",
     "output_type": "stream",
     "text": [
      "None\n"
     ]
    }
   ],
   "source": [
    "print(pile_of_cubes(16))"
   ]
  },
  {
   "cell_type": "code",
   "execution_count": 9,
   "id": "5628617e",
   "metadata": {},
   "outputs": [],
   "source": [
    "# 3. A fulcrum of a list is an integer such that all elements to the left of it and all elements to the right of it sum to the \n",
    "#    same value. Write a function that finds the fulcrum of a list.\n",
    "#    To illustrate:\n",
    "#    find_fulcrum([3, 1, 5, 2, 4, 6, -1]) ➞ 2 // Since [3, 1, 5] and [4, 6, -1] both sum to 9\n",
    "#    Examples:\n",
    "#    find_fulcrum([1, 2, 4, 9, 10, -10, -9, 3]) ➞ 4\n",
    "#    find_fulcrum([9, 1, 9]) ➞ 1\n",
    "#    find_fulcrum([7, -1, 0, -1, 1, 1, 2, 3]) ➞ 0\n",
    "#    find_fulcrum([8, 8, 8, 8]) ➞ -1\n",
    "\n",
    "# Sol :\n",
    "\n",
    "def find_fulcrum(lst):\n",
    "    try:\n",
    "        output = -1\n",
    "        for i in lst:\n",
    "            index = lst.index(i)\n",
    "            if sum(lst[:index]) == sum(lst[index+1:]):\n",
    "                output = i\n",
    "        return output\n",
    "    except Exception as e:\n",
    "        return e"
   ]
  },
  {
   "cell_type": "code",
   "execution_count": 10,
   "id": "28ddb61a",
   "metadata": {},
   "outputs": [
    {
     "data": {
      "text/plain": [
       "2"
      ]
     },
     "execution_count": 10,
     "metadata": {},
     "output_type": "execute_result"
    }
   ],
   "source": [
    "find_fulcrum([3, 1, 5, 2, 4, 6, -1])"
   ]
  },
  {
   "cell_type": "code",
   "execution_count": 11,
   "id": "3fe506da",
   "metadata": {},
   "outputs": [
    {
     "data": {
      "text/plain": [
       "4"
      ]
     },
     "execution_count": 11,
     "metadata": {},
     "output_type": "execute_result"
    }
   ],
   "source": [
    "find_fulcrum([1, 2, 4, 9, 10, -10, -9, 3])"
   ]
  },
  {
   "cell_type": "code",
   "execution_count": 12,
   "id": "69d81eb5",
   "metadata": {},
   "outputs": [
    {
     "data": {
      "text/plain": [
       "1"
      ]
     },
     "execution_count": 12,
     "metadata": {},
     "output_type": "execute_result"
    }
   ],
   "source": [
    "find_fulcrum([9, 1, 9])"
   ]
  },
  {
   "cell_type": "code",
   "execution_count": 13,
   "id": "f8d9d34e",
   "metadata": {},
   "outputs": [
    {
     "data": {
      "text/plain": [
       "0"
      ]
     },
     "execution_count": 13,
     "metadata": {},
     "output_type": "execute_result"
    }
   ],
   "source": [
    "find_fulcrum([7, -1, 0, -1, 1, 1, 2, 3])"
   ]
  },
  {
   "cell_type": "code",
   "execution_count": 14,
   "id": "fe8e5129",
   "metadata": {},
   "outputs": [
    {
     "data": {
      "text/plain": [
       "-1"
      ]
     },
     "execution_count": 14,
     "metadata": {},
     "output_type": "execute_result"
    }
   ],
   "source": [
    "find_fulcrum([8, 8, 8, 8])"
   ]
  },
  {
   "cell_type": "code",
   "execution_count": 15,
   "id": "c85f1327",
   "metadata": {},
   "outputs": [],
   "source": [
    "# 4. Given a list of integers representing the color of each sock, determine how many pairs of socks with matching colors there \n",
    "#    are. For example, there are 7 socks with colors [1, 2, 1, 2, 1, 3, 2]. There is one pair of color 1 and one of color 2. \n",
    "#    There are three odd socks left, one of each color. The number of pairs is 2.\n",
    "#    Create a function that returns an integer representing the number of matching pairs of socks that are available.\n",
    "#    Examples:\n",
    "#       sock_merchant([10, 20, 20, 10, 10, 30, 50, 10, 20]) ➞ 3\n",
    "#       sock_merchant([50, 20, 30, 90, 30, 20, 50, 20, 90]) ➞ 4\n",
    "#       sock_merchant([]) ➞ 0\n",
    "\n",
    "# Sol :\n",
    "\n",
    "def sock_merchant(lst : list):\n",
    "    try:\n",
    "        result = 0\n",
    "        elements = set(lst)\n",
    "        for i in elements:\n",
    "            result+=lst.count(i)//2\n",
    "        return result\n",
    "    except Exception as e:\n",
    "        return e"
   ]
  },
  {
   "cell_type": "code",
   "execution_count": 16,
   "id": "98889fd8",
   "metadata": {},
   "outputs": [
    {
     "data": {
      "text/plain": [
       "3"
      ]
     },
     "execution_count": 16,
     "metadata": {},
     "output_type": "execute_result"
    }
   ],
   "source": [
    "sock_merchant([10, 20, 20, 10, 10, 30, 50, 10, 20])"
   ]
  },
  {
   "cell_type": "code",
   "execution_count": 17,
   "id": "b8a734ef",
   "metadata": {},
   "outputs": [
    {
     "data": {
      "text/plain": [
       "4"
      ]
     },
     "execution_count": 17,
     "metadata": {},
     "output_type": "execute_result"
    }
   ],
   "source": [
    "sock_merchant([50, 20, 30, 90, 30, 20, 50, 20, 90])"
   ]
  },
  {
   "cell_type": "code",
   "execution_count": 18,
   "id": "d943959d",
   "metadata": {},
   "outputs": [
    {
     "data": {
      "text/plain": [
       "0"
      ]
     },
     "execution_count": 18,
     "metadata": {},
     "output_type": "execute_result"
    }
   ],
   "source": [
    "sock_merchant([])"
   ]
  },
  {
   "cell_type": "code",
   "execution_count": 19,
   "id": "44cb78bb",
   "metadata": {},
   "outputs": [],
   "source": [
    "# 5. Create a function that takes a string containing integers as well as other characters and return the sum of the negative \n",
    "#    integers only.\n",
    "#    Examples:\n",
    "#      negative_sum(\"-12 13%14&-11\") ➞ -23\n",
    "#      -12 + -11 = -23\n",
    "#      negative_sum(\"22 13%14&-11-22 13 12\") ➞ -33\n",
    "#      -11 + -22 = -33\n",
    "\n",
    "# Sol :\n",
    "\n",
    "import re\n",
    "def negative_sum(string):\n",
    "    try:\n",
    "        pattern = \"-\\d+\"\n",
    "        output = sum([int(ele) for ele in re.findall(pattern, string)])\n",
    "        return output\n",
    "    except Exception as e:\n",
    "        return e"
   ]
  },
  {
   "cell_type": "code",
   "execution_count": 20,
   "id": "4c58353d",
   "metadata": {},
   "outputs": [
    {
     "data": {
      "text/plain": [
       "-23"
      ]
     },
     "execution_count": 20,
     "metadata": {},
     "output_type": "execute_result"
    }
   ],
   "source": [
    "negative_sum(\"-12 13%14&-11\")"
   ]
  },
  {
   "cell_type": "code",
   "execution_count": 21,
   "id": "c968755f",
   "metadata": {},
   "outputs": [
    {
     "data": {
      "text/plain": [
       "-33"
      ]
     },
     "execution_count": 21,
     "metadata": {},
     "output_type": "execute_result"
    }
   ],
   "source": [
    "negative_sum(\"22 13%14&-11-22 13 12\")"
   ]
  },
  {
   "cell_type": "code",
   "execution_count": null,
   "id": "c45901ff",
   "metadata": {},
   "outputs": [],
   "source": []
  }
 ],
 "metadata": {
  "kernelspec": {
   "display_name": "Python 3 (ipykernel)",
   "language": "python",
   "name": "python3"
  },
  "language_info": {
   "codemirror_mode": {
    "name": "ipython",
    "version": 3
   },
   "file_extension": ".py",
   "mimetype": "text/x-python",
   "name": "python",
   "nbconvert_exporter": "python",
   "pygments_lexer": "ipython3",
   "version": "3.9.12"
  }
 },
 "nbformat": 4,
 "nbformat_minor": 5
}
