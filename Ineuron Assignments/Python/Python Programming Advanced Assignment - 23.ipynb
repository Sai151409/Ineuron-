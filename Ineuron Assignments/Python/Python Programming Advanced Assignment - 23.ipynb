{
 "cells": [
  {
   "cell_type": "code",
   "execution_count": 1,
   "id": "a7bb00e8",
   "metadata": {},
   "outputs": [],
   "source": [
    "# 1. Create a class Sudoku that takes a string as an argument. The string will contain the numbers of a regular 9x9 sudoku\n",
    "#    board left to right and top to bottom, with zeros filling up the empty cells.\n",
    "\n",
    "#    Attributes:\n",
    "\n",
    "#        An instance of the class Sudoku will have one attribute:\n",
    "\n",
    "#    board: a list representing the board, with sublits for each row, with the numbers as integers. \n",
    "#               Empty cell represented with 0.\n",
    "#   Methods:\n",
    "\n",
    "#       An instance of the class Sudoku wil have three methods:\n",
    "\n",
    "#    get_row(n): will return the row in position n.\n",
    "#    get_col(n): will return the column in position n.\n",
    "#    get_sqr([n, m]): will return the square in position n if only one argument is given, and the square to which the \n",
    "#    cell in position (n, m) belongs to if two arguments are given.\n",
    "#    Example:\n",
    "\n",
    "#         game = Sudoku(\"417950030000000700060007000050009106800600000000003400900005000000430000200701580\")\n",
    "\n",
    "#    game.board ➞ [ [4, 1, 7, 9, 5, 0, 0, 3, 0], [0, 0, 0, 0, 0, 0, 7, 0, 0], [0, 6, 0, 0, 0, 7, 0, 0, 0], \n",
    "#                    [0, 5, 0, 0, 0, 9, 1, 0, 6], [8, 0, 0, 6, 0, 0, 0, 0, 0], [0, 0, 0, 0, 0, 3, 4, 0, 0], \n",
    "#                    [9, 0, 0, 0, 0, 5, 0, 0, 0], [0, 0, 0, 4, 3, 0, 0, 0, 0], [2, 0, 0, 7, 0, 1, 5, 8, 0] ]\n",
    "\n",
    "#    game.get_row(0) ➞ [4, 1, 7, 9, 5, 0, 0, 3, 0]\n",
    "#    game.get_col(8) ➞ [0, 0, 0, 6, 0, 0, 0, 0, 0]\n",
    "#    game.get_sqr(1) ➞ [9, 5, 0, 0, 0, 0, 0, 0, 7]\n",
    "#    game.get_sqr(1, 8) ➞ [0, 3, 0, 7, 0, 0, 0, 0, 0]\n",
    "#    game.get_sqr(8, 3) ➞ [0, 0, 5, 4, 3, 0, 7, 0, 1]"
   ]
  },
  {
   "cell_type": "code",
   "execution_count": 2,
   "id": "fb93e9e2",
   "metadata": {},
   "outputs": [],
   "source": [
    "class Sudoku:\n",
    "    def __init__(self, string):\n",
    "        try:\n",
    "            self.board = []\n",
    "            for i in range(0, len(string), 9):\n",
    "                self.board.append([int(j) for j in string[i:i+9]])\n",
    "        except Exception as e:\n",
    "            return e\n",
    "        \n",
    "    def get_row(self, row):\n",
    "        try:\n",
    "            return self.board[row]\n",
    "        except Exception as e:\n",
    "            return e\n",
    "        \n",
    "    def get_column(self, column):\n",
    "        try:\n",
    "            output = []\n",
    "            for i in range(len(self.board)):\n",
    "                output.append(self.board[i][column])\n",
    "            return output\n",
    "        except Exception as e:\n",
    "            return e\n",
    "        \n",
    "    def get_sqr(self, row, column = None):\n",
    "        try:\n",
    "            square = {\n",
    "                0 : [[0, 1, 2], [0, 1, 2]],\n",
    "                1 : [[0, 1, 2], [3, 4, 5]],\n",
    "                2 : [[0, 1, 2], [6, 7, 8]],\n",
    "                3 : [[3, 4, 5], [0, 1, 2]],\n",
    "                4 : [[3, 4, 5], [3, 4, 5]],\n",
    "                5 : [[3, 4, 5], [6, 7, 8]],\n",
    "                6 : [[6, 7, 8], [0, 1, 2]],\n",
    "                7 : [[6, 7, 8], [3, 4, 5]],\n",
    "                8 : [[6, 7, 8], [6, 7, 8]],\n",
    "            }\n",
    "        \n",
    "            output = []\n",
    "        \n",
    "            if column == None:\n",
    "                for i in square[row][0]:\n",
    "                    for j in square[row][1]:\n",
    "                        output.append(self.board[i][j])\n",
    "                return output\n",
    "            \n",
    "            square1 = None\n",
    "            \n",
    "            if row <=2 :\n",
    "                if column <= 5:\n",
    "                    if column <= 2:\n",
    "                        square1 = 0\n",
    "                    else:\n",
    "                        square1 = 1\n",
    "                else:\n",
    "                    square1 = 2  \n",
    "            elif row <= 5:\n",
    "                if column <= 5:\n",
    "                    if column <= 2:\n",
    "                        square1 = 3\n",
    "                    else:\n",
    "                        square1 = 4\n",
    "                else:\n",
    "                    square1 = 5 \n",
    "            else:\n",
    "                if column <= 5:\n",
    "                    if column <= 2:\n",
    "                        square1 = 6\n",
    "                    else:\n",
    "                        square1 = 7\n",
    "                else:\n",
    "                    square1 = 8\n",
    "            for i in square[square1][0]:\n",
    "                for j in square[square1][1]:\n",
    "                    output.append(self.board[i][j])\n",
    "            return output\n",
    "        except Exception as e:\n",
    "            return e"
   ]
  },
  {
   "cell_type": "code",
   "execution_count": 3,
   "id": "051311ed",
   "metadata": {},
   "outputs": [],
   "source": [
    "game = Sudoku(\"417950030000000700060007000050009106800600000000003400900005000000430000200701580\")"
   ]
  },
  {
   "cell_type": "code",
   "execution_count": 4,
   "id": "07908b11",
   "metadata": {},
   "outputs": [
    {
     "data": {
      "text/plain": [
       "[[4, 1, 7, 9, 5, 0, 0, 3, 0],\n",
       " [0, 0, 0, 0, 0, 0, 7, 0, 0],\n",
       " [0, 6, 0, 0, 0, 7, 0, 0, 0],\n",
       " [0, 5, 0, 0, 0, 9, 1, 0, 6],\n",
       " [8, 0, 0, 6, 0, 0, 0, 0, 0],\n",
       " [0, 0, 0, 0, 0, 3, 4, 0, 0],\n",
       " [9, 0, 0, 0, 0, 5, 0, 0, 0],\n",
       " [0, 0, 0, 4, 3, 0, 0, 0, 0],\n",
       " [2, 0, 0, 7, 0, 1, 5, 8, 0]]"
      ]
     },
     "execution_count": 4,
     "metadata": {},
     "output_type": "execute_result"
    }
   ],
   "source": [
    "game.board"
   ]
  },
  {
   "cell_type": "code",
   "execution_count": 5,
   "id": "5a748f60",
   "metadata": {},
   "outputs": [
    {
     "data": {
      "text/plain": [
       "[4, 1, 7, 9, 5, 0, 0, 3, 0]"
      ]
     },
     "execution_count": 5,
     "metadata": {},
     "output_type": "execute_result"
    }
   ],
   "source": [
    "game.get_row(0)"
   ]
  },
  {
   "cell_type": "code",
   "execution_count": 6,
   "id": "2e0b848e",
   "metadata": {},
   "outputs": [
    {
     "data": {
      "text/plain": [
       "[0, 0, 0, 6, 0, 0, 0, 0, 0]"
      ]
     },
     "execution_count": 6,
     "metadata": {},
     "output_type": "execute_result"
    }
   ],
   "source": [
    "game.get_column(8)"
   ]
  },
  {
   "cell_type": "code",
   "execution_count": 7,
   "id": "c973e979",
   "metadata": {},
   "outputs": [
    {
     "data": {
      "text/plain": [
       "[9, 5, 0, 0, 0, 0, 0, 0, 7]"
      ]
     },
     "execution_count": 7,
     "metadata": {},
     "output_type": "execute_result"
    }
   ],
   "source": [
    "game.get_sqr(1)"
   ]
  },
  {
   "cell_type": "code",
   "execution_count": 8,
   "id": "283163e6",
   "metadata": {},
   "outputs": [
    {
     "data": {
      "text/plain": [
       "[0, 3, 0, 7, 0, 0, 0, 0, 0]"
      ]
     },
     "execution_count": 8,
     "metadata": {},
     "output_type": "execute_result"
    }
   ],
   "source": [
    "game.get_sqr(1, 8)"
   ]
  },
  {
   "cell_type": "code",
   "execution_count": 9,
   "id": "0f9340d0",
   "metadata": {},
   "outputs": [
    {
     "data": {
      "text/plain": [
       "[0, 0, 5, 4, 3, 0, 7, 0, 1]"
      ]
     },
     "execution_count": 9,
     "metadata": {},
     "output_type": "execute_result"
    }
   ],
   "source": [
    "game.get_sqr(8, 3)"
   ]
  },
  {
   "cell_type": "code",
   "execution_count": 10,
   "id": "00882815",
   "metadata": {},
   "outputs": [],
   "source": [
    "# 2. The function input is two non-empty linked lists representing two non-negative integers. \n",
    "#    The digits are stored in reverse order, and each of their nodes contains a single digit.\n",
    "#    Add the two numbers and return the sum as a linked list, in which the digits are also stored in reversed order.\n",
    "#    The class ListNode, building block of the linked list, is defined in the Tests tab.\n",
    "#    Class definition\n",
    "\n",
    "#    class ListNode: def __init__(self, val=0, next=None): self.val = val self.next = next\n",
    "\n",
    "#    Example:\n",
    "#       lt1 = ListNode(2)\n",
    "#       lt1.add_data([4, 3])\n",
    "#       lt2 = ListNode(5)\n",
    "#       lt2.add_data([6, 4])\n",
    "#       print(lt1.get_data()) # [2, 4, 3]\n",
    "#       print(lt2.get_data()) # [5, 6, 4]\n",
    "#       print(342 + 465) # 807\n",
    "#      add_two_numbers(lt1, lt2).get_data() ➞ [7, 0, 8]\n",
    "\n",
    "#      lt1 = ListNode(0)\n",
    "#      lt2 = ListNode(0)\n",
    "#      print(lt1.get_data()) # [0]\n",
    "#      print(lt2.get_data()) # [0]\n",
    "#      print(0 + 0) # 0\n",
    "#      add_two_numbers(lt1, lt2).get_data() ➞ [0]\n",
    "\n",
    "#      lt1 = ListNode(9)\n",
    "#      lt1.add_data([9,9,9,9,9,9])\n",
    "#      lt2 = ListNode(9)\n",
    "#      lt2.add_data([9,9,9])\n",
    "#      print(lt1.get_data()) # [9, 9, 9, 9, 9, 9, 9]\n",
    "#      print(lt2.get_data()) # [9, 9, 9, 9]\n",
    "#      print(9999999 + 9999) # 10009998\n",
    "#      add_two_numbers(lt1, lt2).get_data() ➞ [8, 9, 9, 9, 0, 0, 0, 1]"
   ]
  },
  {
   "cell_type": "code",
   "execution_count": 11,
   "id": "03cd5411",
   "metadata": {},
   "outputs": [],
   "source": [
    "class ListNode:\n",
    "    def __init__(self, val = 0, next = None):\n",
    "        try:\n",
    "            self.val = val\n",
    "            self.next = next\n",
    "            self.num_list = []\n",
    "            self.num_list.append(val)\n",
    "        except Exception as e:\n",
    "            return e\n",
    "    def add_data(self, lst):\n",
    "        try:\n",
    "            self.num_list.extend(lst)\n",
    "        except Exception as e:\n",
    "            return e\n",
    "    def get_data(self):\n",
    "        try:\n",
    "            return self.num_list\n",
    "        except Exception as e:\n",
    "            return e\n",
    "\n",
    "class add_two_numbers:\n",
    "    def __init__(self, obj1, obj2):\n",
    "        try:\n",
    "            self.obj1 = obj1\n",
    "            self.obj2 = obj2\n",
    "        except Exception as e:\n",
    "            return e\n",
    "    def get_data(self):\n",
    "        try:\n",
    "            num1 = int(\"\".join([str(i) for i in self.obj1.get_data()[::-1]]))\n",
    "            num2 = int(\"\".join([str(j) for j in self.obj2.get_data()[::-1]]))\n",
    "            return [int(k) for k in list(str(num1+num2))[::-1]]\n",
    "        except Exception as e:\n",
    "            return e"
   ]
  },
  {
   "cell_type": "code",
   "execution_count": 12,
   "id": "61c7ba5f",
   "metadata": {},
   "outputs": [],
   "source": [
    "lt1 = ListNode(2)\n",
    "lt1.add_data([4, 3])"
   ]
  },
  {
   "cell_type": "code",
   "execution_count": 13,
   "id": "aa79fe75",
   "metadata": {},
   "outputs": [
    {
     "data": {
      "text/plain": [
       "[2, 4, 3]"
      ]
     },
     "execution_count": 13,
     "metadata": {},
     "output_type": "execute_result"
    }
   ],
   "source": [
    "lt1.get_data()"
   ]
  },
  {
   "cell_type": "code",
   "execution_count": 14,
   "id": "373eb1e2",
   "metadata": {},
   "outputs": [],
   "source": [
    "lt2 = ListNode(5)"
   ]
  },
  {
   "cell_type": "code",
   "execution_count": 15,
   "id": "af764f99",
   "metadata": {},
   "outputs": [],
   "source": [
    "lt2.add_data([6, 4])"
   ]
  },
  {
   "cell_type": "code",
   "execution_count": 16,
   "id": "ed3f3cdc",
   "metadata": {},
   "outputs": [
    {
     "data": {
      "text/plain": [
       "[5, 6, 4]"
      ]
     },
     "execution_count": 16,
     "metadata": {},
     "output_type": "execute_result"
    }
   ],
   "source": [
    "lt2.get_data()"
   ]
  },
  {
   "cell_type": "code",
   "execution_count": 17,
   "id": "e6de9843",
   "metadata": {},
   "outputs": [
    {
     "data": {
      "text/plain": [
       "[7, 0, 8]"
      ]
     },
     "execution_count": 17,
     "metadata": {},
     "output_type": "execute_result"
    }
   ],
   "source": [
    "add_two_numbers(lt1, lt2).get_data()"
   ]
  },
  {
   "cell_type": "code",
   "execution_count": 18,
   "id": "76e496c8",
   "metadata": {},
   "outputs": [
    {
     "name": "stdout",
     "output_type": "stream",
     "text": [
      "[0]\n",
      "[0]\n",
      "0\n"
     ]
    },
    {
     "data": {
      "text/plain": [
       "[0]"
      ]
     },
     "execution_count": 18,
     "metadata": {},
     "output_type": "execute_result"
    }
   ],
   "source": [
    "lt1 = ListNode(0)\n",
    "lt2 = ListNode(0)\n",
    "print(lt1.get_data())\n",
    "print(lt2.get_data())\n",
    "print(0 + 0) \n",
    "add_two_numbers(lt1, lt2).get_data()"
   ]
  },
  {
   "cell_type": "code",
   "execution_count": 19,
   "id": "c0bad05d",
   "metadata": {},
   "outputs": [
    {
     "name": "stdout",
     "output_type": "stream",
     "text": [
      "[9, 9, 9, 9, 9, 9, 9]\n",
      "[9, 9, 9, 9]\n",
      "10009998\n"
     ]
    },
    {
     "data": {
      "text/plain": [
       "[8, 9, 9, 9, 0, 0, 0, 1]"
      ]
     },
     "execution_count": 19,
     "metadata": {},
     "output_type": "execute_result"
    }
   ],
   "source": [
    "lt1 = ListNode(9)\n",
    "lt1.add_data([9,9,9,9,9,9])\n",
    "lt2 = ListNode(9)\n",
    "lt2.add_data([9,9,9])\n",
    "print(lt1.get_data()) \n",
    "print(lt2.get_data()) \n",
    "print(9999999 + 9999) \n",
    "add_two_numbers(lt1, lt2).get_data()"
   ]
  },
  {
   "cell_type": "code",
   "execution_count": 20,
   "id": "5773f9fc",
   "metadata": {},
   "outputs": [],
   "source": [
    "# 3. Write a class called CoffeeShop, which has three instance variables:\n",
    "#    name : a string (basically, of the shop)\n",
    "#    menu : a list of items (of dict type), with each item containing the item (name of the item), \n",
    "#           type (whether a food or a drink) and price.\n",
    "#    orders : an empty list\n",
    "#    and seven methods:\n",
    "\n",
    "#    add_order: adds the name of the item to the end of the orders list if it exists on the menu, otherwise, \n",
    "#              return \"This item is currently unavailable!\"\n",
    "#    fulfill_order: if the orders list is not empty, return \"The {item} is ready!\". \n",
    "#    If the orders list is empty, return \"All orders have been fulfilled!\"\n",
    "#    list_orders: returns the item names of the orders taken, otherwise, an empty list.\n",
    "#    due_amount: returns the total amount due for the orders taken.\n",
    "#    cheapest_item: returns the name of the cheapest item on the menu.\n",
    "#    drinks_only: returns only the item names of type drink from the menu.\n",
    "#    food_only: returns only the item names of type food from the menu.\n",
    "#    IMPORTANT: Orders are fulfilled in a FIFO (first-in, first-out) order.\n",
    "\n",
    "#    Example:\n",
    "\n",
    "#      tcs.add_order(\"hot cocoa\") ➞ \"This item is currently unavailable!\"\n",
    "#      Tesha's coffee shop does not sell hot cocoa\n",
    "#      tcs.add_order(\"iced tea\") ➞ \"This item is currently unavailable!\"\n",
    "#      specifying the variant of \"iced tea\" will help the process\n",
    "\n",
    "#      tcs.add_order(\"cinnamon roll\") ➞ \"Order added!\"\n",
    "#      tcs.add_order(\"iced coffee\") ➞ \"Order added!\"\n",
    "#      tcs.list_orders ➞ [\"cinnamon roll\", \"iced coffee\"]\n",
    "#      all items of the current order\n",
    "\n",
    "#      tcs.due_amount() ➞ 2.17\n",
    "\n",
    "#      tcs.fulfill_order() ➞ \"The cinnamon roll is ready!\"\n",
    "#      tcs.fulfill_order() ➞ \"The iced coffee is ready!\"\n",
    "#      tcs.fulfill_order() ➞ \"All orders have been fulfilled!\"\n",
    "#      all orders have been presumably served\n",
    "\n",
    "#      tcs.list_orders() ➞ []\n",
    "#      an empty list is returned if all orders have been exhausted\n",
    "\n",
    "#      tcs.due_amount() ➞ 0.0\n",
    "#      no new orders taken, expect a zero payable\n",
    "\n",
    "#      tcs.cheapest_item() ➞ \"lemonade\"\n",
    "#      tcs.drinks_only() ➞ [\"orange juice\", \"lemonade\", \"cranberry juice\", \"pineapple juice\", \"lemon iced tea\", \n",
    "#                     \"vanilla chai latte\", \"hot chocolate\", \"iced coffee\"]\n",
    "#      tcs.food_only() ➞ [\"tuna sandwich\", \"ham and cheese sandwich\", \"bacon and egg\", \"steak\", \"hamburger\", \"cinnamon roll\"]"
   ]
  },
  {
   "cell_type": "code",
   "execution_count": 21,
   "id": "f75e493c",
   "metadata": {},
   "outputs": [],
   "source": [
    "Menu = [\n",
    "    {'name':'Orange Juice','type':'drink','price':25.50},\n",
    "    {'name':'Lemonade','type':'drink','price':10},\n",
    "    {'name':'Cranberry Juice','type':'drink','price':40},\n",
    "    {'name':'Pineapple Juice','type':'drink','price':40},\n",
    "    {'name':'Lemon Iced Tea','type':'drink','price':80},\n",
    "    {'name':'Vanilla Chai Latte','type':'drink','price':90},\n",
    "    {'name':'Hot Choclate','type':'drink','price':100},\n",
    "    {'name':'Iced Coffee','type':'drink','price':70.12},\n",
    "    {'name':'Tuna Sandwich','type':'food','price':120},\n",
    "    {'name':'Ham Cheese Sandwich','type':'food','price':180},\n",
    "    {'name':'Bacon And Egg','type':'food','price': 120},\n",
    "    {'name':'Chicken Biryani','type':'food','price':360},\n",
    "    {'name':'Veg Burger','type':'food','price':90},\n",
    "    {'name':'Cinnamon Roll','type':'food','price':60.25}\n",
    "]\n",
    "\n",
    "class CoffeeShop:\n",
    "    def __init__(self, name, menu, orders):\n",
    "        try:\n",
    "            self.name = name\n",
    "            self.menu = menu\n",
    "            self.orders = orders\n",
    "        except Exception as e:\n",
    "            return e\n",
    "    def add_order(self, item):\n",
    "        try:\n",
    "            available_items = [i['name'].lower() for i in self.menu]\n",
    "            if item in available_items:\n",
    "                self.orders.append(item)\n",
    "                return 'Ordered added!'\n",
    "            else:\n",
    "                return 'The Item is currently unavailable'\n",
    "        except Exception as e:\n",
    "            return e\n",
    "        \n",
    "    def list_orders(self):\n",
    "        try:\n",
    "            return self.orders\n",
    "        except Exception as e:\n",
    "            return e\n",
    "        \n",
    "    def fulfill_order(self):\n",
    "        try:\n",
    "            if len(self.orders) > 0:\n",
    "                return f'The {self.orders.pop(0)} is ready'\n",
    "            else:\n",
    "                return 'All the orders are fulfilled'\n",
    "        except Exception as e:\n",
    "            return e\n",
    "        \n",
    "    def cheapest_item(self):\n",
    "        try:\n",
    "            price = dict([[Menu['price'], Menu['name']] for Menu in self.menu])\n",
    "            return price[min(price.keys())]\n",
    "        \n",
    "        except Exception as e:\n",
    "            return e\n",
    "    \n",
    "    def due_amount(self):\n",
    "        try:\n",
    "            amount = []\n",
    "            price = dict([[Menu['name'].lower(), Menu['price']] for Menu in self.menu])\n",
    "            for i in self.list_orders():\n",
    "                if i in price.keys():\n",
    "                    amount.append(price[i])     \n",
    "            return sum(amount)\n",
    "        except Exception as e:\n",
    "            return e\n",
    "    \n",
    "    def food_only(self):\n",
    "        try:\n",
    "            food = [Menu['name'] for Menu in self.menu if Menu['type'] == 'food']\n",
    "            return food\n",
    "        except Exception as e:\n",
    "            return e\n",
    "    \n",
    "    def drinks_only(self):\n",
    "        try:\n",
    "            drink = [Menu['name'] for Menu in self.menu if Menu['type'] == 'drink']\n",
    "            return drink\n",
    "        except Exception as e:\n",
    "            return e"
   ]
  },
  {
   "cell_type": "code",
   "execution_count": 22,
   "id": "55f98e25",
   "metadata": {},
   "outputs": [],
   "source": [
    "Menu = [\n",
    "    {'name':'Orange Juice','type':'drink','price':25.50},\n",
    "    {'name':'Lemonade','type':'drink','price':10},\n",
    "    {'name':'Cranberry Juice','type':'drink','price':40},\n",
    "    {'name':'Pineapple Juice','type':'drink','price':40},\n",
    "    {'name':'Lemon Iced Tea','type':'drink','price':80},\n",
    "    {'name':'Vanilla Chai Latte','type':'drink','price':90},\n",
    "    {'name':'Hot Choclate','type':'drink','price':100},\n",
    "    {'name':'Iced Coffee','type':'drink','price':70.12},\n",
    "    {'name':'Tuna Sandwich','type':'food','price':120},\n",
    "    {'name':'Ham Cheese Sandwich','type':'food','price':180},\n",
    "    {'name':'Bacon And Egg','type':'food','price': 120},\n",
    "    {'name':'Chicken Biryani','type':'food','price':360},\n",
    "    {'name':'Veg Burger','type':'food','price':90},\n",
    "    {'name':'Cinnamon Roll','type':'food','price':60.25}\n",
    "]"
   ]
  },
  {
   "cell_type": "code",
   "execution_count": 23,
   "id": "bb8a578c",
   "metadata": {},
   "outputs": [],
   "source": [
    "tcs = CoffeeShop('Tesha Coffee Shop', Menu, [])"
   ]
  },
  {
   "cell_type": "code",
   "execution_count": 24,
   "id": "0fbe940e",
   "metadata": {},
   "outputs": [
    {
     "data": {
      "text/plain": [
       "'The Item is currently unavailable'"
      ]
     },
     "execution_count": 24,
     "metadata": {},
     "output_type": "execute_result"
    }
   ],
   "source": [
    "tcs.add_order(\"hot cocoa\")"
   ]
  },
  {
   "cell_type": "code",
   "execution_count": 25,
   "id": "d2fc3b75",
   "metadata": {},
   "outputs": [
    {
     "data": {
      "text/plain": [
       "'The Item is currently unavailable'"
      ]
     },
     "execution_count": 25,
     "metadata": {},
     "output_type": "execute_result"
    }
   ],
   "source": [
    "tcs.add_order(\"iced tea\")"
   ]
  },
  {
   "cell_type": "code",
   "execution_count": 26,
   "id": "3df4bd2c",
   "metadata": {},
   "outputs": [
    {
     "data": {
      "text/plain": [
       "'Ordered added!'"
      ]
     },
     "execution_count": 26,
     "metadata": {},
     "output_type": "execute_result"
    }
   ],
   "source": [
    "tcs.add_order(\"cinnamon roll\")"
   ]
  },
  {
   "cell_type": "code",
   "execution_count": 27,
   "id": "976b97a3",
   "metadata": {},
   "outputs": [
    {
     "data": {
      "text/plain": [
       "'Ordered added!'"
      ]
     },
     "execution_count": 27,
     "metadata": {},
     "output_type": "execute_result"
    }
   ],
   "source": [
    "tcs.add_order(\"iced coffee\")"
   ]
  },
  {
   "cell_type": "code",
   "execution_count": 28,
   "id": "377099bc",
   "metadata": {},
   "outputs": [
    {
     "data": {
      "text/plain": [
       "['cinnamon roll', 'iced coffee']"
      ]
     },
     "execution_count": 28,
     "metadata": {},
     "output_type": "execute_result"
    }
   ],
   "source": [
    "tcs.list_orders()"
   ]
  },
  {
   "cell_type": "code",
   "execution_count": 29,
   "id": "6dcd92e1",
   "metadata": {},
   "outputs": [
    {
     "data": {
      "text/plain": [
       "130.37"
      ]
     },
     "execution_count": 29,
     "metadata": {},
     "output_type": "execute_result"
    }
   ],
   "source": [
    "tcs.due_amount()"
   ]
  },
  {
   "cell_type": "code",
   "execution_count": 30,
   "id": "cbbec35e",
   "metadata": {},
   "outputs": [
    {
     "data": {
      "text/plain": [
       "'The cinnamon roll is ready'"
      ]
     },
     "execution_count": 30,
     "metadata": {},
     "output_type": "execute_result"
    }
   ],
   "source": [
    "tcs.fulfill_order()"
   ]
  },
  {
   "cell_type": "code",
   "execution_count": 31,
   "id": "3282af82",
   "metadata": {},
   "outputs": [
    {
     "data": {
      "text/plain": [
       "'The iced coffee is ready'"
      ]
     },
     "execution_count": 31,
     "metadata": {},
     "output_type": "execute_result"
    }
   ],
   "source": [
    "tcs.fulfill_order()"
   ]
  },
  {
   "cell_type": "code",
   "execution_count": 32,
   "id": "f4656293",
   "metadata": {},
   "outputs": [
    {
     "data": {
      "text/plain": [
       "'All the orders are fulfilled'"
      ]
     },
     "execution_count": 32,
     "metadata": {},
     "output_type": "execute_result"
    }
   ],
   "source": [
    "tcs.fulfill_order()"
   ]
  },
  {
   "cell_type": "code",
   "execution_count": 33,
   "id": "bb542df9",
   "metadata": {},
   "outputs": [
    {
     "data": {
      "text/plain": [
       "[]"
      ]
     },
     "execution_count": 33,
     "metadata": {},
     "output_type": "execute_result"
    }
   ],
   "source": [
    "tcs.list_orders()"
   ]
  },
  {
   "cell_type": "code",
   "execution_count": 34,
   "id": "d8eddee6",
   "metadata": {},
   "outputs": [
    {
     "data": {
      "text/plain": [
       "'Lemonade'"
      ]
     },
     "execution_count": 34,
     "metadata": {},
     "output_type": "execute_result"
    }
   ],
   "source": [
    "tcs.cheapest_item()"
   ]
  },
  {
   "cell_type": "code",
   "execution_count": 35,
   "id": "9e26894f",
   "metadata": {},
   "outputs": [
    {
     "data": {
      "text/plain": [
       "['Tuna Sandwich',\n",
       " 'Ham Cheese Sandwich',\n",
       " 'Bacon And Egg',\n",
       " 'Chicken Biryani',\n",
       " 'Veg Burger',\n",
       " 'Cinnamon Roll']"
      ]
     },
     "execution_count": 35,
     "metadata": {},
     "output_type": "execute_result"
    }
   ],
   "source": [
    "tcs.food_only()"
   ]
  },
  {
   "cell_type": "code",
   "execution_count": 36,
   "id": "d5d8ac85",
   "metadata": {},
   "outputs": [
    {
     "data": {
      "text/plain": [
       "['Orange Juice',\n",
       " 'Lemonade',\n",
       " 'Cranberry Juice',\n",
       " 'Pineapple Juice',\n",
       " 'Lemon Iced Tea',\n",
       " 'Vanilla Chai Latte',\n",
       " 'Hot Choclate',\n",
       " 'Iced Coffee']"
      ]
     },
     "execution_count": 36,
     "metadata": {},
     "output_type": "execute_result"
    }
   ],
   "source": [
    "tcs.drinks_only()"
   ]
  },
  {
   "cell_type": "code",
   "execution_count": 39,
   "id": "3084e595",
   "metadata": {},
   "outputs": [
    {
     "name": "stdout",
     "output_type": "stream",
     "text": [
      "{'number': 0, 'distance': 2, 'closest': 2}\n",
      "{'number': 120, 'distance': 7, 'closest': 127}\n",
      "{'number': 1140, 'distance': 11, 'closest': 1151}\n",
      "{'number': 211, 'distance': 12, 'closest': 223}\n"
     ]
    }
   ],
   "source": [
    "# 4. In this challenge, write a funcion loneliest_number to find the last Lonely number inside a sequence.\n",
    "#    A number is Lonely if the distance from its closest Prime sets a new record of the sequence.\n",
    "#    Sequence = from 0 to 3\n",
    "#    Any number lower than 3 doesn't have a Prime preceeding it...\n",
    "#    ...so that you'll consider only its next closest Prime.\n",
    "\n",
    "#    0 has distance 2 from its closest Prime (2)\n",
    "#    It's a new record! 0 It's the first lonely number of the sequence\n",
    "\n",
    "#    1 has distance 1 from its closest Prime (2)\n",
    "#    2 has distance 1 from 3\n",
    "#    3 has distance 1 from 2\n",
    "#    The sequence 0 to 3 has only one Lonely number: 0\n",
    "\n",
    "#    Sequence = Numbers from 5 to 10\n",
    "#    5 has distance 2 from its closest Prime (3 or 7)\n",
    "#    It's a new record! 5 It's the first lonely number of the sequence\n",
    "\n",
    "#    6 has distance 1 from 5 or 7\n",
    "#    7 has distance 2 from 5\n",
    "#    8 has distance 1 from 7\n",
    "#    9 has distance 2 from 7 or 11\n",
    "#    10 has distance 1 from 11\n",
    "\n",
    "#    The sequence 5 to 10 has only one Lonely number: 5\n",
    "#   #     Sequence = Numbers from 19 to 24\n",
    "\n",
    "#   19 has distance 2 from its closest Prime (17)\n",
    "# It's a new record! 19 It's the first lonely number of the sequence\n",
    "\n",
    "#    20 has distance 1 from 19\n",
    "#    21 has distance 2 from 5\n",
    "#    22 has distance 1 from 23\n",
    "#    23 has distance 4 from 17 or 29\n",
    "\n",
    "# It's a new record! 23 is the second lonely number of the sequence\n",
    "#    24 has distance 1 from 23\n",
    "# The sequence 19 to 24 has two Lonely numbers: 19 and 23\n",
    "\n",
    "#    The function loneliest_number must accept two integers lo and hi being the inclusive bounds of the sequence to analyze, and returns a dictionay (dict) object with the following keys and values:\n",
    "\n",
    "#    number: is the last Lonely number found in the given sequence;\n",
    "#    distance: is the distance of the number from its closest Prime;\n",
    "#    closest: is the Prime closest to number (if two Primes are equally distant from number, return the higher Prime).\n",
    "#    Example:\n",
    "#    loneliest_number(0, 22) ➞ { number: 0, distance: 2, closest: 2 }\n",
    "\n",
    "#    loneliest_number(8, 123) ➞ { number: 53, distance: 6, closest: 59 }\n",
    "\n",
    "#    loneliest_number(938, 1190) ➞ { number: 1140, distance: 11, closest: 1151 }\n",
    "\n",
    "#    loneliest_number(120, 1190) ➞ { number: 211, distance: 12, closest: 223 }\n",
    "\n",
    "def loneliest_number(start,end):\n",
    "    prime_list = []\n",
    "    output = {'number': 0, 'distance': 0, 'closest': 0}\n",
    "    temp = []\n",
    "    if start <=3: prime_list.extend([2,3])\n",
    "    for ele in range(start,end+1):\n",
    "        if (ele-1)%6 == 0 or (ele+1)%6 == 0: prime_list.append(ele) # initial check\n",
    "    for ele in prime_list:\n",
    "        for item in range(2,ele):\n",
    "            if ele%item == 0 :\n",
    "                temp.append(ele)\n",
    "                break    \n",
    "    prime_list = sorted(set(prime_list)-set(temp))\n",
    "    if start in [4,5] : print(3) ; prime_list.insert(0,3) # Logic to get first prime number before start\n",
    "    else:\n",
    "        for ele in range(start-1,0,-1):\n",
    "            if (ele-1)%6 == 0 or (ele+1)%6 == 0:\n",
    "                prime_list.insert(0,ele)\n",
    "                break\n",
    "    while True: # Logic to get first prime number after end\n",
    "        if (end-1)%6 == 0 or (end+1)%6 == 0:\n",
    "            out_num = None\n",
    "            for ele in range(2,end):\n",
    "                if end%ele == 0:\n",
    "                    out_num = ele\n",
    "                    break\n",
    "            if out_num == None:prime_list.append(end) ; break\n",
    "            else: end +=1\n",
    "        else:\n",
    "            end+=1          \n",
    "    if 1 in prime_list: prime_list.remove(1)                 \n",
    "    for ele in range(start,end):\n",
    "        org_ele = ele\n",
    "        while True:\n",
    "            if ele in prime_list:\n",
    "                n_f_prime = ele if ele != org_ele else prime_list[prime_list.index(ele)+1]\n",
    "                n_b_prime = prime_list[prime_list.index(ele)-1] if prime_list.index(ele) > 0 else 0\n",
    "                closest_distance = min(org_ele-n_b_prime,n_f_prime-org_ele) if n_b_prime !=0 else n_f_prime-org_ele \n",
    "                closest_prime = n_f_prime if n_b_prime == 0 or closest_distance == n_f_prime-org_ele else n_b_prime\n",
    "                if output['distance'] < closest_distance:\n",
    "                    output = {'number': org_ele, 'distance': closest_distance, 'closest': closest_prime}\n",
    "                break\n",
    "            else:\n",
    "                ele +=1\n",
    "    print(output)\n",
    "               \n",
    "loneliest_number(0,22)\n",
    "loneliest_number(8, 123)\n",
    "loneliest_number(938, 1190) \n",
    "loneliest_number(120, 1190)"
   ]
  },
  {
   "cell_type": "code",
   "execution_count": 40,
   "id": "0c8a419c",
   "metadata": {},
   "outputs": [
    {
     "name": "stdout",
     "output_type": "stream",
     "text": [
      "p.__dict__  ➞ {'x': 2, 'archived_states': []}\n",
      "p.__dict__  ➞ {'x': None, 'archived_states': [2]}\n",
      "p.__dict__  ➞ {'x': 5, 'archived_states': [2]}\n",
      "p.__dict__  ➞ {'x': None, 'archived_states': [2, 5]}\n",
      "p.__dict__  ➞ {'x': 2, 'archived_states': [2, 5]}\n",
      "p.x ➞ 2\n"
     ]
    }
   ],
   "source": [
    "# 5. Implement a class Selfie that can store the current state of the object in the form of binary string.\n",
    "#    It can take multiple pictures and then recover to a state it was before. During testing an object will be provided with \n",
    "#    new attributes and their values. It will store its state. Then the values will be changed. \n",
    "#    Then it will be given new attributes. It will store its state again. It will be repeated few times.\n",
    "#    Later the states of the object will be recovered given an index. \n",
    "#    The return value should be a new Selfie with the requested historic state and the state history of the new object\n",
    "#    should be updated with a copy of current object's state history.\n",
    "\n",
    "#    The object also knows how many states it has stored. If the index is not within the range of stored states, \n",
    "#    the object stays as is. If the argument is invalid, n < 0 or n >= self.n_states(), \n",
    "#    the current object (or a copy thereof) should be returned.\n",
    "\n",
    "#   Example:\n",
    "#    p = Selfie() p.x = 2 p.save_state() p.x = 5 p = p.recover_state(0) p.x ➞ 2\n",
    "\n",
    "class Selfie:\n",
    "    def __init__(self,x=None):\n",
    "        self.x = x\n",
    "        self.archived_states = []\n",
    "    def save_state(self):\n",
    "        self.archived_states.append(self.x)\n",
    "        self.x = None\n",
    "        return self.archived_states\n",
    "    def recover_state(self,in_num):\n",
    "        if in_num >=0 and in_num <= len(self.archived_states):\n",
    "            self.x = self.archived_states[in_num]\n",
    "        return self\n",
    "        \n",
    "p = Selfie()\n",
    "p.x = 2\n",
    "print(f'p.__dict__  ➞ {p.__dict__}')\n",
    "p.save_state()\n",
    "print(f'p.__dict__  ➞ {p.__dict__}')\n",
    "p.x = 5\n",
    "print(f'p.__dict__  ➞ {p.__dict__}')\n",
    "p.save_state()\n",
    "print(f'p.__dict__  ➞ {p.__dict__}')\n",
    "p = p.recover_state(0)\n",
    "print(f'p.__dict__  ➞ {p.__dict__}')\n",
    "print(f'p.x ➞ {p.x}')"
   ]
  },
  {
   "cell_type": "code",
   "execution_count": null,
   "id": "fa6d0d41",
   "metadata": {},
   "outputs": [],
   "source": []
  }
 ],
 "metadata": {
  "kernelspec": {
   "display_name": "Python 3 (ipykernel)",
   "language": "python",
   "name": "python3"
  },
  "language_info": {
   "codemirror_mode": {
    "name": "ipython",
    "version": 3
   },
   "file_extension": ".py",
   "mimetype": "text/x-python",
   "name": "python",
   "nbconvert_exporter": "python",
   "pygments_lexer": "ipython3",
   "version": "3.9.12"
  }
 },
 "nbformat": 4,
 "nbformat_minor": 5
}
