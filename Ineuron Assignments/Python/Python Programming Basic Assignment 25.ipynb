{
 "cells": [
  {
   "cell_type": "code",
   "execution_count": 1,
   "id": "7e253b30",
   "metadata": {},
   "outputs": [],
   "source": [
    "# Q1. Create a function that takes three integer arguments (a, b, c) and returns the amount of\n",
    "#     integers which are of equal value.\n",
    "#     Examples : \n",
    "#        equal(3, 4, 3) ➞ 2\n",
    "#        equal(1, 1, 1) ➞ 3\n",
    "#        equal(3, 4, 1) ➞ 0\n",
    "#     Notes :\n",
    "#        Your function must return 0, 2 or 3.\n",
    "\n",
    "# Sol :\n",
    "\n",
    "def equal(a, b, c):\n",
    "    try:\n",
    "        if a == b and b == c and a == c:\n",
    "            return 3\n",
    "        elif a != b and b != c and a != c:\n",
    "            return 0\n",
    "        else:\n",
    "            return 2\n",
    "    except Exception as e:\n",
    "        print('The error has occured')\n",
    "        print('The error is : ', e)"
   ]
  },
  {
   "cell_type": "code",
   "execution_count": 2,
   "id": "a4674785",
   "metadata": {},
   "outputs": [
    {
     "data": {
      "text/plain": [
       "2"
      ]
     },
     "execution_count": 2,
     "metadata": {},
     "output_type": "execute_result"
    }
   ],
   "source": [
    "equal(3, 4, 3)"
   ]
  },
  {
   "cell_type": "code",
   "execution_count": 3,
   "id": "33740041",
   "metadata": {},
   "outputs": [
    {
     "data": {
      "text/plain": [
       "3"
      ]
     },
     "execution_count": 3,
     "metadata": {},
     "output_type": "execute_result"
    }
   ],
   "source": [
    "equal(1, 1, 1)"
   ]
  },
  {
   "cell_type": "code",
   "execution_count": 4,
   "id": "8e45f4d1",
   "metadata": {},
   "outputs": [
    {
     "data": {
      "text/plain": [
       "0"
      ]
     },
     "execution_count": 4,
     "metadata": {},
     "output_type": "execute_result"
    }
   ],
   "source": [
    "equal(3, 4, 1)"
   ]
  },
  {
   "cell_type": "code",
   "execution_count": 5,
   "id": "1ddb4b1b",
   "metadata": {},
   "outputs": [],
   "source": [
    "# Q2. Write a function that converts a dictionary into a list of keys-values tuples.\n",
    "#     Examples :\n",
    "#        dict_to_list({'D': 1, 'B': 2,'C': 3}) ➞ [('B', 2), ('C', 3), ('D', 1)]\n",
    "#        dict_to_list({'likes': 2, 'dislikes': 3, 'followers': 10 }) ➞ [('dislikes', 3), ('followers', 10), ('likes', 2)]\n",
    "#     Notes :\n",
    "#        Return the elements in the list in alphabetical order.\n",
    "\n",
    "# Sol :\n",
    "\n",
    "def dict_to_list(dic):\n",
    "    try:\n",
    "        k = list(dic.items())\n",
    "        k.sort()\n",
    "        return k\n",
    "    except Exception as e:\n",
    "        print('The error has occured')\n",
    "        print('The error is : ', e)"
   ]
  },
  {
   "cell_type": "code",
   "execution_count": 6,
   "id": "0e2d608a",
   "metadata": {},
   "outputs": [
    {
     "data": {
      "text/plain": [
       "[('B', 2), ('C', 3), ('D', 1)]"
      ]
     },
     "execution_count": 6,
     "metadata": {},
     "output_type": "execute_result"
    }
   ],
   "source": [
    "dict_to_list({'D': 1, 'B': 2,'C': 3})"
   ]
  },
  {
   "cell_type": "code",
   "execution_count": 7,
   "id": "6eb1eca1",
   "metadata": {},
   "outputs": [
    {
     "data": {
      "text/plain": [
       "[('dislikes', 3), ('followers', 10), ('likes', 2)]"
      ]
     },
     "execution_count": 7,
     "metadata": {},
     "output_type": "execute_result"
    }
   ],
   "source": [
    "dict_to_list({'likes': 2, 'dislikes': 3, 'followers': 10 })"
   ]
  },
  {
   "cell_type": "code",
   "execution_count": 8,
   "id": "037fcbe9",
   "metadata": {},
   "outputs": [],
   "source": [
    "# Q3. Write a function that creates a dictionary with each (key, value) pair being the (lower case,\n",
    "#     upper case) versions of a letter, respectively.\n",
    "#     Examples :\n",
    "#        mapping(['p', 's']) ➞ { 'p': 'P', 's': 'S' }\n",
    "#        mapping(['a', 'b', 'c']) ➞ { 'a': 'A', 'b': 'B', 'c': 'C' }\n",
    "#        mapping(['a', 'v', 'y', 'z']) ➞ { 'a': 'A', 'v': 'V', 'y': 'Y', 'z': 'Z' }\n",
    "#     Notes :\n",
    "#        All of the letters in the input list will always be lowercase'\n",
    "\n",
    "# Sol :\n",
    "\n",
    "def mapping(lst):\n",
    "    try:\n",
    "        k = {}\n",
    "        for i in lst:\n",
    "            k[i] = i.swapcase()\n",
    "        return k \n",
    "    except Exception as e:\n",
    "        print('The error has occured')\n",
    "        print('The error is : ', e)"
   ]
  },
  {
   "cell_type": "code",
   "execution_count": 9,
   "id": "e984d76c",
   "metadata": {},
   "outputs": [
    {
     "data": {
      "text/plain": [
       "{'p': 'P', 's': 'S'}"
      ]
     },
     "execution_count": 9,
     "metadata": {},
     "output_type": "execute_result"
    }
   ],
   "source": [
    "mapping(['p', 's'])"
   ]
  },
  {
   "cell_type": "code",
   "execution_count": 10,
   "id": "b9e08e31",
   "metadata": {},
   "outputs": [
    {
     "data": {
      "text/plain": [
       "{'a': 'A', 'b': 'B', 'c': 'C'}"
      ]
     },
     "execution_count": 10,
     "metadata": {},
     "output_type": "execute_result"
    }
   ],
   "source": [
    "mapping(['a', 'b', 'c'])"
   ]
  },
  {
   "cell_type": "code",
   "execution_count": 11,
   "id": "8b846e8c",
   "metadata": {},
   "outputs": [
    {
     "data": {
      "text/plain": [
       "{'a': 'A', 'v': 'V', 'y': 'Y', 'z': 'Z'}"
      ]
     },
     "execution_count": 11,
     "metadata": {},
     "output_type": "execute_result"
    }
   ],
   "source": [
    "mapping(['a', 'v', 'y', 'z'])"
   ]
  },
  {
   "cell_type": "code",
   "execution_count": 12,
   "id": "76b26ed5",
   "metadata": {},
   "outputs": [],
   "source": [
    "# Q4. Write a function, that replaces all vowels in a string with a specified vowel.\n",
    "#     Examples :\n",
    "#        vow_replace('apples and bananas', 'u') ➞ 'upplus und bununus'\n",
    "#        vow_replace('cheese casserole','o')➞ 'chooso cossorolo'\n",
    "#        vow_replace('stuffed jalapeno poppers', 'e') ➞ 'steffed jelepene peppers'\n",
    "#     Notes :\n",
    "#        All words will be lowercase. Y is not considered a vowel.\n",
    "\n",
    "# Sol :\n",
    "\n",
    "def vow_replace(str1, l):\n",
    "    try:\n",
    "        k = ''\n",
    "        for i in str1:\n",
    "            if i in ['a', 'e', 'i', 'o', 'u']:\n",
    "                k += l\n",
    "            else:\n",
    "                k += i\n",
    "        return k\n",
    "    except Exception as e:\n",
    "        print('The error has occured')\n",
    "        print('The error is : ', e)"
   ]
  },
  {
   "cell_type": "code",
   "execution_count": 13,
   "id": "1b1d7d26",
   "metadata": {},
   "outputs": [
    {
     "data": {
      "text/plain": [
       "'upplus und bununus'"
      ]
     },
     "execution_count": 13,
     "metadata": {},
     "output_type": "execute_result"
    }
   ],
   "source": [
    "vow_replace('apples and bananas', 'u')"
   ]
  },
  {
   "cell_type": "code",
   "execution_count": 14,
   "id": "b1c13654",
   "metadata": {},
   "outputs": [
    {
     "data": {
      "text/plain": [
       "'chooso cossorolo'"
      ]
     },
     "execution_count": 14,
     "metadata": {},
     "output_type": "execute_result"
    }
   ],
   "source": [
    "vow_replace('cheese casserole','o')"
   ]
  },
  {
   "cell_type": "code",
   "execution_count": 15,
   "id": "c92bde9a",
   "metadata": {},
   "outputs": [
    {
     "data": {
      "text/plain": [
       "'steffed jelepene peppers'"
      ]
     },
     "execution_count": 15,
     "metadata": {},
     "output_type": "execute_result"
    }
   ],
   "source": [
    "vow_replace('stuffed jalapeno poppers', 'e')"
   ]
  },
  {
   "cell_type": "code",
   "execution_count": 16,
   "id": "847897eb",
   "metadata": {},
   "outputs": [],
   "source": [
    "# Q5. Create a function that takes a string as input and capitalizes a letter \n",
    "#     if its ASCII code is even and returns its lower case version if its ASCII code is odd.\n",
    "#     Examples :\n",
    "#       ascii_capitalize('to be or not to be!') ➞ 'To Be oR NoT To Be!'\n",
    "#       ascii_capitalize('THE LITTLE MERMAID') ➞ 'THe LiTTLe meRmaiD'\n",
    "#       ascii_capitalize('Oh what a beautiful morning.') ➞ 'oH wHaT a BeauTiFuL moRNiNg.'\n",
    "\n",
    "# Sol :\n",
    "\n",
    "def ascii_capitalize(str1):\n",
    "    try:\n",
    "        k = ''\n",
    "        for i in str1.lower():\n",
    "            if ord(i) % 2 == 0:\n",
    "                k += i.upper()\n",
    "            else:\n",
    "                k += i\n",
    "        return k\n",
    "    except Exception as e:\n",
    "        print('The error has occured')\n",
    "        print('The error is : ', e)"
   ]
  },
  {
   "cell_type": "code",
   "execution_count": 17,
   "id": "a926eb03",
   "metadata": {},
   "outputs": [
    {
     "data": {
      "text/plain": [
       "'To Be oR NoT To Be!'"
      ]
     },
     "execution_count": 17,
     "metadata": {},
     "output_type": "execute_result"
    }
   ],
   "source": [
    "ascii_capitalize('to be or not to be!')"
   ]
  },
  {
   "cell_type": "code",
   "execution_count": 18,
   "id": "117553d9",
   "metadata": {},
   "outputs": [
    {
     "data": {
      "text/plain": [
       "'THe LiTTLe meRmaiD'"
      ]
     },
     "execution_count": 18,
     "metadata": {},
     "output_type": "execute_result"
    }
   ],
   "source": [
    "ascii_capitalize('THE LITTLE MERMAID') "
   ]
  },
  {
   "cell_type": "code",
   "execution_count": 19,
   "id": "2ea9bef5",
   "metadata": {},
   "outputs": [
    {
     "data": {
      "text/plain": [
       "'oH wHaT a BeauTiFuL moRNiNg.'"
      ]
     },
     "execution_count": 19,
     "metadata": {},
     "output_type": "execute_result"
    }
   ],
   "source": [
    "ascii_capitalize('Oh what a beautiful morning.')"
   ]
  },
  {
   "cell_type": "code",
   "execution_count": null,
   "id": "9673bf37",
   "metadata": {},
   "outputs": [],
   "source": []
  },
  {
   "cell_type": "code",
   "execution_count": null,
   "id": "2be4ef24",
   "metadata": {},
   "outputs": [],
   "source": []
  },
  {
   "cell_type": "code",
   "execution_count": null,
   "id": "0d2fcd66",
   "metadata": {},
   "outputs": [],
   "source": []
  }
 ],
 "metadata": {
  "kernelspec": {
   "display_name": "Python 3 (ipykernel)",
   "language": "python",
   "name": "python3"
  },
  "language_info": {
   "codemirror_mode": {
    "name": "ipython",
    "version": 3
   },
   "file_extension": ".py",
   "mimetype": "text/x-python",
   "name": "python",
   "nbconvert_exporter": "python",
   "pygments_lexer": "ipython3",
   "version": "3.9.7"
  }
 },
 "nbformat": 4,
 "nbformat_minor": 5
}
