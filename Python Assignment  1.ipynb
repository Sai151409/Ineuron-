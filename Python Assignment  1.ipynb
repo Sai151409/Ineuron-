{
 "cells": [
  {
   "cell_type": "raw",
   "id": "f92598d6",
   "metadata": {},
   "source": [
    "1. In the below elements which of them are values or an expression? \n",
    "   eg:- values can be integer or string and expressions will be mathematical operators.\n",
    "\n",
    "* \n",
    "'hello'\n",
    "-87.8\n",
    "- \n",
    "/ \n",
    "+\n",
    "6 \n",
    "\n",
    "Here 'hello', -87.8, 6 are the values and +,-,*,/ are the expressions"
   ]
  },
  {
   "cell_type": "raw",
   "id": "14db04ad",
   "metadata": {},
   "source": [
    "2. What is the difference between string and variable?\n",
    "\n",
    "String - It is the squence of characters enclosed with single or double quotes\n",
    "\n",
    "variabe - It is named alloction space or container to store the data in the internal memory"
   ]
  },
  {
   "cell_type": "raw",
   "id": "42c7ce51",
   "metadata": {},
   "source": [
    "3. Describe three different data types.\n",
    "\n",
    "Numeric, Sequence, Text these are the three different data types in the python\n",
    "\n",
    "Numeric: \n",
    "\n",
    "There are three data types int, float, complex \n",
    "\n",
    "int means value should be postive integer, negative integer or Zero, ex : 78, -96, 0\n",
    "\n",
    "float similarly like int but it contains decimal values ex : 789.231\n",
    "\n",
    "complex data type is the combination of real part and imaginary part ex: 78+9j\n",
    "\n",
    "Sequence:\n",
    "\n",
    "There are several squence types. list, tuple, set, dict\n",
    "\n",
    "list : list is collection of ordered elements enclosed with closed brackets. ex : [45, 89, 90]\n",
    "\n",
    "tuple : tuple is collection of ordered elements enclosed with open brackets. ex : (90, 89, \"krish\", 90.6)\n",
    "\n",
    "set: set is collection of unordered elements enclosed with braces. ex : {67, 90, \"sai\"}\n",
    "\n",
    "dict : dict is collection of key and pair values enclosed with braces. ex : {\"name\":\"ram\", \"age\" : 21}\n",
    "\n",
    "Text:\n",
    "\n",
    "Sequence of characters enclosed with double r single quotes.  ex : \"Kishore\""
   ]
  },
  {
   "cell_type": "code",
   "execution_count": null,
   "id": "cf90b683",
   "metadata": {},
   "outputs": [],
   "source": []
  }
 ],
 "metadata": {
  "kernelspec": {
   "display_name": "Python 3 (ipykernel)",
   "language": "python",
   "name": "python3"
  },
  "language_info": {
   "codemirror_mode": {
    "name": "ipython",
    "version": 3
   },
   "file_extension": ".py",
   "mimetype": "text/x-python",
   "name": "python",
   "nbconvert_exporter": "python",
   "pygments_lexer": "ipython3",
   "version": "3.9.7"
  }
 },
 "nbformat": 4,
 "nbformat_minor": 5
}
