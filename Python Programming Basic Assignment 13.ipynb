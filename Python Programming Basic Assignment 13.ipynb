{
 "cells": [
  {
   "cell_type": "code",
   "execution_count": 1,
   "id": "e548e4ab",
   "metadata": {},
   "outputs": [],
   "source": [
    "# 1. Write a program that calculates and prints the value according to the given formula:\n",
    "\n",
    "# Q = Square root of [(2 * C * D)/H]\n",
    "\n",
    "# Following are the fixed values of C and H:\n",
    "\n",
    "# C is 50. H is 30.\n",
    "\n",
    "# D is the variable whose values should be input to your program in a comma-separated sequence.\n",
    "\n",
    "# Example\n",
    "\n",
    "# Let us assume the following comma separated input sequence is given to the program: 100,150,180\n",
    "\n",
    "# The output of the program should be: 18,22,24\n",
    "\n",
    "# Sol :\n",
    "\n",
    "def cal():\n",
    "    import math\n",
    "    C = 50\n",
    "    H = 30\n",
    "    D = eval(input(\"Enter the values : \"))\n",
    "    print(\"The ouput is : \", end = \" \")\n",
    "    for i in D:\n",
    "        Q = round(math.sqrt((2 * C * i)/H))\n",
    "        if D.index(i) != len(D)-1:\n",
    "            print(Q, end = \",\")\n",
    "        else:\n",
    "            print(Q)"
   ]
  },
  {
   "cell_type": "code",
   "execution_count": 2,
   "id": "3936ab79",
   "metadata": {},
   "outputs": [
    {
     "name": "stdout",
     "output_type": "stream",
     "text": [
      "Enter the values : 100,150,180\n",
      "The ouput is :  18,22,24\n"
     ]
    }
   ],
   "source": [
    "cal()"
   ]
  },
  {
   "cell_type": "code",
   "execution_count": 3,
   "id": "5740ae4d",
   "metadata": {},
   "outputs": [],
   "source": [
    "# 2. Write a program which takes 2 digits, X,Y as input and generates a 2-dimensional array. \n",
    "#   The element value in the i-th row and j-th column of the array should be i*j. Note: i=0,1.., X-1; j=0,1,¡Y-1.\n",
    "#   Example : Suppose the following inputs are given to the program: 3,5\n",
    "#   Then, the output of the program should be: [[0, 0, 0, 0, 0], [0, 1, 2, 3, 4], [0, 2, 4, 6, 8]]\n",
    "\n",
    "# Sol :\n",
    "\n",
    "def matrix(i, j):\n",
    "    k = [[l*k for l in range(j)] for k in range(i)]\n",
    "    return k"
   ]
  },
  {
   "cell_type": "code",
   "execution_count": 4,
   "id": "91a49f00",
   "metadata": {},
   "outputs": [
    {
     "data": {
      "text/plain": [
       "[[0, 0, 0, 0, 0], [0, 1, 2, 3, 4], [0, 2, 4, 6, 8]]"
      ]
     },
     "execution_count": 4,
     "metadata": {},
     "output_type": "execute_result"
    }
   ],
   "source": [
    "matrix(3, 5)"
   ]
  },
  {
   "cell_type": "code",
   "execution_count": 5,
   "id": "b5a80d59",
   "metadata": {},
   "outputs": [],
   "source": [
    "# 3. Write a program that accepts a comma separated sequence of words as input and prints the words in a comma-separated sequence after sorting them alphabetically.\n",
    "# Suppose the following input is supplied to the program: without,hello,bag,world\n",
    "# Then, the output should be: bag,hello,without,world\n",
    "\n",
    "# Sol:\n",
    "\n",
    "def alword():\n",
    "    a = input(\"Enter your data : \")\n",
    "    c = a.split(\",\")\n",
    "    c.sort()\n",
    "    d = \",\".join(c)\n",
    "    print(d)"
   ]
  },
  {
   "cell_type": "code",
   "execution_count": 6,
   "id": "55087f38",
   "metadata": {},
   "outputs": [
    {
     "name": "stdout",
     "output_type": "stream",
     "text": [
      "Enter your data : without,hello,bag,world\n",
      "bag,hello,without,world\n"
     ]
    }
   ],
   "source": [
    "alword()"
   ]
  },
  {
   "cell_type": "code",
   "execution_count": 7,
   "id": "9fae3274",
   "metadata": {},
   "outputs": [],
   "source": [
    "# 4. Write a program that accepts a sequence of whitespace separated words as input and prints the words after removing all duplicate words and sorting them alphanumerically.\n",
    "# Suppose the following input is supplied to the program: hello world and practice makes perfect and hello world again\n",
    "# Then, the output should be: again and hello makes perfect practice world\n",
    "\n",
    "# Sol :\n",
    "\n",
    "def alnumword():\n",
    "    a = input(\"Enter your data : \")\n",
    "    c = a.split(\" \")\n",
    "    d = list(set(c))\n",
    "    d.sort()\n",
    "    e = \" \".join(d)\n",
    "    print(e)"
   ]
  },
  {
   "cell_type": "code",
   "execution_count": 8,
   "id": "6aff33b3",
   "metadata": {},
   "outputs": [
    {
     "name": "stdout",
     "output_type": "stream",
     "text": [
      "Enter your data : hello world and practice makes perfect and hello world again\n",
      "again and hello makes perfect practice world\n"
     ]
    }
   ],
   "source": [
    "alnumword()"
   ]
  },
  {
   "cell_type": "code",
   "execution_count": 9,
   "id": "6be80450",
   "metadata": {},
   "outputs": [],
   "source": [
    "# 5. Write a program that accepts a sentence and calculate the number of letters and digits.\n",
    "# Suppose the following input is supplied to the program: hello world! 123\n",
    "# Then, the output should be: LETTERS 10\n",
    "\n",
    "# Sol :\n",
    "\n",
    "def alncount():\n",
    "    a = input(\"Enter the string : \")\n",
    "    count = 0\n",
    "    a = list(set(a))\n",
    "    for i in a:\n",
    "        if i.isalnum() == True:\n",
    "            count += 1\n",
    "    print(\"LETTERS : \", count)\n",
    "            "
   ]
  },
  {
   "cell_type": "code",
   "execution_count": 10,
   "id": "b185bb13",
   "metadata": {},
   "outputs": [
    {
     "name": "stdout",
     "output_type": "stream",
     "text": [
      "Enter the string : hello world! 123\n",
      "LETTERS :  10\n"
     ]
    }
   ],
   "source": [
    "alncount()"
   ]
  },
  {
   "cell_type": "code",
   "execution_count": 11,
   "id": "4f678c98",
   "metadata": {},
   "outputs": [],
   "source": [
    "# 6. A website requires the users to input username and password to register. Write a program to check the validity of password input by users.\n",
    "# Following are the criteria for checking the password:\n",
    "# 1. At least 1 letter between [a-z]\n",
    "# 2. At least 1 number between [0-9]\n",
    "# 1. At least 1 letter between [A-Z]\n",
    "# 3. At least 1 character from [$#@]\n",
    "# 4. Minimum length of transaction password: 6\n",
    "# 5. Maximum length of transaction password: 12\n",
    "# Your program should accept a sequence of comma separated passwords and will check them\n",
    "# according to the above criteria. Passwords that match the criteria are to be printed, each separated by a comma.\n",
    "# Example\n",
    "# If the following passwords are given as input to the program: ABd1234@1,a F1#,2w3E*,2We3345\n",
    "# Then, the output of the program should be : ABd1234@1\n",
    "\n",
    "def check_password():\n",
    "    a = input(\"Enter your password : \")\n",
    "    d= a.split(\",\")\n",
    "    sc = \"$#@\"\n",
    "    for j in d:\n",
    "        if len(j) >= 6 and len(j) <= 12:\n",
    "            if any(i.isupper() for i in j):\n",
    "                if any (i.lower() for i in j):\n",
    "                    if any(i for i in j if i in sc):\n",
    "                        print(j)"
   ]
  },
  {
   "cell_type": "code",
   "execution_count": 12,
   "id": "94775fee",
   "metadata": {},
   "outputs": [
    {
     "name": "stdout",
     "output_type": "stream",
     "text": [
      "Enter your password :  ABd1234@1,a F1#,2w3E*,2We3345\n",
      " ABd1234@1\n"
     ]
    }
   ],
   "source": [
    "check_password()"
   ]
  },
  {
   "cell_type": "code",
   "execution_count": null,
   "id": "c21f3b4b",
   "metadata": {},
   "outputs": [],
   "source": []
  },
  {
   "cell_type": "code",
   "execution_count": null,
   "id": "3ebd2926",
   "metadata": {},
   "outputs": [],
   "source": []
  },
  {
   "cell_type": "code",
   "execution_count": null,
   "id": "199303df",
   "metadata": {},
   "outputs": [],
   "source": []
  },
  {
   "cell_type": "code",
   "execution_count": null,
   "id": "41a4766a",
   "metadata": {},
   "outputs": [],
   "source": []
  }
 ],
 "metadata": {
  "kernelspec": {
   "display_name": "Python 3 (ipykernel)",
   "language": "python",
   "name": "python3"
  },
  "language_info": {
   "codemirror_mode": {
    "name": "ipython",
    "version": 3
   },
   "file_extension": ".py",
   "mimetype": "text/x-python",
   "name": "python",
   "nbconvert_exporter": "python",
   "pygments_lexer": "ipython3",
   "version": "3.9.7"
  }
 },
 "nbformat": 4,
 "nbformat_minor": 5
}
